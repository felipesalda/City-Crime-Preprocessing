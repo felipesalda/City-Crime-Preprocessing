{
 "cells": [
  {
   "cell_type": "markdown",
   "source": "# ALLEN",
   "metadata": {
    "tags": [],
    "cell_id": "00001-91a8fdac-7fae-41c5-9803-5752053499ab",
    "is_collapsed": false,
    "deepnote_cell_type": "text-cell-h1"
   }
  },
  {
   "cell_type": "markdown",
   "source": "## Librerías",
   "metadata": {
    "tags": [],
    "is_collapsed": false,
    "cell_id": "00001-269702c9-e8b1-4b88-81ea-54af3770327f",
    "deepnote_cell_type": "text-cell-h2"
   }
  },
  {
   "cell_type": "code",
   "metadata": {
    "tags": [],
    "cell_id": "00000-6ebe6080-294e-4415-a00d-3e872099ef03",
    "deepnote_to_be_reexecuted": false,
    "source_hash": "746f87a8",
    "execution_start": 1631199214897,
    "execution_millis": 11643,
    "deepnote_cell_type": "code"
   },
   "source": "import numpy as np\nimport pandas as pd\nimport re\nfrom datetime import datetime,date\nimport json\n\n\n!pip install -U googlemaps\n\nimport googlemaps",
   "outputs": [
    {
     "name": "stdout",
     "text": "Collecting googlemaps\n  Downloading googlemaps-4.5.3.tar.gz (32 kB)\nRequirement already satisfied: requests<3.0,>=2.20.0 in /shared-libs/python3.7/py/lib/python3.7/site-packages (from googlemaps) (2.26.0)\nRequirement already satisfied: urllib3<1.27,>=1.21.1 in /shared-libs/python3.7/py/lib/python3.7/site-packages (from requests<3.0,>=2.20.0->googlemaps) (1.26.6)\nRequirement already satisfied: idna<4,>=2.5 in /shared-libs/python3.7/py-core/lib/python3.7/site-packages (from requests<3.0,>=2.20.0->googlemaps) (3.2)\nRequirement already satisfied: certifi>=2017.4.17 in /shared-libs/python3.7/py/lib/python3.7/site-packages (from requests<3.0,>=2.20.0->googlemaps) (2021.5.30)\nRequirement already satisfied: charset-normalizer~=2.0.0 in /shared-libs/python3.7/py/lib/python3.7/site-packages (from requests<3.0,>=2.20.0->googlemaps) (2.0.4)\nBuilding wheels for collected packages: googlemaps\n  Building wheel for googlemaps (setup.py) ... \u001b[?25ldone\n\u001b[?25h  Created wheel for googlemaps: filename=googlemaps-4.5.3-py3-none-any.whl size=38479 sha256=7806d270a0388f97f2dbc88d696f84c40ff5871a6b9ede33456ef790e107cce4\n  Stored in directory: /root/.cache/pip/wheels/fa/1a/1c/cc0b8a1652a3f06aea586b0e4714a81bafed830513969baf92\nSuccessfully built googlemaps\nInstalling collected packages: googlemaps\nSuccessfully installed googlemaps-4.5.3\n\u001b[33mWARNING: You are using pip version 21.2.3; however, version 21.2.4 is available.\nYou should consider upgrading via the '/root/venv/bin/python -m pip install --upgrade pip' command.\u001b[0m\n",
     "output_type": "stream"
    }
   ],
   "execution_count": null
  },
  {
   "cell_type": "markdown",
   "source": "## Cargue inicial del csv",
   "metadata": {
    "tags": [],
    "is_collapsed": false,
    "cell_id": "00002-f7938438-72b0-41bb-bcf2-dbec73bad0d1",
    "deepnote_cell_type": "text-cell-h2"
   }
  },
  {
   "cell_type": "code",
   "metadata": {
    "tags": [],
    "cell_id": "00001-263c96eb-8d2c-44fc-bae6-356cdb1ce048",
    "deepnote_to_be_reexecuted": false,
    "source_hash": "6373dc14",
    "execution_start": 1626912931848,
    "execution_millis": 605,
    "deepnote_cell_type": "code"
   },
   "source": "hurtos = pd.read_csv('Raw_data/hurtos_2009-2012.csv', sep = ';', header = None)\nhurtos.columns = ['fecha','hora','direccion','categoria'] #Agregamos nombres a columnas\nhurtos['fecha'] = hurtos['fecha'] + '/' + hurtos['hora'] # juntamos fecha y hora\nhurtos = hurtos.drop(columns= ['hora'])\n\n#Cambiamos los tipos de variables\n#datetime\nhurtos['fecha'] = pd.to_datetime( hurtos['fecha'], errors = 'coerce', format = '%d/%m/%Y/%H:%M') #errors: cada que encuentre un formato erroneo crea un NaN format: formato de la fecha '%m/%d/%Y %H:%M:%S %p'\n#categórica\nhurtos['categoria'] = hurtos['categoria'].astype('category')\n\n#ajuste de redacción en direcciones para mejorar resultados de búsqueda en maps\nhurtos['direccion'] = hurtos.apply(lambda x : x['direccion'].replace(re.findall(r'#\\d+\\s+|#\\d+\\w+\\s+|\\w+\\d+\\w+,|#\\s+\\d+|#\\d+|,',x['direccion'])[0],re.findall(r'#\\d+\\s+|#\\d+\\w+\\s+|\\w+\\d+\\w+,|#\\s+\\d+|#\\d+|,',x['direccion'])[0].replace(\" \",\"-\")),axis=1)\n\nhurtos",
   "outputs": [
    {
     "output_type": "execute_result",
     "execution_count": 2,
     "data": {
      "application/vnd.deepnote.dataframe.v2+json": {
       "row_count": 5844,
       "column_count": 3,
       "columns": [
        {
         "name": "fecha",
         "dtype": "datetime64[ns]",
         "stats": {
          "unique_count": 5303,
          "nan_count": 7,
          "min": "2002-01-15 06:00:00",
          "max": "2012-12-31 13:00:00",
          "histogram": [
           {
            "bin_start": 1011074400000000000,
            "bin_end": 1045662840000000000,
            "count": 3
           },
           {
            "bin_start": 1045662840000000000,
            "bin_end": 1080251280000000000,
            "count": 0
           },
           {
            "bin_start": 1080251280000000000,
            "bin_end": 1114839720000000000,
            "count": 0
           },
           {
            "bin_start": 1114839720000000000,
            "bin_end": 1149428160000000000,
            "count": 0
           },
           {
            "bin_start": 1149428160000000000,
            "bin_end": 1184016600000000000,
            "count": 0
           },
           {
            "bin_start": 1184016600000000000,
            "bin_end": 1218605040000000000,
            "count": 0
           },
           {
            "bin_start": 1218605040000000000,
            "bin_end": 1253193480000000000,
            "count": 1158
           },
           {
            "bin_start": 1253193480000000000,
            "bin_end": 1287781920000000000,
            "count": 1513
           },
           {
            "bin_start": 1287781920000000000,
            "bin_end": 1322370360000000000,
            "count": 1571
           },
           {
            "bin_start": 1322370360000000000,
            "bin_end": 1356958800000000000,
            "count": 1592
           }
          ]
         }
        },
        {
         "name": "direccion",
         "dtype": "object",
         "stats": {
          "unique_count": 3620,
          "nan_count": 0,
          "categories": [
           {
            "name": "CL42 #28-2, Palmira - Valle del Cauca, Colombia",
            "count": 35
           },
           {
            "name": "CL31 #41-2, Palmira - Valle del Cauca, Colombia",
            "count": 24
           },
           {
            "name": "3618 others",
            "count": 5785
           }
          ]
         }
        },
        {
         "name": "categoria",
         "dtype": "category",
         "stats": {
          "unique_count": 11,
          "nan_count": 0,
          "categories": [
           {
            "name": "HURTOPERSONAS",
            "count": 4314
           },
           {
            "name": "HURTOMOTOCICLETAS",
            "count": 837
           },
           {
            "name": "9 others",
            "count": 693
           }
          ]
         }
        },
        {
         "name": "_deepnote_index_column",
         "dtype": "int64"
        }
       ],
       "rows_top": [
        {
         "fecha": "2009-01-01T13:00:00.000000",
         "direccion": "CL1 #2-2, Palmira - Valle del Cauca, Colombia",
         "categoria": "HURTOPERSONAS",
         "_deepnote_index_column": 0
        },
        {
         "fecha": "2009-01-01T00:00:00.000000",
         "direccion": "CR28 #43-2 , Palmira - Valle del Cauca, Colombia",
         "categoria": "HURTOPERSONAS",
         "_deepnote_index_column": 1
        },
        {
         "fecha": "2009-01-02T02:00:00.000000",
         "direccion": "CL21 #24-2, Palmira - Valle del Cauca, Colombia",
         "categoria": "HURTOPERSONAS",
         "_deepnote_index_column": 2
        },
        {
         "fecha": "2009-01-02T02:35:00.000000",
         "direccion": "CL47 #25-32, Palmira - Valle del Cauca, Colombia",
         "categoria": "HURTOPERSONAS",
         "_deepnote_index_column": 3
        },
        {
         "fecha": "2009-01-02T08:00:00.000000",
         "direccion": "CL54B #45-60, Palmira - Valle del Cauca, Colombia",
         "categoria": "HURTOPERSONAS",
         "_deepnote_index_column": 4
        },
        {
         "fecha": "2009-01-02T12:00:00.000000",
         "direccion": "CR26A #62-15, Palmira - Valle del Cauca, Colombia",
         "categoria": "HURTOPERSONAS",
         "_deepnote_index_column": 5
        },
        {
         "fecha": "2009-01-02T14:30:00.000000",
         "direccion": "CR32 #18-2, Palmira - Valle del Cauca, Colombia",
         "categoria": "HURTOPERSONAS",
         "_deepnote_index_column": 6
        },
        {
         "fecha": "2009-01-03T11:45:00.000000",
         "direccion": "CL1 #2-2, Palmira - Valle del Cauca, Colombia",
         "categoria": "HURTOPERSONAS",
         "_deepnote_index_column": 7
        },
        {
         "fecha": "2009-01-03T22:30:00.000000",
         "direccion": "CL23 #25-54, Palmira - Valle del Cauca, Colombia",
         "categoria": "HURTOPERSONAS",
         "_deepnote_index_column": 8
        },
        {
         "fecha": "2009-01-03T15:00:00.000000",
         "direccion": "CL38 #40-2, Palmira - Valle del Cauca, Colombia",
         "categoria": "HURTOPERSONAS",
         "_deepnote_index_column": 9
        },
        {
         "fecha": "2009-01-04T17:00:00.000000",
         "direccion": "CL30A #41-28, Palmira - Valle del Cauca, Colombia",
         "categoria": "HURTOPERSONAS",
         "_deepnote_index_column": 10
        },
        {
         "fecha": "2009-01-04T13:10:00.000000",
         "direccion": "CL35 #26-2, Palmira - Valle del Cauca, Colombia",
         "categoria": "HURTOPERSONAS",
         "_deepnote_index_column": 11
        },
        {
         "fecha": "2009-01-04T02:00:00.000000",
         "direccion": "CL50 #40-2, Palmira - Valle del Cauca, Colombia",
         "categoria": "HURTOPERSONAS",
         "_deepnote_index_column": 12
        },
        {
         "fecha": "2009-01-04T07:30:00.000000",
         "direccion": "CR27 #59-11, Palmira - Valle del Cauca, Colombia",
         "categoria": "HURTOPERSONAS",
         "_deepnote_index_column": 13
        },
        {
         "fecha": "2009-01-04T12:43:00.000000",
         "direccion": "CR6 #25-12, Palmira - Valle del Cauca, Colombia",
         "categoria": "HURTOPERSONAS",
         "_deepnote_index_column": 14
        },
        {
         "fecha": "2009-01-05T07:30:00.000000",
         "direccion": "CL21 #2-2, Palmira - Valle del Cauca, Colombia",
         "categoria": "HURTOPERSONAS",
         "_deepnote_index_column": 15
        },
        {
         "fecha": "2009-01-05T14:45:00.000000",
         "direccion": "CL33 #21-2, Palmira - Valle del Cauca, Colombia",
         "categoria": "HURTOPERSONAS",
         "_deepnote_index_column": 16
        },
        {
         "fecha": "2009-01-06T19:25:00.000000",
         "direccion": "CL21 #25-2, Palmira - Valle del Cauca, Colombia",
         "categoria": "HURTOPERSONAS",
         "_deepnote_index_column": 17
        },
        {
         "fecha": "2009-01-06T19:25:00.000000",
         "direccion": "CL21 #25-2, Palmira - Valle del Cauca, Colombia",
         "categoria": "HURTOPERSONAS",
         "_deepnote_index_column": 18
        },
        {
         "fecha": "2009-01-06T19:25:00.000000",
         "direccion": "CL21 #25-2, Palmira - Valle del Cauca, Colombia",
         "categoria": "HURTOPERSONAS",
         "_deepnote_index_column": 19
        },
        {
         "fecha": "2009-01-06T12:45:00.000000",
         "direccion": "CL25 #29-2, Palmira - Valle del Cauca, Colombia",
         "categoria": "HURTOPERSONAS",
         "_deepnote_index_column": 20
        },
        {
         "fecha": "2009-01-06T10:00:00.000000",
         "direccion": "CL26 #23-30, Palmira - Valle del Cauca, Colombia",
         "categoria": "HURTOPERSONAS",
         "_deepnote_index_column": 21
        },
        {
         "fecha": "2009-01-06T01:00:00.000000",
         "direccion": "CL28 #21-24, Palmira - Valle del Cauca, Colombia",
         "categoria": "HURTOPERSONAS",
         "_deepnote_index_column": 22
        },
        {
         "fecha": "2009-01-07T12:30:00.000000",
         "direccion": "CL28 #29-2, Palmira - Valle del Cauca, Colombia",
         "categoria": "HURTOPERSONAS",
         "_deepnote_index_column": 23
        },
        {
         "fecha": "2009-01-07T08:00:00.000000",
         "direccion": "CL30 #26-27, Palmira - Valle del Cauca, Colombia",
         "categoria": "HURTOPERSONAS",
         "_deepnote_index_column": 24
        },
        {
         "fecha": "2009-01-07T13:45:00.000000",
         "direccion": "CR31 #24-16, Palmira - Valle del Cauca, Colombia",
         "categoria": "HURTOPERSONAS",
         "_deepnote_index_column": 25
        },
        {
         "fecha": "2009-01-07T09:30:00.000000",
         "direccion": "CL21 #30A-23, Palmira - Valle del Cauca, Colombia",
         "categoria": "HURTOPERSONAS",
         "_deepnote_index_column": 26
        },
        {
         "fecha": "2009-01-08T11:00:00.000000",
         "direccion": "CL31 #28-2, Palmira - Valle del Cauca, Colombia",
         "categoria": "HURTOPERSONAS",
         "_deepnote_index_column": 27
        },
        {
         "fecha": "2009-01-08T14:15:00.000000",
         "direccion": "CL32A #24-27, Palmira - Valle del Cauca, Colombia",
         "categoria": "HURTOPERSONAS",
         "_deepnote_index_column": 28
        },
        {
         "fecha": "2009-01-09T22:05:00.000000",
         "direccion": "CL65 #28-2, Palmira - Valle del Cauca, Colombia",
         "categoria": "HURTOPERSONAS",
         "_deepnote_index_column": 29
        },
        {
         "fecha": "2009-01-09T20:00:00.000000",
         "direccion": "CL31 #21-2, Palmira - Valle del Cauca, Colombia",
         "categoria": "HURTOPERSONAS",
         "_deepnote_index_column": 30
        },
        {
         "fecha": "2009-01-09T18:55:00.000000",
         "direccion": "CL45 #13-2, Palmira - Valle del Cauca, Colombia",
         "categoria": "HURTOPERSONAS",
         "_deepnote_index_column": 31
        },
        {
         "fecha": "2009-01-10T20:45:00.000000",
         "direccion": "CR20 #33-2, Palmira - Valle del Cauca, Colombia",
         "categoria": "HURTOPERSONAS",
         "_deepnote_index_column": 32
        },
        {
         "fecha": "2009-01-10T00:20:00.000000",
         "direccion": "CL30 #2-2, Palmira - Valle del Cauca, Colombia",
         "categoria": "HURTOPERSONAS",
         "_deepnote_index_column": 33
        },
        {
         "fecha": "2009-01-10T02:40:00.000000",
         "direccion": "CL41 #28-2, Palmira - Valle del Cauca, Colombia",
         "categoria": "HURTOPERSONAS",
         "_deepnote_index_column": 34
        },
        {
         "fecha": "2009-01-11T10:30:00.000000",
         "direccion": "CL11 #36-2, Palmira - Valle del Cauca, Colombia",
         "categoria": "HURTOPERSONAS",
         "_deepnote_index_column": 35
        },
        {
         "fecha": "2009-01-11T17:30:00.000000",
         "direccion": "CL30 #31-32, Palmira - Valle del Cauca, Colombia",
         "categoria": "HURTOPERSONAS",
         "_deepnote_index_column": 36
        },
        {
         "fecha": "2009-01-11T18:30:00.000000",
         "direccion": "CL32 #31-27, Palmira - Valle del Cauca, Colombia",
         "categoria": "HURTOPERSONAS",
         "_deepnote_index_column": 37
        },
        {
         "fecha": "2009-01-13T14:40:00.000000",
         "direccion": "CL34 #9-10, Palmira - Valle del Cauca, Colombia",
         "categoria": "HURTOPERSONAS",
         "_deepnote_index_column": 38
        },
        {
         "fecha": "2009-01-13T21:15:00.000000",
         "direccion": "CR15 #35-36, Palmira - Valle del Cauca, Colombia",
         "categoria": "HURTOPERSONAS",
         "_deepnote_index_column": 39
        },
        {
         "fecha": "2009-01-13T13:55:00.000000",
         "direccion": "CR25 #26-2, Palmira - Valle del Cauca, Colombia",
         "categoria": "HURTOPERSONAS",
         "_deepnote_index_column": 40
        },
        {
         "fecha": "2009-01-13T21:00:00.000000",
         "direccion": "CL31 #36-2, Palmira - Valle del Cauca, Colombia",
         "categoria": "HURTOPERSONAS",
         "_deepnote_index_column": 41
        },
        {
         "fecha": "2009-01-14T19:10:00.000000",
         "direccion": "CL42 #28-2, Palmira - Valle del Cauca, Colombia",
         "categoria": "HURTOPERSONAS",
         "_deepnote_index_column": 42
        },
        {
         "fecha": "2009-01-14T15:30:00.000000",
         "direccion": "CL54B #45-60, Palmira - Valle del Cauca, Colombia",
         "categoria": "HURTOPERSONAS",
         "_deepnote_index_column": 43
        },
        {
         "fecha": "2009-01-15T00:00:00.000000",
         "direccion": "DG28B #58-8, Palmira - Valle del Cauca, Colombia",
         "categoria": "HURTOPERSONAS",
         "_deepnote_index_column": 44
        },
        {
         "fecha": "2009-01-15T14:47:00.000000",
         "direccion": "CL25 #29-2, Palmira - Valle del Cauca, Colombia",
         "categoria": "HURTOPERSONAS",
         "_deepnote_index_column": 45
        },
        {
         "fecha": "2009-01-15T16:15:00.000000",
         "direccion": "CL35 #13-2, Palmira - Valle del Cauca, Colombia",
         "categoria": "HURTOPERSONAS",
         "_deepnote_index_column": 46
        },
        {
         "fecha": "2009-01-15T08:00:00.000000",
         "direccion": "CL49 #47-2, Palmira - Valle del Cauca, Colombia",
         "categoria": "HURTOPERSONAS",
         "_deepnote_index_column": 47
        },
        {
         "fecha": "2009-01-15T16:15:00.000000",
         "direccion": "CR1 #31-2, Palmira - Valle del Cauca, Colombia",
         "categoria": "HURTOPERSONAS",
         "_deepnote_index_column": 48
        },
        {
         "fecha": "2009-01-15T16:32:00.000000",
         "direccion": "CL14 #27-2, Palmira - Valle del Cauca, Colombia",
         "categoria": "HURTOPERSONAS",
         "_deepnote_index_column": 49
        },
        {
         "fecha": "2009-01-16T13:20:00.000000",
         "direccion": "CL31 #40-2, Palmira - Valle del Cauca, Colombia",
         "categoria": "HURTOPERSONAS",
         "_deepnote_index_column": 50
        },
        {
         "fecha": "2009-01-16T12:20:00.000000",
         "direccion": "CR26 #29-81, Palmira - Valle del Cauca, Colombia",
         "categoria": "HURTOPERSONAS",
         "_deepnote_index_column": 51
        },
        {
         "fecha": "2009-01-16T11:00:00.000000",
         "direccion": "CR42 #41-2, Palmira - Valle del Cauca, Colombia",
         "categoria": "HURTOPERSONAS",
         "_deepnote_index_column": 52
        },
        {
         "fecha": "2009-01-16T06:10:00.000000",
         "direccion": "CL19 #25A-2, Palmira - Valle del Cauca, Colombia",
         "categoria": "HURTOPERSONAS",
         "_deepnote_index_column": 53
        },
        {
         "fecha": "2009-01-16T12:00:00.000000",
         "direccion": "CL55 #42-2, Palmira - Valle del Cauca, Colombia",
         "categoria": "HURTOPERSONAS",
         "_deepnote_index_column": 54
        },
        {
         "fecha": "2009-01-16T21:00:00.000000",
         "direccion": "CL35A #41-120, Palmira - Valle del Cauca, Colombia",
         "categoria": "HURTOPERSONAS",
         "_deepnote_index_column": 55
        },
        {
         "fecha": "2009-01-17T16:40:00.000000",
         "direccion": "CL36 #18-2, Palmira - Valle del Cauca, Colombia",
         "categoria": "HURTOPERSONAS",
         "_deepnote_index_column": 56
        },
        {
         "fecha": "2009-01-17T10:20:00.000000",
         "direccion": "CR22 #39-22, Palmira - Valle del Cauca, Colombia",
         "categoria": "HURTOPERSONAS",
         "_deepnote_index_column": 57
        },
        {
         "fecha": "2009-01-17T11:40:00.000000",
         "direccion": "CR28 #39-2, Palmira - Valle del Cauca, Colombia",
         "categoria": "HURTOPERSONAS",
         "_deepnote_index_column": 58
        },
        {
         "fecha": "2009-01-18T14:30:00.000000",
         "direccion": "CR33 #45-75, Palmira - Valle del Cauca, Colombia",
         "categoria": "HURTOPERSONAS",
         "_deepnote_index_column": 59
        },
        {
         "fecha": "2009-01-18T16:30:00.000000",
         "direccion": "CR27 #22-2, Palmira - Valle del Cauca, Colombia",
         "categoria": "HURTOPERSONAS",
         "_deepnote_index_column": 60
        },
        {
         "fecha": "2009-01-19T04:33:00.000000",
         "direccion": "CL25 #30-3, Palmira - Valle del Cauca, Colombia",
         "categoria": "HURTOPERSONAS",
         "_deepnote_index_column": 61
        },
        {
         "fecha": "2009-01-19T21:00:00.000000",
         "direccion": "CL32A #30-2, Palmira - Valle del Cauca, Colombia",
         "categoria": "HURTOPERSONAS",
         "_deepnote_index_column": 62
        },
        {
         "fecha": "2009-01-19T17:00:00.000000",
         "direccion": "CL47 #25-2, Palmira - Valle del Cauca, Colombia",
         "categoria": "HURTOPERSONAS",
         "_deepnote_index_column": 63
        },
        {
         "fecha": "2009-01-20T21:50:00.000000",
         "direccion": "CR28 #29-2, Palmira - Valle del Cauca, Colombia",
         "categoria": "HURTOPERSONAS",
         "_deepnote_index_column": 64
        },
        {
         "fecha": "2009-01-20T07:35:00.000000",
         "direccion": "CL26 #33-2, Palmira - Valle del Cauca, Colombia",
         "categoria": "HURTOPERSONAS",
         "_deepnote_index_column": 65
        },
        {
         "fecha": "2009-01-20T18:00:00.000000",
         "direccion": "CL38 #11A-5, Palmira - Valle del Cauca, Colombia",
         "categoria": "HURTOPERSONAS",
         "_deepnote_index_column": 66
        },
        {
         "fecha": "2009-01-20T16:30:00.000000",
         "direccion": "CR22 #28-46, Palmira - Valle del Cauca, Colombia",
         "categoria": "HURTOPERSONAS",
         "_deepnote_index_column": 67
        },
        {
         "fecha": "2009-01-20T11:30:00.000000",
         "direccion": "CR28 #23-2, Palmira - Valle del Cauca, Colombia",
         "categoria": "HURTOPERSONAS",
         "_deepnote_index_column": 68
        },
        {
         "fecha": "2009-01-21T12:30:00.000000",
         "direccion": "CR32 #34-2, Palmira - Valle del Cauca, Colombia",
         "categoria": "HURTOPERSONAS",
         "_deepnote_index_column": 69
        },
        {
         "fecha": "2009-01-21T11:00:00.000000",
         "direccion": "CL27 #17-2, Palmira - Valle del Cauca, Colombia",
         "categoria": "HURTOPERSONAS",
         "_deepnote_index_column": 70
        },
        {
         "fecha": "2009-01-22T13:00:00.000000",
         "direccion": "CR19 #39-2, Palmira - Valle del Cauca, Colombia",
         "categoria": "HURTOPERSONAS",
         "_deepnote_index_column": 71
        },
        {
         "fecha": "2009-01-22T17:15:00.000000",
         "direccion": "CR32 #19-58, Palmira - Valle del Cauca, Colombia",
         "categoria": "HURTOPERSONAS",
         "_deepnote_index_column": 72
        },
        {
         "fecha": "2009-01-22T18:20:00.000000",
         "direccion": "CL22 #23-2, Palmira - Valle del Cauca, Colombia",
         "categoria": "HURTOPERSONAS",
         "_deepnote_index_column": 73
        },
        {
         "fecha": "2009-01-22T16:30:00.000000",
         "direccion": "CL26A #19-13, Palmira - Valle del Cauca, Colombia",
         "categoria": "HURTOPERSONAS",
         "_deepnote_index_column": 74
        },
        {
         "fecha": "2009-01-22T15:30:00.000000",
         "direccion": "CL32 #38-2, Palmira - Valle del Cauca, Colombia",
         "categoria": "HURTOPERSONAS",
         "_deepnote_index_column": 75
        },
        {
         "fecha": "2009-01-23T22:00:00.000000",
         "direccion": "CL33 #26-2, Palmira - Valle del Cauca, Colombia",
         "categoria": "HURTOPERSONAS",
         "_deepnote_index_column": 76
        },
        {
         "fecha": "2009-01-23T12:00:00.000000",
         "direccion": "DG30C #11-48, Palmira - Valle del Cauca, Colombia",
         "categoria": "HURTOPERSONAS",
         "_deepnote_index_column": 77
        },
        {
         "fecha": "2009-01-23T12:00:00.000000",
         "direccion": "CR39A #40A-2, Palmira - Valle del Cauca, Colombia",
         "categoria": "HURTOPERSONAS",
         "_deepnote_index_column": 78
        },
        {
         "fecha": "2009-01-23T21:00:00.000000",
         "direccion": "CL18 #26-2, Palmira - Valle del Cauca, Colombia",
         "categoria": "HURTOPERSONAS",
         "_deepnote_index_column": 79
        },
        {
         "fecha": "2009-01-24T21:00:00.000000",
         "direccion": "CL29 #26-36, Palmira - Valle del Cauca, Colombia",
         "categoria": "HURTOPERSONAS",
         "_deepnote_index_column": 80
        },
        {
         "fecha": "2009-01-24T05:30:00.000000",
         "direccion": "CL29 #33-97, Palmira - Valle del Cauca, Colombia",
         "categoria": "HURTOPERSONAS",
         "_deepnote_index_column": 81
        },
        {
         "fecha": "2009-01-25T11:30:00.000000",
         "direccion": "CL37A #21-56, Palmira - Valle del Cauca, Colombia",
         "categoria": "HURTOPERSONAS",
         "_deepnote_index_column": 82
        },
        {
         "fecha": "2009-01-25T12:30:00.000000",
         "direccion": "CL42 #28-2, Palmira - Valle del Cauca, Colombia",
         "categoria": "HURTOPERSONAS",
         "_deepnote_index_column": 83
        },
        {
         "fecha": "2009-01-25T07:00:00.000000",
         "direccion": "CL48 #37-99, Palmira - Valle del Cauca, Colombia",
         "categoria": "HURTOPERSONAS",
         "_deepnote_index_column": 84
        },
        {
         "fecha": "2009-01-25T12:00:00.000000",
         "direccion": "CR19 #32-2, Palmira - Valle del Cauca, Colombia",
         "categoria": "HURTOPERSONAS",
         "_deepnote_index_column": 85
        },
        {
         "fecha": "2009-01-26T07:30:00.000000",
         "direccion": "CR26 #18-2, Palmira - Valle del Cauca, Colombia",
         "categoria": "HURTOPERSONAS",
         "_deepnote_index_column": 86
        },
        {
         "fecha": "2009-01-26T15:30:00.000000",
         "direccion": "CR27 #31-2, Palmira - Valle del Cauca, Colombia",
         "categoria": "HURTOPERSONAS",
         "_deepnote_index_column": 87
        },
        {
         "fecha": "2009-01-26T17:30:00.000000",
         "direccion": "CL31 #29-2, Palmira - Valle del Cauca, Colombia",
         "categoria": "HURTOPERSONAS",
         "_deepnote_index_column": 88
        },
        {
         "fecha": "2009-01-26T17:00:00.000000",
         "direccion": "CL34 #17-34, Palmira - Valle del Cauca, Colombia",
         "categoria": "HURTOPERSONAS",
         "_deepnote_index_column": 89
        },
        {
         "fecha": "2009-01-26T15:00:00.000000",
         "direccion": "CL53 #39-32, Palmira - Valle del Cauca, Colombia",
         "categoria": "HURTOPERSONAS",
         "_deepnote_index_column": 90
        },
        {
         "fecha": "2009-01-26T18:50:00.000000",
         "direccion": "CL56 #28-2, Palmira - Valle del Cauca, Colombia",
         "categoria": "HURTOPERSONAS",
         "_deepnote_index_column": 91
        },
        {
         "fecha": "2009-01-26T10:30:00.000000",
         "direccion": "CR25 #14A-8, Palmira - Valle del Cauca, Colombia",
         "categoria": "HURTOPERSONAS",
         "_deepnote_index_column": 92
        },
        {
         "fecha": "2009-01-27T15:00:00.000000",
         "direccion": "CR28 #24-2, Palmira - Valle del Cauca, Colombia",
         "categoria": "HURTOPERSONAS",
         "_deepnote_index_column": 93
        },
        {
         "fecha": "2009-01-27T19:10:00.000000",
         "direccion": "CR30 #41-2, Palmira - Valle del Cauca, Colombia",
         "categoria": "HURTOPERSONAS",
         "_deepnote_index_column": 94
        },
        {
         "fecha": "2009-01-27T08:00:00.000000",
         "direccion": "CR32 #19-58, Palmira - Valle del Cauca, Colombia",
         "categoria": "HURTOPERSONAS",
         "_deepnote_index_column": 95
        },
        {
         "fecha": "2009-01-27T21:00:00.000000",
         "direccion": "CR37 #35-2, Palmira - Valle del Cauca, Colombia",
         "categoria": "HURTOPERSONAS",
         "_deepnote_index_column": 96
        },
        {
         "fecha": "2009-01-27T08:30:00.000000",
         "direccion": "CR5A #43C-12, Palmira - Valle del Cauca, Colombia",
         "categoria": "HURTOPERSONAS",
         "_deepnote_index_column": 97
        },
        {
         "fecha": "2009-01-27T10:30:00.000000",
         "direccion": "CL37 #42-43, Palmira - Valle del Cauca, Colombia",
         "categoria": "HURTOPERSONAS",
         "_deepnote_index_column": 98
        },
        {
         "fecha": "2009-01-27T07:40:00.000000",
         "direccion": "CL41 #19-2, Palmira - Valle del Cauca, Colombia",
         "categoria": "HURTOPERSONAS",
         "_deepnote_index_column": 99
        },
        {
         "fecha": "2009-01-27T14:00:00.000000",
         "direccion": "CL42 #2-2, Palmira - Valle del Cauca, Colombia",
         "categoria": "HURTOPERSONAS",
         "_deepnote_index_column": 100
        },
        {
         "fecha": "2009-01-27T13:30:00.000000",
         "direccion": "CR31 #17-16, Palmira - Valle del Cauca, Colombia",
         "categoria": "HURTOPERSONAS",
         "_deepnote_index_column": 101
        },
        {
         "fecha": "2009-01-27T12:30:00.000000",
         "direccion": "CL9 #8-44, Palmira - Valle del Cauca, Colombia",
         "categoria": "HURTOPERSONAS",
         "_deepnote_index_column": 102
        },
        {
         "fecha": "2009-01-27T07:40:00.000000",
         "direccion": "CL28 #19-2, Palmira - Valle del Cauca, Colombia",
         "categoria": "HURTOPERSONAS",
         "_deepnote_index_column": 103
        },
        {
         "fecha": "2009-01-27T09:00:00.000000",
         "direccion": "CL28 #19-2, Palmira - Valle del Cauca, Colombia",
         "categoria": "HURTOPERSONAS",
         "_deepnote_index_column": 104
        },
        {
         "fecha": "2009-01-28T19:00:00.000000",
         "direccion": "CL31 #31-63, Palmira - Valle del Cauca, Colombia",
         "categoria": "HURTOPERSONAS",
         "_deepnote_index_column": 105
        },
        {
         "fecha": "2009-01-28T16:00:00.000000",
         "direccion": "CL37 #24-2, Palmira - Valle del Cauca, Colombia",
         "categoria": "HURTOPERSONAS",
         "_deepnote_index_column": 106
        },
        {
         "fecha": "2009-01-28T15:30:00.000000",
         "direccion": "CR29 #27-2, Palmira - Valle del Cauca, Colombia",
         "categoria": "HURTOPERSONAS",
         "_deepnote_index_column": 107
        },
        {
         "fecha": "2009-01-28T15:30:00.000000",
         "direccion": "CR32 #30-66, Palmira - Valle del Cauca, Colombia",
         "categoria": "HURTOPERSONAS",
         "_deepnote_index_column": 108
        },
        {
         "fecha": "2009-01-28T21:00:00.000000",
         "direccion": "CR33 #31-2, Palmira - Valle del Cauca, Colombia",
         "categoria": "HURTOPERSONAS",
         "_deepnote_index_column": 109
        },
        {
         "fecha": "2009-01-28T06:00:00.000000",
         "direccion": "CL60 #27A-18, Palmira - Valle del Cauca, Colombia",
         "categoria": "HURTOPERSONAS",
         "_deepnote_index_column": 110
        },
        {
         "fecha": "2009-01-28T15:45:00.000000",
         "direccion": "CR42 #6-2, Palmira - Valle del Cauca, Colombia",
         "categoria": "HURTOPERSONAS",
         "_deepnote_index_column": 111
        },
        {
         "fecha": "2009-01-28T12:00:00.000000",
         "direccion": "CL60 #27-2, Palmira - Valle del Cauca, Colombia",
         "categoria": "HURTOPERSONAS",
         "_deepnote_index_column": 112
        },
        {
         "fecha": "2009-01-28T18:50:00.000000",
         "direccion": "CR26 #28-2, Palmira - Valle del Cauca, Colombia",
         "categoria": "HURTOPERSONAS",
         "_deepnote_index_column": 113
        },
        {
         "fecha": "2009-01-28T16:15:00.000000",
         "direccion": "CR30 #24-77, Palmira - Valle del Cauca, Colombia",
         "categoria": "HURTOPERSONAS",
         "_deepnote_index_column": 114
        },
        {
         "fecha": "2009-01-29T09:00:00.000000",
         "direccion": "CL30 #32-2, Palmira - Valle del Cauca, Colombia",
         "categoria": "HURTOPERSONAS",
         "_deepnote_index_column": 115
        },
        {
         "fecha": "2009-01-29T14:25:00.000000",
         "direccion": "CL37 #21-2, Palmira - Valle del Cauca, Colombia",
         "categoria": "HURTOPERSONAS",
         "_deepnote_index_column": 116
        },
        {
         "fecha": "2009-01-29T21:00:00.000000",
         "direccion": "CL57A #37-2, Palmira - Valle del Cauca, Colombia",
         "categoria": "HURTOPERSONAS",
         "_deepnote_index_column": 117
        },
        {
         "fecha": "2009-01-29T09:00:00.000000",
         "direccion": "CR29 #69-79, Palmira - Valle del Cauca, Colombia",
         "categoria": "HURTOPERSONAS",
         "_deepnote_index_column": 118
        },
        {
         "fecha": "2009-01-29T16:08:00.000000",
         "direccion": "CL37 #30-2, Palmira - Valle del Cauca, Colombia",
         "categoria": "HURTOPERSONAS",
         "_deepnote_index_column": 119
        },
        {
         "fecha": "2009-01-30T16:08:00.000000",
         "direccion": "CL37 #30-2, Palmira - Valle del Cauca, Colombia",
         "categoria": "HURTOPERSONAS",
         "_deepnote_index_column": 120
        },
        {
         "fecha": "2009-01-30T17:50:00.000000",
         "direccion": "DG30A, Palmira - Valle del Cauca, Colombia",
         "categoria": "HURTOPERSONAS",
         "_deepnote_index_column": 121
        },
        {
         "fecha": "2009-01-30T09:00:00.000000",
         "direccion": "CR34 #33-58, Palmira - Valle del Cauca, Colombia",
         "categoria": "HURTOPERSONAS",
         "_deepnote_index_column": 122
        },
        {
         "fecha": "2009-01-30T12:00:00.000000",
         "direccion": "CR36 #23-32, Palmira - Valle del Cauca, Colombia",
         "categoria": "HURTOPERSONAS",
         "_deepnote_index_column": 123
        },
        {
         "fecha": "2009-01-30T17:30:00.000000",
         "direccion": "CL48 #38-2, Palmira - Valle del Cauca, Colombia",
         "categoria": "HURTOPERSONAS",
         "_deepnote_index_column": 124
        },
        {
         "fecha": "2009-01-30T16:00:00.000000",
         "direccion": "CR23 #32-2, Palmira - Valle del Cauca, Colombia",
         "categoria": "HURTOPERSONAS",
         "_deepnote_index_column": 125
        },
        {
         "fecha": "2009-01-30T07:15:00.000000",
         "direccion": "CR33 #31-32, Palmira - Valle del Cauca, Colombia",
         "categoria": "HURTOPERSONAS",
         "_deepnote_index_column": 126
        },
        {
         "fecha": "2009-01-30T21:00:00.000000",
         "direccion": "CL46 #32-2, Palmira - Valle del Cauca, Colombia",
         "categoria": "HURTOPERSONAS",
         "_deepnote_index_column": 127
        },
        {
         "fecha": "2009-01-30T11:20:00.000000",
         "direccion": "CL56 #22-3, Palmira - Valle del Cauca, Colombia",
         "categoria": "HURTOPERSONAS",
         "_deepnote_index_column": 128
        },
        {
         "fecha": "2009-01-31T13:30:00.000000",
         "direccion": "CR16 #39-69, Palmira - Valle del Cauca, Colombia",
         "categoria": "HURTOPERSONAS",
         "_deepnote_index_column": 129
        },
        {
         "fecha": "2009-01-31T10:00:00.000000",
         "direccion": "CR16 #47D-56, Palmira - Valle del Cauca, Colombia",
         "categoria": "HURTOPERSONAS",
         "_deepnote_index_column": 130
        },
        {
         "fecha": "2009-02-01T21:00:00.000000",
         "direccion": "CR23 #40-2, Palmira - Valle del Cauca, Colombia",
         "categoria": "HURTOPERSONAS",
         "_deepnote_index_column": 131
        },
        {
         "fecha": "2009-02-01T09:00:00.000000",
         "direccion": "CR26 #10-21, Palmira - Valle del Cauca, Colombia",
         "categoria": "HURTOPERSONAS",
         "_deepnote_index_column": 132
        },
        {
         "fecha": "2009-02-01T15:20:00.000000",
         "direccion": "CR30 #28-2, Palmira - Valle del Cauca, Colombia",
         "categoria": "HURTOPERSONAS",
         "_deepnote_index_column": 133
        },
        {
         "fecha": "2009-02-01T09:30:00.000000",
         "direccion": "CR32 #12-2, Palmira - Valle del Cauca, Colombia",
         "categoria": "HURTOPERSONAS",
         "_deepnote_index_column": 134
        },
        {
         "fecha": "2009-02-01T21:00:00.000000",
         "direccion": "CR33 #64-2, Palmira - Valle del Cauca, Colombia",
         "categoria": "HURTOPERSONAS",
         "_deepnote_index_column": 135
        },
        {
         "fecha": "2009-02-01T21:40:00.000000",
         "direccion": "CL31 #44-239, Palmira - Valle del Cauca, Colombia",
         "categoria": "HURTOPERSONAS",
         "_deepnote_index_column": 136
        },
        {
         "fecha": "2009-02-02T10:00:00.000000",
         "direccion": "CL40 #15-2, Palmira - Valle del Cauca, Colombia",
         "categoria": "HURTOPERSONAS",
         "_deepnote_index_column": 137
        },
        {
         "fecha": "2009-02-02T10:35:00.000000",
         "direccion": "CR29 #47-2, Palmira - Valle del Cauca, Colombia",
         "categoria": "HURTOPERSONAS",
         "_deepnote_index_column": 138
        },
        {
         "fecha": "2009-02-02T21:00:00.000000",
         "direccion": "CR31 #28-2, Palmira - Valle del Cauca, Colombia",
         "categoria": "HURTOPERSONAS",
         "_deepnote_index_column": 139
        },
        {
         "fecha": "2009-02-02T10:00:00.000000",
         "direccion": "CR31 #67-2, Palmira - Valle del Cauca, Colombia",
         "categoria": "HURTOPERSONAS",
         "_deepnote_index_column": 140
        },
        {
         "fecha": "2009-02-03T21:30:00.000000",
         "direccion": "CL23 #28-2, Palmira - Valle del Cauca, Colombia",
         "categoria": "HURTOPERSONAS",
         "_deepnote_index_column": 141
        },
        {
         "fecha": "2009-02-03T09:00:00.000000",
         "direccion": "CL26 #32-2, Palmira - Valle del Cauca, Colombia",
         "categoria": "HURTOPERSONAS",
         "_deepnote_index_column": 142
        },
        {
         "fecha": "2009-02-03T09:00:00.000000",
         "direccion": "CL30 #31-29, Palmira - Valle del Cauca, Colombia",
         "categoria": "HURTOPERSONAS",
         "_deepnote_index_column": 143
        },
        {
         "fecha": "2009-02-03T10:00:00.000000",
         "direccion": "DG65 #31-2, Palmira - Valle del Cauca, Colombia",
         "categoria": "HURTOPERSONAS",
         "_deepnote_index_column": 144
        },
        {
         "fecha": "2009-02-03T22:05:00.000000",
         "direccion": "CR28 #65A-27, Palmira - Valle del Cauca, Colombia",
         "categoria": "HURTOPERSONAS",
         "_deepnote_index_column": 145
        },
        {
         "fecha": "2009-02-03T15:00:00.000000",
         "direccion": "CR29 #33-21, Palmira - Valle del Cauca, Colombia",
         "categoria": "HURTOPERSONAS",
         "_deepnote_index_column": 146
        },
        {
         "fecha": "2009-02-04T12:40:00.000000",
         "direccion": "CL31 #44-239, Palmira - Valle del Cauca, Colombia",
         "categoria": "HURTOPERSONAS",
         "_deepnote_index_column": 147
        },
        {
         "fecha": "2009-02-04T03:00:00.000000",
         "direccion": "CL41 #22-2, Palmira - Valle del Cauca, Colombia",
         "categoria": "HURTOPERSONAS",
         "_deepnote_index_column": 148
        },
        {
         "fecha": "2009-02-04T12:20:00.000000",
         "direccion": "CR28 #31-2, Palmira - Valle del Cauca, Colombia",
         "categoria": "HURTOPERSONAS",
         "_deepnote_index_column": 149
        },
        {
         "fecha": "2009-02-04T03:00:00.000000",
         "direccion": "CL9 #86-19, Palmira - Valle del Cauca, Colombia",
         "categoria": "HURTOPERSONAS",
         "_deepnote_index_column": 150
        },
        {
         "fecha": "2009-02-05T18:30:00.000000",
         "direccion": "CL28 #32-2, Palmira - Valle del Cauca, Colombia",
         "categoria": "HURTOPERSONAS",
         "_deepnote_index_column": 151
        },
        {
         "fecha": "2009-02-05T06:20:00.000000",
         "direccion": "CL35 #24-10, Palmira - Valle del Cauca, Colombia",
         "categoria": "HURTOPERSONAS",
         "_deepnote_index_column": 152
        },
        {
         "fecha": "2009-02-05T11:00:00.000000",
         "direccion": "CR17 #34-2, Palmira - Valle del Cauca, Colombia",
         "categoria": "HURTOPERSONAS",
         "_deepnote_index_column": 153
        },
        {
         "fecha": "2009-02-05T19:00:00.000000",
         "direccion": "CL27 #26-2, Palmira - Valle del Cauca, Colombia",
         "categoria": "HURTOPERSONAS",
         "_deepnote_index_column": 154
        },
        {
         "fecha": "2009-02-05T00:20:00.000000",
         "direccion": "CL39 #40-2, Palmira - Valle del Cauca, Colombia",
         "categoria": "HURTOPERSONAS",
         "_deepnote_index_column": 155
        },
        {
         "fecha": "2009-02-05T20:45:00.000000",
         "direccion": "CL44 #10-2, Palmira - Valle del Cauca, Colombia",
         "categoria": "HURTOPERSONAS",
         "_deepnote_index_column": 156
        },
        {
         "fecha": "2009-02-05T15:15:00.000000",
         "direccion": "CR29 #25-2, Palmira - Valle del Cauca, Colombia",
         "categoria": "HURTOPERSONAS",
         "_deepnote_index_column": 157
        },
        {
         "fecha": "2009-02-05T08:00:00.000000",
         "direccion": "CL31 #30-2, Palmira - Valle del Cauca, Colombia",
         "categoria": "HURTOPERSONAS",
         "_deepnote_index_column": 158
        },
        {
         "fecha": "2009-02-05T09:30:00.000000",
         "direccion": "CL40 #31A-41, Palmira - Valle del Cauca, Colombia",
         "categoria": "HURTOPERSONAS",
         "_deepnote_index_column": 159
        },
        {
         "fecha": "2009-02-06T15:30:00.000000",
         "direccion": "CR27 #29-2, Palmira - Valle del Cauca, Colombia",
         "categoria": "HURTOPERSONAS",
         "_deepnote_index_column": 160
        },
        {
         "fecha": "2009-02-06T09:00:00.000000",
         "direccion": "CL23 #20-2, Palmira - Valle del Cauca, Colombia",
         "categoria": "HURTOPERSONAS",
         "_deepnote_index_column": 161
        },
        {
         "fecha": "2009-02-06T20:00:00.000000",
         "direccion": "CL47 #34-2, Palmira - Valle del Cauca, Colombia",
         "categoria": "HURTOPERSONAS",
         "_deepnote_index_column": 162
        },
        {
         "fecha": "2009-02-06T13:30:00.000000",
         "direccion": "CL54 #42-2, Palmira - Valle del Cauca, Colombia",
         "categoria": "HURTOPERSONAS",
         "_deepnote_index_column": 163
        },
        {
         "fecha": "2009-02-06T11:05:00.000000",
         "direccion": "CR25 #15-2, Palmira - Valle del Cauca, Colombia",
         "categoria": "HURTOPERSONAS",
         "_deepnote_index_column": 164
        },
        {
         "fecha": "2009-02-06T11:05:00.000000",
         "direccion": "CR25 #15-2, Palmira - Valle del Cauca, Colombia",
         "categoria": "HURTOPERSONAS",
         "_deepnote_index_column": 165
        }
       ],
       "rows_bottom": [
        {
         "fecha": "2012-11-13T04:45:00.000000",
         "direccion": "CR28 #14B-2, Palmira - Valle del Cauca, Colombia",
         "categoria": "HURTOMOTOCICLETAS",
         "_deepnote_index_column": 5677
        },
        {
         "fecha": "2012-11-14T05:40:00.000000",
         "direccion": "CL31 #42-2, Palmira - Valle del Cauca, Colombia",
         "categoria": "HURTOMOTOCICLETAS",
         "_deepnote_index_column": 5678
        },
        {
         "fecha": "2012-11-14T15:30:00.000000",
         "direccion": "CL33 #35A-38, Palmira - Valle del Cauca, Colombia",
         "categoria": "HURTOMOTOCICLETAS",
         "_deepnote_index_column": 5679
        },
        {
         "fecha": "2012-11-14T22:30:00.000000",
         "direccion": "CR17 #47D-19, Palmira - Valle del Cauca, Colombia",
         "categoria": "HURTOMOTOCICLETAS",
         "_deepnote_index_column": 5680
        },
        {
         "fecha": "2012-11-14T19:29:00.000000",
         "direccion": "CL46 #20-82, Palmira - Valle del Cauca, Colombia",
         "categoria": "HURTOMOTOCICLETAS",
         "_deepnote_index_column": 5681
        },
        {
         "fecha": "2012-11-15T20:50:00.000000",
         "direccion": "CR32 #16-2, Palmira - Valle del Cauca, Colombia",
         "categoria": "HURTOMOTOCICLETAS",
         "_deepnote_index_column": 5682
        },
        {
         "fecha": "2012-11-15T11:30:00.000000",
         "direccion": "CL47 #34-2, Palmira - Valle del Cauca, Colombia",
         "categoria": "HURTOMOTOCICLETAS",
         "_deepnote_index_column": 5683
        },
        {
         "fecha": "2012-11-15T17:40:00.000000",
         "direccion": "CL47 #34-2, Palmira - Valle del Cauca, Colombia",
         "categoria": "HURTOMOTOCICLETAS",
         "_deepnote_index_column": 5684
        },
        {
         "fecha": "2012-11-16T21:45:00.000000",
         "direccion": "CL36A #42-74, Palmira - Valle del Cauca, Colombia",
         "categoria": "HURTOMOTOCICLETAS",
         "_deepnote_index_column": 5685
        },
        {
         "fecha": "2012-11-17T13:55:00.000000",
         "direccion": "CL42 #41-2, Palmira - Valle del Cauca, Colombia",
         "categoria": "HURTOMOTOCICLETAS",
         "_deepnote_index_column": 5686
        },
        {
         "fecha": "2012-11-17T14:40:00.000000",
         "direccion": "CR41 #41-2, Palmira - Valle del Cauca, Colombia",
         "categoria": "HURTOMOTOCICLETAS",
         "_deepnote_index_column": 5687
        },
        {
         "fecha": "2012-11-18T06:40:00.000000",
         "direccion": "CL66 #43-2, Palmira - Valle del Cauca, Colombia",
         "categoria": "HURTOMOTOCICLETAS",
         "_deepnote_index_column": 5688
        },
        {
         "fecha": "2012-11-19T19:30:00.000000",
         "direccion": "CL58A #44-2, Palmira - Valle del Cauca, Colombia",
         "categoria": "HURTOMOTOCICLETAS",
         "_deepnote_index_column": 5689
        },
        {
         "fecha": "2012-11-19T18:30:00.000000",
         "direccion": "CL66 #41-2, Palmira - Valle del Cauca, Colombia",
         "categoria": "HURTOMOTOCICLETAS",
         "_deepnote_index_column": 5690
        },
        {
         "fecha": "2012-11-20T21:00:00.000000",
         "direccion": "CL31 #42-2, Palmira - Valle del Cauca, Colombia",
         "categoria": "HURTOMOTOCICLETAS",
         "_deepnote_index_column": 5691
        },
        {
         "fecha": "2012-11-20T12:15:00.000000",
         "direccion": "DG65 #35-2, Palmira - Valle del Cauca, Colombia",
         "categoria": "HURTOMOTOCICLETAS",
         "_deepnote_index_column": 5692
        },
        {
         "fecha": "2012-11-20T21:30:00.000000",
         "direccion": "CR30 #21-85, Palmira - Valle del Cauca, Colombia",
         "categoria": "HURTOMOTOCICLETAS",
         "_deepnote_index_column": 5693
        },
        {
         "fecha": "2012-11-20T20:10:00.000000",
         "direccion": "CL40 #18-38, Palmira - Valle del Cauca, Colombia",
         "categoria": "HURTOMOTOCICLETAS",
         "_deepnote_index_column": 5694
        },
        {
         "fecha": "2012-11-20T10:00:00.000000",
         "direccion": "CL39 #31-2, Palmira - Valle del Cauca, Colombia",
         "categoria": "HURTOMOTOCICLETAS",
         "_deepnote_index_column": 5695
        },
        {
         "fecha": "2012-11-20T20:30:00.000000",
         "direccion": "CR28 #21-31, Palmira - Valle del Cauca, Colombia",
         "categoria": "HURTOMOTOCICLETAS",
         "_deepnote_index_column": 5696
        },
        {
         "fecha": "2012-11-20T12:10:00.000000",
         "direccion": "CR35 #33-2, Palmira - Valle del Cauca, Colombia",
         "categoria": "HURTOMOTOCICLETAS",
         "_deepnote_index_column": 5697
        },
        {
         "fecha": "2012-11-21T22:30:00.000000",
         "direccion": "CR1 #33A-24, Palmira - Valle del Cauca, Colombia",
         "categoria": "HURTOMOTOCICLETAS",
         "_deepnote_index_column": 5698
        },
        {
         "fecha": "2012-11-21T14:00:00.000000",
         "direccion": "CL36A #46-14, Palmira - Valle del Cauca, Colombia",
         "categoria": "HURTOMOTOCICLETAS",
         "_deepnote_index_column": 5699
        },
        {
         "fecha": "2012-11-23T12:30:00.000000",
         "direccion": "CR18 #33-2, Palmira - Valle del Cauca, Colombia",
         "categoria": "HURTOMOTOCICLETAS",
         "_deepnote_index_column": 5700
        },
        {
         "fecha": "2012-11-19T19:00:00.000000",
         "direccion": "CL70#25, Palmira - Valle del Cauca, Colombia",
         "categoria": "HURTOMOTOCICLETAS",
         "_deepnote_index_column": 5701
        },
        {
         "fecha": "2012-11-23T17:10:00.000000",
         "direccion": "CL51 #31A-2, Palmira - Valle del Cauca, Colombia",
         "categoria": "HURTOMOTOCICLETAS",
         "_deepnote_index_column": 5702
        },
        {
         "fecha": "2012-11-24T16:00:00.000000",
         "direccion": "CR30 #28-2, Palmira - Valle del Cauca, Colombia",
         "categoria": "HURTOAUTOMOTORES",
         "_deepnote_index_column": 5703
        },
        {
         "fecha": "2012-11-24T20:00:00.000000",
         "direccion": "CR30 #26-59, Palmira - Valle del Cauca, Colombia",
         "categoria": "HURTOAUTOMOTORES",
         "_deepnote_index_column": 5704
        },
        {
         "fecha": "2012-11-24T06:30:00.000000",
         "direccion": "CL44 #34C-2, Palmira - Valle del Cauca, Colombia",
         "categoria": "HURTOAUTOMOTORES",
         "_deepnote_index_column": 5705
        },
        {
         "fecha": "2012-11-24T19:00:00.000000",
         "direccion": "CR20 #37A-19, Palmira - Valle del Cauca, Colombia",
         "categoria": "HURTOAUTOMOTORES",
         "_deepnote_index_column": 5706
        },
        {
         "fecha": "2012-11-24T15:00:00.000000",
         "direccion": "CL33A #5AE-8, Palmira - Valle del Cauca, Colombia",
         "categoria": "HURTOAUTOMOTORES",
         "_deepnote_index_column": 5707
        },
        {
         "fecha": "2012-11-24T18:30:00.000000",
         "direccion": "CL36 #30-14, Palmira - Valle del Cauca, Colombia",
         "categoria": "HURTOAUTOMOTORES",
         "_deepnote_index_column": 5708
        },
        {
         "fecha": "2012-11-25T08:50:00.000000",
         "direccion": "CR32 #11-2, Palmira - Valle del Cauca, Colombia",
         "categoria": "HURTOAUTOMOTORES",
         "_deepnote_index_column": 5709
        },
        {
         "fecha": "2012-11-25T00:00:00.000000",
         "direccion": "CL30 #20-60, Palmira - Valle del Cauca, Colombia",
         "categoria": "HURTOAUTOMOTORES",
         "_deepnote_index_column": 5710
        },
        {
         "fecha": "2012-11-25T00:00:00.000000",
         "direccion": "CL1 #2-125, Palmira - Valle del Cauca, Colombia",
         "categoria": "HURTOAUTOMOTORES",
         "_deepnote_index_column": 5711
        },
        {
         "fecha": "2012-11-26T11:15:00.000000",
         "direccion": "CR27 #35-2, Palmira - Valle del Cauca, Colombia",
         "categoria": "HURTOAUTOMOTORES",
         "_deepnote_index_column": 5712
        },
        {
         "fecha": "2012-11-26T19:00:00.000000",
         "direccion": "CL30 #20-2, Palmira - Valle del Cauca, Colombia",
         "categoria": "HURTOAUTOMOTORES",
         "_deepnote_index_column": 5713
        },
        {
         "fecha": "2012-11-27T15:08:00.000000",
         "direccion": "CL26 #26-2, Palmira - Valle del Cauca, Colombia",
         "categoria": "HURTOAUTOMOTORES",
         "_deepnote_index_column": 5714
        },
        {
         "fecha": "2012-11-27T22:30:00.000000",
         "direccion": "CR18 #38-43, Palmira - Valle del Cauca, Colombia",
         "categoria": "HURTOAUTOMOTORES",
         "_deepnote_index_column": 5715
        },
        {
         "fecha": "2012-11-27T21:00:00.000000",
         "direccion": "CR40 #31-13, Palmira - Valle del Cauca, Colombia",
         "categoria": "HURTOAUTOMOTORES",
         "_deepnote_index_column": 5716
        },
        {
         "fecha": "2012-11-27T15:00:00.000000",
         "direccion": "CR27 #37-2, Palmira - Valle del Cauca, Colombia",
         "categoria": "HURTOAUTOMOTORES",
         "_deepnote_index_column": 5717
        },
        {
         "fecha": "2012-11-28T18:00:00.000000",
         "direccion": "CL33 #28-2, Palmira - Valle del Cauca, Colombia",
         "categoria": "HURTOAUTOMOTORES",
         "_deepnote_index_column": 5718
        },
        {
         "fecha": "2012-11-29T20:00:00.000000",
         "direccion": "CR26 #35-2, Palmira - Valle del Cauca, Colombia",
         "categoria": "HURTOAUTOMOTORES",
         "_deepnote_index_column": 5719
        },
        {
         "fecha": "2012-11-29T21:30:00.000000",
         "direccion": "CL35 #24-2, Palmira - Valle del Cauca, Colombia",
         "categoria": "HURTOAUTOMOTORES",
         "_deepnote_index_column": 5720
        },
        {
         "fecha": "2012-11-29T18:30:00.000000",
         "direccion": "CR40 #31-2, Palmira - Valle del Cauca, Colombia",
         "categoria": "HURTOAUTOMOTORES",
         "_deepnote_index_column": 5721
        },
        {
         "fecha": "2012-08-21T22:30:00.000000",
         "direccion": "CL54#32A-40, Palmira - Valle del Cauca, Colombia",
         "categoria": "HURTOAUTOMOTORES",
         "_deepnote_index_column": 5722
        },
        {
         "fecha": "2012-11-29T23:00:00.000000",
         "direccion": "CL31 #44-2, Palmira - Valle del Cauca, Colombia",
         "categoria": "HURTOAUTOMOTORES",
         "_deepnote_index_column": 5723
        },
        {
         "fecha": "2012-11-29T01:30:00.000000",
         "direccion": "CR46A #46A-17, Palmira - Valle del Cauca, Colombia",
         "categoria": "HURTOAUTOMOTORES",
         "_deepnote_index_column": 5724
        },
        {
         "fecha": "2012-11-30T20:00:00.000000",
         "direccion": "CL41 #8-2, Palmira - Valle del Cauca, Colombia",
         "categoria": "HURTOAUTOMOTORES",
         "_deepnote_index_column": 5725
        },
        {
         "fecha": "2012-11-30T10:00:00.000000",
         "direccion": "CR29 #32-2, Palmira - Valle del Cauca, Colombia",
         "categoria": "HURTOAUTOMOTORES",
         "_deepnote_index_column": 5726
        },
        {
         "fecha": "2012-11-30T20:00:00.000000",
         "direccion": "CL42 #21-59, Palmira - Valle del Cauca, Colombia",
         "categoria": "HURTOAUTOMOTORES",
         "_deepnote_index_column": 5727
        },
        {
         "fecha": "2012-12-05T19:30:00.000000",
         "direccion": "CR28#70, Palmira - Valle del Cauca, Colombia",
         "categoria": "HURTOPERSONAS",
         "_deepnote_index_column": 5728
        },
        {
         "fecha": "2012-12-10T17:00:00.000000",
         "direccion": "CL31#41, Palmira - Valle del Cauca, Colombia",
         "categoria": "HURTOINTERIORDEVEHICULO",
         "_deepnote_index_column": 5729
        },
        {
         "fecha": "2012-12-03T15:00:00.000000",
         "direccion": "CL29#28-19, Palmira - Valle del Cauca, Colombia",
         "categoria": "HURTOPERSONAS",
         "_deepnote_index_column": 5730
        },
        {
         "fecha": "2012-12-24T11:00:00.000000",
         "direccion": "CL64#35-05, Palmira - Valle del Cauca, Colombia",
         "categoria": "ABIGEATO",
         "_deepnote_index_column": 5731
        },
        {
         "fecha": "2012-12-16T03:00:00.000000",
         "direccion": "CL34#40-09, Palmira - Valle del Cauca, Colombia",
         "categoria": "HURTOPERSONAS",
         "_deepnote_index_column": 5732
        },
        {
         "fecha": "2012-12-03T10:15:00.000000",
         "direccion": "CL47#35-91, Palmira - Valle del Cauca, Colombia",
         "categoria": "HURTOPERSONAS",
         "_deepnote_index_column": 5733
        },
        {
         "fecha": "2012-12-27T12:15:00.000000",
         "direccion": "CL10#25-217, Palmira - Valle del Cauca, Colombia",
         "categoria": "HURTOPERSONAS",
         "_deepnote_index_column": 5734
        },
        {
         "fecha": "2012-12-28T10:25:00.000000",
         "direccion": "CR25#48-24, Palmira - Valle del Cauca, Colombia",
         "categoria": "HURTOPERSONAS",
         "_deepnote_index_column": 5735
        },
        {
         "fecha": "2012-12-27T16:30:00.000000",
         "direccion": "CR33A#28-24, Palmira - Valle del Cauca, Colombia",
         "categoria": "HURTOENTIDADESCOMERCIALES",
         "_deepnote_index_column": 5736
        },
        {
         "fecha": "2012-12-27T19:30:00.000000",
         "direccion": "CR30#36, Palmira - Valle del Cauca, Colombia",
         "categoria": "HURTOPERSONAS",
         "_deepnote_index_column": 5737
        },
        {
         "fecha": "2012-12-27T19:30:00.000000",
         "direccion": "CR28#60-28, Palmira - Valle del Cauca, Colombia",
         "categoria": "HURTOPERSONAS",
         "_deepnote_index_column": 5738
        },
        {
         "fecha": "2012-12-27T16:00:00.000000",
         "direccion": "CL42#19, Palmira - Valle del Cauca, Colombia",
         "categoria": "HURTOPERSONAS",
         "_deepnote_index_column": 5739
        },
        {
         "fecha": "2012-12-23T06:00:00.000000",
         "direccion": "CL57#38, Palmira - Valle del Cauca, Colombia",
         "categoria": "HURTOPERSONAS",
         "_deepnote_index_column": 5740
        },
        {
         "fecha": "2012-12-02T03:50:00.000000",
         "direccion": "CR28#47, Palmira - Valle del Cauca, Colombia",
         "categoria": "HURTOPERSONAS",
         "_deepnote_index_column": 5741
        },
        {
         "fecha": "2012-12-26T19:30:00.000000",
         "direccion": "CL29#33, Palmira - Valle del Cauca, Colombia",
         "categoria": "HURTOPERSONAS",
         "_deepnote_index_column": 5742
        },
        {
         "fecha": "2012-12-25T06:00:00.000000",
         "direccion": "CL48#24, Palmira - Valle del Cauca, Colombia",
         "categoria": "HURTOMOTOCICLETAS",
         "_deepnote_index_column": 5743
        },
        {
         "fecha": "2012-12-20T16:00:00.000000",
         "direccion": "CL28#19, Palmira - Valle del Cauca, Colombia",
         "categoria": "HURTOPERSONAS",
         "_deepnote_index_column": 5744
        },
        {
         "fecha": "2012-12-21T15:30:00.000000",
         "direccion": "CR30#29-88, Palmira - Valle del Cauca, Colombia",
         "categoria": "HURTOENTIDADESCOMERCIALES",
         "_deepnote_index_column": 5745
        },
        {
         "fecha": "2012-12-23T16:00:00.000000",
         "direccion": "CL26#20-37, Palmira - Valle del Cauca, Colombia",
         "categoria": "HURTOPERSONAS",
         "_deepnote_index_column": 5746
        },
        {
         "fecha": "2012-12-25T10:00:00.000000",
         "direccion": "CL26#18-37, Palmira - Valle del Cauca, Colombia",
         "categoria": "HURTOPERSONAS",
         "_deepnote_index_column": 5747
        },
        {
         "fecha": "2012-12-18T13:20:00.000000",
         "direccion": "CL13#24C-26, Palmira - Valle del Cauca, Colombia",
         "categoria": "HURTOPERSONAS",
         "_deepnote_index_column": 5748
        },
        {
         "fecha": "2012-12-21T00:00:00.000000",
         "direccion": "CR27#29, Palmira - Valle del Cauca, Colombia",
         "categoria": "HURTOPERSONAS",
         "_deepnote_index_column": 5749
        },
        {
         "fecha": "2012-12-21T06:15:00.000000",
         "direccion": "CR31#26, Palmira - Valle del Cauca, Colombia",
         "categoria": "HURTOENTIDADESCOMERCIALES",
         "_deepnote_index_column": 5750
        },
        {
         "fecha": "2012-12-07T12:20:00.000000",
         "direccion": "CL28#30, Palmira - Valle del Cauca, Colombia",
         "categoria": "HURTOPERSONAS",
         "_deepnote_index_column": 5751
        },
        {
         "fecha": "2012-12-15T06:30:00.000000",
         "direccion": "CL73#28, Palmira - Valle del Cauca, Colombia",
         "categoria": "HURTOPERSONAS",
         "_deepnote_index_column": 5752
        },
        {
         "fecha": "2012-12-20T10:00:00.000000",
         "direccion": "CR30#26-64, Palmira - Valle del Cauca, Colombia",
         "categoria": "HURTOINTERIORDEVEHICULO",
         "_deepnote_index_column": 5753
        },
        {
         "fecha": "2012-12-20T11:30:00.000000",
         "direccion": "CR29#31, Palmira - Valle del Cauca, Colombia",
         "categoria": "HURTOPERSONAS",
         "_deepnote_index_column": 5754
        },
        {
         "fecha": "2012-12-20T10:00:00.000000",
         "direccion": "CL56A#40-26, Palmira - Valle del Cauca, Colombia",
         "categoria": "HURTOPERSONAS",
         "_deepnote_index_column": 5755
        },
        {
         "fecha": "2012-12-19T12:00:00.000000",
         "direccion": "CR29#26, Palmira - Valle del Cauca, Colombia",
         "categoria": "HURTOPERSONAS",
         "_deepnote_index_column": 5756
        },
        {
         "fecha": "2012-12-19T09:40:00.000000",
         "direccion": "CR29#26, Palmira - Valle del Cauca, Colombia",
         "categoria": "HURTOPERSONAS",
         "_deepnote_index_column": 5757
        },
        {
         "fecha": "2012-12-03T00:00:00.000000",
         "direccion": "CL30#29, Palmira - Valle del Cauca, Colombia",
         "categoria": "HURTOPERSONAS",
         "_deepnote_index_column": 5758
        },
        {
         "fecha": "2012-12-06T07:30:00.000000",
         "direccion": "CL47C#13-59, Palmira - Valle del Cauca, Colombia",
         "categoria": "OTRO",
         "_deepnote_index_column": 5759
        },
        {
         "fecha": "2012-12-01T12:00:00.000000",
         "direccion": "CL29#27, Palmira - Valle del Cauca, Colombia",
         "categoria": "HURTOINTERIORDEVEHICULO",
         "_deepnote_index_column": 5760
        },
        {
         "fecha": "2012-12-06T12:15:00.000000",
         "direccion": "CL31#40, Palmira - Valle del Cauca, Colombia",
         "categoria": "HURTOPERSONAS",
         "_deepnote_index_column": 5761
        },
        {
         "fecha": "2012-12-02T15:30:00.000000",
         "direccion": "CL62#32, Palmira - Valle del Cauca, Colombia",
         "categoria": "HURTOPERSONAS",
         "_deepnote_index_column": 5762
        },
        {
         "fecha": "2012-12-05T16:08:00.000000",
         "direccion": "CL30#23, Palmira - Valle del Cauca, Colombia",
         "categoria": "HURTOPERSONAS",
         "_deepnote_index_column": 5763
        },
        {
         "fecha": "2012-12-05T16:00:00.000000",
         "direccion": "CL31#24, Palmira - Valle del Cauca, Colombia",
         "categoria": "HURTOPERSONAS",
         "_deepnote_index_column": 5764
        },
        {
         "fecha": "2012-12-04T23:20:00.000000",
         "direccion": "CR28#58, Palmira - Valle del Cauca, Colombia",
         "categoria": "HURTOPERSONAS",
         "_deepnote_index_column": 5765
        },
        {
         "fecha": "2012-12-04T14:30:00.000000",
         "direccion": "CR28#58, Palmira - Valle del Cauca, Colombia",
         "categoria": "HURTOPERSONAS",
         "_deepnote_index_column": 5766
        },
        {
         "fecha": "2012-12-01T06:30:00.000000",
         "direccion": "CR32#16, Palmira - Valle del Cauca, Colombia",
         "categoria": "HURTOPERSONAS",
         "_deepnote_index_column": 5767
        },
        {
         "fecha": "2012-12-04T11:00:00.000000",
         "direccion": "CL28#32, Palmira - Valle del Cauca, Colombia",
         "categoria": "HURTOPERSONAS",
         "_deepnote_index_column": 5768
        },
        {
         "fecha": "2012-12-01T23:00:00.000000",
         "direccion": "CR34#53-07, Palmira - Valle del Cauca, Colombia",
         "categoria": "HURTOPERSONAS",
         "_deepnote_index_column": 5769
        },
        {
         "fecha": "2012-12-01T02:00:00.000000",
         "direccion": "CL26#16-68, Palmira - Valle del Cauca, Colombia",
         "categoria": "HURTOPERSONAS",
         "_deepnote_index_column": 5770
        },
        {
         "fecha": "2012-12-03T11:00:00.000000",
         "direccion": "DG27#7-68, Palmira - Valle del Cauca, Colombia",
         "categoria": "HURTOPERSONAS",
         "_deepnote_index_column": 5771
        },
        {
         "fecha": "2012-12-01T11:00:00.000000",
         "direccion": "CR28#32, Palmira - Valle del Cauca, Colombia",
         "categoria": "HURTOPERSONAS",
         "_deepnote_index_column": 5772
        },
        {
         "fecha": "2012-12-03T08:00:00.000000",
         "direccion": "CL30#29, Palmira - Valle del Cauca, Colombia",
         "categoria": "HURTOPERSONAS",
         "_deepnote_index_column": 5773
        },
        {
         "fecha": "2012-12-01T11:00:00.000000",
         "direccion": "CR19#35-49, Palmira - Valle del Cauca, Colombia",
         "categoria": "HURTOENTIDADESCOMERCIALES",
         "_deepnote_index_column": 5774
        },
        {
         "fecha": "2012-12-19T09:30:00.000000",
         "direccion": "CR29#18-14, Palmira - Valle del Cauca, Colombia",
         "categoria": "HURTOPERSONAS",
         "_deepnote_index_column": 5775
        },
        {
         "fecha": "2012-12-18T13:35:00.000000",
         "direccion": "CR19#36-19, Palmira - Valle del Cauca, Colombia",
         "categoria": "HURTOENTIDADESCOMERCIALES",
         "_deepnote_index_column": 5776
        },
        {
         "fecha": "2012-12-17T17:00:00.000000",
         "direccion": "CR26#31, Palmira - Valle del Cauca, Colombia",
         "categoria": "HURTOMOTOCICLETAS",
         "_deepnote_index_column": 5777
        },
        {
         "fecha": "2012-12-17T11:00:00.000000",
         "direccion": "CR27#30, Palmira - Valle del Cauca, Colombia",
         "categoria": "HURTOPERSONAS",
         "_deepnote_index_column": 5778
        },
        {
         "fecha": "2012-12-17T12:10:00.000000",
         "direccion": "CR28#22, Palmira - Valle del Cauca, Colombia",
         "categoria": "HURTOPERSONAS",
         "_deepnote_index_column": 5779
        },
        {
         "fecha": "2012-12-14T22:30:00.000000",
         "direccion": "CL34#33-71, Palmira - Valle del Cauca, Colombia",
         "categoria": "HURTOPERSONAS",
         "_deepnote_index_column": 5780
        },
        {
         "fecha": "2012-12-15T21:30:00.000000",
         "direccion": "CL20#24A-09, Palmira - Valle del Cauca, Colombia",
         "categoria": "HURTOMOTOCICLETAS",
         "_deepnote_index_column": 5781
        },
        {
         "fecha": "2012-12-13T18:00:00.000000",
         "direccion": "CR35#47, Palmira - Valle del Cauca, Colombia",
         "categoria": "HURTOPERSONAS",
         "_deepnote_index_column": 5782
        },
        {
         "fecha": "2012-12-14T10:25:00.000000",
         "direccion": "CR30A#18-64, Palmira - Valle del Cauca, Colombia",
         "categoria": "HURTOPERSONAS",
         "_deepnote_index_column": 5783
        },
        {
         "fecha": "2012-12-13T19:00:00.000000",
         "direccion": "CR21#48-72, Palmira - Valle del Cauca, Colombia",
         "categoria": "HURTOPERSONAS",
         "_deepnote_index_column": 5784
        },
        {
         "fecha": "2012-12-12T15:30:00.000000",
         "direccion": "CRA32#47, Palmira - Valle del Cauca, Colombia",
         "categoria": "HURTOPERSONAS",
         "_deepnote_index_column": 5785
        },
        {
         "fecha": "2012-12-11T11:30:00.000000",
         "direccion": "CR32#26, Palmira - Valle del Cauca, Colombia",
         "categoria": "HURTOPERSONAS",
         "_deepnote_index_column": 5786
        },
        {
         "fecha": "2012-12-11T12:00:00.000000",
         "direccion": "CR26#25, Palmira - Valle del Cauca, Colombia",
         "categoria": "HURTOPERSONAS",
         "_deepnote_index_column": 5787
        },
        {
         "fecha": "2012-12-10T14:00:00.000000",
         "direccion": "CL14#25-44, Palmira - Valle del Cauca, Colombia",
         "categoria": "HURTOENTIDADESCOMERCIALES",
         "_deepnote_index_column": 5788
        },
        {
         "fecha": "2012-12-10T10:00:00.000000",
         "direccion": "CL30#24, Palmira - Valle del Cauca, Colombia",
         "categoria": "HURTOINTERIORDEVEHICULO",
         "_deepnote_index_column": 5789
        },
        {
         "fecha": "2012-12-10T09:00:00.000000",
         "direccion": "CL30#24, Palmira - Valle del Cauca, Colombia",
         "categoria": "HURTOPERSONAS",
         "_deepnote_index_column": 5790
        },
        {
         "fecha": "2012-12-10T09:00:00.000000",
         "direccion": "CL30#24, Palmira - Valle del Cauca, Colombia",
         "categoria": "HURTOPERSONAS",
         "_deepnote_index_column": 5791
        },
        {
         "fecha": "2012-12-01T00:00:00.000000",
         "direccion": "CR26#56-30 , Palmira - Valle del Cauca, Colombia",
         "categoria": "HURTOPERSONAS",
         "_deepnote_index_column": 5792
        },
        {
         "fecha": "2012-12-02T00:00:00.000000",
         "direccion": "CR24#6-, Palmira - Valle del Cauca, Colombia",
         "categoria": "HURTOPERSONAS",
         "_deepnote_index_column": 5793
        },
        {
         "fecha": "2012-12-02T08:00:00.000000",
         "direccion": "CL30#29, Palmira - Valle del Cauca, Colombia",
         "categoria": "HURTOPERSONAS",
         "_deepnote_index_column": 5794
        },
        {
         "fecha": "2012-12-02T20:00:00.000000",
         "direccion": "CL42#41, Palmira - Valle del Cauca, Colombia",
         "categoria": "HURTOPERSONAS",
         "_deepnote_index_column": 5795
        },
        {
         "fecha": "2012-12-02T06:10:00.000000",
         "direccion": "CL53C#37, Palmira - Valle del Cauca, Colombia",
         "categoria": "HURTOPERSONAS",
         "_deepnote_index_column": 5796
        },
        {
         "fecha": "2012-12-02T18:00:00.000000",
         "direccion": "CL34#16-68, Palmira - Valle del Cauca, Colombia",
         "categoria": "HURTOPERSONAS",
         "_deepnote_index_column": 5797
        },
        {
         "fecha": "2012-12-03T14:30:00.000000",
         "direccion": "CL53C#37, Palmira - Valle del Cauca, Colombia",
         "categoria": "HURTOPERSONAS",
         "_deepnote_index_column": 5798
        },
        {
         "fecha": "2012-12-04T11:10:00.000000",
         "direccion": "CR29#39-51 , Palmira - Valle del Cauca, Colombia",
         "categoria": "HURTOPERSONAS",
         "_deepnote_index_column": 5799
        },
        {
         "fecha": "2012-12-06T22:50:00.000000",
         "direccion": "CL36#3B, Palmira - Valle del Cauca, Colombia",
         "categoria": "HURTOPERSONAS",
         "_deepnote_index_column": 5800
        },
        {
         "fecha": "2012-12-06T07:30:00.000000",
         "direccion": "CL47C#13-59, Palmira - Valle del Cauca, Colombia",
         "categoria": "HURTOPERSONAS",
         "_deepnote_index_column": 5801
        },
        {
         "fecha": "2012-12-07T09:45:00.000000",
         "direccion": "CL33#25, Palmira - Valle del Cauca, Colombia",
         "categoria": "HURTOPERSONAS",
         "_deepnote_index_column": 5802
        },
        {
         "fecha": "2012-12-07T14:40:00.000000",
         "direccion": "CR30#20-, Palmira - Valle del Cauca, Colombia",
         "categoria": "HURTOPERSONAS",
         "_deepnote_index_column": 5803
        },
        {
         "fecha": "2012-12-07T15:00:00.000000",
         "direccion": "CL29#28, Palmira - Valle del Cauca, Colombia",
         "categoria": "HURTOPERSONAS",
         "_deepnote_index_column": 5804
        },
        {
         "fecha": "2012-12-07T08:30:00.000000",
         "direccion": "CL27#2-A 59, Palmira - Valle del Cauca, Colombia",
         "categoria": "HURTOPERSONAS",
         "_deepnote_index_column": 5805
        },
        {
         "fecha": "2012-12-07T15:30:00.000000",
         "direccion": "CL33B#-9, Palmira - Valle del Cauca, Colombia",
         "categoria": "HURTOPERSONAS",
         "_deepnote_index_column": 5806
        },
        {
         "fecha": "2012-12-07T15:00:00.000000",
         "direccion": "CR28#43-, Palmira - Valle del Cauca, Colombia",
         "categoria": "HURTOPERSONAS",
         "_deepnote_index_column": 5807
        },
        {
         "fecha": "2012-12-07T11:00:00.000000",
         "direccion": "CL69A#26A-13, Palmira - Valle del Cauca, Colombia",
         "categoria": "HURTOPERSONAS",
         "_deepnote_index_column": 5808
        },
        {
         "fecha": "2012-12-11T13:40:00.000000",
         "direccion": "CL42#31, Palmira - Valle del Cauca, Colombia",
         "categoria": "HURTOPERSONAS",
         "_deepnote_index_column": 5809
        },
        {
         "fecha": "2012-12-12T16:15:00.000000",
         "direccion": "CL31#44, Palmira - Valle del Cauca, Colombia",
         "categoria": "HURTOPERSONAS",
         "_deepnote_index_column": 5810
        },
        {
         "fecha": "2012-12-14T10:30:00.000000",
         "direccion": "CR28#29-, Palmira - Valle del Cauca, Colombia",
         "categoria": "HURTOPERSONAS",
         "_deepnote_index_column": 5811
        },
        {
         "fecha": "2012-12-15T15:30:00.000000",
         "direccion": "CL15#30, Palmira - Valle del Cauca, Colombia",
         "categoria": "HURTOPERSONAS",
         "_deepnote_index_column": 5812
        },
        {
         "fecha": "2012-12-16T20:40:00.000000",
         "direccion": "CL42#29, Palmira - Valle del Cauca, Colombia",
         "categoria": "HURTOPERSONAS",
         "_deepnote_index_column": 5813
        },
        {
         "fecha": "2012-12-17T00:00:00.000000",
         "direccion": "CR31#32A-, Palmira - Valle del Cauca, Colombia",
         "categoria": "HURTOPERSONAS",
         "_deepnote_index_column": 5814
        },
        {
         "fecha": "2012-12-17T15:30:00.000000",
         "direccion": "CL32A#-37, Palmira - Valle del Cauca, Colombia",
         "categoria": "HURTOPERSONAS",
         "_deepnote_index_column": 5815
        },
        {
         "fecha": "2012-12-17T11:10:00.000000",
         "direccion": "CL42#13, Palmira - Valle del Cauca, Colombia",
         "categoria": "HURTOPERSONAS",
         "_deepnote_index_column": 5816
        },
        {
         "fecha": "2012-12-18T08:45:00.000000",
         "direccion": "CR31#29-, Palmira - Valle del Cauca, Colombia",
         "categoria": "HURTOPERSONAS",
         "_deepnote_index_column": 5817
        },
        {
         "fecha": "2012-12-18T19:00:00.000000",
         "direccion": "CL34#16-68, Palmira - Valle del Cauca, Colombia",
         "categoria": "HURTOPERSONAS",
         "_deepnote_index_column": 5818
        },
        {
         "fecha": "2012-12-19T09:30:00.000000",
         "direccion": "CR29#18-14 , Palmira - Valle del Cauca, Colombia",
         "categoria": "HURTOPERSONAS",
         "_deepnote_index_column": 5819
        },
        {
         "fecha": "2012-12-20T10:00:00.000000",
         "direccion": "CR30#26-64 , Palmira - Valle del Cauca, Colombia",
         "categoria": "HURTOPERSONAS",
         "_deepnote_index_column": 5820
        },
        {
         "fecha": "2012-12-20T08:00:00.000000",
         "direccion": "CR37#36-, Palmira - Valle del Cauca, Colombia",
         "categoria": "HURTOPERSONAS",
         "_deepnote_index_column": 5821
        },
        {
         "fecha": "2012-12-20T21:45:00.000000",
         "direccion": "CR39#35-, Palmira - Valle del Cauca, Colombia",
         "categoria": "HURTOPERSONAS",
         "_deepnote_index_column": 5822
        },
        {
         "fecha": "2012-12-20T10:00:00.000000",
         "direccion": "CL56A#40-26, Palmira - Valle del Cauca, Colombia",
         "categoria": "HURTOPERSONAS",
         "_deepnote_index_column": 5823
        },
        {
         "fecha": "2012-12-20T14:00:00.000000",
         "direccion": "CL11#7-2, Palmira - Valle del Cauca, Colombia",
         "categoria": "HURTOPERSONAS",
         "_deepnote_index_column": 5824
        },
        {
         "fecha": "2012-12-21T04:30:00.000000",
         "direccion": "CL10#6, Palmira - Valle del Cauca, Colombia",
         "categoria": "HURTOPERSONAS",
         "_deepnote_index_column": 5825
        },
        {
         "fecha": "2012-12-22T15:10:00.000000",
         "direccion": "CR38#59-, Palmira - Valle del Cauca, Colombia",
         "categoria": "HURTOPERSONAS",
         "_deepnote_index_column": 5826
        },
        {
         "fecha": "2012-12-22T21:00:00.000000",
         "direccion": "CL57#41A, Palmira - Valle del Cauca, Colombia",
         "categoria": "HURTOPERSONAS",
         "_deepnote_index_column": 5827
        },
        {
         "fecha": "2012-12-23T18:35:00.000000",
         "direccion": "CL10#3, Palmira - Valle del Cauca, Colombia",
         "categoria": "HURTOPERSONAS",
         "_deepnote_index_column": 5828
        },
        {
         "fecha": "2012-12-25T20:00:00.000000",
         "direccion": "CL30#19, Palmira - Valle del Cauca, Colombia",
         "categoria": "HURTOPERSONAS",
         "_deepnote_index_column": 5829
        },
        {
         "fecha": "2012-12-25T18:30:00.000000",
         "direccion": "CR28#47-, Palmira - Valle del Cauca, Colombia",
         "categoria": "HURTOPERSONAS",
         "_deepnote_index_column": 5830
        },
        {
         "fecha": "2012-12-26T15:30:00.000000",
         "direccion": "CR30#29-88 , Palmira - Valle del Cauca, Colombia",
         "categoria": "HURTOPERSONAS",
         "_deepnote_index_column": 5831
        },
        {
         "fecha": "2012-12-27T11:30:00.000000",
         "direccion": "CL31#30-71, Palmira - Valle del Cauca, Colombia",
         "categoria": "HURTOPERSONAS",
         "_deepnote_index_column": 5832
        },
        {
         "fecha": "2012-12-27T16:00:00.000000",
         "direccion": "CL48#30B-5, Palmira - Valle del Cauca, Colombia",
         "categoria": "HURTOPERSONAS",
         "_deepnote_index_column": 5833
        },
        {
         "fecha": "2012-12-28T00:34:00.000000",
         "direccion": "CR28#38-54 , Palmira - Valle del Cauca, Colombia",
         "categoria": "HURTOPERSONAS",
         "_deepnote_index_column": 5834
        },
        {
         "fecha": "2012-12-30T09:40:00.000000",
         "direccion": "CL42#34-53, Palmira - Valle del Cauca, Colombia",
         "categoria": "HURTOPERSONAS",
         "_deepnote_index_column": 5835
        },
        {
         "fecha": "2012-12-30T15:30:00.000000",
         "direccion": "CR24#28-, Palmira - Valle del Cauca, Colombia",
         "categoria": "HURTOPERSONAS",
         "_deepnote_index_column": 5836
        },
        {
         "fecha": "2012-12-31T13:00:00.000000",
         "direccion": "CR24#17-, Palmira - Valle del Cauca, Colombia",
         "categoria": "HURTOPERSONAS",
         "_deepnote_index_column": 5837
        },
        {
         "fecha": "2012-12-23T15:30:00.000000",
         "direccion": "CL40#1B-60, Palmira - Valle del Cauca, Colombia",
         "categoria": "HURTORESIDENCIAS",
         "_deepnote_index_column": 5838
        },
        {
         "fecha": "2012-12-06T07:30:00.000000",
         "direccion": "CL47C#13-59, Palmira - Valle del Cauca, Colombia",
         "categoria": "HURTOMOTOCICLETAS",
         "_deepnote_index_column": 5839
        },
        {
         "fecha": "2012-12-11T07:30:00.000000",
         "direccion": "CR44#40-1 , Palmira - Valle del Cauca, Colombia",
         "categoria": "HURTOMOTOCICLETAS",
         "_deepnote_index_column": 5840
        },
        {
         "fecha": "2012-12-30T20:30:00.000000",
         "direccion": "CL42#8, Palmira - Valle del Cauca, Colombia",
         "categoria": "HURTOMOTOCICLETAS",
         "_deepnote_index_column": 5841
        },
        {
         "fecha": "2012-12-02T02:00:00.000000",
         "direccion": "CR28#27-48 , Palmira - Valle del Cauca, Colombia",
         "categoria": "HURTOENTIDADESCOMERCIALES",
         "_deepnote_index_column": 5842
        },
        {
         "fecha": "2012-12-05T13:15:00.000000",
         "direccion": "CL29#25-51, Palmira - Valle del Cauca, Colombia",
         "categoria": "HURTOENTIDADESCOMERCIALES",
         "_deepnote_index_column": 5843
        }
       ]
      },
      "text/plain": "                   fecha                                          direccion  \\\n0    2009-01-01 13:00:00      CL1 #2-2, Palmira - Valle del Cauca, Colombia   \n1    2009-01-01 00:00:00   CR28 #43-2 , Palmira - Valle del Cauca, Colombia   \n2    2009-01-02 02:00:00    CL21 #24-2, Palmira - Valle del Cauca, Colombia   \n3    2009-01-02 02:35:00   CL47 #25-32, Palmira - Valle del Cauca, Colombia   \n4    2009-01-02 08:00:00  CL54B #45-60, Palmira - Valle del Cauca, Colombia   \n...                  ...                                                ...   \n5839 2012-12-06 07:30:00   CL47C#13-59, Palmira - Valle del Cauca, Colombia   \n5840 2012-12-11 07:30:00    CR44#40-1 , Palmira - Valle del Cauca, Colombia   \n5841 2012-12-30 20:30:00        CL42#8, Palmira - Valle del Cauca, Colombia   \n5842 2012-12-02 02:00:00   CR28#27-48 , Palmira - Valle del Cauca, Colombia   \n5843 2012-12-05 13:15:00    CL29#25-51, Palmira - Valle del Cauca, Colombia   \n\n                      categoria  \n0                 HURTOPERSONAS  \n1                 HURTOPERSONAS  \n2                 HURTOPERSONAS  \n3                 HURTOPERSONAS  \n4                 HURTOPERSONAS  \n...                         ...  \n5839          HURTOMOTOCICLETAS  \n5840          HURTOMOTOCICLETAS  \n5841          HURTOMOTOCICLETAS  \n5842  HURTOENTIDADESCOMERCIALES  \n5843  HURTOENTIDADESCOMERCIALES  \n\n[5844 rows x 3 columns]",
      "text/html": "<div>\n<style scoped>\n    .dataframe tbody tr th:only-of-type {\n        vertical-align: middle;\n    }\n\n    .dataframe tbody tr th {\n        vertical-align: top;\n    }\n\n    .dataframe thead th {\n        text-align: right;\n    }\n</style>\n<table border=\"1\" class=\"dataframe\">\n  <thead>\n    <tr style=\"text-align: right;\">\n      <th></th>\n      <th>fecha</th>\n      <th>direccion</th>\n      <th>categoria</th>\n    </tr>\n  </thead>\n  <tbody>\n    <tr>\n      <th>0</th>\n      <td>2009-01-01 13:00:00</td>\n      <td>CL1 #2-2, Palmira - Valle del Cauca, Colombia</td>\n      <td>HURTOPERSONAS</td>\n    </tr>\n    <tr>\n      <th>1</th>\n      <td>2009-01-01 00:00:00</td>\n      <td>CR28 #43-2 , Palmira - Valle del Cauca, Colombia</td>\n      <td>HURTOPERSONAS</td>\n    </tr>\n    <tr>\n      <th>2</th>\n      <td>2009-01-02 02:00:00</td>\n      <td>CL21 #24-2, Palmira - Valle del Cauca, Colombia</td>\n      <td>HURTOPERSONAS</td>\n    </tr>\n    <tr>\n      <th>3</th>\n      <td>2009-01-02 02:35:00</td>\n      <td>CL47 #25-32, Palmira - Valle del Cauca, Colombia</td>\n      <td>HURTOPERSONAS</td>\n    </tr>\n    <tr>\n      <th>4</th>\n      <td>2009-01-02 08:00:00</td>\n      <td>CL54B #45-60, Palmira - Valle del Cauca, Colombia</td>\n      <td>HURTOPERSONAS</td>\n    </tr>\n    <tr>\n      <th>...</th>\n      <td>...</td>\n      <td>...</td>\n      <td>...</td>\n    </tr>\n    <tr>\n      <th>5839</th>\n      <td>2012-12-06 07:30:00</td>\n      <td>CL47C#13-59, Palmira - Valle del Cauca, Colombia</td>\n      <td>HURTOMOTOCICLETAS</td>\n    </tr>\n    <tr>\n      <th>5840</th>\n      <td>2012-12-11 07:30:00</td>\n      <td>CR44#40-1 , Palmira - Valle del Cauca, Colombia</td>\n      <td>HURTOMOTOCICLETAS</td>\n    </tr>\n    <tr>\n      <th>5841</th>\n      <td>2012-12-30 20:30:00</td>\n      <td>CL42#8, Palmira - Valle del Cauca, Colombia</td>\n      <td>HURTOMOTOCICLETAS</td>\n    </tr>\n    <tr>\n      <th>5842</th>\n      <td>2012-12-02 02:00:00</td>\n      <td>CR28#27-48 , Palmira - Valle del Cauca, Colombia</td>\n      <td>HURTOENTIDADESCOMERCIALES</td>\n    </tr>\n    <tr>\n      <th>5843</th>\n      <td>2012-12-05 13:15:00</td>\n      <td>CL29#25-51, Palmira - Valle del Cauca, Colombia</td>\n      <td>HURTOENTIDADESCOMERCIALES</td>\n    </tr>\n  </tbody>\n</table>\n<p>5844 rows × 3 columns</p>\n</div>"
     },
     "metadata": {}
    }
   ],
   "execution_count": null
  },
  {
   "cell_type": "markdown",
   "source": "## Transformación de direcciones a coordenadas (Testing)",
   "metadata": {
    "tags": [],
    "is_collapsed": false,
    "cell_id": "00004-23fbfe48-b0cb-447f-b479-0bd251f6af18",
    "deepnote_cell_type": "text-cell-h2"
   }
  },
  {
   "cell_type": "code",
   "metadata": {
    "tags": [],
    "cell_id": "00006-20bb4e73-e3ef-4b65-b65d-172ad186e564",
    "deepnote_to_be_reexecuted": false,
    "source_hash": "638d0f32",
    "execution_start": 1626912938003,
    "execution_millis": 52,
    "deepnote_output_heights": [
     40.375
    ],
    "deepnote_cell_type": "code"
   },
   "source": "prueba = hurtos[0:1]\n#prueba = pd.DataFrame(data=prueba)\n#prueba.columns = ['direccion']\nprueba['direccion']",
   "outputs": [
    {
     "output_type": "execute_result",
     "execution_count": 3,
     "data": {
      "text/plain": "0    CL1 #2-2, Palmira - Valle del Cauca, Colombia\nName: direccion, dtype: object"
     },
     "metadata": {}
    }
   ],
   "execution_count": null
  },
  {
   "cell_type": "markdown",
   "source": "## Geocoding de lista de prueba (Testing)",
   "metadata": {
    "tags": [],
    "cell_id": "00007-7d0246e0-08ea-4398-b282-9babb8890b0a",
    "is_collapsed": false,
    "deepnote_cell_type": "text-cell-h2"
   }
  },
  {
   "cell_type": "code",
   "metadata": {
    "tags": [],
    "cell_id": "00006-b519522d-e195-4e39-a5fe-8a28f734808f",
    "deepnote_to_be_reexecuted": false,
    "source_hash": "3259819b",
    "execution_start": 1626912941342,
    "execution_millis": 5,
    "deepnote_cell_type": "code"
   },
   "source": "with open('creds.json') as data_file:\n   data = json.load(data_file)\n\ntoken = data['token']\n\ngmaps = googlemaps.Client(key=token)\n\n#test de conexión\n#geocode_result = gmaps.geocode(str(prueba['direccion']))",
   "outputs": [],
   "execution_count": null
  },
  {
   "cell_type": "code",
   "metadata": {
    "tags": [],
    "cell_id": "00008-5e9ba642-5caa-4968-a2b1-356678c99498",
    "deepnote_to_be_reexecuted": false,
    "source_hash": "a3476cfd",
    "execution_start": 1626912944217,
    "execution_millis": 3,
    "deepnote_cell_type": "code"
   },
   "source": "subset = hurtos[0:10] #subset de testing",
   "outputs": [],
   "execution_count": null
  },
  {
   "cell_type": "code",
   "metadata": {
    "tags": [],
    "cell_id": "00008-695f2780-8148-403c-acb4-222615a25031",
    "deepnote_to_be_reexecuted": false,
    "source_hash": "c97969e2",
    "execution_start": 1626398799038,
    "execution_millis": 5298,
    "deepnote_cell_type": "code"
   },
   "source": "consulta = []\nfor index,row in subset.iterrows():\n    consulta.append(str(gmaps.geocode(str(row['direccion']))))\n    #consulta.append(str(row['direccion']))",
   "outputs": [],
   "execution_count": null
  },
  {
   "cell_type": "code",
   "metadata": {
    "tags": [],
    "cell_id": "00009-06cb037a-ce3d-4199-849a-521e3ed55092",
    "deepnote_to_be_reexecuted": false,
    "source_hash": "b420a7a3",
    "execution_start": 1626398811364,
    "execution_millis": 8,
    "deepnote_output_heights": [
     21.1875
    ],
    "deepnote_cell_type": "code"
   },
   "source": "consulta[0] # el valor 'vacio' hay que quitarlo posicion 7",
   "outputs": [
    {
     "output_type": "execute_result",
     "execution_count": 8,
     "data": {
      "text/plain": "\"[{'address_components': [{'long_name': 'Palmira', 'short_name': 'Palmira', 'types': ['locality', 'political']}, {'long_name': 'Palmira', 'short_name': 'Palmira', 'types': ['administrative_area_level_2', 'political']}, {'long_name': 'Valle del Cauca', 'short_name': 'Valle del Cauca', 'types': ['administrative_area_level_1', 'political']}, {'long_name': 'Colombia', 'short_name': 'CO', 'types': ['country', 'political']}], 'formatted_address': 'Palmira, Valle del Cauca, Colombia', 'geometry': {'bounds': {'northeast': {'lat': 3.5615751, 'lng': -76.2672759}, 'southwest': {'lat': 3.502452, 'lng': -76.32357499999999}}, 'location': {'lat': 3.5379718, 'lng': -76.2971657}, 'location_type': 'APPROXIMATE', 'viewport': {'northeast': {'lat': 3.5615751, 'lng': -76.2672759}, 'southwest': {'lat': 3.502452, 'lng': -76.32357499999999}}}, 'partial_match': True, 'place_id': 'ChIJ7VzukugEOo4RepOnnYtiHWQ', 'types': ['locality', 'political']}]\""
     },
     "metadata": {}
    }
   ],
   "execution_count": null
  },
  {
   "cell_type": "code",
   "metadata": {
    "tags": [],
    "cell_id": "00012-f8a920e6-ad84-427f-b253-ea79d0d0f409",
    "deepnote_cell_type": "code"
   },
   "source": "'bounds': {\n'northeast': {'lat': 3.5615751, 'lng': -76.2672759}, \n'southwest': {'lat': 3.502452, 'lng': -76.32357499999999}}\nnorth_lat_boud",
   "outputs": [],
   "execution_count": null
  },
  {
   "cell_type": "code",
   "metadata": {
    "tags": [],
    "cell_id": "00008-03bc02fa-9cab-47ea-ad55-a45339d0f770",
    "deepnote_to_be_reexecuted": false,
    "source_hash": "d63532be",
    "execution_start": 1626912952491,
    "execution_millis": 645,
    "deepnote_cell_type": "code"
   },
   "source": "#Actualizada la extracción de las coordenadas\nlatitudes = []\nlongitudes = []\nfor i in consulta:\n    latitud = float(re.search(r\"'location': {'lat':\\s+(.*?),\\s+'lng'\",i).group(1))\n    longitud= float(re.search(r\"'location': {'lat':\\s+\\d+.\\d+,\\s+'lng': (.*?)}\",i).group(1))\n    latitudes.append(latitud)\n    longitudes.append(longitud)",
   "outputs": [
    {
     "output_type": "error",
     "ename": "NameError",
     "evalue": "name 'consulta' is not defined",
     "traceback": [
      "\u001b[0;31m---------------------------------------------------------------------------\u001b[0m",
      "\u001b[0;31mNameError\u001b[0m                                 Traceback (most recent call last)",
      "\u001b[0;32m/tmp/ipykernel_72/1719481072.py\u001b[0m in \u001b[0;36m<module>\u001b[0;34m\u001b[0m\n\u001b[1;32m      2\u001b[0m \u001b[0mlatitudes\u001b[0m \u001b[0;34m=\u001b[0m \u001b[0;34m[\u001b[0m\u001b[0;34m]\u001b[0m\u001b[0;34m\u001b[0m\u001b[0;34m\u001b[0m\u001b[0m\n\u001b[1;32m      3\u001b[0m \u001b[0mlongitudes\u001b[0m \u001b[0;34m=\u001b[0m \u001b[0;34m[\u001b[0m\u001b[0;34m]\u001b[0m\u001b[0;34m\u001b[0m\u001b[0;34m\u001b[0m\u001b[0m\n\u001b[0;32m----> 4\u001b[0;31m \u001b[0;32mfor\u001b[0m \u001b[0mi\u001b[0m \u001b[0;32min\u001b[0m \u001b[0mconsulta\u001b[0m\u001b[0;34m:\u001b[0m\u001b[0;34m\u001b[0m\u001b[0;34m\u001b[0m\u001b[0m\n\u001b[0m\u001b[1;32m      5\u001b[0m     \u001b[0mlatitud\u001b[0m \u001b[0;34m=\u001b[0m \u001b[0mfloat\u001b[0m\u001b[0;34m(\u001b[0m\u001b[0mre\u001b[0m\u001b[0;34m.\u001b[0m\u001b[0msearch\u001b[0m\u001b[0;34m(\u001b[0m\u001b[0;34mr\"'location': {'lat':\\s+(.*?),\\s+'lng'\"\u001b[0m\u001b[0;34m,\u001b[0m\u001b[0mi\u001b[0m\u001b[0;34m)\u001b[0m\u001b[0;34m.\u001b[0m\u001b[0mgroup\u001b[0m\u001b[0;34m(\u001b[0m\u001b[0;36m1\u001b[0m\u001b[0;34m)\u001b[0m\u001b[0;34m)\u001b[0m\u001b[0;34m\u001b[0m\u001b[0;34m\u001b[0m\u001b[0m\n\u001b[1;32m      6\u001b[0m     \u001b[0mlongitud\u001b[0m\u001b[0;34m=\u001b[0m \u001b[0mfloat\u001b[0m\u001b[0;34m(\u001b[0m\u001b[0mre\u001b[0m\u001b[0;34m.\u001b[0m\u001b[0msearch\u001b[0m\u001b[0;34m(\u001b[0m\u001b[0;34mr\"'location': {'lat':\\s+\\d+.\\d+,\\s+'lng': (.*?)}\"\u001b[0m\u001b[0;34m,\u001b[0m\u001b[0mi\u001b[0m\u001b[0;34m)\u001b[0m\u001b[0;34m.\u001b[0m\u001b[0mgroup\u001b[0m\u001b[0;34m(\u001b[0m\u001b[0;36m1\u001b[0m\u001b[0;34m)\u001b[0m\u001b[0;34m)\u001b[0m\u001b[0;34m\u001b[0m\u001b[0;34m\u001b[0m\u001b[0m\n",
      "\u001b[0;31mNameError\u001b[0m: name 'consulta' is not defined"
     ]
    }
   ],
   "execution_count": null
  },
  {
   "cell_type": "code",
   "metadata": {
    "tags": [],
    "cell_id": "00014-608de4f0-b06d-4f42-a7f7-c6c22757fd3f",
    "deepnote_to_be_reexecuted": false,
    "source_hash": "73800d15",
    "execution_start": 1626912953510,
    "execution_millis": 8,
    "deepnote_output_heights": [
     21.1875
    ],
    "deepnote_cell_type": "code"
   },
   "source": "longitudes",
   "outputs": [
    {
     "output_type": "execute_result",
     "execution_count": 7,
     "data": {
      "text/plain": "[]"
     },
     "metadata": {}
    }
   ],
   "execution_count": null
  },
  {
   "cell_type": "markdown",
   "source": "separar datos que no cargaron en un csv aparte para informar al usuario y trabajar en los modelos sin estos errores",
   "metadata": {
    "tags": [],
    "cell_id": "00019-33600610-62e4-434c-a052-6dc4d1934855",
    "deepnote_cell_type": "markdown"
   }
  },
  {
   "cell_type": "markdown",
   "source": "algunos csv de entrada pueden contener las coordenadas, si estás se encuentran, no necesitamos transformar las direcciones.",
   "metadata": {
    "tags": [],
    "cell_id": "00020-f0e3b6cf-a531-46d4-8ea4-9cd0f1a45fc0",
    "deepnote_cell_type": "markdown"
   }
  },
  {
   "cell_type": "markdown",
   "source": "## Geocoding del csv completo (Spoiler: Sale mal)",
   "metadata": {
    "tags": [],
    "cell_id": "00021-5a91fb2a-aeba-46dd-b614-7ec9b514e06f",
    "is_collapsed": false,
    "deepnote_cell_type": "text-cell-h2"
   }
  },
  {
   "cell_type": "code",
   "metadata": {
    "tags": [],
    "cell_id": "00023-5cd1a084-5d44-421d-9711-2c6440255f07",
    "deepnote_to_be_reexecuted": false,
    "source_hash": "8941bd7b",
    "execution_start": 1626912958055,
    "execution_millis": 19152,
    "deepnote_cell_type": "code"
   },
   "source": "#NO EJECUTAR, YA TENEMOS ALMACENADOS ESTOS DATOS\n#consulta y extracción de direcciones geocodificadas\nconsulta = []\nfor index,row in hurtos.iterrows():\n    consulta.append(str(gmaps.geocode(str(row['direccion']))))\n    #consulta.append(str(row['direccion']))\n\nconsulta",
   "outputs": [
    {
     "output_type": "error",
     "ename": "KeyboardInterrupt",
     "evalue": "",
     "traceback": [
      "\u001b[0;31m---------------------------------------------------------------------------\u001b[0m",
      "\u001b[0;31mKeyboardInterrupt\u001b[0m                         Traceback (most recent call last)",
      "\u001b[0;32m/tmp/ipykernel_72/2265504646.py\u001b[0m in \u001b[0;36m<module>\u001b[0;34m\u001b[0m\n\u001b[1;32m      3\u001b[0m \u001b[0mconsulta\u001b[0m \u001b[0;34m=\u001b[0m \u001b[0;34m[\u001b[0m\u001b[0;34m]\u001b[0m\u001b[0;34m\u001b[0m\u001b[0;34m\u001b[0m\u001b[0m\n\u001b[1;32m      4\u001b[0m \u001b[0;32mfor\u001b[0m \u001b[0mindex\u001b[0m\u001b[0;34m,\u001b[0m\u001b[0mrow\u001b[0m \u001b[0;32min\u001b[0m \u001b[0mhurtos\u001b[0m\u001b[0;34m.\u001b[0m\u001b[0miterrows\u001b[0m\u001b[0;34m(\u001b[0m\u001b[0;34m)\u001b[0m\u001b[0;34m:\u001b[0m\u001b[0;34m\u001b[0m\u001b[0;34m\u001b[0m\u001b[0m\n\u001b[0;32m----> 5\u001b[0;31m     \u001b[0mconsulta\u001b[0m\u001b[0;34m.\u001b[0m\u001b[0mappend\u001b[0m\u001b[0;34m(\u001b[0m\u001b[0mstr\u001b[0m\u001b[0;34m(\u001b[0m\u001b[0mgmaps\u001b[0m\u001b[0;34m.\u001b[0m\u001b[0mgeocode\u001b[0m\u001b[0;34m(\u001b[0m\u001b[0mstr\u001b[0m\u001b[0;34m(\u001b[0m\u001b[0mrow\u001b[0m\u001b[0;34m[\u001b[0m\u001b[0;34m'direccion'\u001b[0m\u001b[0;34m]\u001b[0m\u001b[0;34m)\u001b[0m\u001b[0;34m)\u001b[0m\u001b[0;34m)\u001b[0m\u001b[0;34m)\u001b[0m\u001b[0;34m\u001b[0m\u001b[0;34m\u001b[0m\u001b[0m\n\u001b[0m\u001b[1;32m      6\u001b[0m     \u001b[0;31m#consulta.append(str(row['direccion']))\u001b[0m\u001b[0;34m\u001b[0m\u001b[0;34m\u001b[0m\u001b[0;34m\u001b[0m\u001b[0m\n\u001b[1;32m      7\u001b[0m \u001b[0;34m\u001b[0m\u001b[0m\n",
      "\u001b[0;32m~/venv/lib/python3.7/site-packages/googlemaps/client.py\u001b[0m in \u001b[0;36mwrapper\u001b[0;34m(*args, **kwargs)\u001b[0m\n\u001b[1;32m    414\u001b[0m     \u001b[0;32mdef\u001b[0m \u001b[0mwrapper\u001b[0m\u001b[0;34m(\u001b[0m\u001b[0;34m*\u001b[0m\u001b[0margs\u001b[0m\u001b[0;34m,\u001b[0m \u001b[0;34m**\u001b[0m\u001b[0mkwargs\u001b[0m\u001b[0;34m)\u001b[0m\u001b[0;34m:\u001b[0m\u001b[0;34m\u001b[0m\u001b[0;34m\u001b[0m\u001b[0m\n\u001b[1;32m    415\u001b[0m         \u001b[0margs\u001b[0m\u001b[0;34m[\u001b[0m\u001b[0;36m0\u001b[0m\u001b[0;34m]\u001b[0m\u001b[0;34m.\u001b[0m\u001b[0m_extra_params\u001b[0m \u001b[0;34m=\u001b[0m \u001b[0mkwargs\u001b[0m\u001b[0;34m.\u001b[0m\u001b[0mpop\u001b[0m\u001b[0;34m(\u001b[0m\u001b[0;34m\"extra_params\"\u001b[0m\u001b[0;34m,\u001b[0m \u001b[0;32mNone\u001b[0m\u001b[0;34m)\u001b[0m\u001b[0;34m\u001b[0m\u001b[0;34m\u001b[0m\u001b[0m\n\u001b[0;32m--> 416\u001b[0;31m         \u001b[0mresult\u001b[0m \u001b[0;34m=\u001b[0m \u001b[0mfunc\u001b[0m\u001b[0;34m(\u001b[0m\u001b[0;34m*\u001b[0m\u001b[0margs\u001b[0m\u001b[0;34m,\u001b[0m \u001b[0;34m**\u001b[0m\u001b[0mkwargs\u001b[0m\u001b[0;34m)\u001b[0m\u001b[0;34m\u001b[0m\u001b[0;34m\u001b[0m\u001b[0m\n\u001b[0m\u001b[1;32m    417\u001b[0m         \u001b[0;32mtry\u001b[0m\u001b[0;34m:\u001b[0m\u001b[0;34m\u001b[0m\u001b[0;34m\u001b[0m\u001b[0m\n\u001b[1;32m    418\u001b[0m             \u001b[0;32mdel\u001b[0m \u001b[0margs\u001b[0m\u001b[0;34m[\u001b[0m\u001b[0;36m0\u001b[0m\u001b[0;34m]\u001b[0m\u001b[0;34m.\u001b[0m\u001b[0m_extra_params\u001b[0m\u001b[0;34m\u001b[0m\u001b[0;34m\u001b[0m\u001b[0m\n",
      "\u001b[0;32m~/venv/lib/python3.7/site-packages/googlemaps/geocoding.py\u001b[0m in \u001b[0;36mgeocode\u001b[0;34m(client, address, components, bounds, region, language)\u001b[0m\n\u001b[1;32m     66\u001b[0m         \u001b[0mparams\u001b[0m\u001b[0;34m[\u001b[0m\u001b[0;34m\"language\"\u001b[0m\u001b[0;34m]\u001b[0m \u001b[0;34m=\u001b[0m \u001b[0mlanguage\u001b[0m\u001b[0;34m\u001b[0m\u001b[0;34m\u001b[0m\u001b[0m\n\u001b[1;32m     67\u001b[0m \u001b[0;34m\u001b[0m\u001b[0m\n\u001b[0;32m---> 68\u001b[0;31m     \u001b[0;32mreturn\u001b[0m \u001b[0mclient\u001b[0m\u001b[0;34m.\u001b[0m\u001b[0m_request\u001b[0m\u001b[0;34m(\u001b[0m\u001b[0;34m\"/maps/api/geocode/json\"\u001b[0m\u001b[0;34m,\u001b[0m \u001b[0mparams\u001b[0m\u001b[0;34m)\u001b[0m\u001b[0;34m.\u001b[0m\u001b[0mget\u001b[0m\u001b[0;34m(\u001b[0m\u001b[0;34m\"results\"\u001b[0m\u001b[0;34m,\u001b[0m \u001b[0;34m[\u001b[0m\u001b[0;34m]\u001b[0m\u001b[0;34m)\u001b[0m\u001b[0;34m\u001b[0m\u001b[0;34m\u001b[0m\u001b[0m\n\u001b[0m\u001b[1;32m     69\u001b[0m \u001b[0;34m\u001b[0m\u001b[0m\n\u001b[1;32m     70\u001b[0m \u001b[0;34m\u001b[0m\u001b[0m\n",
      "\u001b[0;32m~/venv/lib/python3.7/site-packages/googlemaps/client.py\u001b[0m in \u001b[0;36m_request\u001b[0;34m(self, url, params, first_request_time, retry_counter, base_url, accepts_clientid, extract_body, requests_kwargs, post_json)\u001b[0m\n\u001b[1;32m    285\u001b[0m         \u001b[0;32mtry\u001b[0m\u001b[0;34m:\u001b[0m\u001b[0;34m\u001b[0m\u001b[0;34m\u001b[0m\u001b[0m\n\u001b[1;32m    286\u001b[0m             response = requests_method(base_url + authed_url,\n\u001b[0;32m--> 287\u001b[0;31m                                        **final_requests_kwargs)\n\u001b[0m\u001b[1;32m    288\u001b[0m         \u001b[0;32mexcept\u001b[0m \u001b[0mrequests\u001b[0m\u001b[0;34m.\u001b[0m\u001b[0mexceptions\u001b[0m\u001b[0;34m.\u001b[0m\u001b[0mTimeout\u001b[0m\u001b[0;34m:\u001b[0m\u001b[0;34m\u001b[0m\u001b[0;34m\u001b[0m\u001b[0m\n\u001b[1;32m    289\u001b[0m             \u001b[0;32mraise\u001b[0m \u001b[0mgooglemaps\u001b[0m\u001b[0;34m.\u001b[0m\u001b[0mexceptions\u001b[0m\u001b[0;34m.\u001b[0m\u001b[0mTimeout\u001b[0m\u001b[0;34m(\u001b[0m\u001b[0;34m)\u001b[0m\u001b[0;34m\u001b[0m\u001b[0;34m\u001b[0m\u001b[0m\n",
      "\u001b[0;32m/shared-libs/python3.7/py/lib/python3.7/site-packages/requests/sessions.py\u001b[0m in \u001b[0;36mget\u001b[0;34m(self, url, **kwargs)\u001b[0m\n\u001b[1;32m    553\u001b[0m \u001b[0;34m\u001b[0m\u001b[0m\n\u001b[1;32m    554\u001b[0m         \u001b[0mkwargs\u001b[0m\u001b[0;34m.\u001b[0m\u001b[0msetdefault\u001b[0m\u001b[0;34m(\u001b[0m\u001b[0;34m'allow_redirects'\u001b[0m\u001b[0;34m,\u001b[0m \u001b[0;32mTrue\u001b[0m\u001b[0;34m)\u001b[0m\u001b[0;34m\u001b[0m\u001b[0;34m\u001b[0m\u001b[0m\n\u001b[0;32m--> 555\u001b[0;31m         \u001b[0;32mreturn\u001b[0m \u001b[0mself\u001b[0m\u001b[0;34m.\u001b[0m\u001b[0mrequest\u001b[0m\u001b[0;34m(\u001b[0m\u001b[0;34m'GET'\u001b[0m\u001b[0;34m,\u001b[0m \u001b[0murl\u001b[0m\u001b[0;34m,\u001b[0m \u001b[0;34m**\u001b[0m\u001b[0mkwargs\u001b[0m\u001b[0;34m)\u001b[0m\u001b[0;34m\u001b[0m\u001b[0;34m\u001b[0m\u001b[0m\n\u001b[0m\u001b[1;32m    556\u001b[0m \u001b[0;34m\u001b[0m\u001b[0m\n\u001b[1;32m    557\u001b[0m     \u001b[0;32mdef\u001b[0m \u001b[0moptions\u001b[0m\u001b[0;34m(\u001b[0m\u001b[0mself\u001b[0m\u001b[0;34m,\u001b[0m \u001b[0murl\u001b[0m\u001b[0;34m,\u001b[0m \u001b[0;34m**\u001b[0m\u001b[0mkwargs\u001b[0m\u001b[0;34m)\u001b[0m\u001b[0;34m:\u001b[0m\u001b[0;34m\u001b[0m\u001b[0;34m\u001b[0m\u001b[0m\n",
      "\u001b[0;32m/shared-libs/python3.7/py/lib/python3.7/site-packages/requests/sessions.py\u001b[0m in \u001b[0;36mrequest\u001b[0;34m(self, method, url, params, data, headers, cookies, files, auth, timeout, allow_redirects, proxies, hooks, stream, verify, cert, json)\u001b[0m\n\u001b[1;32m    540\u001b[0m         }\n\u001b[1;32m    541\u001b[0m         \u001b[0msend_kwargs\u001b[0m\u001b[0;34m.\u001b[0m\u001b[0mupdate\u001b[0m\u001b[0;34m(\u001b[0m\u001b[0msettings\u001b[0m\u001b[0;34m)\u001b[0m\u001b[0;34m\u001b[0m\u001b[0;34m\u001b[0m\u001b[0m\n\u001b[0;32m--> 542\u001b[0;31m         \u001b[0mresp\u001b[0m \u001b[0;34m=\u001b[0m \u001b[0mself\u001b[0m\u001b[0;34m.\u001b[0m\u001b[0msend\u001b[0m\u001b[0;34m(\u001b[0m\u001b[0mprep\u001b[0m\u001b[0;34m,\u001b[0m \u001b[0;34m**\u001b[0m\u001b[0msend_kwargs\u001b[0m\u001b[0;34m)\u001b[0m\u001b[0;34m\u001b[0m\u001b[0;34m\u001b[0m\u001b[0m\n\u001b[0m\u001b[1;32m    543\u001b[0m \u001b[0;34m\u001b[0m\u001b[0m\n\u001b[1;32m    544\u001b[0m         \u001b[0;32mreturn\u001b[0m \u001b[0mresp\u001b[0m\u001b[0;34m\u001b[0m\u001b[0;34m\u001b[0m\u001b[0m\n",
      "\u001b[0;32m/shared-libs/python3.7/py/lib/python3.7/site-packages/requests/sessions.py\u001b[0m in \u001b[0;36msend\u001b[0;34m(self, request, **kwargs)\u001b[0m\n\u001b[1;32m    653\u001b[0m \u001b[0;34m\u001b[0m\u001b[0m\n\u001b[1;32m    654\u001b[0m         \u001b[0;31m# Send the request\u001b[0m\u001b[0;34m\u001b[0m\u001b[0;34m\u001b[0m\u001b[0;34m\u001b[0m\u001b[0m\n\u001b[0;32m--> 655\u001b[0;31m         \u001b[0mr\u001b[0m \u001b[0;34m=\u001b[0m \u001b[0madapter\u001b[0m\u001b[0;34m.\u001b[0m\u001b[0msend\u001b[0m\u001b[0;34m(\u001b[0m\u001b[0mrequest\u001b[0m\u001b[0;34m,\u001b[0m \u001b[0;34m**\u001b[0m\u001b[0mkwargs\u001b[0m\u001b[0;34m)\u001b[0m\u001b[0;34m\u001b[0m\u001b[0;34m\u001b[0m\u001b[0m\n\u001b[0m\u001b[1;32m    656\u001b[0m \u001b[0;34m\u001b[0m\u001b[0m\n\u001b[1;32m    657\u001b[0m         \u001b[0;31m# Total elapsed time of the request (approximately)\u001b[0m\u001b[0;34m\u001b[0m\u001b[0;34m\u001b[0m\u001b[0;34m\u001b[0m\u001b[0m\n",
      "\u001b[0;32m/shared-libs/python3.7/py/lib/python3.7/site-packages/requests/adapters.py\u001b[0m in \u001b[0;36msend\u001b[0;34m(self, request, stream, timeout, verify, cert, proxies)\u001b[0m\n\u001b[1;32m    447\u001b[0m                     \u001b[0mdecode_content\u001b[0m\u001b[0;34m=\u001b[0m\u001b[0;32mFalse\u001b[0m\u001b[0;34m,\u001b[0m\u001b[0;34m\u001b[0m\u001b[0;34m\u001b[0m\u001b[0m\n\u001b[1;32m    448\u001b[0m                     \u001b[0mretries\u001b[0m\u001b[0;34m=\u001b[0m\u001b[0mself\u001b[0m\u001b[0;34m.\u001b[0m\u001b[0mmax_retries\u001b[0m\u001b[0;34m,\u001b[0m\u001b[0;34m\u001b[0m\u001b[0;34m\u001b[0m\u001b[0m\n\u001b[0;32m--> 449\u001b[0;31m                     \u001b[0mtimeout\u001b[0m\u001b[0;34m=\u001b[0m\u001b[0mtimeout\u001b[0m\u001b[0;34m\u001b[0m\u001b[0;34m\u001b[0m\u001b[0m\n\u001b[0m\u001b[1;32m    450\u001b[0m                 )\n\u001b[1;32m    451\u001b[0m \u001b[0;34m\u001b[0m\u001b[0m\n",
      "\u001b[0;32m/shared-libs/python3.7/py/lib/python3.7/site-packages/urllib3/connectionpool.py\u001b[0m in \u001b[0;36murlopen\u001b[0;34m(self, method, url, body, headers, retries, redirect, assert_same_host, timeout, pool_timeout, release_conn, chunked, body_pos, **response_kw)\u001b[0m\n\u001b[1;32m    704\u001b[0m                 \u001b[0mbody\u001b[0m\u001b[0;34m=\u001b[0m\u001b[0mbody\u001b[0m\u001b[0;34m,\u001b[0m\u001b[0;34m\u001b[0m\u001b[0;34m\u001b[0m\u001b[0m\n\u001b[1;32m    705\u001b[0m                 \u001b[0mheaders\u001b[0m\u001b[0;34m=\u001b[0m\u001b[0mheaders\u001b[0m\u001b[0;34m,\u001b[0m\u001b[0;34m\u001b[0m\u001b[0;34m\u001b[0m\u001b[0m\n\u001b[0;32m--> 706\u001b[0;31m                 \u001b[0mchunked\u001b[0m\u001b[0;34m=\u001b[0m\u001b[0mchunked\u001b[0m\u001b[0;34m,\u001b[0m\u001b[0;34m\u001b[0m\u001b[0;34m\u001b[0m\u001b[0m\n\u001b[0m\u001b[1;32m    707\u001b[0m             )\n\u001b[1;32m    708\u001b[0m \u001b[0;34m\u001b[0m\u001b[0m\n",
      "\u001b[0;32m/shared-libs/python3.7/py/lib/python3.7/site-packages/urllib3/connectionpool.py\u001b[0m in \u001b[0;36m_make_request\u001b[0;34m(self, conn, method, url, timeout, chunked, **httplib_request_kw)\u001b[0m\n\u001b[1;32m    443\u001b[0m                     \u001b[0;31m# Python 3 (including for exceptions like SystemExit).\u001b[0m\u001b[0;34m\u001b[0m\u001b[0;34m\u001b[0m\u001b[0;34m\u001b[0m\u001b[0m\n\u001b[1;32m    444\u001b[0m                     \u001b[0;31m# Otherwise it looks like a bug in the code.\u001b[0m\u001b[0;34m\u001b[0m\u001b[0;34m\u001b[0m\u001b[0;34m\u001b[0m\u001b[0m\n\u001b[0;32m--> 445\u001b[0;31m                     \u001b[0msix\u001b[0m\u001b[0;34m.\u001b[0m\u001b[0mraise_from\u001b[0m\u001b[0;34m(\u001b[0m\u001b[0me\u001b[0m\u001b[0;34m,\u001b[0m \u001b[0;32mNone\u001b[0m\u001b[0;34m)\u001b[0m\u001b[0;34m\u001b[0m\u001b[0;34m\u001b[0m\u001b[0m\n\u001b[0m\u001b[1;32m    446\u001b[0m         \u001b[0;32mexcept\u001b[0m \u001b[0;34m(\u001b[0m\u001b[0mSocketTimeout\u001b[0m\u001b[0;34m,\u001b[0m \u001b[0mBaseSSLError\u001b[0m\u001b[0;34m,\u001b[0m \u001b[0mSocketError\u001b[0m\u001b[0;34m)\u001b[0m \u001b[0;32mas\u001b[0m \u001b[0me\u001b[0m\u001b[0;34m:\u001b[0m\u001b[0;34m\u001b[0m\u001b[0;34m\u001b[0m\u001b[0m\n\u001b[1;32m    447\u001b[0m             \u001b[0mself\u001b[0m\u001b[0;34m.\u001b[0m\u001b[0m_raise_timeout\u001b[0m\u001b[0;34m(\u001b[0m\u001b[0merr\u001b[0m\u001b[0;34m=\u001b[0m\u001b[0me\u001b[0m\u001b[0;34m,\u001b[0m \u001b[0murl\u001b[0m\u001b[0;34m=\u001b[0m\u001b[0murl\u001b[0m\u001b[0;34m,\u001b[0m \u001b[0mtimeout_value\u001b[0m\u001b[0;34m=\u001b[0m\u001b[0mread_timeout\u001b[0m\u001b[0;34m)\u001b[0m\u001b[0;34m\u001b[0m\u001b[0;34m\u001b[0m\u001b[0m\n",
      "\u001b[0;32m/shared-libs/python3.7/py/lib/python3.7/site-packages/urllib3/packages/six.py\u001b[0m in \u001b[0;36mraise_from\u001b[0;34m(value, from_value)\u001b[0m\n",
      "\u001b[0;32m/shared-libs/python3.7/py/lib/python3.7/site-packages/urllib3/connectionpool.py\u001b[0m in \u001b[0;36m_make_request\u001b[0;34m(self, conn, method, url, timeout, chunked, **httplib_request_kw)\u001b[0m\n\u001b[1;32m    438\u001b[0m                 \u001b[0;31m# Python 3\u001b[0m\u001b[0;34m\u001b[0m\u001b[0;34m\u001b[0m\u001b[0;34m\u001b[0m\u001b[0m\n\u001b[1;32m    439\u001b[0m                 \u001b[0;32mtry\u001b[0m\u001b[0;34m:\u001b[0m\u001b[0;34m\u001b[0m\u001b[0;34m\u001b[0m\u001b[0m\n\u001b[0;32m--> 440\u001b[0;31m                     \u001b[0mhttplib_response\u001b[0m \u001b[0;34m=\u001b[0m \u001b[0mconn\u001b[0m\u001b[0;34m.\u001b[0m\u001b[0mgetresponse\u001b[0m\u001b[0;34m(\u001b[0m\u001b[0;34m)\u001b[0m\u001b[0;34m\u001b[0m\u001b[0;34m\u001b[0m\u001b[0m\n\u001b[0m\u001b[1;32m    441\u001b[0m                 \u001b[0;32mexcept\u001b[0m \u001b[0mBaseException\u001b[0m \u001b[0;32mas\u001b[0m \u001b[0me\u001b[0m\u001b[0;34m:\u001b[0m\u001b[0;34m\u001b[0m\u001b[0;34m\u001b[0m\u001b[0m\n\u001b[1;32m    442\u001b[0m                     \u001b[0;31m# Remove the TypeError from the exception chain in\u001b[0m\u001b[0;34m\u001b[0m\u001b[0;34m\u001b[0m\u001b[0;34m\u001b[0m\u001b[0m\n",
      "\u001b[0;32m/usr/local/lib/python3.7/http/client.py\u001b[0m in \u001b[0;36mgetresponse\u001b[0;34m(self)\u001b[0m\n\u001b[1;32m   1371\u001b[0m         \u001b[0;32mtry\u001b[0m\u001b[0;34m:\u001b[0m\u001b[0;34m\u001b[0m\u001b[0;34m\u001b[0m\u001b[0m\n\u001b[1;32m   1372\u001b[0m             \u001b[0;32mtry\u001b[0m\u001b[0;34m:\u001b[0m\u001b[0;34m\u001b[0m\u001b[0;34m\u001b[0m\u001b[0m\n\u001b[0;32m-> 1373\u001b[0;31m                 \u001b[0mresponse\u001b[0m\u001b[0;34m.\u001b[0m\u001b[0mbegin\u001b[0m\u001b[0;34m(\u001b[0m\u001b[0;34m)\u001b[0m\u001b[0;34m\u001b[0m\u001b[0;34m\u001b[0m\u001b[0m\n\u001b[0m\u001b[1;32m   1374\u001b[0m             \u001b[0;32mexcept\u001b[0m \u001b[0mConnectionError\u001b[0m\u001b[0;34m:\u001b[0m\u001b[0;34m\u001b[0m\u001b[0;34m\u001b[0m\u001b[0m\n\u001b[1;32m   1375\u001b[0m                 \u001b[0mself\u001b[0m\u001b[0;34m.\u001b[0m\u001b[0mclose\u001b[0m\u001b[0;34m(\u001b[0m\u001b[0;34m)\u001b[0m\u001b[0;34m\u001b[0m\u001b[0;34m\u001b[0m\u001b[0m\n",
      "\u001b[0;32m/usr/local/lib/python3.7/http/client.py\u001b[0m in \u001b[0;36mbegin\u001b[0;34m(self)\u001b[0m\n\u001b[1;32m    317\u001b[0m         \u001b[0;31m# read until we get a non-100 response\u001b[0m\u001b[0;34m\u001b[0m\u001b[0;34m\u001b[0m\u001b[0;34m\u001b[0m\u001b[0m\n\u001b[1;32m    318\u001b[0m         \u001b[0;32mwhile\u001b[0m \u001b[0;32mTrue\u001b[0m\u001b[0;34m:\u001b[0m\u001b[0;34m\u001b[0m\u001b[0;34m\u001b[0m\u001b[0m\n\u001b[0;32m--> 319\u001b[0;31m             \u001b[0mversion\u001b[0m\u001b[0;34m,\u001b[0m \u001b[0mstatus\u001b[0m\u001b[0;34m,\u001b[0m \u001b[0mreason\u001b[0m \u001b[0;34m=\u001b[0m \u001b[0mself\u001b[0m\u001b[0;34m.\u001b[0m\u001b[0m_read_status\u001b[0m\u001b[0;34m(\u001b[0m\u001b[0;34m)\u001b[0m\u001b[0;34m\u001b[0m\u001b[0;34m\u001b[0m\u001b[0m\n\u001b[0m\u001b[1;32m    320\u001b[0m             \u001b[0;32mif\u001b[0m \u001b[0mstatus\u001b[0m \u001b[0;34m!=\u001b[0m \u001b[0mCONTINUE\u001b[0m\u001b[0;34m:\u001b[0m\u001b[0;34m\u001b[0m\u001b[0;34m\u001b[0m\u001b[0m\n\u001b[1;32m    321\u001b[0m                 \u001b[0;32mbreak\u001b[0m\u001b[0;34m\u001b[0m\u001b[0;34m\u001b[0m\u001b[0m\n",
      "\u001b[0;32m/usr/local/lib/python3.7/http/client.py\u001b[0m in \u001b[0;36m_read_status\u001b[0;34m(self)\u001b[0m\n\u001b[1;32m    278\u001b[0m \u001b[0;34m\u001b[0m\u001b[0m\n\u001b[1;32m    279\u001b[0m     \u001b[0;32mdef\u001b[0m \u001b[0m_read_status\u001b[0m\u001b[0;34m(\u001b[0m\u001b[0mself\u001b[0m\u001b[0;34m)\u001b[0m\u001b[0;34m:\u001b[0m\u001b[0;34m\u001b[0m\u001b[0;34m\u001b[0m\u001b[0m\n\u001b[0;32m--> 280\u001b[0;31m         \u001b[0mline\u001b[0m \u001b[0;34m=\u001b[0m \u001b[0mstr\u001b[0m\u001b[0;34m(\u001b[0m\u001b[0mself\u001b[0m\u001b[0;34m.\u001b[0m\u001b[0mfp\u001b[0m\u001b[0;34m.\u001b[0m\u001b[0mreadline\u001b[0m\u001b[0;34m(\u001b[0m\u001b[0m_MAXLINE\u001b[0m \u001b[0;34m+\u001b[0m \u001b[0;36m1\u001b[0m\u001b[0;34m)\u001b[0m\u001b[0;34m,\u001b[0m \u001b[0;34m\"iso-8859-1\"\u001b[0m\u001b[0;34m)\u001b[0m\u001b[0;34m\u001b[0m\u001b[0;34m\u001b[0m\u001b[0m\n\u001b[0m\u001b[1;32m    281\u001b[0m         \u001b[0;32mif\u001b[0m \u001b[0mlen\u001b[0m\u001b[0;34m(\u001b[0m\u001b[0mline\u001b[0m\u001b[0;34m)\u001b[0m \u001b[0;34m>\u001b[0m \u001b[0m_MAXLINE\u001b[0m\u001b[0;34m:\u001b[0m\u001b[0;34m\u001b[0m\u001b[0;34m\u001b[0m\u001b[0m\n\u001b[1;32m    282\u001b[0m             \u001b[0;32mraise\u001b[0m \u001b[0mLineTooLong\u001b[0m\u001b[0;34m(\u001b[0m\u001b[0;34m\"status line\"\u001b[0m\u001b[0;34m)\u001b[0m\u001b[0;34m\u001b[0m\u001b[0;34m\u001b[0m\u001b[0m\n",
      "\u001b[0;32m/usr/local/lib/python3.7/socket.py\u001b[0m in \u001b[0;36mreadinto\u001b[0;34m(self, b)\u001b[0m\n\u001b[1;32m    587\u001b[0m         \u001b[0;32mwhile\u001b[0m \u001b[0;32mTrue\u001b[0m\u001b[0;34m:\u001b[0m\u001b[0;34m\u001b[0m\u001b[0;34m\u001b[0m\u001b[0m\n\u001b[1;32m    588\u001b[0m             \u001b[0;32mtry\u001b[0m\u001b[0;34m:\u001b[0m\u001b[0;34m\u001b[0m\u001b[0;34m\u001b[0m\u001b[0m\n\u001b[0;32m--> 589\u001b[0;31m                 \u001b[0;32mreturn\u001b[0m \u001b[0mself\u001b[0m\u001b[0;34m.\u001b[0m\u001b[0m_sock\u001b[0m\u001b[0;34m.\u001b[0m\u001b[0mrecv_into\u001b[0m\u001b[0;34m(\u001b[0m\u001b[0mb\u001b[0m\u001b[0;34m)\u001b[0m\u001b[0;34m\u001b[0m\u001b[0;34m\u001b[0m\u001b[0m\n\u001b[0m\u001b[1;32m    590\u001b[0m             \u001b[0;32mexcept\u001b[0m \u001b[0mtimeout\u001b[0m\u001b[0;34m:\u001b[0m\u001b[0;34m\u001b[0m\u001b[0;34m\u001b[0m\u001b[0m\n\u001b[1;32m    591\u001b[0m                 \u001b[0mself\u001b[0m\u001b[0;34m.\u001b[0m\u001b[0m_timeout_occurred\u001b[0m \u001b[0;34m=\u001b[0m \u001b[0;32mTrue\u001b[0m\u001b[0;34m\u001b[0m\u001b[0;34m\u001b[0m\u001b[0m\n",
      "\u001b[0;32m/usr/local/lib/python3.7/ssl.py\u001b[0m in \u001b[0;36mrecv_into\u001b[0;34m(self, buffer, nbytes, flags)\u001b[0m\n\u001b[1;32m   1069\u001b[0m                   \u001b[0;34m\"non-zero flags not allowed in calls to recv_into() on %s\"\u001b[0m \u001b[0;34m%\u001b[0m\u001b[0;34m\u001b[0m\u001b[0;34m\u001b[0m\u001b[0m\n\u001b[1;32m   1070\u001b[0m                   self.__class__)\n\u001b[0;32m-> 1071\u001b[0;31m             \u001b[0;32mreturn\u001b[0m \u001b[0mself\u001b[0m\u001b[0;34m.\u001b[0m\u001b[0mread\u001b[0m\u001b[0;34m(\u001b[0m\u001b[0mnbytes\u001b[0m\u001b[0;34m,\u001b[0m \u001b[0mbuffer\u001b[0m\u001b[0;34m)\u001b[0m\u001b[0;34m\u001b[0m\u001b[0;34m\u001b[0m\u001b[0m\n\u001b[0m\u001b[1;32m   1072\u001b[0m         \u001b[0;32melse\u001b[0m\u001b[0;34m:\u001b[0m\u001b[0;34m\u001b[0m\u001b[0;34m\u001b[0m\u001b[0m\n\u001b[1;32m   1073\u001b[0m             \u001b[0;32mreturn\u001b[0m \u001b[0msuper\u001b[0m\u001b[0;34m(\u001b[0m\u001b[0;34m)\u001b[0m\u001b[0;34m.\u001b[0m\u001b[0mrecv_into\u001b[0m\u001b[0;34m(\u001b[0m\u001b[0mbuffer\u001b[0m\u001b[0;34m,\u001b[0m \u001b[0mnbytes\u001b[0m\u001b[0;34m,\u001b[0m \u001b[0mflags\u001b[0m\u001b[0;34m)\u001b[0m\u001b[0;34m\u001b[0m\u001b[0;34m\u001b[0m\u001b[0m\n",
      "\u001b[0;32m/usr/local/lib/python3.7/ssl.py\u001b[0m in \u001b[0;36mread\u001b[0;34m(self, len, buffer)\u001b[0m\n\u001b[1;32m    927\u001b[0m         \u001b[0;32mtry\u001b[0m\u001b[0;34m:\u001b[0m\u001b[0;34m\u001b[0m\u001b[0;34m\u001b[0m\u001b[0m\n\u001b[1;32m    928\u001b[0m             \u001b[0;32mif\u001b[0m \u001b[0mbuffer\u001b[0m \u001b[0;32mis\u001b[0m \u001b[0;32mnot\u001b[0m \u001b[0;32mNone\u001b[0m\u001b[0;34m:\u001b[0m\u001b[0;34m\u001b[0m\u001b[0;34m\u001b[0m\u001b[0m\n\u001b[0;32m--> 929\u001b[0;31m                 \u001b[0;32mreturn\u001b[0m \u001b[0mself\u001b[0m\u001b[0;34m.\u001b[0m\u001b[0m_sslobj\u001b[0m\u001b[0;34m.\u001b[0m\u001b[0mread\u001b[0m\u001b[0;34m(\u001b[0m\u001b[0mlen\u001b[0m\u001b[0;34m,\u001b[0m \u001b[0mbuffer\u001b[0m\u001b[0;34m)\u001b[0m\u001b[0;34m\u001b[0m\u001b[0;34m\u001b[0m\u001b[0m\n\u001b[0m\u001b[1;32m    930\u001b[0m             \u001b[0;32melse\u001b[0m\u001b[0;34m:\u001b[0m\u001b[0;34m\u001b[0m\u001b[0;34m\u001b[0m\u001b[0m\n\u001b[1;32m    931\u001b[0m                 \u001b[0;32mreturn\u001b[0m \u001b[0mself\u001b[0m\u001b[0;34m.\u001b[0m\u001b[0m_sslobj\u001b[0m\u001b[0;34m.\u001b[0m\u001b[0mread\u001b[0m\u001b[0;34m(\u001b[0m\u001b[0mlen\u001b[0m\u001b[0;34m)\u001b[0m\u001b[0;34m\u001b[0m\u001b[0;34m\u001b[0m\u001b[0m\n",
      "\u001b[0;31mKeyboardInterrupt\u001b[0m: "
     ]
    }
   ],
   "execution_count": null
  },
  {
   "cell_type": "markdown",
   "source": "## Particionado (Chunking) del dataframe para las consultas con API Gmaps",
   "metadata": {
    "tags": [],
    "is_collapsed": false,
    "cell_id": "00017-822df168-2772-4fa9-ac43-feaf1d1c6a0a",
    "deepnote_cell_type": "text-cell-h2"
   }
  },
  {
   "cell_type": "markdown",
   "source": "💥Intentando hacer el geocoding al DataSet completo Deepnote se quedó sin memoria y reseteó el kernel, probaré separando por lotes el dataset total para evitar este inconveniente.",
   "metadata": {
    "tags": [],
    "cell_id": "00024-343c5c31-3f6b-4117-8a38-98365197db1c",
    "deepnote_cell_type": "markdown"
   }
  },
  {
   "cell_type": "code",
   "metadata": {
    "tags": [],
    "cell_id": "00025-79d5e4a0-b7eb-46de-83b2-45ce66912b1e",
    "deepnote_to_be_reexecuted": false,
    "source_hash": "ee8a2c38",
    "execution_start": 1626912980248,
    "execution_millis": 10,
    "deepnote_cell_type": "code"
   },
   "source": "n = round(len(hurtos)/5) #tamaño de cada chunk a partir de la cantidad de registros en el df\nhurtos1 = hurtos[0*1:n*1]\nhurtos2 = hurtos[n*1:n*2].reset_index()\nhurtos3 = hurtos[n*2:n*3].reset_index()\nhurtos4 = hurtos[n*3:n*4].reset_index()\nhurtos5 = hurtos[n*4:n*5].reset_index()",
   "outputs": [],
   "execution_count": null
  },
  {
   "cell_type": "code",
   "metadata": {
    "tags": [],
    "cell_id": "00026-2dec72cf-7ad8-4bcf-a52c-11e421730c1f",
    "deepnote_to_be_reexecuted": false,
    "source_hash": "b062448f",
    "execution_start": 1626912983212,
    "execution_millis": 16,
    "deepnote_cell_type": "code"
   },
   "source": "#validamos no tener perdida de registros\nprint(\"Cantidad de registros en lotes:\",len(hurtos1)+len(hurtos2)+len(hurtos3)+len(hurtos4)+len(hurtos5),\"\\nCantidad de registros totales :\",len(hurtos))",
   "outputs": [
    {
     "name": "stdout",
     "text": "Cantidad de registros en lotes: 5844 \nCantidad de registros totales : 5844\n",
     "output_type": "stream"
    }
   ],
   "execution_count": null
  },
  {
   "cell_type": "code",
   "metadata": {
    "tags": [],
    "cell_id": "00027-13c9f5b6-f61e-4b84-9b10-860b82f43da9",
    "deepnote_to_be_reexecuted": false,
    "source_hash": "d571a235",
    "execution_start": 1626401524562,
    "execution_millis": 3,
    "deepnote_cell_type": "code"
   },
   "source": "#NO EJECUTAR, YA TENEMOS ALMACENADOS ESTOS DATOS\n#consulta y extracción de direcciones geocodificadas\nconsulta5 = []\nfor index,row in hurtos5.iterrows():\n    consulta5.append(str(gmaps.geocode(str(row['direccion']))))",
   "outputs": [],
   "execution_count": null
  },
  {
   "cell_type": "markdown",
   "source": "## Guardamos en csv",
   "metadata": {
    "tags": [],
    "is_collapsed": false,
    "cell_id": "00028-4f54dfeb-3252-4d57-8815-c2ab72f8bf0d",
    "deepnote_cell_type": "text-cell-h2"
   }
  },
  {
   "cell_type": "code",
   "metadata": {
    "tags": [],
    "cell_id": "00029-74520e85-e692-4f27-bb29-dd2142376f05",
    "deepnote_to_be_reexecuted": false,
    "source_hash": "d6931cf5",
    "execution_start": 1626451438890,
    "execution_millis": 46,
    "deepnote_cell_type": "code"
   },
   "source": "#NO EJECUTAR, YA TENEMOS ESTOS DATOS\n#se realiza la partición en 5 subsets para traer todos los datos de la api de google maps\nconvertidos = pd.DataFrame(consulta5)\nconvertidos.to_csv('Processed_data/convertido5.csv', index = False)",
   "outputs": [
    {
     "output_type": "error",
     "ename": "NameError",
     "evalue": "name 'consulta5' is not defined",
     "traceback": [
      "\u001b[0;31m---------------------------------------------------------------------------\u001b[0m",
      "\u001b[0;31mNameError\u001b[0m                                 Traceback (most recent call last)",
      "\u001b[0;32m/tmp/ipykernel_73/3073808797.py\u001b[0m in \u001b[0;36m<module>\u001b[0;34m\u001b[0m\n\u001b[1;32m      1\u001b[0m \u001b[0;31m#NO EJECUTAR, YA TENEMOS ESTOS DATOS\u001b[0m\u001b[0;34m\u001b[0m\u001b[0;34m\u001b[0m\u001b[0;34m\u001b[0m\u001b[0m\n\u001b[0;32m----> 2\u001b[0;31m \u001b[0mconvertidos\u001b[0m \u001b[0;34m=\u001b[0m \u001b[0mpd\u001b[0m\u001b[0;34m.\u001b[0m\u001b[0mDataFrame\u001b[0m\u001b[0;34m(\u001b[0m\u001b[0mconsulta5\u001b[0m\u001b[0;34m)\u001b[0m\u001b[0;34m\u001b[0m\u001b[0;34m\u001b[0m\u001b[0m\n\u001b[0m\u001b[1;32m      3\u001b[0m \u001b[0mconvertidos\u001b[0m\u001b[0;34m.\u001b[0m\u001b[0mto_csv\u001b[0m \u001b[0;34m(\u001b[0m\u001b[0;34m'convertido5.csv'\u001b[0m\u001b[0;34m,\u001b[0m \u001b[0mindex\u001b[0m \u001b[0;34m=\u001b[0m \u001b[0;32mFalse\u001b[0m\u001b[0;34m)\u001b[0m\u001b[0;34m\u001b[0m\u001b[0;34m\u001b[0m\u001b[0m\n",
      "\u001b[0;31mNameError\u001b[0m: name 'consulta5' is not defined"
     ]
    }
   ],
   "execution_count": null
  },
  {
   "cell_type": "markdown",
   "source": "## Traslado de los csv al Dataframe",
   "metadata": {
    "tags": [],
    "is_collapsed": false,
    "cell_id": "00030-718805e1-5428-409d-aa2f-827f49a3f9ec",
    "deepnote_cell_type": "text-cell-h2"
   }
  },
  {
   "cell_type": "code",
   "metadata": {
    "tags": [],
    "cell_id": "00029-4d0ee8ab-417c-40d3-b1fa-4521921971ef",
    "deepnote_to_be_reexecuted": false,
    "source_hash": "83b130ba",
    "execution_start": 1626912994249,
    "execution_millis": 125,
    "deepnote_cell_type": "code"
   },
   "source": "#primero los llamamos como dataframes\nconsulta1 = pd.read_csv(\"Processed_data/convertido1.csv\", sep = ';')\nconsulta2 = pd.read_csv(\"Processed_data/convertido2.csv\", sep = ';')\nconsulta3 = pd.read_csv(\"Processed_data/convertido3.csv\", sep = ';')\nconsulta4 = pd.read_csv(\"Processed_data/convertido4.csv\", sep = ';')\nconsulta5 = pd.read_csv(\"Processed_data/convertido5.csv\", sep = ';')",
   "outputs": [],
   "execution_count": null
  },
  {
   "cell_type": "markdown",
   "source": "## Extraemos resultados vacíos",
   "metadata": {
    "tags": [],
    "is_collapsed": false,
    "cell_id": "00032-dc490c17-37ce-41e6-8c1e-2c4ef948574b",
    "deepnote_cell_type": "text-cell-h2"
   }
  },
  {
   "cell_type": "code",
   "metadata": {
    "tags": [],
    "cell_id": "00032-30521ef0-f8bb-4714-894f-c353b06c33f2",
    "deepnote_to_be_reexecuted": false,
    "source_hash": "5b8fc9df",
    "execution_start": 1626912996463,
    "execution_millis": 44,
    "deepnote_cell_type": "code"
   },
   "source": "#crea una columna llamada vacíos, si el valor en dicha columna es 0,\n#significa que encontró el registro vacío, de lo contrario dará -1\n\n#dataframes generales\nhurtos1['vacios'] = consulta1['0'].str.find('[]')\nhurtos2['vacios'] = consulta2['0'].str.find('[]')\nhurtos3['vacios'] = consulta3['0'].str.find('[]')\nhurtos4['vacios'] = consulta4['0'].str.find('[]')\nhurtos5['vacios'] = consulta5['0'].str.find('[]')\n\n#coordenadas\nconsulta1['vacios'] = consulta1['0'].str.find('[]')\nconsulta2['vacios'] = consulta2['0'].str.find('[]')\nconsulta3['vacios'] = consulta3['0'].str.find('[]')\nconsulta4['vacios'] = consulta4['0'].str.find('[]')\nconsulta5['vacios'] = consulta5['0'].str.find('[]')",
   "outputs": [
    {
     "name": "stderr",
     "text": "/shared-libs/python3.7/py-core/lib/python3.7/site-packages/ipykernel_launcher.py:5: SettingWithCopyWarning: \nA value is trying to be set on a copy of a slice from a DataFrame.\nTry using .loc[row_indexer,col_indexer] = value instead\n\nSee the caveats in the documentation: https://pandas.pydata.org/pandas-docs/stable/user_guide/indexing.html#returning-a-view-versus-a-copy\n  \"\"\"\n",
     "output_type": "stream"
    }
   ],
   "execution_count": null
  },
  {
   "cell_type": "code",
   "metadata": {
    "tags": [],
    "cell_id": "00027-2621b436-032c-43d4-9e25-31a134af1dcd",
    "deepnote_to_be_reexecuted": false,
    "source_hash": "39dc4f9d",
    "execution_start": 1626913002686,
    "execution_millis": 23,
    "deepnote_cell_type": "code"
   },
   "source": "print(\"chunk 1:\",len(hurtos1),len(consulta1),\n      \"\\nchunk 2:\",len(hurtos2),len(consulta2),\n      \"\\nchunk 3:\",len(hurtos3),len(consulta3),\n      \"\\nchunk 4:\",len(hurtos4),len(consulta4),\n      \"\\nchunk 5:\",len(hurtos5),len(consulta5))",
   "outputs": [
    {
     "name": "stdout",
     "text": "chunk 1: 1169 1169 \nchunk 2: 1169 1169 \nchunk 3: 1169 1169 \nchunk 4: 1169 1169 \nchunk 5: 1168 1168\n",
     "output_type": "stream"
    }
   ],
   "execution_count": null
  },
  {
   "cell_type": "code",
   "metadata": {
    "tags": [],
    "cell_id": "00036-055fdefc-34c6-42d8-9638-cb1f312ccc4d",
    "deepnote_to_be_reexecuted": false,
    "source_hash": "cc9825df",
    "execution_start": 1626913006910,
    "execution_millis": 0,
    "deepnote_cell_type": "code"
   },
   "source": "#guardamos dataframe con errores \nerrores_hurtos1 = hurtos1[hurtos1['vacios'] == 0] # 1 dirección no encontrada\nerrores_hurtos2 = hurtos2[hurtos2['vacios'] == 0] # sin errores\nerrores_hurtos3 = hurtos3[hurtos3['vacios'] == 0] # sin errores\nerrores_hurtos4 = hurtos4[hurtos4['vacios'] == 0] # sin errores\nerrores_hurtos5 = hurtos5[hurtos5['vacios'] == 0] # sin errores\n\nerrores_consulta1 = consulta1[consulta1['vacios'] == 0] # 1 dirección no encontrada\nerrores_consulta2 = consulta2[consulta2['vacios'] == 0] # sin errores\nerrores_consulta3 = consulta3[consulta3['vacios'] == 0] # sin errores\nerrores_consulta4 = consulta4[consulta4['vacios'] == 0] # sin errores\nerrores_consulta5 = consulta5[consulta5['vacios'] == 0] # sin errores\n\n#dataframes generales sin errores\nhurtos1  = hurtos1[hurtos1['vacios'] != 0]\nhurtos2  = hurtos2[hurtos2['vacios'] != 0]\nhurtos3  = hurtos3[hurtos3['vacios'] != 0]\nhurtos4  = hurtos4[hurtos4['vacios'] != 0]\nhurtos5  = hurtos5[hurtos5['vacios'] != 0]\n\n#coordenadas sin errores\nconsulta1 = consulta1[consulta1['vacios'] != 0]\nconsulta2 = consulta2[consulta2['vacios'] != 0]\nconsulta3 = consulta3[consulta3['vacios'] != 0]\nconsulta4 = consulta4[consulta4['vacios'] != 0]\nconsulta5 = consulta5[consulta5['vacios'] != 0]",
   "outputs": [],
   "execution_count": null
  },
  {
   "cell_type": "code",
   "metadata": {
    "tags": [],
    "cell_id": "00028-be3c1b05-ef9d-4487-ab7d-2e3225473c85",
    "deepnote_to_be_reexecuted": false,
    "source_hash": "127776b7",
    "execution_start": 1626913007740,
    "execution_millis": 20,
    "deepnote_cell_type": "code"
   },
   "source": "print(\"chunk 1:\",len(hurtos1),len(consulta1)  ,\"Errores encontrados:\",len(errores_consulta1),\n      \"\\nchunk 2:\",len(hurtos2),len(consulta2),\"Errores encontrados:\",len(errores_consulta2),\n      \"\\nchunk 3:\",len(hurtos3),len(consulta3),\"Errores encontrados:\",len(errores_consulta3),\n      \"\\nchunk 4:\",len(hurtos4),len(consulta4),\"Errores encontrados:\",len(errores_consulta4),\n      \"\\nchunk 5:\",len(hurtos5),len(consulta5),\"Errores encontrados:\",len(errores_consulta5))",
   "outputs": [
    {
     "name": "stdout",
     "text": "chunk 1: 1168 1168 Errores encontrados: 1 \nchunk 2: 1162 1162 Errores encontrados: 7 \nchunk 3: 1163 1163 Errores encontrados: 6 \nchunk 4: 1154 1154 Errores encontrados: 15 \nchunk 5: 1164 1164 Errores encontrados: 4\n",
     "output_type": "stream"
    }
   ],
   "execution_count": null
  },
  {
   "cell_type": "code",
   "metadata": {
    "tags": [],
    "cell_id": "00032-1e38cfb2-8fff-4e99-a010-e90a7a3e8854",
    "deepnote_to_be_reexecuted": false,
    "source_hash": "fa5fdd61",
    "execution_start": 1626913008119,
    "execution_millis": 3,
    "deepnote_cell_type": "code"
   },
   "source": "def extract_lat(consulta):\n    lat_regex = r\"'location': {'lat':\\s+(.*?),\\s+'lng'\"\n    latitudes = []\n    \n    for i in consulta['0']:\n        latitudes.append(float(re.search(lat_regex,i).group(1)))\n    return latitudes\n\ndef extract_lon(consulta):\n    lon_regex = r\"'location': {'lat':\\s+\\d+.\\d+,\\s+'lng': (.*?)}\"\n    longitudes = []\n\n    for i in consulta['0']:\n        longitudes.append(float(re.search(lon_regex,i).group(1)))\n    return longitudes",
   "outputs": [],
   "execution_count": null
  },
  {
   "cell_type": "code",
   "metadata": {
    "tags": [],
    "cell_id": "00037-e66831da-6589-4449-bd37-a26acafd8b47",
    "deepnote_to_be_reexecuted": false,
    "source_hash": "b4786891",
    "execution_start": 1626913011292,
    "execution_millis": 25,
    "deepnote_cell_type": "code"
   },
   "source": "hurtos1['latitudes'] = extract_lat(consulta1)\nhurtos2['latitudes'] = extract_lat(consulta2)\nhurtos3['latitudes'] = extract_lat(consulta3)\nhurtos4['latitudes'] = extract_lat(consulta4)\nhurtos5['latitudes'] = extract_lat(consulta5)",
   "outputs": [],
   "execution_count": null
  },
  {
   "cell_type": "code",
   "metadata": {
    "tags": [],
    "cell_id": "00030-6a5c287b-233a-478c-8554-7ffdd731ecd8",
    "deepnote_to_be_reexecuted": false,
    "source_hash": "c35f8c3c",
    "execution_start": 1626913011529,
    "execution_millis": 33,
    "deepnote_cell_type": "code"
   },
   "source": "hurtos1['longitudes'] = extract_lon(consulta1)\nhurtos2['longitudes'] = extract_lon(consulta2)\nhurtos3['longitudes'] = extract_lon(consulta3)\nhurtos4['longitudes'] = extract_lon(consulta4)\nhurtos5['longitudes'] = extract_lon(consulta5)",
   "outputs": [],
   "execution_count": null
  },
  {
   "cell_type": "code",
   "metadata": {
    "tags": [],
    "cell_id": "00034-eae926ae-0ed3-46d1-91de-f54d1e595205",
    "deepnote_to_be_reexecuted": false,
    "source_hash": "8eccd905",
    "execution_start": 1626913013339,
    "execution_millis": 71,
    "deepnote_cell_type": "code"
   },
   "source": "hurtos1",
   "outputs": [
    {
     "output_type": "execute_result",
     "execution_count": 19,
     "data": {
      "application/vnd.deepnote.dataframe.v2+json": {
       "row_count": 1168,
       "column_count": 6,
       "columns": [
        {
         "name": "fecha",
         "dtype": "datetime64[ns]",
         "stats": {
          "unique_count": 1006,
          "nan_count": 0,
          "min": "2009-01-01 00:00:00",
          "max": "2009-09-23 12:00:00",
          "histogram": [
           {
            "bin_start": 1230768000000000000,
            "bin_end": 1233061920000000000,
            "count": 99
           },
           {
            "bin_start": 1233061920000000000,
            "bin_end": 1235355840000000000,
            "count": 153
           },
           {
            "bin_start": 1235355840000000000,
            "bin_end": 1237649760000000000,
            "count": 133
           },
           {
            "bin_start": 1237649760000000000,
            "bin_end": 1239943680000000000,
            "count": 138
           },
           {
            "bin_start": 1239943680000000000,
            "bin_end": 1242237600000000000,
            "count": 129
           },
           {
            "bin_start": 1242237600000000000,
            "bin_end": 1244531520000000000,
            "count": 154
           },
           {
            "bin_start": 1244531520000000000,
            "bin_end": 1246825440000000000,
            "count": 102
           },
           {
            "bin_start": 1246825440000000000,
            "bin_end": 1249119360000000000,
            "count": 90
           },
           {
            "bin_start": 1249119360000000000,
            "bin_end": 1251413280000000000,
            "count": 101
           },
           {
            "bin_start": 1251413280000000000,
            "bin_end": 1253707200000000000,
            "count": 69
           }
          ]
         }
        },
        {
         "name": "direccion",
         "dtype": "object",
         "stats": {
          "unique_count": 836,
          "nan_count": 0,
          "categories": [
           {
            "name": "CL42 #28-2, Palmira - Valle del Cauca, Colombia",
            "count": 15
           },
           {
            "name": "CL43 #28-2, Palmira - Valle del Cauca, Colombia",
            "count": 10
           },
           {
            "name": "834 others",
            "count": 1143
           }
          ]
         }
        },
        {
         "name": "categoria",
         "dtype": "category",
         "stats": {
          "unique_count": 3,
          "nan_count": 0,
          "categories": [
           {
            "name": "HURTOPERSONAS",
            "count": 989
           },
           {
            "name": "HURTORESIDENCIAS",
            "count": 127
           },
           {
            "name": "HURTOACOMERCIO",
            "count": 52
           }
          ]
         }
        },
        {
         "name": "vacios",
         "dtype": "int64",
         "stats": {
          "unique_count": 1,
          "nan_count": 0,
          "min": "-1",
          "max": "-1",
          "histogram": [
           {
            "bin_start": -1.5,
            "bin_end": -1.4,
            "count": 0
           },
           {
            "bin_start": -1.4,
            "bin_end": -1.3,
            "count": 0
           },
           {
            "bin_start": -1.3,
            "bin_end": -1.2,
            "count": 0
           },
           {
            "bin_start": -1.2,
            "bin_end": -1.1,
            "count": 0
           },
           {
            "bin_start": -1.1,
            "bin_end": -1,
            "count": 0
           },
           {
            "bin_start": -1,
            "bin_end": -0.8999999999999999,
            "count": 1168
           },
           {
            "bin_start": -0.8999999999999999,
            "bin_end": -0.7999999999999999,
            "count": 0
           },
           {
            "bin_start": -0.7999999999999999,
            "bin_end": -0.7,
            "count": 0
           },
           {
            "bin_start": -0.7,
            "bin_end": -0.6,
            "count": 0
           },
           {
            "bin_start": -0.6,
            "bin_end": -0.5,
            "count": 0
           }
          ]
         }
        },
        {
         "name": "latitudes",
         "dtype": "float64",
         "stats": {
          "unique_count": 625,
          "nan_count": 0,
          "min": "1.3593062",
          "max": "6.334636",
          "histogram": [
           {
            "bin_start": 1.3593062,
            "bin_end": 1.8568391800000001,
            "count": 3
           },
           {
            "bin_start": 1.8568391800000001,
            "bin_end": 2.35437216,
            "count": 0
           },
           {
            "bin_start": 2.35437216,
            "bin_end": 2.8519051400000004,
            "count": 0
           },
           {
            "bin_start": 2.8519051400000004,
            "bin_end": 3.3494381200000003,
            "count": 0
           },
           {
            "bin_start": 3.3494381200000003,
            "bin_end": 3.8469711,
            "count": 1158
           },
           {
            "bin_start": 3.8469711,
            "bin_end": 4.34450408,
            "count": 0
           },
           {
            "bin_start": 4.34450408,
            "bin_end": 4.84203706,
            "count": 0
           },
           {
            "bin_start": 4.84203706,
            "bin_end": 5.33957004,
            "count": 0
           },
           {
            "bin_start": 5.33957004,
            "bin_end": 5.83710302,
            "count": 0
           },
           {
            "bin_start": 5.83710302,
            "bin_end": 6.334636,
            "count": 7
           }
          ]
         }
        },
        {
         "name": "longitudes",
         "dtype": "float64",
         "stats": {
          "unique_count": 625,
          "nan_count": 0,
          "min": "-77.2855469",
          "max": "-75.5532727",
          "histogram": [
           {
            "bin_start": -77.2855469,
            "bin_end": -77.11231948,
            "count": 3
           },
           {
            "bin_start": -77.11231948,
            "bin_end": -76.93909206,
            "count": 0
           },
           {
            "bin_start": -76.93909206,
            "bin_end": -76.76586464,
            "count": 0
           },
           {
            "bin_start": -76.76586464,
            "bin_end": -76.59263722,
            "count": 0
           },
           {
            "bin_start": -76.59263722,
            "bin_end": -76.4194098,
            "count": 1
           },
           {
            "bin_start": -76.4194098,
            "bin_end": -76.24618238,
            "count": 1157
           },
           {
            "bin_start": -76.24618238,
            "bin_end": -76.07295495999999,
            "count": 0
           },
           {
            "bin_start": -76.07295495999999,
            "bin_end": -75.89972754,
            "count": 0
           },
           {
            "bin_start": -75.89972754,
            "bin_end": -75.72650012,
            "count": 0
           },
           {
            "bin_start": -75.72650012,
            "bin_end": -75.5532727,
            "count": 7
           }
          ]
         }
        },
        {
         "name": "_deepnote_index_column",
         "dtype": "int64"
        }
       ],
       "rows_top": [
        {
         "fecha": "2009-01-01T13:00:00.000000",
         "direccion": "CL1 #2-2, Palmira - Valle del Cauca, Colombia",
         "categoria": "HURTOPERSONAS",
         "vacios": -1,
         "latitudes": 3.5379718,
         "longitudes": -76.2971657,
         "_deepnote_index_column": 0
        },
        {
         "fecha": "2009-01-01T00:00:00.000000",
         "direccion": "CR28 #43-2 , Palmira - Valle del Cauca, Colombia",
         "categoria": "HURTOPERSONAS",
         "vacios": -1,
         "latitudes": 3.538685,
         "longitudes": -76.2972217,
         "_deepnote_index_column": 1
        },
        {
         "fecha": "2009-01-02T02:00:00.000000",
         "direccion": "CL21 #24-2, Palmira - Valle del Cauca, Colombia",
         "categoria": "HURTOPERSONAS",
         "vacios": -1,
         "latitudes": 3.5379718,
         "longitudes": -76.2971657,
         "_deepnote_index_column": 2
        },
        {
         "fecha": "2009-01-02T02:35:00.000000",
         "direccion": "CL47 #25-32, Palmira - Valle del Cauca, Colombia",
         "categoria": "HURTOPERSONAS",
         "vacios": -1,
         "latitudes": 3.5421228,
         "longitudes": -76.2947956,
         "_deepnote_index_column": 3
        },
        {
         "fecha": "2009-01-02T08:00:00.000000",
         "direccion": "CL54B #45-60, Palmira - Valle del Cauca, Colombia",
         "categoria": "HURTOPERSONAS",
         "vacios": -1,
         "latitudes": 3.5379718,
         "longitudes": -76.2971657,
         "_deepnote_index_column": 4
        },
        {
         "fecha": "2009-01-02T12:00:00.000000",
         "direccion": "CR26A #62-15, Palmira - Valle del Cauca, Colombia",
         "categoria": "HURTOPERSONAS",
         "vacios": -1,
         "latitudes": 3.5510405,
         "longitudes": -76.2910646,
         "_deepnote_index_column": 5
        },
        {
         "fecha": "2009-01-02T14:30:00.000000",
         "direccion": "CR32 #18-2, Palmira - Valle del Cauca, Colombia",
         "categoria": "HURTOPERSONAS",
         "vacios": -1,
         "latitudes": 3.5172364,
         "longitudes": -76.3042791,
         "_deepnote_index_column": 6
        },
        {
         "fecha": "2009-01-03T11:45:00.000000",
         "direccion": "CL1 #2-2, Palmira - Valle del Cauca, Colombia",
         "categoria": "HURTOPERSONAS",
         "vacios": -1,
         "latitudes": 3.5379718,
         "longitudes": -76.2971657,
         "_deepnote_index_column": 7
        },
        {
         "fecha": "2009-01-03T22:30:00.000000",
         "direccion": "CL23 #25-54, Palmira - Valle del Cauca, Colombia",
         "categoria": "HURTOPERSONAS",
         "vacios": -1,
         "latitudes": 3.5208555,
         "longitudes": -76.2977042,
         "_deepnote_index_column": 8
        },
        {
         "fecha": "2009-01-03T15:00:00.000000",
         "direccion": "CL38 #40-2, Palmira - Valle del Cauca, Colombia",
         "categoria": "HURTOPERSONAS",
         "vacios": -1,
         "latitudes": 3.5351069,
         "longitudes": -76.3104015,
         "_deepnote_index_column": 9
        },
        {
         "fecha": "2009-01-04T17:00:00.000000",
         "direccion": "CL30A #41-28, Palmira - Valle del Cauca, Colombia",
         "categoria": "HURTOPERSONAS",
         "vacios": -1,
         "latitudes": 3.5293565,
         "longitudes": -76.3117048,
         "_deepnote_index_column": 10
        },
        {
         "fecha": "2009-01-04T13:10:00.000000",
         "direccion": "CL35 #26-2, Palmira - Valle del Cauca, Colombia",
         "categoria": "HURTOPERSONAS",
         "vacios": -1,
         "latitudes": 3.5317518,
         "longitudes": -76.2964337,
         "_deepnote_index_column": 11
        },
        {
         "fecha": "2009-01-04T02:00:00.000000",
         "direccion": "CL50 #40-2, Palmira - Valle del Cauca, Colombia",
         "categoria": "HURTOPERSONAS",
         "vacios": -1,
         "latitudes": 3.5442261,
         "longitudes": -76.3126309,
         "_deepnote_index_column": 12
        },
        {
         "fecha": "2009-01-04T07:30:00.000000",
         "direccion": "CR27 #59-11, Palmira - Valle del Cauca, Colombia",
         "categoria": "HURTOPERSONAS",
         "vacios": -1,
         "latitudes": 3.5496046,
         "longitudes": -76.2922881,
         "_deepnote_index_column": 13
        },
        {
         "fecha": "2009-01-04T12:43:00.000000",
         "direccion": "CR6 #25-12, Palmira - Valle del Cauca, Colombia",
         "categoria": "HURTOPERSONAS",
         "vacios": -1,
         "latitudes": 6.334467099999999,
         "longitudes": -75.55346279999999,
         "_deepnote_index_column": 14
        },
        {
         "fecha": "2009-01-05T07:30:00.000000",
         "direccion": "CL21 #2-2, Palmira - Valle del Cauca, Colombia",
         "categoria": "HURTOPERSONAS",
         "vacios": -1,
         "latitudes": 3.5379718,
         "longitudes": -76.2971657,
         "_deepnote_index_column": 15
        },
        {
         "fecha": "2009-01-05T14:45:00.000000",
         "direccion": "CL33 #21-2, Palmira - Valle del Cauca, Colombia",
         "categoria": "HURTOPERSONAS",
         "vacios": -1,
         "latitudes": 3.5291875,
         "longitudes": -76.2729781,
         "_deepnote_index_column": 16
        },
        {
         "fecha": "2009-01-06T19:25:00.000000",
         "direccion": "CL21 #25-2, Palmira - Valle del Cauca, Colombia",
         "categoria": "HURTOPERSONAS",
         "vacios": -1,
         "latitudes": 6.334636,
         "longitudes": -75.5532727,
         "_deepnote_index_column": 17
        },
        {
         "fecha": "2009-01-06T19:25:00.000000",
         "direccion": "CL21 #25-2, Palmira - Valle del Cauca, Colombia",
         "categoria": "HURTOPERSONAS",
         "vacios": -1,
         "latitudes": 6.334636,
         "longitudes": -75.5532727,
         "_deepnote_index_column": 18
        },
        {
         "fecha": "2009-01-06T19:25:00.000000",
         "direccion": "CL21 #25-2, Palmira - Valle del Cauca, Colombia",
         "categoria": "HURTOPERSONAS",
         "vacios": -1,
         "latitudes": 6.334636,
         "longitudes": -75.5532727,
         "_deepnote_index_column": 19
        },
        {
         "fecha": "2009-01-06T12:45:00.000000",
         "direccion": "CL25 #29-2, Palmira - Valle del Cauca, Colombia",
         "categoria": "HURTOPERSONAS",
         "vacios": -1,
         "latitudes": 3.522995,
         "longitudes": -76.30055999999999,
         "_deepnote_index_column": 20
        },
        {
         "fecha": "2009-01-06T10:00:00.000000",
         "direccion": "CL26 #23-30, Palmira - Valle del Cauca, Colombia",
         "categoria": "HURTOPERSONAS",
         "vacios": -1,
         "latitudes": 3.5227463,
         "longitudes": -76.2953854,
         "_deepnote_index_column": 21
        },
        {
         "fecha": "2009-01-06T01:00:00.000000",
         "direccion": "CL28 #21-24, Palmira - Valle del Cauca, Colombia",
         "categoria": "HURTOPERSONAS",
         "vacios": -1,
         "latitudes": 3.5246329,
         "longitudes": -76.2934334,
         "_deepnote_index_column": 22
        },
        {
         "fecha": "2009-01-07T12:30:00.000000",
         "direccion": "CL28 #29-2, Palmira - Valle del Cauca, Colombia",
         "categoria": "HURTOPERSONAS",
         "vacios": -1,
         "latitudes": 3.5254088,
         "longitudes": -76.3000149,
         "_deepnote_index_column": 23
        },
        {
         "fecha": "2009-01-07T08:00:00.000000",
         "direccion": "CL30 #26-27, Palmira - Valle del Cauca, Colombia",
         "categoria": "HURTOPERSONAS",
         "vacios": -1,
         "latitudes": 3.5267622,
         "longitudes": -76.29756239999999,
         "_deepnote_index_column": 24
        },
        {
         "fecha": "2009-01-07T13:45:00.000000",
         "direccion": "CR31 #24-16, Palmira - Valle del Cauca, Colombia",
         "categoria": "HURTOPERSONAS",
         "vacios": -1,
         "latitudes": 3.5224047,
         "longitudes": -76.3024995,
         "_deepnote_index_column": 25
        },
        {
         "fecha": "2009-01-07T09:30:00.000000",
         "direccion": "CL21 #30A-23, Palmira - Valle del Cauca, Colombia",
         "categoria": "HURTOPERSONAS",
         "vacios": -1,
         "latitudes": 3.5108436,
         "longitudes": -76.30262859999999,
         "_deepnote_index_column": 26
        },
        {
         "fecha": "2009-01-08T11:00:00.000000",
         "direccion": "CL31 #28-2, Palmira - Valle del Cauca, Colombia",
         "categoria": "HURTOPERSONAS",
         "vacios": -1,
         "latitudes": 3.528994,
         "longitudes": -76.30627799999999,
         "_deepnote_index_column": 27
        },
        {
         "fecha": "2009-01-08T14:15:00.000000",
         "direccion": "CL32A #24-27, Palmira - Valle del Cauca, Colombia",
         "categoria": "HURTOPERSONAS",
         "vacios": -1,
         "latitudes": 3.5072669,
         "longitudes": -76.2995263,
         "_deepnote_index_column": 28
        },
        {
         "fecha": "2009-01-09T22:05:00.000000",
         "direccion": "CL65 #28-2, Palmira - Valle del Cauca, Colombia",
         "categoria": "HURTOPERSONAS",
         "vacios": -1,
         "latitudes": 3.5523107,
         "longitudes": -76.2937372,
         "_deepnote_index_column": 29
        },
        {
         "fecha": "2009-01-09T20:00:00.000000",
         "direccion": "CL31 #21-2, Palmira - Valle del Cauca, Colombia",
         "categoria": "HURTOPERSONAS",
         "vacios": -1,
         "latitudes": 3.5268144,
         "longitudes": -76.30006279999999,
         "_deepnote_index_column": 30
        },
        {
         "fecha": "2009-01-09T18:55:00.000000",
         "direccion": "CL45 #13-2, Palmira - Valle del Cauca, Colombia",
         "categoria": "HURTOPERSONAS",
         "vacios": -1,
         "latitudes": 3.5410734,
         "longitudes": -76.3164728,
         "_deepnote_index_column": 31
        },
        {
         "fecha": "2009-01-10T20:45:00.000000",
         "direccion": "CR20 #33-2, Palmira - Valle del Cauca, Colombia",
         "categoria": "HURTOPERSONAS",
         "vacios": -1,
         "latitudes": 3.5379718,
         "longitudes": -76.2971657,
         "_deepnote_index_column": 32
        },
        {
         "fecha": "2009-01-10T00:20:00.000000",
         "direccion": "CL30 #2-2, Palmira - Valle del Cauca, Colombia",
         "categoria": "HURTOPERSONAS",
         "vacios": -1,
         "latitudes": 3.521567,
         "longitudes": -76.2786825,
         "_deepnote_index_column": 33
        },
        {
         "fecha": "2009-01-10T02:40:00.000000",
         "direccion": "CL41 #28-2, Palmira - Valle del Cauca, Colombia",
         "categoria": "HURTOPERSONAS",
         "vacios": -1,
         "latitudes": 3.5372043,
         "longitudes": -76.29740300000002,
         "_deepnote_index_column": 34
        },
        {
         "fecha": "2009-01-11T10:30:00.000000",
         "direccion": "CL11 #36-2, Palmira - Valle del Cauca, Colombia",
         "categoria": "HURTOPERSONAS",
         "vacios": -1,
         "latitudes": 3.5103733,
         "longitudes": -76.300699,
         "_deepnote_index_column": 35
        },
        {
         "fecha": "2009-01-11T17:30:00.000000",
         "direccion": "CL30 #31-32, Palmira - Valle del Cauca, Colombia",
         "categoria": "HURTOPERSONAS",
         "vacios": -1,
         "latitudes": 3.5274991,
         "longitudes": -76.3018311,
         "_deepnote_index_column": 36
        },
        {
         "fecha": "2009-01-11T18:30:00.000000",
         "direccion": "CL32 #31-27, Palmira - Valle del Cauca, Colombia",
         "categoria": "HURTOPERSONAS",
         "vacios": -1,
         "latitudes": 3.5379718,
         "longitudes": -76.2971657,
         "_deepnote_index_column": 37
        },
        {
         "fecha": "2009-01-13T14:40:00.000000",
         "direccion": "CL34 #9-10, Palmira - Valle del Cauca, Colombia",
         "categoria": "HURTOPERSONAS",
         "vacios": -1,
         "latitudes": 3.5379718,
         "longitudes": -76.2971657,
         "_deepnote_index_column": 38
        },
        {
         "fecha": "2009-01-13T21:15:00.000000",
         "direccion": "CR15 #35-36, Palmira - Valle del Cauca, Colombia",
         "categoria": "HURTOPERSONAS",
         "vacios": -1,
         "latitudes": 3.5379718,
         "longitudes": -76.2971657,
         "_deepnote_index_column": 39
        },
        {
         "fecha": "2009-01-13T13:55:00.000000",
         "direccion": "CR25 #26-2, Palmira - Valle del Cauca, Colombia",
         "categoria": "HURTOPERSONAS",
         "vacios": -1,
         "latitudes": 3.5229344,
         "longitudes": -76.2969444,
         "_deepnote_index_column": 40
        },
        {
         "fecha": "2009-01-13T21:00:00.000000",
         "direccion": "CL31 #36-2, Palmira - Valle del Cauca, Colombia",
         "categoria": "HURTOPERSONAS",
         "vacios": -1,
         "latitudes": 3.528994,
         "longitudes": -76.30627799999999,
         "_deepnote_index_column": 41
        },
        {
         "fecha": "2009-01-14T19:10:00.000000",
         "direccion": "CL42 #28-2, Palmira - Valle del Cauca, Colombia",
         "categoria": "HURTOPERSONAS",
         "vacios": -1,
         "latitudes": 3.5378617,
         "longitudes": -76.29734739999999,
         "_deepnote_index_column": 42
        },
        {
         "fecha": "2009-01-14T15:30:00.000000",
         "direccion": "CL54B #45-60, Palmira - Valle del Cauca, Colombia",
         "categoria": "HURTOPERSONAS",
         "vacios": -1,
         "latitudes": 3.5379718,
         "longitudes": -76.2971657,
         "_deepnote_index_column": 43
        },
        {
         "fecha": "2009-01-15T00:00:00.000000",
         "direccion": "DG28B #58-8, Palmira - Valle del Cauca, Colombia",
         "categoria": "HURTOPERSONAS",
         "vacios": -1,
         "latitudes": 3.5379718,
         "longitudes": -76.2971657,
         "_deepnote_index_column": 44
        },
        {
         "fecha": "2009-01-15T14:47:00.000000",
         "direccion": "CL25 #29-2, Palmira - Valle del Cauca, Colombia",
         "categoria": "HURTOPERSONAS",
         "vacios": -1,
         "latitudes": 3.522995,
         "longitudes": -76.30055999999999,
         "_deepnote_index_column": 45
        },
        {
         "fecha": "2009-01-15T16:15:00.000000",
         "direccion": "CL35 #13-2, Palmira - Valle del Cauca, Colombia",
         "categoria": "HURTOPERSONAS",
         "vacios": -1,
         "latitudes": 3.5315988,
         "longitudes": -76.2855443,
         "_deepnote_index_column": 46
        },
        {
         "fecha": "2009-01-15T08:00:00.000000",
         "direccion": "CL49 #47-2, Palmira - Valle del Cauca, Colombia",
         "categoria": "HURTOPERSONAS",
         "vacios": -1,
         "latitudes": 3.5438414,
         "longitudes": -76.3083087,
         "_deepnote_index_column": 47
        },
        {
         "fecha": "2009-01-15T16:15:00.000000",
         "direccion": "CR1 #31-2, Palmira - Valle del Cauca, Colombia",
         "categoria": "HURTOPERSONAS",
         "vacios": -1,
         "latitudes": 3.5310637,
         "longitudes": -76.2772128,
         "_deepnote_index_column": 48
        },
        {
         "fecha": "2009-01-15T16:32:00.000000",
         "direccion": "CL14 #27-2, Palmira - Valle del Cauca, Colombia",
         "categoria": "HURTOPERSONAS",
         "vacios": -1,
         "latitudes": 3.5060719,
         "longitudes": -76.298855,
         "_deepnote_index_column": 49
        },
        {
         "fecha": "2009-01-16T13:20:00.000000",
         "direccion": "CL31 #40-2, Palmira - Valle del Cauca, Colombia",
         "categoria": "HURTOPERSONAS",
         "vacios": -1,
         "latitudes": 3.5147383,
         "longitudes": -76.272998,
         "_deepnote_index_column": 50
        },
        {
         "fecha": "2009-01-16T12:20:00.000000",
         "direccion": "CR26 #29-81, Palmira - Valle del Cauca, Colombia",
         "categoria": "HURTOPERSONAS",
         "vacios": -1,
         "latitudes": 3.5265041,
         "longitudes": -76.2974562,
         "_deepnote_index_column": 51
        },
        {
         "fecha": "2009-01-16T11:00:00.000000",
         "direccion": "CR42 #41-2, Palmira - Valle del Cauca, Colombia",
         "categoria": "HURTOPERSONAS",
         "vacios": -1,
         "latitudes": 3.5378302,
         "longitudes": -76.3122506,
         "_deepnote_index_column": 52
        },
        {
         "fecha": "2009-01-16T06:10:00.000000",
         "direccion": "CL19 #25A-2, Palmira - Valle del Cauca, Colombia",
         "categoria": "HURTOPERSONAS",
         "vacios": -1,
         "latitudes": 3.5176787,
         "longitudes": -76.2982301,
         "_deepnote_index_column": 53
        },
        {
         "fecha": "2009-01-16T12:00:00.000000",
         "direccion": "CL55 #42-2, Palmira - Valle del Cauca, Colombia",
         "categoria": "HURTOPERSONAS",
         "vacios": -1,
         "latitudes": 3.5472662,
         "longitudes": -76.2957005,
         "_deepnote_index_column": 54
        },
        {
         "fecha": "2009-01-16T21:00:00.000000",
         "direccion": "CL35A #41-120, Palmira - Valle del Cauca, Colombia",
         "categoria": "HURTOPERSONAS",
         "vacios": -1,
         "latitudes": 3.5328183,
         "longitudes": -76.31233569999999,
         "_deepnote_index_column": 55
        },
        {
         "fecha": "2009-01-17T16:40:00.000000",
         "direccion": "CL36 #18-2, Palmira - Valle del Cauca, Colombia",
         "categoria": "HURTOPERSONAS",
         "vacios": -1,
         "latitudes": 3.5318694,
         "longitudes": -76.28972519999999,
         "_deepnote_index_column": 56
        },
        {
         "fecha": "2009-01-17T10:20:00.000000",
         "direccion": "CR22 #39-22, Palmira - Valle del Cauca, Colombia",
         "categoria": "HURTOPERSONAS",
         "vacios": -1,
         "latitudes": 3.5351181,
         "longitudes": -76.2926039,
         "_deepnote_index_column": 57
        },
        {
         "fecha": "2009-01-17T11:40:00.000000",
         "direccion": "CR28 #39-2, Palmira - Valle del Cauca, Colombia",
         "categoria": "HURTOPERSONAS",
         "vacios": -1,
         "latitudes": 3.534988,
         "longitudes": -76.2976901,
         "_deepnote_index_column": 58
        },
        {
         "fecha": "2009-01-18T14:30:00.000000",
         "direccion": "CR33 #45-75, Palmira - Valle del Cauca, Colombia",
         "categoria": "HURTOPERSONAS",
         "vacios": -1,
         "latitudes": 3.5412149,
         "longitudes": -76.3016991,
         "_deepnote_index_column": 59
        },
        {
         "fecha": "2009-01-18T16:30:00.000000",
         "direccion": "CR27 #22-2, Palmira - Valle del Cauca, Colombia",
         "categoria": "HURTOPERSONAS",
         "vacios": -1,
         "latitudes": 3.5201497,
         "longitudes": -76.2990749,
         "_deepnote_index_column": 60
        },
        {
         "fecha": "2009-01-19T04:33:00.000000",
         "direccion": "CL25 #30-3, Palmira - Valle del Cauca, Colombia",
         "categoria": "HURTOPERSONAS",
         "vacios": -1,
         "latitudes": 3.5229928,
         "longitudes": -76.3014925,
         "_deepnote_index_column": 61
        },
        {
         "fecha": "2009-01-19T17:00:00.000000",
         "direccion": "CL47 #25-2, Palmira - Valle del Cauca, Colombia",
         "categoria": "HURTOPERSONAS",
         "vacios": -1,
         "latitudes": 3.5421228,
         "longitudes": -76.2947956,
         "_deepnote_index_column": 63
        },
        {
         "fecha": "2009-01-20T21:50:00.000000",
         "direccion": "CR28 #29-2, Palmira - Valle del Cauca, Colombia",
         "categoria": "HURTOPERSONAS",
         "vacios": -1,
         "latitudes": 3.5260484,
         "longitudes": -76.2990585,
         "_deepnote_index_column": 64
        },
        {
         "fecha": "2009-01-20T07:35:00.000000",
         "direccion": "CL26 #33-2, Palmira - Valle del Cauca, Colombia",
         "categoria": "HURTOPERSONAS",
         "vacios": -1,
         "latitudes": 3.5241112,
         "longitudes": -76.30358319999999,
         "_deepnote_index_column": 65
        },
        {
         "fecha": "2009-01-20T18:00:00.000000",
         "direccion": "CL38 #11A-5, Palmira - Valle del Cauca, Colombia",
         "categoria": "HURTOPERSONAS",
         "vacios": -1,
         "latitudes": 3.5342263,
         "longitudes": -76.2844302,
         "_deepnote_index_column": 66
        },
        {
         "fecha": "2009-01-20T16:30:00.000000",
         "direccion": "CR22 #28-46, Palmira - Valle del Cauca, Colombia",
         "categoria": "HURTOPERSONAS",
         "vacios": -1,
         "latitudes": 3.5250616,
         "longitudes": -76.2939612,
         "_deepnote_index_column": 67
        },
        {
         "fecha": "2009-01-20T11:30:00.000000",
         "direccion": "CR28 #23-2, Palmira - Valle del Cauca, Colombia",
         "categoria": "HURTOPERSONAS",
         "vacios": -1,
         "latitudes": 3.5209729,
         "longitudes": -76.2998095,
         "_deepnote_index_column": 68
        },
        {
         "fecha": "2009-01-21T12:30:00.000000",
         "direccion": "CR32 #34-2, Palmira - Valle del Cauca, Colombia",
         "categoria": "HURTOPERSONAS",
         "vacios": -1,
         "latitudes": 3.5379718,
         "longitudes": -76.2971657,
         "_deepnote_index_column": 69
        },
        {
         "fecha": "2009-01-21T11:00:00.000000",
         "direccion": "CL27 #17-2, Palmira - Valle del Cauca, Colombia",
         "categoria": "HURTOPERSONAS",
         "vacios": -1,
         "latitudes": 3.523327,
         "longitudes": -76.2899226,
         "_deepnote_index_column": 70
        },
        {
         "fecha": "2009-01-22T13:00:00.000000",
         "direccion": "CR19 #39-2, Palmira - Valle del Cauca, Colombia",
         "categoria": "HURTOPERSONAS",
         "vacios": -1,
         "latitudes": 3.5346515,
         "longitudes": -76.2905919,
         "_deepnote_index_column": 71
        },
        {
         "fecha": "2009-01-22T17:15:00.000000",
         "direccion": "CR32 #19-58, Palmira - Valle del Cauca, Colombia",
         "categoria": "HURTOPERSONAS",
         "vacios": -1,
         "latitudes": 3.5379718,
         "longitudes": -76.2971657,
         "_deepnote_index_column": 72
        },
        {
         "fecha": "2009-01-22T18:20:00.000000",
         "direccion": "CL22 #23-2, Palmira - Valle del Cauca, Colombia",
         "categoria": "HURTOPERSONAS",
         "vacios": -1,
         "latitudes": 3.5197236,
         "longitudes": -76.2949525,
         "_deepnote_index_column": 73
        },
        {
         "fecha": "2009-01-22T16:30:00.000000",
         "direccion": "CL26A #19-13, Palmira - Valle del Cauca, Colombia",
         "categoria": "HURTOPERSONAS",
         "vacios": -1,
         "latitudes": 3.5228472,
         "longitudes": -76.291722,
         "_deepnote_index_column": 74
        },
        {
         "fecha": "2009-01-22T15:30:00.000000",
         "direccion": "CL32 #38-2, Palmira - Valle del Cauca, Colombia",
         "categoria": "HURTOPERSONAS",
         "vacios": -1,
         "latitudes": 3.5302342,
         "longitudes": -76.3077404,
         "_deepnote_index_column": 75
        },
        {
         "fecha": "2009-01-23T22:00:00.000000",
         "direccion": "CL33 #26-2, Palmira - Valle del Cauca, Colombia",
         "categoria": "HURTOPERSONAS",
         "vacios": -1,
         "latitudes": 3.5241191,
         "longitudes": -76.3035725,
         "_deepnote_index_column": 76
        },
        {
         "fecha": "2009-01-23T12:00:00.000000",
         "direccion": "DG30C #11-48, Palmira - Valle del Cauca, Colombia",
         "categoria": "HURTOPERSONAS",
         "vacios": -1,
         "latitudes": 3.5379718,
         "longitudes": -76.2971657,
         "_deepnote_index_column": 77
        },
        {
         "fecha": "2009-01-23T12:00:00.000000",
         "direccion": "CR39A #40A-2, Palmira - Valle del Cauca, Colombia",
         "categoria": "HURTOPERSONAS",
         "vacios": -1,
         "latitudes": 3.5379718,
         "longitudes": -76.2971657,
         "_deepnote_index_column": 78
        },
        {
         "fecha": "2009-01-23T21:00:00.000000",
         "direccion": "CL18 #26-2, Palmira - Valle del Cauca, Colombia",
         "categoria": "HURTOPERSONAS",
         "vacios": -1,
         "latitudes": 3.5168726,
         "longitudes": -76.2989496,
         "_deepnote_index_column": 79
        },
        {
         "fecha": "2009-01-24T21:00:00.000000",
         "direccion": "CL29 #26-36, Palmira - Valle del Cauca, Colombia",
         "categoria": "HURTOPERSONAS",
         "vacios": -1,
         "latitudes": 3.5259658,
         "longitudes": -76.29781,
         "_deepnote_index_column": 80
        },
        {
         "fecha": "2009-01-24T05:30:00.000000",
         "direccion": "CL29 #33-97, Palmira - Valle del Cauca, Colombia",
         "categoria": "HURTOPERSONAS",
         "vacios": -1,
         "latitudes": 3.526823,
         "longitudes": -76.3043737,
         "_deepnote_index_column": 81
        },
        {
         "fecha": "2009-01-25T11:30:00.000000",
         "direccion": "CL37A #21-56, Palmira - Valle del Cauca, Colombia",
         "categoria": "HURTOPERSONAS",
         "vacios": -1,
         "latitudes": 3.5335515,
         "longitudes": -76.29251169999999,
         "_deepnote_index_column": 82
        },
        {
         "fecha": "2009-01-25T12:30:00.000000",
         "direccion": "CL42 #28-2, Palmira - Valle del Cauca, Colombia",
         "categoria": "HURTOPERSONAS",
         "vacios": -1,
         "latitudes": 3.5378617,
         "longitudes": -76.29734739999999,
         "_deepnote_index_column": 83
        }
       ],
       "rows_bottom": [
        {
         "fecha": "2009-08-25T10:20:00.000000",
         "direccion": "CL25 #33-57, Palmira - Valle del Cauca, Colombia",
         "categoria": "HURTORESIDENCIAS",
         "vacios": -1,
         "latitudes": 3.5233009,
         "longitudes": -76.30407009999999,
         "_deepnote_index_column": 1086
        },
        {
         "fecha": "2009-08-25T10:20:00.000000",
         "direccion": "CL25 #33-57, Palmira - Valle del Cauca, Colombia",
         "categoria": "HURTORESIDENCIAS",
         "vacios": -1,
         "latitudes": 3.5233009,
         "longitudes": -76.30407009999999,
         "_deepnote_index_column": 1087
        },
        {
         "fecha": "2009-08-25T20:00:00.000000",
         "direccion": "CL23 #33A-2, Palmira - Valle del Cauca, Colombia",
         "categoria": "HURTORESIDENCIAS",
         "vacios": -1,
         "latitudes": 3.5217433,
         "longitudes": -76.30493109999999,
         "_deepnote_index_column": 1088
        },
        {
         "fecha": "2009-08-25T19:30:00.000000",
         "direccion": "CR25 #12A-7, Palmira - Valle del Cauca, Colombia",
         "categoria": "HURTORESIDENCIAS",
         "vacios": -1,
         "latitudes": 3.5112909,
         "longitudes": -76.2982346,
         "_deepnote_index_column": 1089
        },
        {
         "fecha": "2009-08-25T19:30:00.000000",
         "direccion": "CR25 #12A-7, Palmira - Valle del Cauca, Colombia",
         "categoria": "HURTORESIDENCIAS",
         "vacios": -1,
         "latitudes": 3.5112909,
         "longitudes": -76.2982346,
         "_deepnote_index_column": 1090
        },
        {
         "fecha": "2009-08-25T19:30:00.000000",
         "direccion": "CR25 #12A-7, Palmira - Valle del Cauca, Colombia",
         "categoria": "HURTORESIDENCIAS",
         "vacios": -1,
         "latitudes": 3.5112909,
         "longitudes": -76.2982346,
         "_deepnote_index_column": 1091
        },
        {
         "fecha": "2009-08-25T11:30:00.000000",
         "direccion": "CL40 #11-61, Palmira - Valle del Cauca, Colombia",
         "categoria": "HURTORESIDENCIAS",
         "vacios": -1,
         "latitudes": 3.53549,
         "longitudes": -76.2845707,
         "_deepnote_index_column": 1092
        },
        {
         "fecha": "2009-08-26T11:30:00.000000",
         "direccion": "CL40 #11-61, Palmira - Valle del Cauca, Colombia",
         "categoria": "HURTORESIDENCIAS",
         "vacios": -1,
         "latitudes": 3.53549,
         "longitudes": -76.2845707,
         "_deepnote_index_column": 1093
        },
        {
         "fecha": "2009-08-26T15:30:00.000000",
         "direccion": "CR24 #58-62, Palmira - Valle del Cauca, Colombia",
         "categoria": "HURTORESIDENCIAS",
         "vacios": -1,
         "latitudes": 3.5268144,
         "longitudes": -76.30006279999999,
         "_deepnote_index_column": 1094
        },
        {
         "fecha": "2009-08-26T15:30:00.000000",
         "direccion": "CR24 #58-62, Palmira - Valle del Cauca, Colombia",
         "categoria": "HURTORESIDENCIAS",
         "vacios": -1,
         "latitudes": 3.5268144,
         "longitudes": -76.30006279999999,
         "_deepnote_index_column": 1095
        },
        {
         "fecha": "2009-08-26T15:30:00.000000",
         "direccion": "CR24 #58-62, Palmira - Valle del Cauca, Colombia",
         "categoria": "HURTORESIDENCIAS",
         "vacios": -1,
         "latitudes": 3.5268144,
         "longitudes": -76.30006279999999,
         "_deepnote_index_column": 1096
        },
        {
         "fecha": "2009-08-27T02:00:00.000000",
         "direccion": "CL16 #25-77, Palmira - Valle del Cauca, Colombia",
         "categoria": "HURTORESIDENCIAS",
         "vacios": -1,
         "latitudes": 1.3593062,
         "longitudes": -77.2855469,
         "_deepnote_index_column": 1097
        },
        {
         "fecha": "2009-08-27T02:00:00.000000",
         "direccion": "CL16 #25-77, Palmira - Valle del Cauca, Colombia",
         "categoria": "HURTORESIDENCIAS",
         "vacios": -1,
         "latitudes": 1.3593062,
         "longitudes": -77.2855469,
         "_deepnote_index_column": 1098
        },
        {
         "fecha": "2009-08-27T02:00:00.000000",
         "direccion": "CL16 #25-77, Palmira - Valle del Cauca, Colombia",
         "categoria": "HURTORESIDENCIAS",
         "vacios": -1,
         "latitudes": 1.3593062,
         "longitudes": -77.2855469,
         "_deepnote_index_column": 1099
        },
        {
         "fecha": "2009-08-28T18:00:00.000000",
         "direccion": "DG64 #24-75, Palmira - Valle del Cauca, Colombia",
         "categoria": "HURTORESIDENCIAS",
         "vacios": -1,
         "latitudes": 3.558213,
         "longitudes": -76.300377,
         "_deepnote_index_column": 1100
        },
        {
         "fecha": "2009-08-28T16:00:00.000000",
         "direccion": "CL9 #24A-100, Palmira - Valle del Cauca, Colombia",
         "categoria": "HURTORESIDENCIAS",
         "vacios": -1,
         "latitudes": 3.5379718,
         "longitudes": -76.2971657,
         "_deepnote_index_column": 1101
        },
        {
         "fecha": "2009-08-29T10:30:00.000000",
         "direccion": "CL40 #42-11, Palmira - Valle del Cauca, Colombia",
         "categoria": "HURTORESIDENCIAS",
         "vacios": -1,
         "latitudes": 3.5367984,
         "longitudes": -76.31295,
         "_deepnote_index_column": 1102
        },
        {
         "fecha": "2009-08-30T10:30:00.000000",
         "direccion": "CL40 #42-11, Palmira - Valle del Cauca, Colombia",
         "categoria": "HURTORESIDENCIAS",
         "vacios": -1,
         "latitudes": 3.5367984,
         "longitudes": -76.31295,
         "_deepnote_index_column": 1103
        },
        {
         "fecha": "2009-08-30T00:30:00.000000",
         "direccion": "CL476 #31-53, Palmira - Valle del Cauca, Colombia",
         "categoria": "HURTORESIDENCIAS",
         "vacios": -1,
         "latitudes": 3.5264999,
         "longitudes": -76.3023247,
         "_deepnote_index_column": 1104
        },
        {
         "fecha": "2009-08-30T02:00:00.000000",
         "direccion": "CL69 #30A-3, Palmira - Valle del Cauca, Colombia",
         "categoria": "HURTORESIDENCIAS",
         "vacios": -1,
         "latitudes": 3.5569407,
         "longitudes": -76.2953993,
         "_deepnote_index_column": 1105
        },
        {
         "fecha": "2009-09-01T09:30:00.000000",
         "direccion": "DG60 #31A-83, Palmira - Valle del Cauca, Colombia",
         "categoria": "HURTORESIDENCIAS",
         "vacios": -1,
         "latitudes": 3.5261395,
         "longitudes": -76.282457,
         "_deepnote_index_column": 1106
        },
        {
         "fecha": "2009-09-01T04:40:00.000000",
         "direccion": "CR28 #38-6, Palmira - Valle del Cauca, Colombia",
         "categoria": "HURTORESIDENCIAS",
         "vacios": -1,
         "latitudes": 3.5349044,
         "longitudes": -76.2976645,
         "_deepnote_index_column": 1107
        },
        {
         "fecha": "2009-09-01T02:00:00.000000",
         "direccion": "CR27 #28-66, Palmira - Valle del Cauca, Colombia",
         "categoria": "HURTORESIDENCIAS",
         "vacios": -1,
         "latitudes": 3.5256332,
         "longitudes": -76.29815239999999,
         "_deepnote_index_column": 1108
        },
        {
         "fecha": "2009-09-01T18:00:00.000000",
         "direccion": "CR28 #16-18, Palmira - Valle del Cauca, Colombia",
         "categoria": "HURTORESIDENCIAS",
         "vacios": -1,
         "latitudes": 3.5151142,
         "longitudes": -76.30073879999999,
         "_deepnote_index_column": 1109
        },
        {
         "fecha": "2009-09-01T21:30:00.000000",
         "direccion": "CL13 #24-59, Palmira - Valle del Cauca, Colombia",
         "categoria": "HURTORESIDENCIAS",
         "vacios": -1,
         "latitudes": 3.5121074,
         "longitudes": -76.2963972,
         "_deepnote_index_column": 1110
        },
        {
         "fecha": "2009-09-02T21:30:00.000000",
         "direccion": "CL13 #24-59, Palmira - Valle del Cauca, Colombia",
         "categoria": "HURTORESIDENCIAS",
         "vacios": -1,
         "latitudes": 3.5121074,
         "longitudes": -76.2963972,
         "_deepnote_index_column": 1111
        },
        {
         "fecha": "2009-09-02T21:30:00.000000",
         "direccion": "CL13 #24-59, Palmira - Valle del Cauca, Colombia",
         "categoria": "HURTORESIDENCIAS",
         "vacios": -1,
         "latitudes": 3.5121074,
         "longitudes": -76.2963972,
         "_deepnote_index_column": 1112
        },
        {
         "fecha": "2009-09-02T22:30:00.000000",
         "direccion": "CL16 #26-97, Palmira - Valle del Cauca, Colombia",
         "categoria": "HURTORESIDENCIAS",
         "vacios": -1,
         "latitudes": 3.5071309,
         "longitudes": -76.2991751,
         "_deepnote_index_column": 1113
        },
        {
         "fecha": "2009-09-03T22:30:00.000000",
         "direccion": "CL16 #26-97, Palmira - Valle del Cauca, Colombia",
         "categoria": "HURTORESIDENCIAS",
         "vacios": -1,
         "latitudes": 3.5071309,
         "longitudes": -76.2991751,
         "_deepnote_index_column": 1114
        },
        {
         "fecha": "2009-09-04T22:30:00.000000",
         "direccion": "CL16 #26-97, Palmira - Valle del Cauca, Colombia",
         "categoria": "HURTORESIDENCIAS",
         "vacios": -1,
         "latitudes": 3.5071309,
         "longitudes": -76.2991751,
         "_deepnote_index_column": 1115
        },
        {
         "fecha": "2009-09-04T22:30:00.000000",
         "direccion": "CL16 #26-97, Palmira - Valle del Cauca, Colombia",
         "categoria": "HURTORESIDENCIAS",
         "vacios": -1,
         "latitudes": 3.5071309,
         "longitudes": -76.2991751,
         "_deepnote_index_column": 1116
        },
        {
         "fecha": "2009-09-04T13:15:00.000000",
         "direccion": "CL47 #34-2, Palmira - Valle del Cauca, Colombia",
         "categoria": "HURTOACOMERCIO",
         "vacios": -1,
         "latitudes": 3.5425043,
         "longitudes": -76.3021801,
         "_deepnote_index_column": 1117
        },
        {
         "fecha": "2009-09-05T13:15:00.000000",
         "direccion": "CL21 #32-2, Palmira - Valle del Cauca, Colombia",
         "categoria": "HURTOACOMERCIO",
         "vacios": -1,
         "latitudes": 3.5268144,
         "longitudes": -76.30006279999999,
         "_deepnote_index_column": 1118
        },
        {
         "fecha": "2009-09-05T08:15:00.000000",
         "direccion": "CL26 #28-2, Palmira - Valle del Cauca, Colombia",
         "categoria": "HURTOACOMERCIO",
         "vacios": -1,
         "latitudes": 3.5235829,
         "longitudes": -76.2994176,
         "_deepnote_index_column": 1119
        },
        {
         "fecha": "2009-09-06T12:50:00.000000",
         "direccion": "CR237 #30-2, Palmira - Valle del Cauca, Colombia",
         "categoria": "HURTOACOMERCIO",
         "vacios": -1,
         "latitudes": 3.5379718,
         "longitudes": -76.2971657,
         "_deepnote_index_column": 1120
        },
        {
         "fecha": "2009-09-06T19:25:00.000000",
         "direccion": "CL47 #34-2, Palmira - Valle del Cauca, Colombia",
         "categoria": "HURTOACOMERCIO",
         "vacios": -1,
         "latitudes": 3.5425043,
         "longitudes": -76.3021801,
         "_deepnote_index_column": 1121
        },
        {
         "fecha": "2009-09-06T19:00:00.000000",
         "direccion": "CL28 #32-2, Palmira - Valle del Cauca, Colombia",
         "categoria": "HURTOACOMERCIO",
         "vacios": -1,
         "latitudes": 3.5258243,
         "longitudes": -76.3026795,
         "_deepnote_index_column": 1122
        },
        {
         "fecha": "2009-09-06T19:33:00.000000",
         "direccion": "CL42 #34-2, Palmira - Valle del Cauca, Colombia",
         "categoria": "HURTOACOMERCIO",
         "vacios": -1,
         "latitudes": 3.5386149,
         "longitudes": -76.3026373,
         "_deepnote_index_column": 1123
        },
        {
         "fecha": "2009-09-07T14:30:00.000000",
         "direccion": "CL29 #26-2, Palmira - Valle del Cauca, Colombia",
         "categoria": "HURTOACOMERCIO",
         "vacios": -1,
         "latitudes": 3.5258327,
         "longitudes": -76.2973715,
         "_deepnote_index_column": 1124
        },
        {
         "fecha": "2009-09-07T19:25:00.000000",
         "direccion": "CL42 #27-24, Palmira - Valle del Cauca, Colombia",
         "categoria": "HURTOACOMERCIO",
         "vacios": -1,
         "latitudes": 3.5380724,
         "longitudes": -76.2966605,
         "_deepnote_index_column": 1125
        },
        {
         "fecha": "2009-09-07T09:15:00.000000",
         "direccion": "CR25 #31-13, Palmira - Valle del Cauca, Colombia",
         "categoria": "HURTOACOMERCIO",
         "vacios": -1,
         "latitudes": 3.5277904,
         "longitudes": -76.29627119999999,
         "_deepnote_index_column": 1126
        },
        {
         "fecha": "2009-09-07T17:40:00.000000",
         "direccion": "CL29 #28-2, Palmira - Valle del Cauca, Colombia",
         "categoria": "HURTOACOMERCIO",
         "vacios": -1,
         "latitudes": 3.5260404,
         "longitudes": -76.2990679,
         "_deepnote_index_column": 1127
        },
        {
         "fecha": "2009-09-07T10:15:00.000000",
         "direccion": "CL42 #27-24, Palmira - Valle del Cauca, Colombia",
         "categoria": "HURTOACOMERCIO",
         "vacios": -1,
         "latitudes": 3.5380724,
         "longitudes": -76.2966605,
         "_deepnote_index_column": 1128
        },
        {
         "fecha": "2009-09-07T22:25:00.000000",
         "direccion": "CL32 #19-58, Palmira - Valle del Cauca, Colombia",
         "categoria": "HURTOACOMERCIO",
         "vacios": -1,
         "latitudes": 3.5379718,
         "longitudes": -76.2971657,
         "_deepnote_index_column": 1129
        },
        {
         "fecha": "2009-09-08T12:45:00.000000",
         "direccion": "CL32 #30-2, Palmira - Valle del Cauca, Colombia",
         "categoria": "HURTOACOMERCIO",
         "vacios": -1,
         "latitudes": 3.5379718,
         "longitudes": -76.2971657,
         "_deepnote_index_column": 1130
        },
        {
         "fecha": "2009-09-08T11:00:00.000000",
         "direccion": "CL29 #26-2, Palmira - Valle del Cauca, Colombia",
         "categoria": "HURTOACOMERCIO",
         "vacios": -1,
         "latitudes": 3.5258327,
         "longitudes": -76.2973715,
         "_deepnote_index_column": 1131
        },
        {
         "fecha": "2009-09-08T11:20:00.000000",
         "direccion": "CL30 #28-2, Palmira - Valle del Cauca, Colombia",
         "categoria": "HURTOACOMERCIO",
         "vacios": -1,
         "latitudes": 3.5269768,
         "longitudes": -76.29885209999999,
         "_deepnote_index_column": 1132
        },
        {
         "fecha": "2009-09-08T08:48:00.000000",
         "direccion": "CR1 #34-23, Palmira - Valle del Cauca, Colombia",
         "categoria": "HURTOACOMERCIO",
         "vacios": -1,
         "latitudes": 3.5379718,
         "longitudes": -76.2971657,
         "_deepnote_index_column": 1133
        },
        {
         "fecha": "2009-09-09T08:48:00.000000",
         "direccion": "CR1 #34-23, Palmira - Valle del Cauca, Colombia",
         "categoria": "HURTOACOMERCIO",
         "vacios": -1,
         "latitudes": 3.5379718,
         "longitudes": -76.2971657,
         "_deepnote_index_column": 1134
        },
        {
         "fecha": "2009-09-09T08:48:00.000000",
         "direccion": "CR1 #34-23, Palmira - Valle del Cauca, Colombia",
         "categoria": "HURTOACOMERCIO",
         "vacios": -1,
         "latitudes": 3.5379718,
         "longitudes": -76.2971657,
         "_deepnote_index_column": 1135
        },
        {
         "fecha": "2009-09-09T18:30:00.000000",
         "direccion": "CR28 #43-2, Palmira - Valle del Cauca, Colombia",
         "categoria": "HURTOACOMERCIO",
         "vacios": -1,
         "latitudes": 3.538685,
         "longitudes": -76.2972217,
         "_deepnote_index_column": 1136
        },
        {
         "fecha": "2009-09-09T13:30:00.000000",
         "direccion": "CL43 #28-2, Palmira - Valle del Cauca, Colombia",
         "categoria": "HURTOACOMERCIO",
         "vacios": -1,
         "latitudes": 3.5385685,
         "longitudes": -76.2972301,
         "_deepnote_index_column": 1137
        },
        {
         "fecha": "2009-09-09T14:16:00.000000",
         "direccion": "CR28 #43-2, Palmira - Valle del Cauca, Colombia",
         "categoria": "HURTOACOMERCIO",
         "vacios": -1,
         "latitudes": 3.538685,
         "longitudes": -76.2972217,
         "_deepnote_index_column": 1138
        },
        {
         "fecha": "2009-09-10T13:40:00.000000",
         "direccion": "CL42 #27-24, Palmira - Valle del Cauca, Colombia",
         "categoria": "HURTOACOMERCIO",
         "vacios": -1,
         "latitudes": 3.5380724,
         "longitudes": -76.2966605,
         "_deepnote_index_column": 1139
        },
        {
         "fecha": "2009-09-10T18:00:00.000000",
         "direccion": "CR27 #28-2, Palmira - Valle del Cauca, Colombia",
         "categoria": "HURTOACOMERCIO",
         "vacios": -1,
         "latitudes": 3.5251483,
         "longitudes": -76.29834149999999,
         "_deepnote_index_column": 1140
        },
        {
         "fecha": "2009-09-10T00:33:00.000000",
         "direccion": "CR27 #30-2, Palmira - Valle del Cauca, Colombia",
         "categoria": "HURTOACOMERCIO",
         "vacios": -1,
         "latitudes": 3.526836,
         "longitudes": -76.29805429999999,
         "_deepnote_index_column": 1141
        },
        {
         "fecha": "2009-09-11T18:20:00.000000",
         "direccion": "CL43 #28-2, Palmira - Valle del Cauca, Colombia",
         "categoria": "HURTOACOMERCIO",
         "vacios": -1,
         "latitudes": 3.5385685,
         "longitudes": -76.2972301,
         "_deepnote_index_column": 1142
        },
        {
         "fecha": "2009-09-11T10:00:00.000000",
         "direccion": "CR28 #69-79, Palmira - Valle del Cauca, Colombia",
         "categoria": "HURTOACOMERCIO",
         "vacios": -1,
         "latitudes": 3.5560775,
         "longitudes": -76.2916245,
         "_deepnote_index_column": 1143
        },
        {
         "fecha": "2009-09-11T20:10:00.000000",
         "direccion": "CR19 #38-95, Palmira - Valle del Cauca, Colombia",
         "categoria": "HURTOACOMERCIO",
         "vacios": -1,
         "latitudes": 3.5345915,
         "longitudes": -76.29063090000001,
         "_deepnote_index_column": 1144
        },
        {
         "fecha": "2009-09-13T20:10:00.000000",
         "direccion": "CL21 #31-2, Palmira - Valle del Cauca, Colombia",
         "categoria": "HURTOACOMERCIO",
         "vacios": -1,
         "latitudes": 3.5268144,
         "longitudes": -76.30006279999999,
         "_deepnote_index_column": 1145
        },
        {
         "fecha": "2009-09-13T16:00:00.000000",
         "direccion": "CL33 #28-48, Palmira - Valle del Cauca, Colombia",
         "categoria": "HURTOACOMERCIO",
         "vacios": -1,
         "latitudes": 3.5263145,
         "longitudes": -76.3033248,
         "_deepnote_index_column": 1146
        },
        {
         "fecha": "2009-09-14T23:00:00.000000",
         "direccion": "CL12 #2-2, Palmira - Valle del Cauca, Colombia",
         "categoria": "HURTOACOMERCIO",
         "vacios": -1,
         "latitudes": 3.5112886,
         "longitudes": -76.2996716,
         "_deepnote_index_column": 1147
        },
        {
         "fecha": "2009-09-14T11:00:00.000000",
         "direccion": "CL47 #35-2, Palmira - Valle del Cauca, Colombia",
         "categoria": "HURTOACOMERCIO",
         "vacios": -1,
         "latitudes": 3.542622,
         "longitudes": -76.30740879999999,
         "_deepnote_index_column": 1148
        },
        {
         "fecha": "2009-09-14T13:15:00.000000",
         "direccion": "CL43 #28-2, Palmira - Valle del Cauca, Colombia",
         "categoria": "HURTOACOMERCIO",
         "vacios": -1,
         "latitudes": 3.5385685,
         "longitudes": -76.2972301,
         "_deepnote_index_column": 1149
        },
        {
         "fecha": "2009-09-15T12:40:00.000000",
         "direccion": "CL32 #1-2, Palmira - Valle del Cauca, Colombia",
         "categoria": "HURTOACOMERCIO",
         "vacios": -1,
         "latitudes": 3.5258782,
         "longitudes": -76.2791948,
         "_deepnote_index_column": 1150
        },
        {
         "fecha": "2009-09-15T13:15:00.000000",
         "direccion": "CL30 #30-69, Palmira - Valle del Cauca, Colombia",
         "categoria": "HURTOACOMERCIO",
         "vacios": -1,
         "latitudes": 3.5271921,
         "longitudes": -76.3012854,
         "_deepnote_index_column": 1151
        },
        {
         "fecha": "2009-09-15T20:20:00.000000",
         "direccion": "CL433 #28-2, Palmira - Valle del Cauca, Colombia",
         "categoria": "HURTOACOMERCIO",
         "vacios": -1,
         "latitudes": 3.5270462,
         "longitudes": -76.2997783,
         "_deepnote_index_column": 1152
        },
        {
         "fecha": "2009-09-16T15:00:00.000000",
         "direccion": "CL43 #28-2, Palmira - Valle del Cauca, Colombia",
         "categoria": "HURTOACOMERCIO",
         "vacios": -1,
         "latitudes": 3.5385685,
         "longitudes": -76.2972301,
         "_deepnote_index_column": 1153
        },
        {
         "fecha": "2009-09-16T18:20:00.000000",
         "direccion": "CR24 #18-7, Palmira - Valle del Cauca, Colombia",
         "categoria": "HURTOACOMERCIO",
         "vacios": -1,
         "latitudes": 3.5169472,
         "longitudes": -76.2959573,
         "_deepnote_index_column": 1154
        },
        {
         "fecha": "2009-09-16T20:00:00.000000",
         "direccion": "CL42 #28-2, Palmira - Valle del Cauca, Colombia",
         "categoria": "HURTOACOMERCIO",
         "vacios": -1,
         "latitudes": 3.5378617,
         "longitudes": -76.29734739999999,
         "_deepnote_index_column": 1155
        },
        {
         "fecha": "2009-09-16T20:00:00.000000",
         "direccion": "CL42 #28-2, Palmira - Valle del Cauca, Colombia",
         "categoria": "HURTOACOMERCIO",
         "vacios": -1,
         "latitudes": 3.5378617,
         "longitudes": -76.29734739999999,
         "_deepnote_index_column": 1156
        },
        {
         "fecha": "2009-09-17T20:00:00.000000",
         "direccion": "CL42 #28-2, Palmira - Valle del Cauca, Colombia",
         "categoria": "HURTOACOMERCIO",
         "vacios": -1,
         "latitudes": 3.5378617,
         "longitudes": -76.29734739999999,
         "_deepnote_index_column": 1157
        },
        {
         "fecha": "2009-09-17T08:00:00.000000",
         "direccion": "CL43 #28-2, Palmira - Valle del Cauca, Colombia",
         "categoria": "HURTOACOMERCIO",
         "vacios": -1,
         "latitudes": 3.5385685,
         "longitudes": -76.2972301,
         "_deepnote_index_column": 1158
        },
        {
         "fecha": "2009-09-18T08:00:00.000000",
         "direccion": "CL43 #28-2, Palmira - Valle del Cauca, Colombia",
         "categoria": "HURTOACOMERCIO",
         "vacios": -1,
         "latitudes": 3.5385685,
         "longitudes": -76.2972301,
         "_deepnote_index_column": 1159
        },
        {
         "fecha": "2009-09-18T20:50:00.000000",
         "direccion": "CL42 #28-2, Palmira - Valle del Cauca, Colombia",
         "categoria": "HURTOACOMERCIO",
         "vacios": -1,
         "latitudes": 3.5378617,
         "longitudes": -76.29734739999999,
         "_deepnote_index_column": 1160
        },
        {
         "fecha": "2009-09-19T10:25:00.000000",
         "direccion": "CL42 #28-2, Palmira - Valle del Cauca, Colombia",
         "categoria": "HURTOACOMERCIO",
         "vacios": -1,
         "latitudes": 3.5378617,
         "longitudes": -76.29734739999999,
         "_deepnote_index_column": 1161
        },
        {
         "fecha": "2009-09-19T16:00:00.000000",
         "direccion": "CL47 #34-2, Palmira - Valle del Cauca, Colombia",
         "categoria": "HURTOACOMERCIO",
         "vacios": -1,
         "latitudes": 3.5425043,
         "longitudes": -76.3021801,
         "_deepnote_index_column": 1162
        },
        {
         "fecha": "2009-09-21T16:00:00.000000",
         "direccion": "CL47 #34-2, Palmira - Valle del Cauca, Colombia",
         "categoria": "HURTOACOMERCIO",
         "vacios": -1,
         "latitudes": 3.5425043,
         "longitudes": -76.3021801,
         "_deepnote_index_column": 1163
        },
        {
         "fecha": "2009-09-21T16:00:00.000000",
         "direccion": "CL47 #34-2, Palmira - Valle del Cauca, Colombia",
         "categoria": "HURTOACOMERCIO",
         "vacios": -1,
         "latitudes": 3.5425043,
         "longitudes": -76.3021801,
         "_deepnote_index_column": 1164
        },
        {
         "fecha": "2009-09-21T16:57:00.000000",
         "direccion": "CR28 #43-2, Palmira - Valle del Cauca, Colombia",
         "categoria": "HURTOACOMERCIO",
         "vacios": -1,
         "latitudes": 3.538685,
         "longitudes": -76.2972217,
         "_deepnote_index_column": 1165
        },
        {
         "fecha": "2009-09-22T16:00:00.000000",
         "direccion": "CR27 #30-31, Palmira - Valle del Cauca, Colombia",
         "categoria": "HURTOACOMERCIO",
         "vacios": -1,
         "latitudes": 3.5271176,
         "longitudes": -76.2980233,
         "_deepnote_index_column": 1166
        },
        {
         "fecha": "2009-09-23T12:00:00.000000",
         "direccion": "CR32 #12-2, Palmira - Valle del Cauca, Colombia",
         "categoria": "HURTOACOMERCIO",
         "vacios": -1,
         "latitudes": 3.5379718,
         "longitudes": -76.2971657,
         "_deepnote_index_column": 1167
        },
        {
         "fecha": "2009-09-23T12:00:00.000000",
         "direccion": "CR32 #12-2, Palmira - Valle del Cauca, Colombia",
         "categoria": "HURTOACOMERCIO",
         "vacios": -1,
         "latitudes": 3.5379718,
         "longitudes": -76.2971657,
         "_deepnote_index_column": 1168
        }
       ]
      },
      "text/plain": "                   fecha                                          direccion  \\\n0    2009-01-01 13:00:00      CL1 #2-2, Palmira - Valle del Cauca, Colombia   \n1    2009-01-01 00:00:00   CR28 #43-2 , Palmira - Valle del Cauca, Colombia   \n2    2009-01-02 02:00:00    CL21 #24-2, Palmira - Valle del Cauca, Colombia   \n3    2009-01-02 02:35:00   CL47 #25-32, Palmira - Valle del Cauca, Colombia   \n4    2009-01-02 08:00:00  CL54B #45-60, Palmira - Valle del Cauca, Colombia   \n...                  ...                                                ...   \n1164 2009-09-21 16:00:00    CL47 #34-2, Palmira - Valle del Cauca, Colombia   \n1165 2009-09-21 16:57:00    CR28 #43-2, Palmira - Valle del Cauca, Colombia   \n1166 2009-09-22 16:00:00   CR27 #30-31, Palmira - Valle del Cauca, Colombia   \n1167 2009-09-23 12:00:00    CR32 #12-2, Palmira - Valle del Cauca, Colombia   \n1168 2009-09-23 12:00:00    CR32 #12-2, Palmira - Valle del Cauca, Colombia   \n\n           categoria  vacios  latitudes  longitudes  \n0      HURTOPERSONAS      -1   3.537972  -76.297166  \n1      HURTOPERSONAS      -1   3.538685  -76.297222  \n2      HURTOPERSONAS      -1   3.537972  -76.297166  \n3      HURTOPERSONAS      -1   3.542123  -76.294796  \n4      HURTOPERSONAS      -1   3.537972  -76.297166  \n...              ...     ...        ...         ...  \n1164  HURTOACOMERCIO      -1   3.542504  -76.302180  \n1165  HURTOACOMERCIO      -1   3.538685  -76.297222  \n1166  HURTOACOMERCIO      -1   3.527118  -76.298023  \n1167  HURTOACOMERCIO      -1   3.537972  -76.297166  \n1168  HURTOACOMERCIO      -1   3.537972  -76.297166  \n\n[1168 rows x 6 columns]",
      "text/html": "<div>\n<style scoped>\n    .dataframe tbody tr th:only-of-type {\n        vertical-align: middle;\n    }\n\n    .dataframe tbody tr th {\n        vertical-align: top;\n    }\n\n    .dataframe thead th {\n        text-align: right;\n    }\n</style>\n<table border=\"1\" class=\"dataframe\">\n  <thead>\n    <tr style=\"text-align: right;\">\n      <th></th>\n      <th>fecha</th>\n      <th>direccion</th>\n      <th>categoria</th>\n      <th>vacios</th>\n      <th>latitudes</th>\n      <th>longitudes</th>\n    </tr>\n  </thead>\n  <tbody>\n    <tr>\n      <th>0</th>\n      <td>2009-01-01 13:00:00</td>\n      <td>CL1 #2-2, Palmira - Valle del Cauca, Colombia</td>\n      <td>HURTOPERSONAS</td>\n      <td>-1</td>\n      <td>3.537972</td>\n      <td>-76.297166</td>\n    </tr>\n    <tr>\n      <th>1</th>\n      <td>2009-01-01 00:00:00</td>\n      <td>CR28 #43-2 , Palmira - Valle del Cauca, Colombia</td>\n      <td>HURTOPERSONAS</td>\n      <td>-1</td>\n      <td>3.538685</td>\n      <td>-76.297222</td>\n    </tr>\n    <tr>\n      <th>2</th>\n      <td>2009-01-02 02:00:00</td>\n      <td>CL21 #24-2, Palmira - Valle del Cauca, Colombia</td>\n      <td>HURTOPERSONAS</td>\n      <td>-1</td>\n      <td>3.537972</td>\n      <td>-76.297166</td>\n    </tr>\n    <tr>\n      <th>3</th>\n      <td>2009-01-02 02:35:00</td>\n      <td>CL47 #25-32, Palmira - Valle del Cauca, Colombia</td>\n      <td>HURTOPERSONAS</td>\n      <td>-1</td>\n      <td>3.542123</td>\n      <td>-76.294796</td>\n    </tr>\n    <tr>\n      <th>4</th>\n      <td>2009-01-02 08:00:00</td>\n      <td>CL54B #45-60, Palmira - Valle del Cauca, Colombia</td>\n      <td>HURTOPERSONAS</td>\n      <td>-1</td>\n      <td>3.537972</td>\n      <td>-76.297166</td>\n    </tr>\n    <tr>\n      <th>...</th>\n      <td>...</td>\n      <td>...</td>\n      <td>...</td>\n      <td>...</td>\n      <td>...</td>\n      <td>...</td>\n    </tr>\n    <tr>\n      <th>1164</th>\n      <td>2009-09-21 16:00:00</td>\n      <td>CL47 #34-2, Palmira - Valle del Cauca, Colombia</td>\n      <td>HURTOACOMERCIO</td>\n      <td>-1</td>\n      <td>3.542504</td>\n      <td>-76.302180</td>\n    </tr>\n    <tr>\n      <th>1165</th>\n      <td>2009-09-21 16:57:00</td>\n      <td>CR28 #43-2, Palmira - Valle del Cauca, Colombia</td>\n      <td>HURTOACOMERCIO</td>\n      <td>-1</td>\n      <td>3.538685</td>\n      <td>-76.297222</td>\n    </tr>\n    <tr>\n      <th>1166</th>\n      <td>2009-09-22 16:00:00</td>\n      <td>CR27 #30-31, Palmira - Valle del Cauca, Colombia</td>\n      <td>HURTOACOMERCIO</td>\n      <td>-1</td>\n      <td>3.527118</td>\n      <td>-76.298023</td>\n    </tr>\n    <tr>\n      <th>1167</th>\n      <td>2009-09-23 12:00:00</td>\n      <td>CR32 #12-2, Palmira - Valle del Cauca, Colombia</td>\n      <td>HURTOACOMERCIO</td>\n      <td>-1</td>\n      <td>3.537972</td>\n      <td>-76.297166</td>\n    </tr>\n    <tr>\n      <th>1168</th>\n      <td>2009-09-23 12:00:00</td>\n      <td>CR32 #12-2, Palmira - Valle del Cauca, Colombia</td>\n      <td>HURTOACOMERCIO</td>\n      <td>-1</td>\n      <td>3.537972</td>\n      <td>-76.297166</td>\n    </tr>\n  </tbody>\n</table>\n<p>1168 rows × 6 columns</p>\n</div>"
     },
     "metadata": {}
    }
   ],
   "execution_count": null
  },
  {
   "cell_type": "code",
   "metadata": {
    "tags": [],
    "cell_id": "00034-3e691cce-1898-4c0b-99a9-77aaceecf1c9",
    "deepnote_to_be_reexecuted": false,
    "source_hash": "63cc6aa5",
    "execution_start": 1626913016432,
    "execution_millis": 133,
    "deepnote_cell_type": "code"
   },
   "source": "#hurtos_full = hurtos1.append(hurtos2,ignore_index=True)\nhurtos_full = hurtos1.append(hurtos2)\nhurtos_full = hurtos_full.append(hurtos3)\nhurtos_full = hurtos_full.append(hurtos4)\nhurtos_full = hurtos_full.append(hurtos5)\nhurtos_full",
   "outputs": [
    {
     "output_type": "execute_result",
     "execution_count": 20,
     "data": {
      "application/vnd.deepnote.dataframe.v2+json": {
       "row_count": 5811,
       "column_count": 7,
       "columns": [
        {
         "name": "fecha",
         "dtype": "datetime64[ns]",
         "stats": {
          "unique_count": 5274,
          "nan_count": 7,
          "min": "2002-01-15 06:00:00",
          "max": "2012-12-31 13:00:00",
          "histogram": [
           {
            "bin_start": 1011074400000000000,
            "bin_end": 1045662840000000000,
            "count": 3
           },
           {
            "bin_start": 1045662840000000000,
            "bin_end": 1080251280000000000,
            "count": 0
           },
           {
            "bin_start": 1080251280000000000,
            "bin_end": 1114839720000000000,
            "count": 0
           },
           {
            "bin_start": 1114839720000000000,
            "bin_end": 1149428160000000000,
            "count": 0
           },
           {
            "bin_start": 1149428160000000000,
            "bin_end": 1184016600000000000,
            "count": 0
           },
           {
            "bin_start": 1184016600000000000,
            "bin_end": 1218605040000000000,
            "count": 0
           },
           {
            "bin_start": 1218605040000000000,
            "bin_end": 1253193480000000000,
            "count": 1157
           },
           {
            "bin_start": 1253193480000000000,
            "bin_end": 1287781920000000000,
            "count": 1506
           },
           {
            "bin_start": 1287781920000000000,
            "bin_end": 1322370360000000000,
            "count": 1554
           },
           {
            "bin_start": 1322370360000000000,
            "bin_end": 1356958800000000000,
            "count": 1584
           }
          ]
         }
        },
        {
         "name": "direccion",
         "dtype": "object",
         "stats": {
          "unique_count": 3602,
          "nan_count": 0,
          "categories": [
           {
            "name": "CL42 #28-2, Palmira - Valle del Cauca, Colombia",
            "count": 35
           },
           {
            "name": "CL31 #41-2, Palmira - Valle del Cauca, Colombia",
            "count": 24
           },
           {
            "name": "3600 others",
            "count": 5752
           }
          ]
         }
        },
        {
         "name": "categoria",
         "dtype": "category",
         "stats": {
          "unique_count": 11,
          "nan_count": 0,
          "categories": [
           {
            "name": "HURTOPERSONAS",
            "count": 4292
           },
           {
            "name": "HURTOMOTOCICLETAS",
            "count": 829
           },
           {
            "name": "9 others",
            "count": 690
           }
          ]
         }
        },
        {
         "name": "vacios",
         "dtype": "int64",
         "stats": {
          "unique_count": 1,
          "nan_count": 0,
          "min": "-1",
          "max": "-1",
          "histogram": [
           {
            "bin_start": -1.5,
            "bin_end": -1.4,
            "count": 0
           },
           {
            "bin_start": -1.4,
            "bin_end": -1.3,
            "count": 0
           },
           {
            "bin_start": -1.3,
            "bin_end": -1.2,
            "count": 0
           },
           {
            "bin_start": -1.2,
            "bin_end": -1.1,
            "count": 0
           },
           {
            "bin_start": -1.1,
            "bin_end": -1,
            "count": 0
           },
           {
            "bin_start": -1,
            "bin_end": -0.8999999999999999,
            "count": 5811
           },
           {
            "bin_start": -0.8999999999999999,
            "bin_end": -0.7999999999999999,
            "count": 0
           },
           {
            "bin_start": -0.7999999999999999,
            "bin_end": -0.7,
            "count": 0
           },
           {
            "bin_start": -0.7,
            "bin_end": -0.6,
            "count": 0
           },
           {
            "bin_start": -0.6,
            "bin_end": -0.5,
            "count": 0
           }
          ]
         }
        },
        {
         "name": "latitudes",
         "dtype": "float64",
         "stats": {
          "unique_count": 2298,
          "nan_count": 0,
          "min": "1.2989913",
          "max": "10.869195",
          "histogram": [
           {
            "bin_start": 1.2989913,
            "bin_end": 2.25601167,
            "count": 7
           },
           {
            "bin_start": 2.25601167,
            "bin_end": 3.21303204,
            "count": 0
           },
           {
            "bin_start": 3.21303204,
            "bin_end": 4.17005241,
            "count": 5781
           },
           {
            "bin_start": 4.17005241,
            "bin_end": 5.127072780000001,
            "count": 0
           },
           {
            "bin_start": 5.127072780000001,
            "bin_end": 6.08409315,
            "count": 1
           },
           {
            "bin_start": 6.08409315,
            "bin_end": 7.041113520000001,
            "count": 20
           },
           {
            "bin_start": 7.041113520000001,
            "bin_end": 7.99813389,
            "count": 0
           },
           {
            "bin_start": 7.99813389,
            "bin_end": 8.95515426,
            "count": 0
           },
           {
            "bin_start": 8.95515426,
            "bin_end": 9.912174629999999,
            "count": 0
           },
           {
            "bin_start": 9.912174629999999,
            "bin_end": 10.869195,
            "count": 2
           }
          ]
         }
        },
        {
         "name": "longitudes",
         "dtype": "float64",
         "stats": {
          "unique_count": 2301,
          "nan_count": 0,
          "min": "-77.40576039999999",
          "max": "-74.771678",
          "histogram": [
           {
            "bin_start": -77.40576039999999,
            "bin_end": -77.14235215999999,
            "count": 7
           },
           {
            "bin_start": -77.14235215999999,
            "bin_end": -76.87894392,
            "count": 0
           },
           {
            "bin_start": -76.87894392,
            "bin_end": -76.61553568,
            "count": 0
           },
           {
            "bin_start": -76.61553568,
            "bin_end": -76.35212743999999,
            "count": 49
           },
           {
            "bin_start": -76.35212743999999,
            "bin_end": -76.08871919999999,
            "count": 5732
           },
           {
            "bin_start": -76.08871919999999,
            "bin_end": -75.82531096,
            "count": 0
           },
           {
            "bin_start": -75.82531096,
            "bin_end": -75.56190271999999,
            "count": 1
           },
           {
            "bin_start": -75.56190271999999,
            "bin_end": -75.29849447999999,
            "count": 20
           },
           {
            "bin_start": -75.29849447999999,
            "bin_end": -75.03508624,
            "count": 0
           },
           {
            "bin_start": -75.03508624,
            "bin_end": -74.771678,
            "count": 2
           }
          ]
         }
        },
        {
         "name": "index",
         "dtype": "float64",
         "stats": {
          "unique_count": 4643,
          "nan_count": 1168,
          "min": "1169.0",
          "max": "5843.0",
          "histogram": [
           {
            "bin_start": 1169,
            "bin_end": 1636.4,
            "count": 463
           },
           {
            "bin_start": 1636.4,
            "bin_end": 2103.8,
            "count": 466
           },
           {
            "bin_start": 2103.8,
            "bin_end": 2571.2,
            "count": 467
           },
           {
            "bin_start": 2571.2,
            "bin_end": 3038.6,
            "count": 467
           },
           {
            "bin_start": 3038.6,
            "bin_end": 3506,
            "count": 461
           },
           {
            "bin_start": 3506,
            "bin_end": 3973.3999999999996,
            "count": 464
           },
           {
            "bin_start": 3973.3999999999996,
            "bin_end": 4440.799999999999,
            "count": 460
           },
           {
            "bin_start": 4440.799999999999,
            "bin_end": 4908.2,
            "count": 462
           },
           {
            "bin_start": 4908.2,
            "bin_end": 5375.599999999999,
            "count": 465
           },
           {
            "bin_start": 5375.599999999999,
            "bin_end": 5843,
            "count": 468
           }
          ]
         }
        },
        {
         "name": "_deepnote_index_column",
         "dtype": "int64"
        }
       ],
       "rows_top": [
        {
         "fecha": "2009-01-01T13:00:00.000000",
         "direccion": "CL1 #2-2, Palmira - Valle del Cauca, Colombia",
         "categoria": "HURTOPERSONAS",
         "vacios": -1,
         "latitudes": 3.5379718,
         "longitudes": -76.2971657,
         "index": "nan",
         "_deepnote_index_column": 0
        },
        {
         "fecha": "2009-01-01T00:00:00.000000",
         "direccion": "CR28 #43-2 , Palmira - Valle del Cauca, Colombia",
         "categoria": "HURTOPERSONAS",
         "vacios": -1,
         "latitudes": 3.538685,
         "longitudes": -76.2972217,
         "index": "nan",
         "_deepnote_index_column": 1
        },
        {
         "fecha": "2009-01-02T02:00:00.000000",
         "direccion": "CL21 #24-2, Palmira - Valle del Cauca, Colombia",
         "categoria": "HURTOPERSONAS",
         "vacios": -1,
         "latitudes": 3.5379718,
         "longitudes": -76.2971657,
         "index": "nan",
         "_deepnote_index_column": 2
        },
        {
         "fecha": "2009-01-02T02:35:00.000000",
         "direccion": "CL47 #25-32, Palmira - Valle del Cauca, Colombia",
         "categoria": "HURTOPERSONAS",
         "vacios": -1,
         "latitudes": 3.5421228,
         "longitudes": -76.2947956,
         "index": "nan",
         "_deepnote_index_column": 3
        },
        {
         "fecha": "2009-01-02T08:00:00.000000",
         "direccion": "CL54B #45-60, Palmira - Valle del Cauca, Colombia",
         "categoria": "HURTOPERSONAS",
         "vacios": -1,
         "latitudes": 3.5379718,
         "longitudes": -76.2971657,
         "index": "nan",
         "_deepnote_index_column": 4
        },
        {
         "fecha": "2009-01-02T12:00:00.000000",
         "direccion": "CR26A #62-15, Palmira - Valle del Cauca, Colombia",
         "categoria": "HURTOPERSONAS",
         "vacios": -1,
         "latitudes": 3.5510405,
         "longitudes": -76.2910646,
         "index": "nan",
         "_deepnote_index_column": 5
        },
        {
         "fecha": "2009-01-02T14:30:00.000000",
         "direccion": "CR32 #18-2, Palmira - Valle del Cauca, Colombia",
         "categoria": "HURTOPERSONAS",
         "vacios": -1,
         "latitudes": 3.5172364,
         "longitudes": -76.3042791,
         "index": "nan",
         "_deepnote_index_column": 6
        },
        {
         "fecha": "2009-01-03T11:45:00.000000",
         "direccion": "CL1 #2-2, Palmira - Valle del Cauca, Colombia",
         "categoria": "HURTOPERSONAS",
         "vacios": -1,
         "latitudes": 3.5379718,
         "longitudes": -76.2971657,
         "index": "nan",
         "_deepnote_index_column": 7
        },
        {
         "fecha": "2009-01-03T22:30:00.000000",
         "direccion": "CL23 #25-54, Palmira - Valle del Cauca, Colombia",
         "categoria": "HURTOPERSONAS",
         "vacios": -1,
         "latitudes": 3.5208555,
         "longitudes": -76.2977042,
         "index": "nan",
         "_deepnote_index_column": 8
        },
        {
         "fecha": "2009-01-03T15:00:00.000000",
         "direccion": "CL38 #40-2, Palmira - Valle del Cauca, Colombia",
         "categoria": "HURTOPERSONAS",
         "vacios": -1,
         "latitudes": 3.5351069,
         "longitudes": -76.3104015,
         "index": "nan",
         "_deepnote_index_column": 9
        },
        {
         "fecha": "2009-01-04T17:00:00.000000",
         "direccion": "CL30A #41-28, Palmira - Valle del Cauca, Colombia",
         "categoria": "HURTOPERSONAS",
         "vacios": -1,
         "latitudes": 3.5293565,
         "longitudes": -76.3117048,
         "index": "nan",
         "_deepnote_index_column": 10
        },
        {
         "fecha": "2009-01-04T13:10:00.000000",
         "direccion": "CL35 #26-2, Palmira - Valle del Cauca, Colombia",
         "categoria": "HURTOPERSONAS",
         "vacios": -1,
         "latitudes": 3.5317518,
         "longitudes": -76.2964337,
         "index": "nan",
         "_deepnote_index_column": 11
        },
        {
         "fecha": "2009-01-04T02:00:00.000000",
         "direccion": "CL50 #40-2, Palmira - Valle del Cauca, Colombia",
         "categoria": "HURTOPERSONAS",
         "vacios": -1,
         "latitudes": 3.5442261,
         "longitudes": -76.3126309,
         "index": "nan",
         "_deepnote_index_column": 12
        },
        {
         "fecha": "2009-01-04T07:30:00.000000",
         "direccion": "CR27 #59-11, Palmira - Valle del Cauca, Colombia",
         "categoria": "HURTOPERSONAS",
         "vacios": -1,
         "latitudes": 3.5496046,
         "longitudes": -76.2922881,
         "index": "nan",
         "_deepnote_index_column": 13
        },
        {
         "fecha": "2009-01-04T12:43:00.000000",
         "direccion": "CR6 #25-12, Palmira - Valle del Cauca, Colombia",
         "categoria": "HURTOPERSONAS",
         "vacios": -1,
         "latitudes": 6.334467099999999,
         "longitudes": -75.55346279999999,
         "index": "nan",
         "_deepnote_index_column": 14
        },
        {
         "fecha": "2009-01-05T07:30:00.000000",
         "direccion": "CL21 #2-2, Palmira - Valle del Cauca, Colombia",
         "categoria": "HURTOPERSONAS",
         "vacios": -1,
         "latitudes": 3.5379718,
         "longitudes": -76.2971657,
         "index": "nan",
         "_deepnote_index_column": 15
        },
        {
         "fecha": "2009-01-05T14:45:00.000000",
         "direccion": "CL33 #21-2, Palmira - Valle del Cauca, Colombia",
         "categoria": "HURTOPERSONAS",
         "vacios": -1,
         "latitudes": 3.5291875,
         "longitudes": -76.2729781,
         "index": "nan",
         "_deepnote_index_column": 16
        },
        {
         "fecha": "2009-01-06T19:25:00.000000",
         "direccion": "CL21 #25-2, Palmira - Valle del Cauca, Colombia",
         "categoria": "HURTOPERSONAS",
         "vacios": -1,
         "latitudes": 6.334636,
         "longitudes": -75.5532727,
         "index": "nan",
         "_deepnote_index_column": 17
        },
        {
         "fecha": "2009-01-06T19:25:00.000000",
         "direccion": "CL21 #25-2, Palmira - Valle del Cauca, Colombia",
         "categoria": "HURTOPERSONAS",
         "vacios": -1,
         "latitudes": 6.334636,
         "longitudes": -75.5532727,
         "index": "nan",
         "_deepnote_index_column": 18
        },
        {
         "fecha": "2009-01-06T19:25:00.000000",
         "direccion": "CL21 #25-2, Palmira - Valle del Cauca, Colombia",
         "categoria": "HURTOPERSONAS",
         "vacios": -1,
         "latitudes": 6.334636,
         "longitudes": -75.5532727,
         "index": "nan",
         "_deepnote_index_column": 19
        },
        {
         "fecha": "2009-01-06T12:45:00.000000",
         "direccion": "CL25 #29-2, Palmira - Valle del Cauca, Colombia",
         "categoria": "HURTOPERSONAS",
         "vacios": -1,
         "latitudes": 3.522995,
         "longitudes": -76.30055999999999,
         "index": "nan",
         "_deepnote_index_column": 20
        },
        {
         "fecha": "2009-01-06T10:00:00.000000",
         "direccion": "CL26 #23-30, Palmira - Valle del Cauca, Colombia",
         "categoria": "HURTOPERSONAS",
         "vacios": -1,
         "latitudes": 3.5227463,
         "longitudes": -76.2953854,
         "index": "nan",
         "_deepnote_index_column": 21
        },
        {
         "fecha": "2009-01-06T01:00:00.000000",
         "direccion": "CL28 #21-24, Palmira - Valle del Cauca, Colombia",
         "categoria": "HURTOPERSONAS",
         "vacios": -1,
         "latitudes": 3.5246329,
         "longitudes": -76.2934334,
         "index": "nan",
         "_deepnote_index_column": 22
        },
        {
         "fecha": "2009-01-07T12:30:00.000000",
         "direccion": "CL28 #29-2, Palmira - Valle del Cauca, Colombia",
         "categoria": "HURTOPERSONAS",
         "vacios": -1,
         "latitudes": 3.5254088,
         "longitudes": -76.3000149,
         "index": "nan",
         "_deepnote_index_column": 23
        },
        {
         "fecha": "2009-01-07T08:00:00.000000",
         "direccion": "CL30 #26-27, Palmira - Valle del Cauca, Colombia",
         "categoria": "HURTOPERSONAS",
         "vacios": -1,
         "latitudes": 3.5267622,
         "longitudes": -76.29756239999999,
         "index": "nan",
         "_deepnote_index_column": 24
        },
        {
         "fecha": "2009-01-07T13:45:00.000000",
         "direccion": "CR31 #24-16, Palmira - Valle del Cauca, Colombia",
         "categoria": "HURTOPERSONAS",
         "vacios": -1,
         "latitudes": 3.5224047,
         "longitudes": -76.3024995,
         "index": "nan",
         "_deepnote_index_column": 25
        },
        {
         "fecha": "2009-01-07T09:30:00.000000",
         "direccion": "CL21 #30A-23, Palmira - Valle del Cauca, Colombia",
         "categoria": "HURTOPERSONAS",
         "vacios": -1,
         "latitudes": 3.5108436,
         "longitudes": -76.30262859999999,
         "index": "nan",
         "_deepnote_index_column": 26
        },
        {
         "fecha": "2009-01-08T11:00:00.000000",
         "direccion": "CL31 #28-2, Palmira - Valle del Cauca, Colombia",
         "categoria": "HURTOPERSONAS",
         "vacios": -1,
         "latitudes": 3.528994,
         "longitudes": -76.30627799999999,
         "index": "nan",
         "_deepnote_index_column": 27
        },
        {
         "fecha": "2009-01-08T14:15:00.000000",
         "direccion": "CL32A #24-27, Palmira - Valle del Cauca, Colombia",
         "categoria": "HURTOPERSONAS",
         "vacios": -1,
         "latitudes": 3.5072669,
         "longitudes": -76.2995263,
         "index": "nan",
         "_deepnote_index_column": 28
        },
        {
         "fecha": "2009-01-09T22:05:00.000000",
         "direccion": "CL65 #28-2, Palmira - Valle del Cauca, Colombia",
         "categoria": "HURTOPERSONAS",
         "vacios": -1,
         "latitudes": 3.5523107,
         "longitudes": -76.2937372,
         "index": "nan",
         "_deepnote_index_column": 29
        },
        {
         "fecha": "2009-01-09T20:00:00.000000",
         "direccion": "CL31 #21-2, Palmira - Valle del Cauca, Colombia",
         "categoria": "HURTOPERSONAS",
         "vacios": -1,
         "latitudes": 3.5268144,
         "longitudes": -76.30006279999999,
         "index": "nan",
         "_deepnote_index_column": 30
        },
        {
         "fecha": "2009-01-09T18:55:00.000000",
         "direccion": "CL45 #13-2, Palmira - Valle del Cauca, Colombia",
         "categoria": "HURTOPERSONAS",
         "vacios": -1,
         "latitudes": 3.5410734,
         "longitudes": -76.3164728,
         "index": "nan",
         "_deepnote_index_column": 31
        },
        {
         "fecha": "2009-01-10T20:45:00.000000",
         "direccion": "CR20 #33-2, Palmira - Valle del Cauca, Colombia",
         "categoria": "HURTOPERSONAS",
         "vacios": -1,
         "latitudes": 3.5379718,
         "longitudes": -76.2971657,
         "index": "nan",
         "_deepnote_index_column": 32
        },
        {
         "fecha": "2009-01-10T00:20:00.000000",
         "direccion": "CL30 #2-2, Palmira - Valle del Cauca, Colombia",
         "categoria": "HURTOPERSONAS",
         "vacios": -1,
         "latitudes": 3.521567,
         "longitudes": -76.2786825,
         "index": "nan",
         "_deepnote_index_column": 33
        },
        {
         "fecha": "2009-01-10T02:40:00.000000",
         "direccion": "CL41 #28-2, Palmira - Valle del Cauca, Colombia",
         "categoria": "HURTOPERSONAS",
         "vacios": -1,
         "latitudes": 3.5372043,
         "longitudes": -76.29740300000002,
         "index": "nan",
         "_deepnote_index_column": 34
        },
        {
         "fecha": "2009-01-11T10:30:00.000000",
         "direccion": "CL11 #36-2, Palmira - Valle del Cauca, Colombia",
         "categoria": "HURTOPERSONAS",
         "vacios": -1,
         "latitudes": 3.5103733,
         "longitudes": -76.300699,
         "index": "nan",
         "_deepnote_index_column": 35
        },
        {
         "fecha": "2009-01-11T17:30:00.000000",
         "direccion": "CL30 #31-32, Palmira - Valle del Cauca, Colombia",
         "categoria": "HURTOPERSONAS",
         "vacios": -1,
         "latitudes": 3.5274991,
         "longitudes": -76.3018311,
         "index": "nan",
         "_deepnote_index_column": 36
        },
        {
         "fecha": "2009-01-11T18:30:00.000000",
         "direccion": "CL32 #31-27, Palmira - Valle del Cauca, Colombia",
         "categoria": "HURTOPERSONAS",
         "vacios": -1,
         "latitudes": 3.5379718,
         "longitudes": -76.2971657,
         "index": "nan",
         "_deepnote_index_column": 37
        },
        {
         "fecha": "2009-01-13T14:40:00.000000",
         "direccion": "CL34 #9-10, Palmira - Valle del Cauca, Colombia",
         "categoria": "HURTOPERSONAS",
         "vacios": -1,
         "latitudes": 3.5379718,
         "longitudes": -76.2971657,
         "index": "nan",
         "_deepnote_index_column": 38
        },
        {
         "fecha": "2009-01-13T21:15:00.000000",
         "direccion": "CR15 #35-36, Palmira - Valle del Cauca, Colombia",
         "categoria": "HURTOPERSONAS",
         "vacios": -1,
         "latitudes": 3.5379718,
         "longitudes": -76.2971657,
         "index": "nan",
         "_deepnote_index_column": 39
        },
        {
         "fecha": "2009-01-13T13:55:00.000000",
         "direccion": "CR25 #26-2, Palmira - Valle del Cauca, Colombia",
         "categoria": "HURTOPERSONAS",
         "vacios": -1,
         "latitudes": 3.5229344,
         "longitudes": -76.2969444,
         "index": "nan",
         "_deepnote_index_column": 40
        },
        {
         "fecha": "2009-01-13T21:00:00.000000",
         "direccion": "CL31 #36-2, Palmira - Valle del Cauca, Colombia",
         "categoria": "HURTOPERSONAS",
         "vacios": -1,
         "latitudes": 3.528994,
         "longitudes": -76.30627799999999,
         "index": "nan",
         "_deepnote_index_column": 41
        },
        {
         "fecha": "2009-01-14T19:10:00.000000",
         "direccion": "CL42 #28-2, Palmira - Valle del Cauca, Colombia",
         "categoria": "HURTOPERSONAS",
         "vacios": -1,
         "latitudes": 3.5378617,
         "longitudes": -76.29734739999999,
         "index": "nan",
         "_deepnote_index_column": 42
        },
        {
         "fecha": "2009-01-14T15:30:00.000000",
         "direccion": "CL54B #45-60, Palmira - Valle del Cauca, Colombia",
         "categoria": "HURTOPERSONAS",
         "vacios": -1,
         "latitudes": 3.5379718,
         "longitudes": -76.2971657,
         "index": "nan",
         "_deepnote_index_column": 43
        },
        {
         "fecha": "2009-01-15T00:00:00.000000",
         "direccion": "DG28B #58-8, Palmira - Valle del Cauca, Colombia",
         "categoria": "HURTOPERSONAS",
         "vacios": -1,
         "latitudes": 3.5379718,
         "longitudes": -76.2971657,
         "index": "nan",
         "_deepnote_index_column": 44
        },
        {
         "fecha": "2009-01-15T14:47:00.000000",
         "direccion": "CL25 #29-2, Palmira - Valle del Cauca, Colombia",
         "categoria": "HURTOPERSONAS",
         "vacios": -1,
         "latitudes": 3.522995,
         "longitudes": -76.30055999999999,
         "index": "nan",
         "_deepnote_index_column": 45
        },
        {
         "fecha": "2009-01-15T16:15:00.000000",
         "direccion": "CL35 #13-2, Palmira - Valle del Cauca, Colombia",
         "categoria": "HURTOPERSONAS",
         "vacios": -1,
         "latitudes": 3.5315988,
         "longitudes": -76.2855443,
         "index": "nan",
         "_deepnote_index_column": 46
        },
        {
         "fecha": "2009-01-15T08:00:00.000000",
         "direccion": "CL49 #47-2, Palmira - Valle del Cauca, Colombia",
         "categoria": "HURTOPERSONAS",
         "vacios": -1,
         "latitudes": 3.5438414,
         "longitudes": -76.3083087,
         "index": "nan",
         "_deepnote_index_column": 47
        },
        {
         "fecha": "2009-01-15T16:15:00.000000",
         "direccion": "CR1 #31-2, Palmira - Valle del Cauca, Colombia",
         "categoria": "HURTOPERSONAS",
         "vacios": -1,
         "latitudes": 3.5310637,
         "longitudes": -76.2772128,
         "index": "nan",
         "_deepnote_index_column": 48
        },
        {
         "fecha": "2009-01-15T16:32:00.000000",
         "direccion": "CL14 #27-2, Palmira - Valle del Cauca, Colombia",
         "categoria": "HURTOPERSONAS",
         "vacios": -1,
         "latitudes": 3.5060719,
         "longitudes": -76.298855,
         "index": "nan",
         "_deepnote_index_column": 49
        },
        {
         "fecha": "2009-01-16T13:20:00.000000",
         "direccion": "CL31 #40-2, Palmira - Valle del Cauca, Colombia",
         "categoria": "HURTOPERSONAS",
         "vacios": -1,
         "latitudes": 3.5147383,
         "longitudes": -76.272998,
         "index": "nan",
         "_deepnote_index_column": 50
        },
        {
         "fecha": "2009-01-16T12:20:00.000000",
         "direccion": "CR26 #29-81, Palmira - Valle del Cauca, Colombia",
         "categoria": "HURTOPERSONAS",
         "vacios": -1,
         "latitudes": 3.5265041,
         "longitudes": -76.2974562,
         "index": "nan",
         "_deepnote_index_column": 51
        },
        {
         "fecha": "2009-01-16T11:00:00.000000",
         "direccion": "CR42 #41-2, Palmira - Valle del Cauca, Colombia",
         "categoria": "HURTOPERSONAS",
         "vacios": -1,
         "latitudes": 3.5378302,
         "longitudes": -76.3122506,
         "index": "nan",
         "_deepnote_index_column": 52
        },
        {
         "fecha": "2009-01-16T06:10:00.000000",
         "direccion": "CL19 #25A-2, Palmira - Valle del Cauca, Colombia",
         "categoria": "HURTOPERSONAS",
         "vacios": -1,
         "latitudes": 3.5176787,
         "longitudes": -76.2982301,
         "index": "nan",
         "_deepnote_index_column": 53
        },
        {
         "fecha": "2009-01-16T12:00:00.000000",
         "direccion": "CL55 #42-2, Palmira - Valle del Cauca, Colombia",
         "categoria": "HURTOPERSONAS",
         "vacios": -1,
         "latitudes": 3.5472662,
         "longitudes": -76.2957005,
         "index": "nan",
         "_deepnote_index_column": 54
        },
        {
         "fecha": "2009-01-16T21:00:00.000000",
         "direccion": "CL35A #41-120, Palmira - Valle del Cauca, Colombia",
         "categoria": "HURTOPERSONAS",
         "vacios": -1,
         "latitudes": 3.5328183,
         "longitudes": -76.31233569999999,
         "index": "nan",
         "_deepnote_index_column": 55
        },
        {
         "fecha": "2009-01-17T16:40:00.000000",
         "direccion": "CL36 #18-2, Palmira - Valle del Cauca, Colombia",
         "categoria": "HURTOPERSONAS",
         "vacios": -1,
         "latitudes": 3.5318694,
         "longitudes": -76.28972519999999,
         "index": "nan",
         "_deepnote_index_column": 56
        },
        {
         "fecha": "2009-01-17T10:20:00.000000",
         "direccion": "CR22 #39-22, Palmira - Valle del Cauca, Colombia",
         "categoria": "HURTOPERSONAS",
         "vacios": -1,
         "latitudes": 3.5351181,
         "longitudes": -76.2926039,
         "index": "nan",
         "_deepnote_index_column": 57
        },
        {
         "fecha": "2009-01-17T11:40:00.000000",
         "direccion": "CR28 #39-2, Palmira - Valle del Cauca, Colombia",
         "categoria": "HURTOPERSONAS",
         "vacios": -1,
         "latitudes": 3.534988,
         "longitudes": -76.2976901,
         "index": "nan",
         "_deepnote_index_column": 58
        },
        {
         "fecha": "2009-01-18T14:30:00.000000",
         "direccion": "CR33 #45-75, Palmira - Valle del Cauca, Colombia",
         "categoria": "HURTOPERSONAS",
         "vacios": -1,
         "latitudes": 3.5412149,
         "longitudes": -76.3016991,
         "index": "nan",
         "_deepnote_index_column": 59
        },
        {
         "fecha": "2009-01-18T16:30:00.000000",
         "direccion": "CR27 #22-2, Palmira - Valle del Cauca, Colombia",
         "categoria": "HURTOPERSONAS",
         "vacios": -1,
         "latitudes": 3.5201497,
         "longitudes": -76.2990749,
         "index": "nan",
         "_deepnote_index_column": 60
        },
        {
         "fecha": "2009-01-19T04:33:00.000000",
         "direccion": "CL25 #30-3, Palmira - Valle del Cauca, Colombia",
         "categoria": "HURTOPERSONAS",
         "vacios": -1,
         "latitudes": 3.5229928,
         "longitudes": -76.3014925,
         "index": "nan",
         "_deepnote_index_column": 61
        },
        {
         "fecha": "2009-01-19T17:00:00.000000",
         "direccion": "CL47 #25-2, Palmira - Valle del Cauca, Colombia",
         "categoria": "HURTOPERSONAS",
         "vacios": -1,
         "latitudes": 3.5421228,
         "longitudes": -76.2947956,
         "index": "nan",
         "_deepnote_index_column": 63
        },
        {
         "fecha": "2009-01-20T21:50:00.000000",
         "direccion": "CR28 #29-2, Palmira - Valle del Cauca, Colombia",
         "categoria": "HURTOPERSONAS",
         "vacios": -1,
         "latitudes": 3.5260484,
         "longitudes": -76.2990585,
         "index": "nan",
         "_deepnote_index_column": 64
        },
        {
         "fecha": "2009-01-20T07:35:00.000000",
         "direccion": "CL26 #33-2, Palmira - Valle del Cauca, Colombia",
         "categoria": "HURTOPERSONAS",
         "vacios": -1,
         "latitudes": 3.5241112,
         "longitudes": -76.30358319999999,
         "index": "nan",
         "_deepnote_index_column": 65
        },
        {
         "fecha": "2009-01-20T18:00:00.000000",
         "direccion": "CL38 #11A-5, Palmira - Valle del Cauca, Colombia",
         "categoria": "HURTOPERSONAS",
         "vacios": -1,
         "latitudes": 3.5342263,
         "longitudes": -76.2844302,
         "index": "nan",
         "_deepnote_index_column": 66
        },
        {
         "fecha": "2009-01-20T16:30:00.000000",
         "direccion": "CR22 #28-46, Palmira - Valle del Cauca, Colombia",
         "categoria": "HURTOPERSONAS",
         "vacios": -1,
         "latitudes": 3.5250616,
         "longitudes": -76.2939612,
         "index": "nan",
         "_deepnote_index_column": 67
        },
        {
         "fecha": "2009-01-20T11:30:00.000000",
         "direccion": "CR28 #23-2, Palmira - Valle del Cauca, Colombia",
         "categoria": "HURTOPERSONAS",
         "vacios": -1,
         "latitudes": 3.5209729,
         "longitudes": -76.2998095,
         "index": "nan",
         "_deepnote_index_column": 68
        },
        {
         "fecha": "2009-01-21T12:30:00.000000",
         "direccion": "CR32 #34-2, Palmira - Valle del Cauca, Colombia",
         "categoria": "HURTOPERSONAS",
         "vacios": -1,
         "latitudes": 3.5379718,
         "longitudes": -76.2971657,
         "index": "nan",
         "_deepnote_index_column": 69
        },
        {
         "fecha": "2009-01-21T11:00:00.000000",
         "direccion": "CL27 #17-2, Palmira - Valle del Cauca, Colombia",
         "categoria": "HURTOPERSONAS",
         "vacios": -1,
         "latitudes": 3.523327,
         "longitudes": -76.2899226,
         "index": "nan",
         "_deepnote_index_column": 70
        },
        {
         "fecha": "2009-01-22T13:00:00.000000",
         "direccion": "CR19 #39-2, Palmira - Valle del Cauca, Colombia",
         "categoria": "HURTOPERSONAS",
         "vacios": -1,
         "latitudes": 3.5346515,
         "longitudes": -76.2905919,
         "index": "nan",
         "_deepnote_index_column": 71
        }
       ],
       "rows_bottom": [
        {
         "fecha": "2012-12-03T08:00:00.000000",
         "direccion": "CL30#29, Palmira - Valle del Cauca, Colombia",
         "categoria": "HURTOPERSONAS",
         "vacios": -1,
         "latitudes": 3.5270462,
         "longitudes": -76.2997783,
         "index": 5773,
         "_deepnote_index_column": 1097
        },
        {
         "fecha": "2012-12-01T11:00:00.000000",
         "direccion": "CR19#35-49, Palmira - Valle del Cauca, Colombia",
         "categoria": "HURTOENTIDADESCOMERCIALES",
         "vacios": -1,
         "latitudes": 3.4804135,
         "longitudes": -76.41365379999999,
         "index": 5774,
         "_deepnote_index_column": 1098
        },
        {
         "fecha": "2012-12-19T09:30:00.000000",
         "direccion": "CR29#18-14, Palmira - Valle del Cauca, Colombia",
         "categoria": "HURTOPERSONAS",
         "vacios": -1,
         "latitudes": 3.5379718,
         "longitudes": -76.2971657,
         "index": 5775,
         "_deepnote_index_column": 1099
        },
        {
         "fecha": "2012-12-18T13:35:00.000000",
         "direccion": "CR19#36-19, Palmira - Valle del Cauca, Colombia",
         "categoria": "HURTOENTIDADESCOMERCIALES",
         "vacios": -1,
         "latitudes": 3.5319349,
         "longitudes": -76.2904416,
         "index": 5776,
         "_deepnote_index_column": 1100
        },
        {
         "fecha": "2012-12-17T17:00:00.000000",
         "direccion": "CR26#31, Palmira - Valle del Cauca, Colombia",
         "categoria": "HURTOMOTOCICLETAS",
         "vacios": -1,
         "latitudes": 3.5376817,
         "longitudes": -76.2954151,
         "index": 5777,
         "_deepnote_index_column": 1101
        },
        {
         "fecha": "2012-12-17T11:00:00.000000",
         "direccion": "CR27#30, Palmira - Valle del Cauca, Colombia",
         "categoria": "HURTOPERSONAS",
         "vacios": -1,
         "latitudes": 3.5272625,
         "longitudes": -76.2981221,
         "index": 5778,
         "_deepnote_index_column": 1102
        },
        {
         "fecha": "2012-12-17T12:10:00.000000",
         "direccion": "CR28#22, Palmira - Valle del Cauca, Colombia",
         "categoria": "HURTOPERSONAS",
         "vacios": -1,
         "latitudes": 3.5204684,
         "longitudes": -76.3000194,
         "index": 5779,
         "_deepnote_index_column": 1103
        },
        {
         "fecha": "2012-12-14T22:30:00.000000",
         "direccion": "CL34#33-71, Palmira - Valle del Cauca, Colombia",
         "categoria": "HURTOPERSONAS",
         "vacios": -1,
         "latitudes": 3.5317139,
         "longitudes": -76.303,
         "index": 5780,
         "_deepnote_index_column": 1104
        },
        {
         "fecha": "2012-12-15T21:30:00.000000",
         "direccion": "CL20#24A-09, Palmira - Valle del Cauca, Colombia",
         "categoria": "HURTOMOTOCICLETAS",
         "vacios": -1,
         "latitudes": 3.5183103,
         "longitudes": -76.2968614,
         "index": 5781,
         "_deepnote_index_column": 1105
        },
        {
         "fecha": "2012-12-13T18:00:00.000000",
         "direccion": "CR35#47, Palmira - Valle del Cauca, Colombia",
         "categoria": "HURTOPERSONAS",
         "vacios": -1,
         "latitudes": 3.5340816,
         "longitudes": -76.3057615,
         "index": 5782,
         "_deepnote_index_column": 1106
        },
        {
         "fecha": "2012-12-14T10:25:00.000000",
         "direccion": "CR30A#18-64, Palmira - Valle del Cauca, Colombia",
         "categoria": "HURTOPERSONAS",
         "vacios": -1,
         "latitudes": 3.5175127,
         "longitudes": -76.302911,
         "index": 5783,
         "_deepnote_index_column": 1107
        },
        {
         "fecha": "2012-12-13T19:00:00.000000",
         "direccion": "CR21#48-72, Palmira - Valle del Cauca, Colombia",
         "categoria": "HURTOPERSONAS",
         "vacios": -1,
         "latitudes": 3.5379718,
         "longitudes": -76.2971657,
         "index": 5784,
         "_deepnote_index_column": 1108
        },
        {
         "fecha": "2012-12-12T15:30:00.000000",
         "direccion": "CRA32#47, Palmira - Valle del Cauca, Colombia",
         "categoria": "HURTOPERSONAS",
         "vacios": -1,
         "latitudes": 3.5299031,
         "longitudes": -76.30232,
         "index": 5785,
         "_deepnote_index_column": 1109
        },
        {
         "fecha": "2012-12-11T11:30:00.000000",
         "direccion": "CR32#26, Palmira - Valle del Cauca, Colombia",
         "categoria": "HURTOPERSONAS",
         "vacios": -1,
         "latitudes": 3.5150182,
         "longitudes": -76.2742066,
         "index": 5786,
         "_deepnote_index_column": 1110
        },
        {
         "fecha": "2012-12-11T12:00:00.000000",
         "direccion": "CR26#25, Palmira - Valle del Cauca, Colombia",
         "categoria": "HURTOPERSONAS",
         "vacios": -1,
         "latitudes": 3.5227715,
         "longitudes": -76.2980183,
         "index": 5787,
         "_deepnote_index_column": 1111
        },
        {
         "fecha": "2012-12-10T14:00:00.000000",
         "direccion": "CL14#25-44, Palmira - Valle del Cauca, Colombia",
         "categoria": "HURTOENTIDADESCOMERCIALES",
         "vacios": -1,
         "latitudes": 3.5154851,
         "longitudes": -76.2731914,
         "index": 5788,
         "_deepnote_index_column": 1112
        },
        {
         "fecha": "2012-12-10T10:00:00.000000",
         "direccion": "CL30#24, Palmira - Valle del Cauca, Colombia",
         "categoria": "HURTOINTERIORDEVEHICULO",
         "vacios": -1,
         "latitudes": 3.5265908,
         "longitudes": -76.2961091,
         "index": 5789,
         "_deepnote_index_column": 1113
        },
        {
         "fecha": "2012-12-10T09:00:00.000000",
         "direccion": "CL30#24, Palmira - Valle del Cauca, Colombia",
         "categoria": "HURTOPERSONAS",
         "vacios": -1,
         "latitudes": 3.5265908,
         "longitudes": -76.2961091,
         "index": 5790,
         "_deepnote_index_column": 1114
        },
        {
         "fecha": "2012-12-10T09:00:00.000000",
         "direccion": "CL30#24, Palmira - Valle del Cauca, Colombia",
         "categoria": "HURTOPERSONAS",
         "vacios": -1,
         "latitudes": 3.5265908,
         "longitudes": -76.2961091,
         "index": 5791,
         "_deepnote_index_column": 1115
        },
        {
         "fecha": "2012-12-01T00:00:00.000000",
         "direccion": "CR26#56-30 , Palmira - Valle del Cauca, Colombia",
         "categoria": "HURTOPERSONAS",
         "vacios": -1,
         "latitudes": 3.5477792,
         "longitudes": -76.29099889999999,
         "index": 5792,
         "_deepnote_index_column": 1116
        },
        {
         "fecha": "2012-12-02T00:00:00.000000",
         "direccion": "CR24#6-, Palmira - Valle del Cauca, Colombia",
         "categoria": "HURTOPERSONAS",
         "vacios": -1,
         "latitudes": 3.4802368,
         "longitudes": -76.4131893,
         "index": 5793,
         "_deepnote_index_column": 1117
        },
        {
         "fecha": "2012-12-02T08:00:00.000000",
         "direccion": "CL30#29, Palmira - Valle del Cauca, Colombia",
         "categoria": "HURTOPERSONAS",
         "vacios": -1,
         "latitudes": 3.5270462,
         "longitudes": -76.2997783,
         "index": 5794,
         "_deepnote_index_column": 1118
        },
        {
         "fecha": "2012-12-02T20:00:00.000000",
         "direccion": "CL42#41, Palmira - Valle del Cauca, Colombia",
         "categoria": "HURTOPERSONAS",
         "vacios": -1,
         "latitudes": 3.5385882,
         "longitudes": -76.3119004,
         "index": 5795,
         "_deepnote_index_column": 1119
        },
        {
         "fecha": "2012-12-02T06:10:00.000000",
         "direccion": "CL53C#37, Palmira - Valle del Cauca, Colombia",
         "categoria": "HURTOPERSONAS",
         "vacios": -1,
         "latitudes": 3.5379718,
         "longitudes": -76.2971657,
         "index": 5796,
         "_deepnote_index_column": 1120
        },
        {
         "fecha": "2012-12-02T18:00:00.000000",
         "direccion": "CL34#16-68, Palmira - Valle del Cauca, Colombia",
         "categoria": "HURTOPERSONAS",
         "vacios": -1,
         "latitudes": 3.5379718,
         "longitudes": -76.2971657,
         "index": 5797,
         "_deepnote_index_column": 1121
        },
        {
         "fecha": "2012-12-03T14:30:00.000000",
         "direccion": "CL53C#37, Palmira - Valle del Cauca, Colombia",
         "categoria": "HURTOPERSONAS",
         "vacios": -1,
         "latitudes": 3.5379718,
         "longitudes": -76.2971657,
         "index": 5798,
         "_deepnote_index_column": 1122
        },
        {
         "fecha": "2012-12-04T11:10:00.000000",
         "direccion": "CR29#39-51 , Palmira - Valle del Cauca, Colombia",
         "categoria": "HURTOPERSONAS",
         "vacios": -1,
         "latitudes": 3.5361585,
         "longitudes": -76.2986677,
         "index": 5799,
         "_deepnote_index_column": 1123
        },
        {
         "fecha": "2012-12-06T22:50:00.000000",
         "direccion": "CL36#3B, Palmira - Valle del Cauca, Colombia",
         "categoria": "HURTOPERSONAS",
         "vacios": -1,
         "latitudes": 3.533368,
         "longitudes": -76.28006649999999,
         "index": 5800,
         "_deepnote_index_column": 1124
        },
        {
         "fecha": "2012-12-06T07:30:00.000000",
         "direccion": "CL47C#13-59, Palmira - Valle del Cauca, Colombia",
         "categoria": "HURTOPERSONAS",
         "vacios": -1,
         "latitudes": 3.5433963,
         "longitudes": -76.2902778,
         "index": 5801,
         "_deepnote_index_column": 1125
        },
        {
         "fecha": "2012-12-07T09:45:00.000000",
         "direccion": "CL33#25, Palmira - Valle del Cauca, Colombia",
         "categoria": "HURTOPERSONAS",
         "vacios": -1,
         "latitudes": 3.5291875,
         "longitudes": -76.2729781,
         "index": 5802,
         "_deepnote_index_column": 1126
        },
        {
         "fecha": "2012-12-07T14:40:00.000000",
         "direccion": "CR30#20-, Palmira - Valle del Cauca, Colombia",
         "categoria": "HURTOPERSONAS",
         "vacios": -1,
         "latitudes": 3.5191058,
         "longitudes": -76.302341,
         "index": 5803,
         "_deepnote_index_column": 1127
        },
        {
         "fecha": "2012-12-07T15:00:00.000000",
         "direccion": "CL29#28, Palmira - Valle del Cauca, Colombia",
         "categoria": "HURTOPERSONAS",
         "vacios": -1,
         "latitudes": 3.5261791,
         "longitudes": -76.2993619,
         "index": 5804,
         "_deepnote_index_column": 1128
        },
        {
         "fecha": "2012-12-07T08:30:00.000000",
         "direccion": "CL27#2-A 59, Palmira - Valle del Cauca, Colombia",
         "categoria": "HURTOPERSONAS",
         "vacios": -1,
         "latitudes": 3.5379718,
         "longitudes": -76.2971657,
         "index": 5805,
         "_deepnote_index_column": 1129
        },
        {
         "fecha": "2012-12-07T15:30:00.000000",
         "direccion": "CL33B#-9, Palmira - Valle del Cauca, Colombia",
         "categoria": "HURTOPERSONAS",
         "vacios": -1,
         "latitudes": 3.5379718,
         "longitudes": -76.2971657,
         "index": 5806,
         "_deepnote_index_column": 1130
        },
        {
         "fecha": "2012-12-07T15:00:00.000000",
         "direccion": "CR28#43-, Palmira - Valle del Cauca, Colombia",
         "categoria": "HURTOPERSONAS",
         "vacios": -1,
         "latitudes": 3.5392088,
         "longitudes": -76.2967725,
         "index": 5807,
         "_deepnote_index_column": 1131
        },
        {
         "fecha": "2012-12-07T11:00:00.000000",
         "direccion": "CL69A#26A-13, Palmira - Valle del Cauca, Colombia",
         "categoria": "HURTOPERSONAS",
         "vacios": -1,
         "latitudes": 3.5379718,
         "longitudes": -76.2971657,
         "index": 5808,
         "_deepnote_index_column": 1132
        },
        {
         "fecha": "2012-12-11T13:40:00.000000",
         "direccion": "CL42#31, Palmira - Valle del Cauca, Colombia",
         "categoria": "HURTOPERSONAS",
         "vacios": -1,
         "latitudes": 3.5362019,
         "longitudes": -76.2774456,
         "index": 5809,
         "_deepnote_index_column": 1133
        },
        {
         "fecha": "2012-12-12T16:15:00.000000",
         "direccion": "CL31#44, Palmira - Valle del Cauca, Colombia",
         "categoria": "HURTOPERSONAS",
         "vacios": -1,
         "latitudes": 3.5275768,
         "longitudes": -76.2950572,
         "index": 5810,
         "_deepnote_index_column": 1134
        },
        {
         "fecha": "2012-12-14T10:30:00.000000",
         "direccion": "CR28#29-, Palmira - Valle del Cauca, Colombia",
         "categoria": "HURTOPERSONAS",
         "vacios": -1,
         "latitudes": 3.5264058,
         "longitudes": -76.2988203,
         "index": 5811,
         "_deepnote_index_column": 1135
        },
        {
         "fecha": "2012-12-15T15:30:00.000000",
         "direccion": "CL15#30, Palmira - Valle del Cauca, Colombia",
         "categoria": "HURTOPERSONAS",
         "vacios": -1,
         "latitudes": 3.5379718,
         "longitudes": -76.2971657,
         "index": 5812,
         "_deepnote_index_column": 1136
        },
        {
         "fecha": "2012-12-16T20:40:00.000000",
         "direccion": "CL42#29, Palmira - Valle del Cauca, Colombia",
         "categoria": "HURTOPERSONAS",
         "vacios": -1,
         "latitudes": 3.5381954,
         "longitudes": -76.2982669,
         "index": 5813,
         "_deepnote_index_column": 1137
        },
        {
         "fecha": "2012-12-17T00:00:00.000000",
         "direccion": "CR31#32A-, Palmira - Valle del Cauca, Colombia",
         "categoria": "HURTOPERSONAS",
         "vacios": -1,
         "latitudes": 3.5285898,
         "longitudes": -76.30130820000001,
         "index": 5814,
         "_deepnote_index_column": 1138
        },
        {
         "fecha": "2012-12-17T15:30:00.000000",
         "direccion": "CL32A#-37, Palmira - Valle del Cauca, Colombia",
         "categoria": "HURTOPERSONAS",
         "vacios": -1,
         "latitudes": 3.5379718,
         "longitudes": -76.2971657,
         "index": 5815,
         "_deepnote_index_column": 1139
        },
        {
         "fecha": "2012-12-17T11:10:00.000000",
         "direccion": "CL42#13, Palmira - Valle del Cauca, Colombia",
         "categoria": "HURTOPERSONAS",
         "vacios": -1,
         "latitudes": 3.5370326,
         "longitudes": -76.2862825,
         "index": 5816,
         "_deepnote_index_column": 1140
        },
        {
         "fecha": "2012-12-18T08:45:00.000000",
         "direccion": "CR31#29-, Palmira - Valle del Cauca, Colombia",
         "categoria": "HURTOPERSONAS",
         "vacios": -1,
         "latitudes": 3.5267374,
         "longitudes": -76.30182479999999,
         "index": 5817,
         "_deepnote_index_column": 1141
        },
        {
         "fecha": "2012-12-18T19:00:00.000000",
         "direccion": "CL34#16-68, Palmira - Valle del Cauca, Colombia",
         "categoria": "HURTOPERSONAS",
         "vacios": -1,
         "latitudes": 3.5379718,
         "longitudes": -76.2971657,
         "index": 5818,
         "_deepnote_index_column": 1142
        },
        {
         "fecha": "2012-12-19T09:30:00.000000",
         "direccion": "CR29#18-14 , Palmira - Valle del Cauca, Colombia",
         "categoria": "HURTOPERSONAS",
         "vacios": -1,
         "latitudes": 3.5379718,
         "longitudes": -76.2971657,
         "index": 5819,
         "_deepnote_index_column": 1143
        },
        {
         "fecha": "2012-12-20T10:00:00.000000",
         "direccion": "CR30#26-64 , Palmira - Valle del Cauca, Colombia",
         "categoria": "HURTOPERSONAS",
         "vacios": -1,
         "latitudes": 3.524282,
         "longitudes": -76.3010538,
         "index": 5820,
         "_deepnote_index_column": 1144
        },
        {
         "fecha": "2012-12-20T08:00:00.000000",
         "direccion": "CR37#36-, Palmira - Valle del Cauca, Colombia",
         "categoria": "HURTOPERSONAS",
         "vacios": -1,
         "latitudes": 3.4276807,
         "longitudes": -76.5503359,
         "index": 5821,
         "_deepnote_index_column": 1145
        },
        {
         "fecha": "2012-12-20T21:45:00.000000",
         "direccion": "CR39#35-, Palmira - Valle del Cauca, Colombia",
         "categoria": "HURTOPERSONAS",
         "vacios": -1,
         "latitudes": 3.5379718,
         "longitudes": -76.2971657,
         "index": 5822,
         "_deepnote_index_column": 1146
        },
        {
         "fecha": "2012-12-20T10:00:00.000000",
         "direccion": "CL56A#40-26, Palmira - Valle del Cauca, Colombia",
         "categoria": "HURTOPERSONAS",
         "vacios": -1,
         "latitudes": 3.5379718,
         "longitudes": -76.2971657,
         "index": 5823,
         "_deepnote_index_column": 1147
        },
        {
         "fecha": "2012-12-20T14:00:00.000000",
         "direccion": "CL11#7-2, Palmira - Valle del Cauca, Colombia",
         "categoria": "HURTOPERSONAS",
         "vacios": -1,
         "latitudes": 3.5103733,
         "longitudes": -76.300699,
         "index": 5824,
         "_deepnote_index_column": 1148
        },
        {
         "fecha": "2012-12-21T04:30:00.000000",
         "direccion": "CL10#6, Palmira - Valle del Cauca, Colombia",
         "categoria": "HURTOPERSONAS",
         "vacios": -1,
         "latitudes": 3.5379718,
         "longitudes": -76.2971657,
         "index": 5825,
         "_deepnote_index_column": 1149
        },
        {
         "fecha": "2012-12-22T15:10:00.000000",
         "direccion": "CR38#59-, Palmira - Valle del Cauca, Colombia",
         "categoria": "HURTOPERSONAS",
         "vacios": -1,
         "latitudes": 3.5339751,
         "longitudes": -76.3082321,
         "index": 5826,
         "_deepnote_index_column": 1150
        },
        {
         "fecha": "2012-12-22T21:00:00.000000",
         "direccion": "CL57#41A, Palmira - Valle del Cauca, Colombia",
         "categoria": "HURTOPERSONAS",
         "vacios": -1,
         "latitudes": 3.5478897,
         "longitudes": -76.3126376,
         "index": 5827,
         "_deepnote_index_column": 1151
        },
        {
         "fecha": "2012-12-23T18:35:00.000000",
         "direccion": "CL10#3, Palmira - Valle del Cauca, Colombia",
         "categoria": "HURTOPERSONAS",
         "vacios": -1,
         "latitudes": 3.5379718,
         "longitudes": -76.2971657,
         "index": 5828,
         "_deepnote_index_column": 1152
        },
        {
         "fecha": "2012-12-25T20:00:00.000000",
         "direccion": "CL30#19, Palmira - Valle del Cauca, Colombia",
         "categoria": "HURTOPERSONAS",
         "vacios": -1,
         "latitudes": 3.5261276,
         "longitudes": -76.2919174,
         "index": 5829,
         "_deepnote_index_column": 1153
        },
        {
         "fecha": "2012-12-25T18:30:00.000000",
         "direccion": "CR28#47-, Palmira - Valle del Cauca, Colombia",
         "categoria": "HURTOPERSONAS",
         "vacios": -1,
         "latitudes": 3.542309,
         "longitudes": -76.2965332,
         "index": 5830,
         "_deepnote_index_column": 1154
        },
        {
         "fecha": "2012-12-26T15:30:00.000000",
         "direccion": "CR30#29-88 , Palmira - Valle del Cauca, Colombia",
         "categoria": "HURTOPERSONAS",
         "vacios": -1,
         "latitudes": 3.5269596,
         "longitudes": -76.3005333,
         "index": 5831,
         "_deepnote_index_column": 1155
        },
        {
         "fecha": "2012-12-27T11:30:00.000000",
         "direccion": "CL31#30-71, Palmira - Valle del Cauca, Colombia",
         "categoria": "HURTOPERSONAS",
         "vacios": -1,
         "latitudes": 3.528994,
         "longitudes": -76.30627799999999,
         "index": 5832,
         "_deepnote_index_column": 1156
        },
        {
         "fecha": "2012-12-27T16:00:00.000000",
         "direccion": "CL48#30B-5, Palmira - Valle del Cauca, Colombia",
         "categoria": "HURTOPERSONAS",
         "vacios": -1,
         "latitudes": 3.5434884,
         "longitudes": -76.2985447,
         "index": 5833,
         "_deepnote_index_column": 1157
        },
        {
         "fecha": "2012-12-28T00:34:00.000000",
         "direccion": "CR28#38-54 , Palmira - Valle del Cauca, Colombia",
         "categoria": "HURTOPERSONAS",
         "vacios": -1,
         "latitudes": 3.5353608,
         "longitudes": -76.2975763,
         "index": 5834,
         "_deepnote_index_column": 1158
        },
        {
         "fecha": "2012-12-30T09:40:00.000000",
         "direccion": "CL42#34-53, Palmira - Valle del Cauca, Colombia",
         "categoria": "HURTOPERSONAS",
         "vacios": -1,
         "latitudes": 3.5386531,
         "longitudes": -76.3030232,
         "index": 5835,
         "_deepnote_index_column": 1159
        },
        {
         "fecha": "2012-12-30T15:30:00.000000",
         "direccion": "CR24#28-, Palmira - Valle del Cauca, Colombia",
         "categoria": "HURTOPERSONAS",
         "vacios": -1,
         "latitudes": 3.5251592,
         "longitudes": -76.2956908,
         "index": 5836,
         "_deepnote_index_column": 1160
        },
        {
         "fecha": "2012-12-31T13:00:00.000000",
         "direccion": "CR24#17-, Palmira - Valle del Cauca, Colombia",
         "categoria": "HURTOPERSONAS",
         "vacios": -1,
         "latitudes": 3.5158471,
         "longitudes": -76.29569819999999,
         "index": 5837,
         "_deepnote_index_column": 1161
        },
        {
         "fecha": "2012-12-23T15:30:00.000000",
         "direccion": "CL40#1B-60, Palmira - Valle del Cauca, Colombia",
         "categoria": "HURTORESIDENCIAS",
         "vacios": -1,
         "latitudes": 3.5363085,
         "longitudes": -76.296984,
         "index": 5838,
         "_deepnote_index_column": 1162
        },
        {
         "fecha": "2012-12-06T07:30:00.000000",
         "direccion": "CL47C#13-59, Palmira - Valle del Cauca, Colombia",
         "categoria": "HURTOMOTOCICLETAS",
         "vacios": -1,
         "latitudes": 3.5433963,
         "longitudes": -76.2902778,
         "index": 5839,
         "_deepnote_index_column": 1163
        },
        {
         "fecha": "2012-12-11T07:30:00.000000",
         "direccion": "CR44#40-1 , Palmira - Valle del Cauca, Colombia",
         "categoria": "HURTOMOTOCICLETAS",
         "vacios": -1,
         "latitudes": 3.5368339,
         "longitudes": -76.3150361,
         "index": 5840,
         "_deepnote_index_column": 1164
        },
        {
         "fecha": "2012-12-30T20:30:00.000000",
         "direccion": "CL42#8, Palmira - Valle del Cauca, Colombia",
         "categoria": "HURTOMOTOCICLETAS",
         "vacios": -1,
         "latitudes": 3.5387097,
         "longitudes": -76.3018896,
         "index": 5841,
         "_deepnote_index_column": 1165
        },
        {
         "fecha": "2012-12-02T02:00:00.000000",
         "direccion": "CR28#27-48 , Palmira - Valle del Cauca, Colombia",
         "categoria": "HURTOENTIDADESCOMERCIALES",
         "vacios": -1,
         "latitudes": 3.5247934,
         "longitudes": -76.2992352,
         "index": 5842,
         "_deepnote_index_column": 1166
        },
        {
         "fecha": "2012-12-05T13:15:00.000000",
         "direccion": "CL29#25-51, Palmira - Valle del Cauca, Colombia",
         "categoria": "HURTOENTIDADESCOMERCIALES",
         "vacios": -1,
         "latitudes": 3.5257443,
         "longitudes": -76.29698309999999,
         "index": 5843,
         "_deepnote_index_column": 1167
        }
       ]
      },
      "text/plain": "                   fecha                                          direccion  \\\n0    2009-01-01 13:00:00      CL1 #2-2, Palmira - Valle del Cauca, Colombia   \n1    2009-01-01 00:00:00   CR28 #43-2 , Palmira - Valle del Cauca, Colombia   \n2    2009-01-02 02:00:00    CL21 #24-2, Palmira - Valle del Cauca, Colombia   \n3    2009-01-02 02:35:00   CL47 #25-32, Palmira - Valle del Cauca, Colombia   \n4    2009-01-02 08:00:00  CL54B #45-60, Palmira - Valle del Cauca, Colombia   \n...                  ...                                                ...   \n1163 2012-12-06 07:30:00   CL47C#13-59, Palmira - Valle del Cauca, Colombia   \n1164 2012-12-11 07:30:00    CR44#40-1 , Palmira - Valle del Cauca, Colombia   \n1165 2012-12-30 20:30:00        CL42#8, Palmira - Valle del Cauca, Colombia   \n1166 2012-12-02 02:00:00   CR28#27-48 , Palmira - Valle del Cauca, Colombia   \n1167 2012-12-05 13:15:00    CL29#25-51, Palmira - Valle del Cauca, Colombia   \n\n                      categoria  vacios  latitudes  longitudes   index  \n0                 HURTOPERSONAS      -1   3.537972  -76.297166     NaN  \n1                 HURTOPERSONAS      -1   3.538685  -76.297222     NaN  \n2                 HURTOPERSONAS      -1   3.537972  -76.297166     NaN  \n3                 HURTOPERSONAS      -1   3.542123  -76.294796     NaN  \n4                 HURTOPERSONAS      -1   3.537972  -76.297166     NaN  \n...                         ...     ...        ...         ...     ...  \n1163          HURTOMOTOCICLETAS      -1   3.543396  -76.290278  5839.0  \n1164          HURTOMOTOCICLETAS      -1   3.536834  -76.315036  5840.0  \n1165          HURTOMOTOCICLETAS      -1   3.538710  -76.301890  5841.0  \n1166  HURTOENTIDADESCOMERCIALES      -1   3.524793  -76.299235  5842.0  \n1167  HURTOENTIDADESCOMERCIALES      -1   3.525744  -76.296983  5843.0  \n\n[5811 rows x 7 columns]",
      "text/html": "<div>\n<style scoped>\n    .dataframe tbody tr th:only-of-type {\n        vertical-align: middle;\n    }\n\n    .dataframe tbody tr th {\n        vertical-align: top;\n    }\n\n    .dataframe thead th {\n        text-align: right;\n    }\n</style>\n<table border=\"1\" class=\"dataframe\">\n  <thead>\n    <tr style=\"text-align: right;\">\n      <th></th>\n      <th>fecha</th>\n      <th>direccion</th>\n      <th>categoria</th>\n      <th>vacios</th>\n      <th>latitudes</th>\n      <th>longitudes</th>\n      <th>index</th>\n    </tr>\n  </thead>\n  <tbody>\n    <tr>\n      <th>0</th>\n      <td>2009-01-01 13:00:00</td>\n      <td>CL1 #2-2, Palmira - Valle del Cauca, Colombia</td>\n      <td>HURTOPERSONAS</td>\n      <td>-1</td>\n      <td>3.537972</td>\n      <td>-76.297166</td>\n      <td>NaN</td>\n    </tr>\n    <tr>\n      <th>1</th>\n      <td>2009-01-01 00:00:00</td>\n      <td>CR28 #43-2 , Palmira - Valle del Cauca, Colombia</td>\n      <td>HURTOPERSONAS</td>\n      <td>-1</td>\n      <td>3.538685</td>\n      <td>-76.297222</td>\n      <td>NaN</td>\n    </tr>\n    <tr>\n      <th>2</th>\n      <td>2009-01-02 02:00:00</td>\n      <td>CL21 #24-2, Palmira - Valle del Cauca, Colombia</td>\n      <td>HURTOPERSONAS</td>\n      <td>-1</td>\n      <td>3.537972</td>\n      <td>-76.297166</td>\n      <td>NaN</td>\n    </tr>\n    <tr>\n      <th>3</th>\n      <td>2009-01-02 02:35:00</td>\n      <td>CL47 #25-32, Palmira - Valle del Cauca, Colombia</td>\n      <td>HURTOPERSONAS</td>\n      <td>-1</td>\n      <td>3.542123</td>\n      <td>-76.294796</td>\n      <td>NaN</td>\n    </tr>\n    <tr>\n      <th>4</th>\n      <td>2009-01-02 08:00:00</td>\n      <td>CL54B #45-60, Palmira - Valle del Cauca, Colombia</td>\n      <td>HURTOPERSONAS</td>\n      <td>-1</td>\n      <td>3.537972</td>\n      <td>-76.297166</td>\n      <td>NaN</td>\n    </tr>\n    <tr>\n      <th>...</th>\n      <td>...</td>\n      <td>...</td>\n      <td>...</td>\n      <td>...</td>\n      <td>...</td>\n      <td>...</td>\n      <td>...</td>\n    </tr>\n    <tr>\n      <th>1163</th>\n      <td>2012-12-06 07:30:00</td>\n      <td>CL47C#13-59, Palmira - Valle del Cauca, Colombia</td>\n      <td>HURTOMOTOCICLETAS</td>\n      <td>-1</td>\n      <td>3.543396</td>\n      <td>-76.290278</td>\n      <td>5839.0</td>\n    </tr>\n    <tr>\n      <th>1164</th>\n      <td>2012-12-11 07:30:00</td>\n      <td>CR44#40-1 , Palmira - Valle del Cauca, Colombia</td>\n      <td>HURTOMOTOCICLETAS</td>\n      <td>-1</td>\n      <td>3.536834</td>\n      <td>-76.315036</td>\n      <td>5840.0</td>\n    </tr>\n    <tr>\n      <th>1165</th>\n      <td>2012-12-30 20:30:00</td>\n      <td>CL42#8, Palmira - Valle del Cauca, Colombia</td>\n      <td>HURTOMOTOCICLETAS</td>\n      <td>-1</td>\n      <td>3.538710</td>\n      <td>-76.301890</td>\n      <td>5841.0</td>\n    </tr>\n    <tr>\n      <th>1166</th>\n      <td>2012-12-02 02:00:00</td>\n      <td>CR28#27-48 , Palmira - Valle del Cauca, Colombia</td>\n      <td>HURTOENTIDADESCOMERCIALES</td>\n      <td>-1</td>\n      <td>3.524793</td>\n      <td>-76.299235</td>\n      <td>5842.0</td>\n    </tr>\n    <tr>\n      <th>1167</th>\n      <td>2012-12-05 13:15:00</td>\n      <td>CL29#25-51, Palmira - Valle del Cauca, Colombia</td>\n      <td>HURTOENTIDADESCOMERCIALES</td>\n      <td>-1</td>\n      <td>3.525744</td>\n      <td>-76.296983</td>\n      <td>5843.0</td>\n    </tr>\n  </tbody>\n</table>\n<p>5811 rows × 7 columns</p>\n</div>"
     },
     "metadata": {}
    }
   ],
   "execution_count": null
  },
  {
   "cell_type": "code",
   "metadata": {
    "tags": [],
    "cell_id": "00037-bd4ffb3a-d052-4770-8b46-5d9b52ed5143",
    "deepnote_to_be_reexecuted": false,
    "source_hash": "6c2def52",
    "execution_start": 1626913019561,
    "execution_millis": 92,
    "deepnote_cell_type": "code"
   },
   "source": "#dejamos el dataset completo y limpio de columnas innecesarias\nhurtos_full = hurtos_full.drop(columns=['vacios','index'])\nhurtos_full",
   "outputs": [
    {
     "output_type": "execute_result",
     "execution_count": 21,
     "data": {
      "application/vnd.deepnote.dataframe.v2+json": {
       "row_count": 5811,
       "column_count": 5,
       "columns": [
        {
         "name": "fecha",
         "dtype": "datetime64[ns]",
         "stats": {
          "unique_count": 5274,
          "nan_count": 7,
          "min": "2002-01-15 06:00:00",
          "max": "2012-12-31 13:00:00",
          "histogram": [
           {
            "bin_start": 1011074400000000000,
            "bin_end": 1045662840000000000,
            "count": 3
           },
           {
            "bin_start": 1045662840000000000,
            "bin_end": 1080251280000000000,
            "count": 0
           },
           {
            "bin_start": 1080251280000000000,
            "bin_end": 1114839720000000000,
            "count": 0
           },
           {
            "bin_start": 1114839720000000000,
            "bin_end": 1149428160000000000,
            "count": 0
           },
           {
            "bin_start": 1149428160000000000,
            "bin_end": 1184016600000000000,
            "count": 0
           },
           {
            "bin_start": 1184016600000000000,
            "bin_end": 1218605040000000000,
            "count": 0
           },
           {
            "bin_start": 1218605040000000000,
            "bin_end": 1253193480000000000,
            "count": 1157
           },
           {
            "bin_start": 1253193480000000000,
            "bin_end": 1287781920000000000,
            "count": 1506
           },
           {
            "bin_start": 1287781920000000000,
            "bin_end": 1322370360000000000,
            "count": 1554
           },
           {
            "bin_start": 1322370360000000000,
            "bin_end": 1356958800000000000,
            "count": 1584
           }
          ]
         }
        },
        {
         "name": "direccion",
         "dtype": "object",
         "stats": {
          "unique_count": 3602,
          "nan_count": 0,
          "categories": [
           {
            "name": "CL42 #28-2, Palmira - Valle del Cauca, Colombia",
            "count": 35
           },
           {
            "name": "CL31 #41-2, Palmira - Valle del Cauca, Colombia",
            "count": 24
           },
           {
            "name": "3600 others",
            "count": 5752
           }
          ]
         }
        },
        {
         "name": "categoria",
         "dtype": "category",
         "stats": {
          "unique_count": 11,
          "nan_count": 0,
          "categories": [
           {
            "name": "HURTOPERSONAS",
            "count": 4292
           },
           {
            "name": "HURTOMOTOCICLETAS",
            "count": 829
           },
           {
            "name": "9 others",
            "count": 690
           }
          ]
         }
        },
        {
         "name": "latitudes",
         "dtype": "float64",
         "stats": {
          "unique_count": 2298,
          "nan_count": 0,
          "min": "1.2989913",
          "max": "10.869195",
          "histogram": [
           {
            "bin_start": 1.2989913,
            "bin_end": 2.25601167,
            "count": 7
           },
           {
            "bin_start": 2.25601167,
            "bin_end": 3.21303204,
            "count": 0
           },
           {
            "bin_start": 3.21303204,
            "bin_end": 4.17005241,
            "count": 5781
           },
           {
            "bin_start": 4.17005241,
            "bin_end": 5.127072780000001,
            "count": 0
           },
           {
            "bin_start": 5.127072780000001,
            "bin_end": 6.08409315,
            "count": 1
           },
           {
            "bin_start": 6.08409315,
            "bin_end": 7.041113520000001,
            "count": 20
           },
           {
            "bin_start": 7.041113520000001,
            "bin_end": 7.99813389,
            "count": 0
           },
           {
            "bin_start": 7.99813389,
            "bin_end": 8.95515426,
            "count": 0
           },
           {
            "bin_start": 8.95515426,
            "bin_end": 9.912174629999999,
            "count": 0
           },
           {
            "bin_start": 9.912174629999999,
            "bin_end": 10.869195,
            "count": 2
           }
          ]
         }
        },
        {
         "name": "longitudes",
         "dtype": "float64",
         "stats": {
          "unique_count": 2301,
          "nan_count": 0,
          "min": "-77.40576039999999",
          "max": "-74.771678",
          "histogram": [
           {
            "bin_start": -77.40576039999999,
            "bin_end": -77.14235215999999,
            "count": 7
           },
           {
            "bin_start": -77.14235215999999,
            "bin_end": -76.87894392,
            "count": 0
           },
           {
            "bin_start": -76.87894392,
            "bin_end": -76.61553568,
            "count": 0
           },
           {
            "bin_start": -76.61553568,
            "bin_end": -76.35212743999999,
            "count": 49
           },
           {
            "bin_start": -76.35212743999999,
            "bin_end": -76.08871919999999,
            "count": 5732
           },
           {
            "bin_start": -76.08871919999999,
            "bin_end": -75.82531096,
            "count": 0
           },
           {
            "bin_start": -75.82531096,
            "bin_end": -75.56190271999999,
            "count": 1
           },
           {
            "bin_start": -75.56190271999999,
            "bin_end": -75.29849447999999,
            "count": 20
           },
           {
            "bin_start": -75.29849447999999,
            "bin_end": -75.03508624,
            "count": 0
           },
           {
            "bin_start": -75.03508624,
            "bin_end": -74.771678,
            "count": 2
           }
          ]
         }
        },
        {
         "name": "_deepnote_index_column",
         "dtype": "int64"
        }
       ],
       "rows_top": [
        {
         "fecha": "2009-01-01T13:00:00.000000",
         "direccion": "CL1 #2-2, Palmira - Valle del Cauca, Colombia",
         "categoria": "HURTOPERSONAS",
         "latitudes": 3.5379718,
         "longitudes": -76.2971657,
         "_deepnote_index_column": 0
        },
        {
         "fecha": "2009-01-01T00:00:00.000000",
         "direccion": "CR28 #43-2 , Palmira - Valle del Cauca, Colombia",
         "categoria": "HURTOPERSONAS",
         "latitudes": 3.538685,
         "longitudes": -76.2972217,
         "_deepnote_index_column": 1
        },
        {
         "fecha": "2009-01-02T02:00:00.000000",
         "direccion": "CL21 #24-2, Palmira - Valle del Cauca, Colombia",
         "categoria": "HURTOPERSONAS",
         "latitudes": 3.5379718,
         "longitudes": -76.2971657,
         "_deepnote_index_column": 2
        },
        {
         "fecha": "2009-01-02T02:35:00.000000",
         "direccion": "CL47 #25-32, Palmira - Valle del Cauca, Colombia",
         "categoria": "HURTOPERSONAS",
         "latitudes": 3.5421228,
         "longitudes": -76.2947956,
         "_deepnote_index_column": 3
        },
        {
         "fecha": "2009-01-02T08:00:00.000000",
         "direccion": "CL54B #45-60, Palmira - Valle del Cauca, Colombia",
         "categoria": "HURTOPERSONAS",
         "latitudes": 3.5379718,
         "longitudes": -76.2971657,
         "_deepnote_index_column": 4
        },
        {
         "fecha": "2009-01-02T12:00:00.000000",
         "direccion": "CR26A #62-15, Palmira - Valle del Cauca, Colombia",
         "categoria": "HURTOPERSONAS",
         "latitudes": 3.5510405,
         "longitudes": -76.2910646,
         "_deepnote_index_column": 5
        },
        {
         "fecha": "2009-01-02T14:30:00.000000",
         "direccion": "CR32 #18-2, Palmira - Valle del Cauca, Colombia",
         "categoria": "HURTOPERSONAS",
         "latitudes": 3.5172364,
         "longitudes": -76.3042791,
         "_deepnote_index_column": 6
        },
        {
         "fecha": "2009-01-03T11:45:00.000000",
         "direccion": "CL1 #2-2, Palmira - Valle del Cauca, Colombia",
         "categoria": "HURTOPERSONAS",
         "latitudes": 3.5379718,
         "longitudes": -76.2971657,
         "_deepnote_index_column": 7
        },
        {
         "fecha": "2009-01-03T22:30:00.000000",
         "direccion": "CL23 #25-54, Palmira - Valle del Cauca, Colombia",
         "categoria": "HURTOPERSONAS",
         "latitudes": 3.5208555,
         "longitudes": -76.2977042,
         "_deepnote_index_column": 8
        },
        {
         "fecha": "2009-01-03T15:00:00.000000",
         "direccion": "CL38 #40-2, Palmira - Valle del Cauca, Colombia",
         "categoria": "HURTOPERSONAS",
         "latitudes": 3.5351069,
         "longitudes": -76.3104015,
         "_deepnote_index_column": 9
        },
        {
         "fecha": "2009-01-04T17:00:00.000000",
         "direccion": "CL30A #41-28, Palmira - Valle del Cauca, Colombia",
         "categoria": "HURTOPERSONAS",
         "latitudes": 3.5293565,
         "longitudes": -76.3117048,
         "_deepnote_index_column": 10
        },
        {
         "fecha": "2009-01-04T13:10:00.000000",
         "direccion": "CL35 #26-2, Palmira - Valle del Cauca, Colombia",
         "categoria": "HURTOPERSONAS",
         "latitudes": 3.5317518,
         "longitudes": -76.2964337,
         "_deepnote_index_column": 11
        },
        {
         "fecha": "2009-01-04T02:00:00.000000",
         "direccion": "CL50 #40-2, Palmira - Valle del Cauca, Colombia",
         "categoria": "HURTOPERSONAS",
         "latitudes": 3.5442261,
         "longitudes": -76.3126309,
         "_deepnote_index_column": 12
        },
        {
         "fecha": "2009-01-04T07:30:00.000000",
         "direccion": "CR27 #59-11, Palmira - Valle del Cauca, Colombia",
         "categoria": "HURTOPERSONAS",
         "latitudes": 3.5496046,
         "longitudes": -76.2922881,
         "_deepnote_index_column": 13
        },
        {
         "fecha": "2009-01-04T12:43:00.000000",
         "direccion": "CR6 #25-12, Palmira - Valle del Cauca, Colombia",
         "categoria": "HURTOPERSONAS",
         "latitudes": 6.334467099999999,
         "longitudes": -75.55346279999999,
         "_deepnote_index_column": 14
        },
        {
         "fecha": "2009-01-05T07:30:00.000000",
         "direccion": "CL21 #2-2, Palmira - Valle del Cauca, Colombia",
         "categoria": "HURTOPERSONAS",
         "latitudes": 3.5379718,
         "longitudes": -76.2971657,
         "_deepnote_index_column": 15
        },
        {
         "fecha": "2009-01-05T14:45:00.000000",
         "direccion": "CL33 #21-2, Palmira - Valle del Cauca, Colombia",
         "categoria": "HURTOPERSONAS",
         "latitudes": 3.5291875,
         "longitudes": -76.2729781,
         "_deepnote_index_column": 16
        },
        {
         "fecha": "2009-01-06T19:25:00.000000",
         "direccion": "CL21 #25-2, Palmira - Valle del Cauca, Colombia",
         "categoria": "HURTOPERSONAS",
         "latitudes": 6.334636,
         "longitudes": -75.5532727,
         "_deepnote_index_column": 17
        },
        {
         "fecha": "2009-01-06T19:25:00.000000",
         "direccion": "CL21 #25-2, Palmira - Valle del Cauca, Colombia",
         "categoria": "HURTOPERSONAS",
         "latitudes": 6.334636,
         "longitudes": -75.5532727,
         "_deepnote_index_column": 18
        },
        {
         "fecha": "2009-01-06T19:25:00.000000",
         "direccion": "CL21 #25-2, Palmira - Valle del Cauca, Colombia",
         "categoria": "HURTOPERSONAS",
         "latitudes": 6.334636,
         "longitudes": -75.5532727,
         "_deepnote_index_column": 19
        },
        {
         "fecha": "2009-01-06T12:45:00.000000",
         "direccion": "CL25 #29-2, Palmira - Valle del Cauca, Colombia",
         "categoria": "HURTOPERSONAS",
         "latitudes": 3.522995,
         "longitudes": -76.30055999999999,
         "_deepnote_index_column": 20
        },
        {
         "fecha": "2009-01-06T10:00:00.000000",
         "direccion": "CL26 #23-30, Palmira - Valle del Cauca, Colombia",
         "categoria": "HURTOPERSONAS",
         "latitudes": 3.5227463,
         "longitudes": -76.2953854,
         "_deepnote_index_column": 21
        },
        {
         "fecha": "2009-01-06T01:00:00.000000",
         "direccion": "CL28 #21-24, Palmira - Valle del Cauca, Colombia",
         "categoria": "HURTOPERSONAS",
         "latitudes": 3.5246329,
         "longitudes": -76.2934334,
         "_deepnote_index_column": 22
        },
        {
         "fecha": "2009-01-07T12:30:00.000000",
         "direccion": "CL28 #29-2, Palmira - Valle del Cauca, Colombia",
         "categoria": "HURTOPERSONAS",
         "latitudes": 3.5254088,
         "longitudes": -76.3000149,
         "_deepnote_index_column": 23
        },
        {
         "fecha": "2009-01-07T08:00:00.000000",
         "direccion": "CL30 #26-27, Palmira - Valle del Cauca, Colombia",
         "categoria": "HURTOPERSONAS",
         "latitudes": 3.5267622,
         "longitudes": -76.29756239999999,
         "_deepnote_index_column": 24
        },
        {
         "fecha": "2009-01-07T13:45:00.000000",
         "direccion": "CR31 #24-16, Palmira - Valle del Cauca, Colombia",
         "categoria": "HURTOPERSONAS",
         "latitudes": 3.5224047,
         "longitudes": -76.3024995,
         "_deepnote_index_column": 25
        },
        {
         "fecha": "2009-01-07T09:30:00.000000",
         "direccion": "CL21 #30A-23, Palmira - Valle del Cauca, Colombia",
         "categoria": "HURTOPERSONAS",
         "latitudes": 3.5108436,
         "longitudes": -76.30262859999999,
         "_deepnote_index_column": 26
        },
        {
         "fecha": "2009-01-08T11:00:00.000000",
         "direccion": "CL31 #28-2, Palmira - Valle del Cauca, Colombia",
         "categoria": "HURTOPERSONAS",
         "latitudes": 3.528994,
         "longitudes": -76.30627799999999,
         "_deepnote_index_column": 27
        },
        {
         "fecha": "2009-01-08T14:15:00.000000",
         "direccion": "CL32A #24-27, Palmira - Valle del Cauca, Colombia",
         "categoria": "HURTOPERSONAS",
         "latitudes": 3.5072669,
         "longitudes": -76.2995263,
         "_deepnote_index_column": 28
        },
        {
         "fecha": "2009-01-09T22:05:00.000000",
         "direccion": "CL65 #28-2, Palmira - Valle del Cauca, Colombia",
         "categoria": "HURTOPERSONAS",
         "latitudes": 3.5523107,
         "longitudes": -76.2937372,
         "_deepnote_index_column": 29
        },
        {
         "fecha": "2009-01-09T20:00:00.000000",
         "direccion": "CL31 #21-2, Palmira - Valle del Cauca, Colombia",
         "categoria": "HURTOPERSONAS",
         "latitudes": 3.5268144,
         "longitudes": -76.30006279999999,
         "_deepnote_index_column": 30
        },
        {
         "fecha": "2009-01-09T18:55:00.000000",
         "direccion": "CL45 #13-2, Palmira - Valle del Cauca, Colombia",
         "categoria": "HURTOPERSONAS",
         "latitudes": 3.5410734,
         "longitudes": -76.3164728,
         "_deepnote_index_column": 31
        },
        {
         "fecha": "2009-01-10T20:45:00.000000",
         "direccion": "CR20 #33-2, Palmira - Valle del Cauca, Colombia",
         "categoria": "HURTOPERSONAS",
         "latitudes": 3.5379718,
         "longitudes": -76.2971657,
         "_deepnote_index_column": 32
        },
        {
         "fecha": "2009-01-10T00:20:00.000000",
         "direccion": "CL30 #2-2, Palmira - Valle del Cauca, Colombia",
         "categoria": "HURTOPERSONAS",
         "latitudes": 3.521567,
         "longitudes": -76.2786825,
         "_deepnote_index_column": 33
        },
        {
         "fecha": "2009-01-10T02:40:00.000000",
         "direccion": "CL41 #28-2, Palmira - Valle del Cauca, Colombia",
         "categoria": "HURTOPERSONAS",
         "latitudes": 3.5372043,
         "longitudes": -76.29740300000002,
         "_deepnote_index_column": 34
        },
        {
         "fecha": "2009-01-11T10:30:00.000000",
         "direccion": "CL11 #36-2, Palmira - Valle del Cauca, Colombia",
         "categoria": "HURTOPERSONAS",
         "latitudes": 3.5103733,
         "longitudes": -76.300699,
         "_deepnote_index_column": 35
        },
        {
         "fecha": "2009-01-11T17:30:00.000000",
         "direccion": "CL30 #31-32, Palmira - Valle del Cauca, Colombia",
         "categoria": "HURTOPERSONAS",
         "latitudes": 3.5274991,
         "longitudes": -76.3018311,
         "_deepnote_index_column": 36
        },
        {
         "fecha": "2009-01-11T18:30:00.000000",
         "direccion": "CL32 #31-27, Palmira - Valle del Cauca, Colombia",
         "categoria": "HURTOPERSONAS",
         "latitudes": 3.5379718,
         "longitudes": -76.2971657,
         "_deepnote_index_column": 37
        },
        {
         "fecha": "2009-01-13T14:40:00.000000",
         "direccion": "CL34 #9-10, Palmira - Valle del Cauca, Colombia",
         "categoria": "HURTOPERSONAS",
         "latitudes": 3.5379718,
         "longitudes": -76.2971657,
         "_deepnote_index_column": 38
        },
        {
         "fecha": "2009-01-13T21:15:00.000000",
         "direccion": "CR15 #35-36, Palmira - Valle del Cauca, Colombia",
         "categoria": "HURTOPERSONAS",
         "latitudes": 3.5379718,
         "longitudes": -76.2971657,
         "_deepnote_index_column": 39
        },
        {
         "fecha": "2009-01-13T13:55:00.000000",
         "direccion": "CR25 #26-2, Palmira - Valle del Cauca, Colombia",
         "categoria": "HURTOPERSONAS",
         "latitudes": 3.5229344,
         "longitudes": -76.2969444,
         "_deepnote_index_column": 40
        },
        {
         "fecha": "2009-01-13T21:00:00.000000",
         "direccion": "CL31 #36-2, Palmira - Valle del Cauca, Colombia",
         "categoria": "HURTOPERSONAS",
         "latitudes": 3.528994,
         "longitudes": -76.30627799999999,
         "_deepnote_index_column": 41
        },
        {
         "fecha": "2009-01-14T19:10:00.000000",
         "direccion": "CL42 #28-2, Palmira - Valle del Cauca, Colombia",
         "categoria": "HURTOPERSONAS",
         "latitudes": 3.5378617,
         "longitudes": -76.29734739999999,
         "_deepnote_index_column": 42
        },
        {
         "fecha": "2009-01-14T15:30:00.000000",
         "direccion": "CL54B #45-60, Palmira - Valle del Cauca, Colombia",
         "categoria": "HURTOPERSONAS",
         "latitudes": 3.5379718,
         "longitudes": -76.2971657,
         "_deepnote_index_column": 43
        },
        {
         "fecha": "2009-01-15T00:00:00.000000",
         "direccion": "DG28B #58-8, Palmira - Valle del Cauca, Colombia",
         "categoria": "HURTOPERSONAS",
         "latitudes": 3.5379718,
         "longitudes": -76.2971657,
         "_deepnote_index_column": 44
        },
        {
         "fecha": "2009-01-15T14:47:00.000000",
         "direccion": "CL25 #29-2, Palmira - Valle del Cauca, Colombia",
         "categoria": "HURTOPERSONAS",
         "latitudes": 3.522995,
         "longitudes": -76.30055999999999,
         "_deepnote_index_column": 45
        },
        {
         "fecha": "2009-01-15T16:15:00.000000",
         "direccion": "CL35 #13-2, Palmira - Valle del Cauca, Colombia",
         "categoria": "HURTOPERSONAS",
         "latitudes": 3.5315988,
         "longitudes": -76.2855443,
         "_deepnote_index_column": 46
        },
        {
         "fecha": "2009-01-15T08:00:00.000000",
         "direccion": "CL49 #47-2, Palmira - Valle del Cauca, Colombia",
         "categoria": "HURTOPERSONAS",
         "latitudes": 3.5438414,
         "longitudes": -76.3083087,
         "_deepnote_index_column": 47
        },
        {
         "fecha": "2009-01-15T16:15:00.000000",
         "direccion": "CR1 #31-2, Palmira - Valle del Cauca, Colombia",
         "categoria": "HURTOPERSONAS",
         "latitudes": 3.5310637,
         "longitudes": -76.2772128,
         "_deepnote_index_column": 48
        },
        {
         "fecha": "2009-01-15T16:32:00.000000",
         "direccion": "CL14 #27-2, Palmira - Valle del Cauca, Colombia",
         "categoria": "HURTOPERSONAS",
         "latitudes": 3.5060719,
         "longitudes": -76.298855,
         "_deepnote_index_column": 49
        },
        {
         "fecha": "2009-01-16T13:20:00.000000",
         "direccion": "CL31 #40-2, Palmira - Valle del Cauca, Colombia",
         "categoria": "HURTOPERSONAS",
         "latitudes": 3.5147383,
         "longitudes": -76.272998,
         "_deepnote_index_column": 50
        },
        {
         "fecha": "2009-01-16T12:20:00.000000",
         "direccion": "CR26 #29-81, Palmira - Valle del Cauca, Colombia",
         "categoria": "HURTOPERSONAS",
         "latitudes": 3.5265041,
         "longitudes": -76.2974562,
         "_deepnote_index_column": 51
        },
        {
         "fecha": "2009-01-16T11:00:00.000000",
         "direccion": "CR42 #41-2, Palmira - Valle del Cauca, Colombia",
         "categoria": "HURTOPERSONAS",
         "latitudes": 3.5378302,
         "longitudes": -76.3122506,
         "_deepnote_index_column": 52
        },
        {
         "fecha": "2009-01-16T06:10:00.000000",
         "direccion": "CL19 #25A-2, Palmira - Valle del Cauca, Colombia",
         "categoria": "HURTOPERSONAS",
         "latitudes": 3.5176787,
         "longitudes": -76.2982301,
         "_deepnote_index_column": 53
        },
        {
         "fecha": "2009-01-16T12:00:00.000000",
         "direccion": "CL55 #42-2, Palmira - Valle del Cauca, Colombia",
         "categoria": "HURTOPERSONAS",
         "latitudes": 3.5472662,
         "longitudes": -76.2957005,
         "_deepnote_index_column": 54
        },
        {
         "fecha": "2009-01-16T21:00:00.000000",
         "direccion": "CL35A #41-120, Palmira - Valle del Cauca, Colombia",
         "categoria": "HURTOPERSONAS",
         "latitudes": 3.5328183,
         "longitudes": -76.31233569999999,
         "_deepnote_index_column": 55
        },
        {
         "fecha": "2009-01-17T16:40:00.000000",
         "direccion": "CL36 #18-2, Palmira - Valle del Cauca, Colombia",
         "categoria": "HURTOPERSONAS",
         "latitudes": 3.5318694,
         "longitudes": -76.28972519999999,
         "_deepnote_index_column": 56
        },
        {
         "fecha": "2009-01-17T10:20:00.000000",
         "direccion": "CR22 #39-22, Palmira - Valle del Cauca, Colombia",
         "categoria": "HURTOPERSONAS",
         "latitudes": 3.5351181,
         "longitudes": -76.2926039,
         "_deepnote_index_column": 57
        },
        {
         "fecha": "2009-01-17T11:40:00.000000",
         "direccion": "CR28 #39-2, Palmira - Valle del Cauca, Colombia",
         "categoria": "HURTOPERSONAS",
         "latitudes": 3.534988,
         "longitudes": -76.2976901,
         "_deepnote_index_column": 58
        },
        {
         "fecha": "2009-01-18T14:30:00.000000",
         "direccion": "CR33 #45-75, Palmira - Valle del Cauca, Colombia",
         "categoria": "HURTOPERSONAS",
         "latitudes": 3.5412149,
         "longitudes": -76.3016991,
         "_deepnote_index_column": 59
        },
        {
         "fecha": "2009-01-18T16:30:00.000000",
         "direccion": "CR27 #22-2, Palmira - Valle del Cauca, Colombia",
         "categoria": "HURTOPERSONAS",
         "latitudes": 3.5201497,
         "longitudes": -76.2990749,
         "_deepnote_index_column": 60
        },
        {
         "fecha": "2009-01-19T04:33:00.000000",
         "direccion": "CL25 #30-3, Palmira - Valle del Cauca, Colombia",
         "categoria": "HURTOPERSONAS",
         "latitudes": 3.5229928,
         "longitudes": -76.3014925,
         "_deepnote_index_column": 61
        },
        {
         "fecha": "2009-01-19T17:00:00.000000",
         "direccion": "CL47 #25-2, Palmira - Valle del Cauca, Colombia",
         "categoria": "HURTOPERSONAS",
         "latitudes": 3.5421228,
         "longitudes": -76.2947956,
         "_deepnote_index_column": 63
        },
        {
         "fecha": "2009-01-20T21:50:00.000000",
         "direccion": "CR28 #29-2, Palmira - Valle del Cauca, Colombia",
         "categoria": "HURTOPERSONAS",
         "latitudes": 3.5260484,
         "longitudes": -76.2990585,
         "_deepnote_index_column": 64
        },
        {
         "fecha": "2009-01-20T07:35:00.000000",
         "direccion": "CL26 #33-2, Palmira - Valle del Cauca, Colombia",
         "categoria": "HURTOPERSONAS",
         "latitudes": 3.5241112,
         "longitudes": -76.30358319999999,
         "_deepnote_index_column": 65
        },
        {
         "fecha": "2009-01-20T18:00:00.000000",
         "direccion": "CL38 #11A-5, Palmira - Valle del Cauca, Colombia",
         "categoria": "HURTOPERSONAS",
         "latitudes": 3.5342263,
         "longitudes": -76.2844302,
         "_deepnote_index_column": 66
        },
        {
         "fecha": "2009-01-20T16:30:00.000000",
         "direccion": "CR22 #28-46, Palmira - Valle del Cauca, Colombia",
         "categoria": "HURTOPERSONAS",
         "latitudes": 3.5250616,
         "longitudes": -76.2939612,
         "_deepnote_index_column": 67
        },
        {
         "fecha": "2009-01-20T11:30:00.000000",
         "direccion": "CR28 #23-2, Palmira - Valle del Cauca, Colombia",
         "categoria": "HURTOPERSONAS",
         "latitudes": 3.5209729,
         "longitudes": -76.2998095,
         "_deepnote_index_column": 68
        },
        {
         "fecha": "2009-01-21T12:30:00.000000",
         "direccion": "CR32 #34-2, Palmira - Valle del Cauca, Colombia",
         "categoria": "HURTOPERSONAS",
         "latitudes": 3.5379718,
         "longitudes": -76.2971657,
         "_deepnote_index_column": 69
        },
        {
         "fecha": "2009-01-21T11:00:00.000000",
         "direccion": "CL27 #17-2, Palmira - Valle del Cauca, Colombia",
         "categoria": "HURTOPERSONAS",
         "latitudes": 3.523327,
         "longitudes": -76.2899226,
         "_deepnote_index_column": 70
        },
        {
         "fecha": "2009-01-22T13:00:00.000000",
         "direccion": "CR19 #39-2, Palmira - Valle del Cauca, Colombia",
         "categoria": "HURTOPERSONAS",
         "latitudes": 3.5346515,
         "longitudes": -76.2905919,
         "_deepnote_index_column": 71
        },
        {
         "fecha": "2009-01-22T17:15:00.000000",
         "direccion": "CR32 #19-58, Palmira - Valle del Cauca, Colombia",
         "categoria": "HURTOPERSONAS",
         "latitudes": 3.5379718,
         "longitudes": -76.2971657,
         "_deepnote_index_column": 72
        },
        {
         "fecha": "2009-01-22T18:20:00.000000",
         "direccion": "CL22 #23-2, Palmira - Valle del Cauca, Colombia",
         "categoria": "HURTOPERSONAS",
         "latitudes": 3.5197236,
         "longitudes": -76.2949525,
         "_deepnote_index_column": 73
        },
        {
         "fecha": "2009-01-22T16:30:00.000000",
         "direccion": "CL26A #19-13, Palmira - Valle del Cauca, Colombia",
         "categoria": "HURTOPERSONAS",
         "latitudes": 3.5228472,
         "longitudes": -76.291722,
         "_deepnote_index_column": 74
        },
        {
         "fecha": "2009-01-22T15:30:00.000000",
         "direccion": "CL32 #38-2, Palmira - Valle del Cauca, Colombia",
         "categoria": "HURTOPERSONAS",
         "latitudes": 3.5302342,
         "longitudes": -76.3077404,
         "_deepnote_index_column": 75
        },
        {
         "fecha": "2009-01-23T22:00:00.000000",
         "direccion": "CL33 #26-2, Palmira - Valle del Cauca, Colombia",
         "categoria": "HURTOPERSONAS",
         "latitudes": 3.5241191,
         "longitudes": -76.3035725,
         "_deepnote_index_column": 76
        },
        {
         "fecha": "2009-01-23T12:00:00.000000",
         "direccion": "DG30C #11-48, Palmira - Valle del Cauca, Colombia",
         "categoria": "HURTOPERSONAS",
         "latitudes": 3.5379718,
         "longitudes": -76.2971657,
         "_deepnote_index_column": 77
        },
        {
         "fecha": "2009-01-23T12:00:00.000000",
         "direccion": "CR39A #40A-2, Palmira - Valle del Cauca, Colombia",
         "categoria": "HURTOPERSONAS",
         "latitudes": 3.5379718,
         "longitudes": -76.2971657,
         "_deepnote_index_column": 78
        },
        {
         "fecha": "2009-01-23T21:00:00.000000",
         "direccion": "CL18 #26-2, Palmira - Valle del Cauca, Colombia",
         "categoria": "HURTOPERSONAS",
         "latitudes": 3.5168726,
         "longitudes": -76.2989496,
         "_deepnote_index_column": 79
        },
        {
         "fecha": "2009-01-24T21:00:00.000000",
         "direccion": "CL29 #26-36, Palmira - Valle del Cauca, Colombia",
         "categoria": "HURTOPERSONAS",
         "latitudes": 3.5259658,
         "longitudes": -76.29781,
         "_deepnote_index_column": 80
        },
        {
         "fecha": "2009-01-24T05:30:00.000000",
         "direccion": "CL29 #33-97, Palmira - Valle del Cauca, Colombia",
         "categoria": "HURTOPERSONAS",
         "latitudes": 3.526823,
         "longitudes": -76.3043737,
         "_deepnote_index_column": 81
        },
        {
         "fecha": "2009-01-25T11:30:00.000000",
         "direccion": "CL37A #21-56, Palmira - Valle del Cauca, Colombia",
         "categoria": "HURTOPERSONAS",
         "latitudes": 3.5335515,
         "longitudes": -76.29251169999999,
         "_deepnote_index_column": 82
        },
        {
         "fecha": "2009-01-25T12:30:00.000000",
         "direccion": "CL42 #28-2, Palmira - Valle del Cauca, Colombia",
         "categoria": "HURTOPERSONAS",
         "latitudes": 3.5378617,
         "longitudes": -76.29734739999999,
         "_deepnote_index_column": 83
        },
        {
         "fecha": "2009-01-25T07:00:00.000000",
         "direccion": "CL48 #37-99, Palmira - Valle del Cauca, Colombia",
         "categoria": "HURTOPERSONAS",
         "latitudes": 3.5431557,
         "longitudes": -76.3101192,
         "_deepnote_index_column": 84
        },
        {
         "fecha": "2009-01-25T12:00:00.000000",
         "direccion": "CR19 #32-2, Palmira - Valle del Cauca, Colombia",
         "categoria": "HURTOPERSONAS",
         "latitudes": 3.528874,
         "longitudes": -76.290352,
         "_deepnote_index_column": 85
        },
        {
         "fecha": "2009-01-26T07:30:00.000000",
         "direccion": "CR26 #18-2, Palmira - Valle del Cauca, Colombia",
         "categoria": "HURTOPERSONAS",
         "latitudes": 3.5170918,
         "longitudes": -76.29887099999999,
         "_deepnote_index_column": 86
        },
        {
         "fecha": "2009-01-26T15:30:00.000000",
         "direccion": "CR27 #31-2, Palmira - Valle del Cauca, Colombia",
         "categoria": "HURTOPERSONAS",
         "latitudes": 3.5278011,
         "longitudes": -76.2978492,
         "_deepnote_index_column": 87
        },
        {
         "fecha": "2009-01-26T17:30:00.000000",
         "direccion": "CL31 #29-2, Palmira - Valle del Cauca, Colombia",
         "categoria": "HURTOPERSONAS",
         "latitudes": 3.528994,
         "longitudes": -76.30627799999999,
         "_deepnote_index_column": 88
        },
        {
         "fecha": "2009-01-26T17:00:00.000000",
         "direccion": "CL34 #17-34, Palmira - Valle del Cauca, Colombia",
         "categoria": "HURTOPERSONAS",
         "latitudes": 3.5379718,
         "longitudes": -76.2971657,
         "_deepnote_index_column": 89
        },
        {
         "fecha": "2009-01-26T15:00:00.000000",
         "direccion": "CL53 #39-32, Palmira - Valle del Cauca, Colombia",
         "categoria": "HURTOPERSONAS",
         "latitudes": 3.5456431,
         "longitudes": -76.31177679999999,
         "_deepnote_index_column": 90
        },
        {
         "fecha": "2009-01-26T18:50:00.000000",
         "direccion": "CL56 #28-2, Palmira - Valle del Cauca, Colombia",
         "categoria": "HURTOPERSONAS",
         "latitudes": 3.5473307,
         "longitudes": -76.2931297,
         "_deepnote_index_column": 91
        },
        {
         "fecha": "2009-01-26T10:30:00.000000",
         "direccion": "CR25 #14A-8, Palmira - Valle del Cauca, Colombia",
         "categoria": "HURTOPERSONAS",
         "latitudes": 3.5134787,
         "longitudes": -76.29794009999999,
         "_deepnote_index_column": 92
        },
        {
         "fecha": "2009-01-27T15:00:00.000000",
         "direccion": "CR28 #24-2, Palmira - Valle del Cauca, Colombia",
         "categoria": "HURTOPERSONAS",
         "latitudes": 3.5219031,
         "longitudes": -76.2996531,
         "_deepnote_index_column": 93
        },
        {
         "fecha": "2009-01-27T19:10:00.000000",
         "direccion": "CR30 #41-2, Palmira - Valle del Cauca, Colombia",
         "categoria": "HURTOPERSONAS",
         "latitudes": 3.5374341,
         "longitudes": -76.2989133,
         "_deepnote_index_column": 94
        },
        {
         "fecha": "2009-01-27T08:00:00.000000",
         "direccion": "CR32 #19-58, Palmira - Valle del Cauca, Colombia",
         "categoria": "HURTOPERSONAS",
         "latitudes": 3.5379718,
         "longitudes": -76.2971657,
         "_deepnote_index_column": 95
        },
        {
         "fecha": "2009-01-27T21:00:00.000000",
         "direccion": "CR37 #35-2, Palmira - Valle del Cauca, Colombia",
         "categoria": "HURTOPERSONAS",
         "latitudes": 3.5379718,
         "longitudes": -76.2971657,
         "_deepnote_index_column": 96
        },
        {
         "fecha": "2009-01-27T08:30:00.000000",
         "direccion": "CR5A #43C-12, Palmira - Valle del Cauca, Colombia",
         "categoria": "HURTOPERSONAS",
         "latitudes": 3.5401674,
         "longitudes": -76.2774668,
         "_deepnote_index_column": 97
        },
        {
         "fecha": "2009-01-27T10:30:00.000000",
         "direccion": "CL37 #42-43, Palmira - Valle del Cauca, Colombia",
         "categoria": "HURTOPERSONAS",
         "latitudes": 3.5340275,
         "longitudes": -76.3131468,
         "_deepnote_index_column": 98
        },
        {
         "fecha": "2009-01-27T07:40:00.000000",
         "direccion": "CL41 #19-2, Palmira - Valle del Cauca, Colombia",
         "categoria": "HURTOPERSONAS",
         "latitudes": 3.5364169,
         "longitudes": -76.2910472,
         "_deepnote_index_column": 99
        },
        {
         "fecha": "2009-01-27T14:00:00.000000",
         "direccion": "CL42 #2-2, Palmira - Valle del Cauca, Colombia",
         "categoria": "HURTOPERSONAS",
         "latitudes": 3.538312,
         "longitudes": -76.3012971,
         "_deepnote_index_column": 100
        }
       ],
       "rows_bottom": [
        {
         "fecha": "2012-12-20T16:00:00.000000",
         "direccion": "CL28#19, Palmira - Valle del Cauca, Colombia",
         "categoria": "HURTOPERSONAS",
         "latitudes": 3.5243712,
         "longitudes": -76.2918047,
         "_deepnote_index_column": 1068
        },
        {
         "fecha": "2012-12-21T15:30:00.000000",
         "direccion": "CR30#29-88, Palmira - Valle del Cauca, Colombia",
         "categoria": "HURTOENTIDADESCOMERCIALES",
         "latitudes": 3.5269596,
         "longitudes": -76.3005333,
         "_deepnote_index_column": 1069
        },
        {
         "fecha": "2012-12-23T16:00:00.000000",
         "direccion": "CL26#20-37, Palmira - Valle del Cauca, Colombia",
         "categoria": "HURTOPERSONAS",
         "latitudes": 3.5222234,
         "longitudes": -76.2929085,
         "_deepnote_index_column": 1070
        },
        {
         "fecha": "2012-12-25T10:00:00.000000",
         "direccion": "CL26#18-37, Palmira - Valle del Cauca, Colombia",
         "categoria": "HURTOPERSONAS",
         "latitudes": 3.522517,
         "longitudes": -76.2912647,
         "_deepnote_index_column": 1071
        },
        {
         "fecha": "2012-12-18T13:20:00.000000",
         "direccion": "CL13#24C-26, Palmira - Valle del Cauca, Colombia",
         "categoria": "HURTOPERSONAS",
         "latitudes": 3.5122496,
         "longitudes": -76.2981698,
         "_deepnote_index_column": 1072
        },
        {
         "fecha": "2012-12-21T00:00:00.000000",
         "direccion": "CR27#29, Palmira - Valle del Cauca, Colombia",
         "categoria": "HURTOPERSONAS",
         "latitudes": 3.5264706,
         "longitudes": -76.29800589999999,
         "_deepnote_index_column": 1073
        },
        {
         "fecha": "2012-12-21T06:15:00.000000",
         "direccion": "CR31#26, Palmira - Valle del Cauca, Colombia",
         "categoria": "HURTOENTIDADESCOMERCIALES",
         "latitudes": 3.5241916,
         "longitudes": -76.30216539999999,
         "_deepnote_index_column": 1074
        },
        {
         "fecha": "2012-12-07T12:20:00.000000",
         "direccion": "CL28#30, Palmira - Valle del Cauca, Colombia",
         "categoria": "HURTOPERSONAS",
         "latitudes": 3.5257418,
         "longitudes": -76.3016698,
         "_deepnote_index_column": 1075
        },
        {
         "fecha": "2012-12-15T06:30:00.000000",
         "direccion": "CL73#28, Palmira - Valle del Cauca, Colombia",
         "categoria": "HURTOPERSONAS",
         "latitudes": 3.5398382,
         "longitudes": -76.29708529999999,
         "_deepnote_index_column": 1076
        },
        {
         "fecha": "2012-12-20T10:00:00.000000",
         "direccion": "CR30#26-64, Palmira - Valle del Cauca, Colombia",
         "categoria": "HURTOINTERIORDEVEHICULO",
         "latitudes": 3.524282,
         "longitudes": -76.3010538,
         "_deepnote_index_column": 1077
        },
        {
         "fecha": "2012-12-20T11:30:00.000000",
         "direccion": "CR29#31, Palmira - Valle del Cauca, Colombia",
         "categoria": "HURTOPERSONAS",
         "latitudes": 3.5284926,
         "longitudes": -76.2995325,
         "_deepnote_index_column": 1078
        },
        {
         "fecha": "2012-12-20T10:00:00.000000",
         "direccion": "CL56A#40-26, Palmira - Valle del Cauca, Colombia",
         "categoria": "HURTOPERSONAS",
         "latitudes": 3.5379718,
         "longitudes": -76.2971657,
         "_deepnote_index_column": 1079
        },
        {
         "fecha": "2012-12-19T12:00:00.000000",
         "direccion": "CR29#26, Palmira - Valle del Cauca, Colombia",
         "categoria": "HURTOPERSONAS",
         "latitudes": 3.5150182,
         "longitudes": -76.2742066,
         "_deepnote_index_column": 1080
        },
        {
         "fecha": "2012-12-19T09:40:00.000000",
         "direccion": "CR29#26, Palmira - Valle del Cauca, Colombia",
         "categoria": "HURTOPERSONAS",
         "latitudes": 3.5150182,
         "longitudes": -76.2742066,
         "_deepnote_index_column": 1081
        },
        {
         "fecha": "2012-12-03T00:00:00.000000",
         "direccion": "CL30#29, Palmira - Valle del Cauca, Colombia",
         "categoria": "HURTOPERSONAS",
         "latitudes": 3.5270462,
         "longitudes": -76.2997783,
         "_deepnote_index_column": 1082
        },
        {
         "fecha": "2012-12-06T07:30:00.000000",
         "direccion": "CL47C#13-59, Palmira - Valle del Cauca, Colombia",
         "categoria": "OTRO",
         "latitudes": 3.5433963,
         "longitudes": -76.2902778,
         "_deepnote_index_column": 1083
        },
        {
         "fecha": "2012-12-01T12:00:00.000000",
         "direccion": "CL29#27, Palmira - Valle del Cauca, Colombia",
         "categoria": "HURTOINTERIORDEVEHICULO",
         "latitudes": 3.5261696,
         "longitudes": -76.2984584,
         "_deepnote_index_column": 1084
        },
        {
         "fecha": "2012-12-06T12:15:00.000000",
         "direccion": "CL31#40, Palmira - Valle del Cauca, Colombia",
         "categoria": "HURTOPERSONAS",
         "latitudes": 3.5295332,
         "longitudes": -76.3106002,
         "_deepnote_index_column": 1085
        },
        {
         "fecha": "2012-12-02T15:30:00.000000",
         "direccion": "CL62#32, Palmira - Valle del Cauca, Colombia",
         "categoria": "HURTOPERSONAS",
         "latitudes": 3.5564758,
         "longitudes": -76.30115959999999,
         "_deepnote_index_column": 1086
        },
        {
         "fecha": "2012-12-05T16:08:00.000000",
         "direccion": "CL30#23, Palmira - Valle del Cauca, Colombia",
         "categoria": "HURTOPERSONAS",
         "latitudes": 3.5265659,
         "longitudes": -76.29530570000001,
         "_deepnote_index_column": 1087
        },
        {
         "fecha": "2012-12-05T16:00:00.000000",
         "direccion": "CL31#24, Palmira - Valle del Cauca, Colombia",
         "categoria": "HURTOPERSONAS",
         "latitudes": 3.5275079,
         "longitudes": -76.29485160000002,
         "_deepnote_index_column": 1088
        },
        {
         "fecha": "2012-12-04T23:20:00.000000",
         "direccion": "CR28#58, Palmira - Valle del Cauca, Colombia",
         "categoria": "HURTOPERSONAS",
         "latitudes": 3.5440995,
         "longitudes": -76.2962481,
         "_deepnote_index_column": 1089
        },
        {
         "fecha": "2012-12-04T14:30:00.000000",
         "direccion": "CR28#58, Palmira - Valle del Cauca, Colombia",
         "categoria": "HURTOPERSONAS",
         "latitudes": 3.5440995,
         "longitudes": -76.2962481,
         "_deepnote_index_column": 1090
        },
        {
         "fecha": "2012-12-01T06:30:00.000000",
         "direccion": "CR32#16, Palmira - Valle del Cauca, Colombia",
         "categoria": "HURTOPERSONAS",
         "latitudes": 3.476714,
         "longitudes": -76.3944246,
         "_deepnote_index_column": 1091
        },
        {
         "fecha": "2012-12-04T11:00:00.000000",
         "direccion": "CL28#32, Palmira - Valle del Cauca, Colombia",
         "categoria": "HURTOPERSONAS",
         "latitudes": 3.5259095,
         "longitudes": -76.30335819999999,
         "_deepnote_index_column": 1092
        },
        {
         "fecha": "2012-12-01T23:00:00.000000",
         "direccion": "CR34#53-07, Palmira - Valle del Cauca, Colombia",
         "categoria": "HURTOPERSONAS",
         "latitudes": 3.5379718,
         "longitudes": -76.2971657,
         "_deepnote_index_column": 1093
        },
        {
         "fecha": "2012-12-01T02:00:00.000000",
         "direccion": "CL26#16-68, Palmira - Valle del Cauca, Colombia",
         "categoria": "HURTOPERSONAS",
         "latitudes": 3.522746,
         "longitudes": -76.2893545,
         "_deepnote_index_column": 1094
        },
        {
         "fecha": "2012-12-03T11:00:00.000000",
         "direccion": "DG27#7-68, Palmira - Valle del Cauca, Colombia",
         "categoria": "HURTOPERSONAS",
         "latitudes": 3.5379718,
         "longitudes": -76.2971657,
         "_deepnote_index_column": 1095
        },
        {
         "fecha": "2012-12-01T11:00:00.000000",
         "direccion": "CR28#32, Palmira - Valle del Cauca, Colombia",
         "categoria": "HURTOPERSONAS",
         "latitudes": 3.5297686,
         "longitudes": -76.2986167,
         "_deepnote_index_column": 1096
        },
        {
         "fecha": "2012-12-03T08:00:00.000000",
         "direccion": "CL30#29, Palmira - Valle del Cauca, Colombia",
         "categoria": "HURTOPERSONAS",
         "latitudes": 3.5270462,
         "longitudes": -76.2997783,
         "_deepnote_index_column": 1097
        },
        {
         "fecha": "2012-12-01T11:00:00.000000",
         "direccion": "CR19#35-49, Palmira - Valle del Cauca, Colombia",
         "categoria": "HURTOENTIDADESCOMERCIALES",
         "latitudes": 3.4804135,
         "longitudes": -76.41365379999999,
         "_deepnote_index_column": 1098
        },
        {
         "fecha": "2012-12-19T09:30:00.000000",
         "direccion": "CR29#18-14, Palmira - Valle del Cauca, Colombia",
         "categoria": "HURTOPERSONAS",
         "latitudes": 3.5379718,
         "longitudes": -76.2971657,
         "_deepnote_index_column": 1099
        },
        {
         "fecha": "2012-12-18T13:35:00.000000",
         "direccion": "CR19#36-19, Palmira - Valle del Cauca, Colombia",
         "categoria": "HURTOENTIDADESCOMERCIALES",
         "latitudes": 3.5319349,
         "longitudes": -76.2904416,
         "_deepnote_index_column": 1100
        },
        {
         "fecha": "2012-12-17T17:00:00.000000",
         "direccion": "CR26#31, Palmira - Valle del Cauca, Colombia",
         "categoria": "HURTOMOTOCICLETAS",
         "latitudes": 3.5376817,
         "longitudes": -76.2954151,
         "_deepnote_index_column": 1101
        },
        {
         "fecha": "2012-12-17T11:00:00.000000",
         "direccion": "CR27#30, Palmira - Valle del Cauca, Colombia",
         "categoria": "HURTOPERSONAS",
         "latitudes": 3.5272625,
         "longitudes": -76.2981221,
         "_deepnote_index_column": 1102
        },
        {
         "fecha": "2012-12-17T12:10:00.000000",
         "direccion": "CR28#22, Palmira - Valle del Cauca, Colombia",
         "categoria": "HURTOPERSONAS",
         "latitudes": 3.5204684,
         "longitudes": -76.3000194,
         "_deepnote_index_column": 1103
        },
        {
         "fecha": "2012-12-14T22:30:00.000000",
         "direccion": "CL34#33-71, Palmira - Valle del Cauca, Colombia",
         "categoria": "HURTOPERSONAS",
         "latitudes": 3.5317139,
         "longitudes": -76.303,
         "_deepnote_index_column": 1104
        },
        {
         "fecha": "2012-12-15T21:30:00.000000",
         "direccion": "CL20#24A-09, Palmira - Valle del Cauca, Colombia",
         "categoria": "HURTOMOTOCICLETAS",
         "latitudes": 3.5183103,
         "longitudes": -76.2968614,
         "_deepnote_index_column": 1105
        },
        {
         "fecha": "2012-12-13T18:00:00.000000",
         "direccion": "CR35#47, Palmira - Valle del Cauca, Colombia",
         "categoria": "HURTOPERSONAS",
         "latitudes": 3.5340816,
         "longitudes": -76.3057615,
         "_deepnote_index_column": 1106
        },
        {
         "fecha": "2012-12-14T10:25:00.000000",
         "direccion": "CR30A#18-64, Palmira - Valle del Cauca, Colombia",
         "categoria": "HURTOPERSONAS",
         "latitudes": 3.5175127,
         "longitudes": -76.302911,
         "_deepnote_index_column": 1107
        },
        {
         "fecha": "2012-12-13T19:00:00.000000",
         "direccion": "CR21#48-72, Palmira - Valle del Cauca, Colombia",
         "categoria": "HURTOPERSONAS",
         "latitudes": 3.5379718,
         "longitudes": -76.2971657,
         "_deepnote_index_column": 1108
        },
        {
         "fecha": "2012-12-12T15:30:00.000000",
         "direccion": "CRA32#47, Palmira - Valle del Cauca, Colombia",
         "categoria": "HURTOPERSONAS",
         "latitudes": 3.5299031,
         "longitudes": -76.30232,
         "_deepnote_index_column": 1109
        },
        {
         "fecha": "2012-12-11T11:30:00.000000",
         "direccion": "CR32#26, Palmira - Valle del Cauca, Colombia",
         "categoria": "HURTOPERSONAS",
         "latitudes": 3.5150182,
         "longitudes": -76.2742066,
         "_deepnote_index_column": 1110
        },
        {
         "fecha": "2012-12-11T12:00:00.000000",
         "direccion": "CR26#25, Palmira - Valle del Cauca, Colombia",
         "categoria": "HURTOPERSONAS",
         "latitudes": 3.5227715,
         "longitudes": -76.2980183,
         "_deepnote_index_column": 1111
        },
        {
         "fecha": "2012-12-10T14:00:00.000000",
         "direccion": "CL14#25-44, Palmira - Valle del Cauca, Colombia",
         "categoria": "HURTOENTIDADESCOMERCIALES",
         "latitudes": 3.5154851,
         "longitudes": -76.2731914,
         "_deepnote_index_column": 1112
        },
        {
         "fecha": "2012-12-10T10:00:00.000000",
         "direccion": "CL30#24, Palmira - Valle del Cauca, Colombia",
         "categoria": "HURTOINTERIORDEVEHICULO",
         "latitudes": 3.5265908,
         "longitudes": -76.2961091,
         "_deepnote_index_column": 1113
        },
        {
         "fecha": "2012-12-10T09:00:00.000000",
         "direccion": "CL30#24, Palmira - Valle del Cauca, Colombia",
         "categoria": "HURTOPERSONAS",
         "latitudes": 3.5265908,
         "longitudes": -76.2961091,
         "_deepnote_index_column": 1114
        },
        {
         "fecha": "2012-12-10T09:00:00.000000",
         "direccion": "CL30#24, Palmira - Valle del Cauca, Colombia",
         "categoria": "HURTOPERSONAS",
         "latitudes": 3.5265908,
         "longitudes": -76.2961091,
         "_deepnote_index_column": 1115
        },
        {
         "fecha": "2012-12-01T00:00:00.000000",
         "direccion": "CR26#56-30 , Palmira - Valle del Cauca, Colombia",
         "categoria": "HURTOPERSONAS",
         "latitudes": 3.5477792,
         "longitudes": -76.29099889999999,
         "_deepnote_index_column": 1116
        },
        {
         "fecha": "2012-12-02T00:00:00.000000",
         "direccion": "CR24#6-, Palmira - Valle del Cauca, Colombia",
         "categoria": "HURTOPERSONAS",
         "latitudes": 3.4802368,
         "longitudes": -76.4131893,
         "_deepnote_index_column": 1117
        },
        {
         "fecha": "2012-12-02T08:00:00.000000",
         "direccion": "CL30#29, Palmira - Valle del Cauca, Colombia",
         "categoria": "HURTOPERSONAS",
         "latitudes": 3.5270462,
         "longitudes": -76.2997783,
         "_deepnote_index_column": 1118
        },
        {
         "fecha": "2012-12-02T20:00:00.000000",
         "direccion": "CL42#41, Palmira - Valle del Cauca, Colombia",
         "categoria": "HURTOPERSONAS",
         "latitudes": 3.5385882,
         "longitudes": -76.3119004,
         "_deepnote_index_column": 1119
        },
        {
         "fecha": "2012-12-02T06:10:00.000000",
         "direccion": "CL53C#37, Palmira - Valle del Cauca, Colombia",
         "categoria": "HURTOPERSONAS",
         "latitudes": 3.5379718,
         "longitudes": -76.2971657,
         "_deepnote_index_column": 1120
        },
        {
         "fecha": "2012-12-02T18:00:00.000000",
         "direccion": "CL34#16-68, Palmira - Valle del Cauca, Colombia",
         "categoria": "HURTOPERSONAS",
         "latitudes": 3.5379718,
         "longitudes": -76.2971657,
         "_deepnote_index_column": 1121
        },
        {
         "fecha": "2012-12-03T14:30:00.000000",
         "direccion": "CL53C#37, Palmira - Valle del Cauca, Colombia",
         "categoria": "HURTOPERSONAS",
         "latitudes": 3.5379718,
         "longitudes": -76.2971657,
         "_deepnote_index_column": 1122
        },
        {
         "fecha": "2012-12-04T11:10:00.000000",
         "direccion": "CR29#39-51 , Palmira - Valle del Cauca, Colombia",
         "categoria": "HURTOPERSONAS",
         "latitudes": 3.5361585,
         "longitudes": -76.2986677,
         "_deepnote_index_column": 1123
        },
        {
         "fecha": "2012-12-06T22:50:00.000000",
         "direccion": "CL36#3B, Palmira - Valle del Cauca, Colombia",
         "categoria": "HURTOPERSONAS",
         "latitudes": 3.533368,
         "longitudes": -76.28006649999999,
         "_deepnote_index_column": 1124
        },
        {
         "fecha": "2012-12-06T07:30:00.000000",
         "direccion": "CL47C#13-59, Palmira - Valle del Cauca, Colombia",
         "categoria": "HURTOPERSONAS",
         "latitudes": 3.5433963,
         "longitudes": -76.2902778,
         "_deepnote_index_column": 1125
        },
        {
         "fecha": "2012-12-07T09:45:00.000000",
         "direccion": "CL33#25, Palmira - Valle del Cauca, Colombia",
         "categoria": "HURTOPERSONAS",
         "latitudes": 3.5291875,
         "longitudes": -76.2729781,
         "_deepnote_index_column": 1126
        },
        {
         "fecha": "2012-12-07T14:40:00.000000",
         "direccion": "CR30#20-, Palmira - Valle del Cauca, Colombia",
         "categoria": "HURTOPERSONAS",
         "latitudes": 3.5191058,
         "longitudes": -76.302341,
         "_deepnote_index_column": 1127
        },
        {
         "fecha": "2012-12-07T15:00:00.000000",
         "direccion": "CL29#28, Palmira - Valle del Cauca, Colombia",
         "categoria": "HURTOPERSONAS",
         "latitudes": 3.5261791,
         "longitudes": -76.2993619,
         "_deepnote_index_column": 1128
        },
        {
         "fecha": "2012-12-07T08:30:00.000000",
         "direccion": "CL27#2-A 59, Palmira - Valle del Cauca, Colombia",
         "categoria": "HURTOPERSONAS",
         "latitudes": 3.5379718,
         "longitudes": -76.2971657,
         "_deepnote_index_column": 1129
        },
        {
         "fecha": "2012-12-07T15:30:00.000000",
         "direccion": "CL33B#-9, Palmira - Valle del Cauca, Colombia",
         "categoria": "HURTOPERSONAS",
         "latitudes": 3.5379718,
         "longitudes": -76.2971657,
         "_deepnote_index_column": 1130
        },
        {
         "fecha": "2012-12-07T15:00:00.000000",
         "direccion": "CR28#43-, Palmira - Valle del Cauca, Colombia",
         "categoria": "HURTOPERSONAS",
         "latitudes": 3.5392088,
         "longitudes": -76.2967725,
         "_deepnote_index_column": 1131
        },
        {
         "fecha": "2012-12-07T11:00:00.000000",
         "direccion": "CL69A#26A-13, Palmira - Valle del Cauca, Colombia",
         "categoria": "HURTOPERSONAS",
         "latitudes": 3.5379718,
         "longitudes": -76.2971657,
         "_deepnote_index_column": 1132
        },
        {
         "fecha": "2012-12-11T13:40:00.000000",
         "direccion": "CL42#31, Palmira - Valle del Cauca, Colombia",
         "categoria": "HURTOPERSONAS",
         "latitudes": 3.5362019,
         "longitudes": -76.2774456,
         "_deepnote_index_column": 1133
        },
        {
         "fecha": "2012-12-12T16:15:00.000000",
         "direccion": "CL31#44, Palmira - Valle del Cauca, Colombia",
         "categoria": "HURTOPERSONAS",
         "latitudes": 3.5275768,
         "longitudes": -76.2950572,
         "_deepnote_index_column": 1134
        },
        {
         "fecha": "2012-12-14T10:30:00.000000",
         "direccion": "CR28#29-, Palmira - Valle del Cauca, Colombia",
         "categoria": "HURTOPERSONAS",
         "latitudes": 3.5264058,
         "longitudes": -76.2988203,
         "_deepnote_index_column": 1135
        },
        {
         "fecha": "2012-12-15T15:30:00.000000",
         "direccion": "CL15#30, Palmira - Valle del Cauca, Colombia",
         "categoria": "HURTOPERSONAS",
         "latitudes": 3.5379718,
         "longitudes": -76.2971657,
         "_deepnote_index_column": 1136
        },
        {
         "fecha": "2012-12-16T20:40:00.000000",
         "direccion": "CL42#29, Palmira - Valle del Cauca, Colombia",
         "categoria": "HURTOPERSONAS",
         "latitudes": 3.5381954,
         "longitudes": -76.2982669,
         "_deepnote_index_column": 1137
        },
        {
         "fecha": "2012-12-17T00:00:00.000000",
         "direccion": "CR31#32A-, Palmira - Valle del Cauca, Colombia",
         "categoria": "HURTOPERSONAS",
         "latitudes": 3.5285898,
         "longitudes": -76.30130820000001,
         "_deepnote_index_column": 1138
        },
        {
         "fecha": "2012-12-17T15:30:00.000000",
         "direccion": "CL32A#-37, Palmira - Valle del Cauca, Colombia",
         "categoria": "HURTOPERSONAS",
         "latitudes": 3.5379718,
         "longitudes": -76.2971657,
         "_deepnote_index_column": 1139
        },
        {
         "fecha": "2012-12-17T11:10:00.000000",
         "direccion": "CL42#13, Palmira - Valle del Cauca, Colombia",
         "categoria": "HURTOPERSONAS",
         "latitudes": 3.5370326,
         "longitudes": -76.2862825,
         "_deepnote_index_column": 1140
        },
        {
         "fecha": "2012-12-18T08:45:00.000000",
         "direccion": "CR31#29-, Palmira - Valle del Cauca, Colombia",
         "categoria": "HURTOPERSONAS",
         "latitudes": 3.5267374,
         "longitudes": -76.30182479999999,
         "_deepnote_index_column": 1141
        },
        {
         "fecha": "2012-12-18T19:00:00.000000",
         "direccion": "CL34#16-68, Palmira - Valle del Cauca, Colombia",
         "categoria": "HURTOPERSONAS",
         "latitudes": 3.5379718,
         "longitudes": -76.2971657,
         "_deepnote_index_column": 1142
        },
        {
         "fecha": "2012-12-19T09:30:00.000000",
         "direccion": "CR29#18-14 , Palmira - Valle del Cauca, Colombia",
         "categoria": "HURTOPERSONAS",
         "latitudes": 3.5379718,
         "longitudes": -76.2971657,
         "_deepnote_index_column": 1143
        },
        {
         "fecha": "2012-12-20T10:00:00.000000",
         "direccion": "CR30#26-64 , Palmira - Valle del Cauca, Colombia",
         "categoria": "HURTOPERSONAS",
         "latitudes": 3.524282,
         "longitudes": -76.3010538,
         "_deepnote_index_column": 1144
        },
        {
         "fecha": "2012-12-20T08:00:00.000000",
         "direccion": "CR37#36-, Palmira - Valle del Cauca, Colombia",
         "categoria": "HURTOPERSONAS",
         "latitudes": 3.4276807,
         "longitudes": -76.5503359,
         "_deepnote_index_column": 1145
        },
        {
         "fecha": "2012-12-20T21:45:00.000000",
         "direccion": "CR39#35-, Palmira - Valle del Cauca, Colombia",
         "categoria": "HURTOPERSONAS",
         "latitudes": 3.5379718,
         "longitudes": -76.2971657,
         "_deepnote_index_column": 1146
        },
        {
         "fecha": "2012-12-20T10:00:00.000000",
         "direccion": "CL56A#40-26, Palmira - Valle del Cauca, Colombia",
         "categoria": "HURTOPERSONAS",
         "latitudes": 3.5379718,
         "longitudes": -76.2971657,
         "_deepnote_index_column": 1147
        },
        {
         "fecha": "2012-12-20T14:00:00.000000",
         "direccion": "CL11#7-2, Palmira - Valle del Cauca, Colombia",
         "categoria": "HURTOPERSONAS",
         "latitudes": 3.5103733,
         "longitudes": -76.300699,
         "_deepnote_index_column": 1148
        },
        {
         "fecha": "2012-12-21T04:30:00.000000",
         "direccion": "CL10#6, Palmira - Valle del Cauca, Colombia",
         "categoria": "HURTOPERSONAS",
         "latitudes": 3.5379718,
         "longitudes": -76.2971657,
         "_deepnote_index_column": 1149
        },
        {
         "fecha": "2012-12-22T15:10:00.000000",
         "direccion": "CR38#59-, Palmira - Valle del Cauca, Colombia",
         "categoria": "HURTOPERSONAS",
         "latitudes": 3.5339751,
         "longitudes": -76.3082321,
         "_deepnote_index_column": 1150
        },
        {
         "fecha": "2012-12-22T21:00:00.000000",
         "direccion": "CL57#41A, Palmira - Valle del Cauca, Colombia",
         "categoria": "HURTOPERSONAS",
         "latitudes": 3.5478897,
         "longitudes": -76.3126376,
         "_deepnote_index_column": 1151
        },
        {
         "fecha": "2012-12-23T18:35:00.000000",
         "direccion": "CL10#3, Palmira - Valle del Cauca, Colombia",
         "categoria": "HURTOPERSONAS",
         "latitudes": 3.5379718,
         "longitudes": -76.2971657,
         "_deepnote_index_column": 1152
        },
        {
         "fecha": "2012-12-25T20:00:00.000000",
         "direccion": "CL30#19, Palmira - Valle del Cauca, Colombia",
         "categoria": "HURTOPERSONAS",
         "latitudes": 3.5261276,
         "longitudes": -76.2919174,
         "_deepnote_index_column": 1153
        },
        {
         "fecha": "2012-12-25T18:30:00.000000",
         "direccion": "CR28#47-, Palmira - Valle del Cauca, Colombia",
         "categoria": "HURTOPERSONAS",
         "latitudes": 3.542309,
         "longitudes": -76.2965332,
         "_deepnote_index_column": 1154
        },
        {
         "fecha": "2012-12-26T15:30:00.000000",
         "direccion": "CR30#29-88 , Palmira - Valle del Cauca, Colombia",
         "categoria": "HURTOPERSONAS",
         "latitudes": 3.5269596,
         "longitudes": -76.3005333,
         "_deepnote_index_column": 1155
        },
        {
         "fecha": "2012-12-27T11:30:00.000000",
         "direccion": "CL31#30-71, Palmira - Valle del Cauca, Colombia",
         "categoria": "HURTOPERSONAS",
         "latitudes": 3.528994,
         "longitudes": -76.30627799999999,
         "_deepnote_index_column": 1156
        },
        {
         "fecha": "2012-12-27T16:00:00.000000",
         "direccion": "CL48#30B-5, Palmira - Valle del Cauca, Colombia",
         "categoria": "HURTOPERSONAS",
         "latitudes": 3.5434884,
         "longitudes": -76.2985447,
         "_deepnote_index_column": 1157
        },
        {
         "fecha": "2012-12-28T00:34:00.000000",
         "direccion": "CR28#38-54 , Palmira - Valle del Cauca, Colombia",
         "categoria": "HURTOPERSONAS",
         "latitudes": 3.5353608,
         "longitudes": -76.2975763,
         "_deepnote_index_column": 1158
        },
        {
         "fecha": "2012-12-30T09:40:00.000000",
         "direccion": "CL42#34-53, Palmira - Valle del Cauca, Colombia",
         "categoria": "HURTOPERSONAS",
         "latitudes": 3.5386531,
         "longitudes": -76.3030232,
         "_deepnote_index_column": 1159
        },
        {
         "fecha": "2012-12-30T15:30:00.000000",
         "direccion": "CR24#28-, Palmira - Valle del Cauca, Colombia",
         "categoria": "HURTOPERSONAS",
         "latitudes": 3.5251592,
         "longitudes": -76.2956908,
         "_deepnote_index_column": 1160
        },
        {
         "fecha": "2012-12-31T13:00:00.000000",
         "direccion": "CR24#17-, Palmira - Valle del Cauca, Colombia",
         "categoria": "HURTOPERSONAS",
         "latitudes": 3.5158471,
         "longitudes": -76.29569819999999,
         "_deepnote_index_column": 1161
        },
        {
         "fecha": "2012-12-23T15:30:00.000000",
         "direccion": "CL40#1B-60, Palmira - Valle del Cauca, Colombia",
         "categoria": "HURTORESIDENCIAS",
         "latitudes": 3.5363085,
         "longitudes": -76.296984,
         "_deepnote_index_column": 1162
        },
        {
         "fecha": "2012-12-06T07:30:00.000000",
         "direccion": "CL47C#13-59, Palmira - Valle del Cauca, Colombia",
         "categoria": "HURTOMOTOCICLETAS",
         "latitudes": 3.5433963,
         "longitudes": -76.2902778,
         "_deepnote_index_column": 1163
        },
        {
         "fecha": "2012-12-11T07:30:00.000000",
         "direccion": "CR44#40-1 , Palmira - Valle del Cauca, Colombia",
         "categoria": "HURTOMOTOCICLETAS",
         "latitudes": 3.5368339,
         "longitudes": -76.3150361,
         "_deepnote_index_column": 1164
        },
        {
         "fecha": "2012-12-30T20:30:00.000000",
         "direccion": "CL42#8, Palmira - Valle del Cauca, Colombia",
         "categoria": "HURTOMOTOCICLETAS",
         "latitudes": 3.5387097,
         "longitudes": -76.3018896,
         "_deepnote_index_column": 1165
        },
        {
         "fecha": "2012-12-02T02:00:00.000000",
         "direccion": "CR28#27-48 , Palmira - Valle del Cauca, Colombia",
         "categoria": "HURTOENTIDADESCOMERCIALES",
         "latitudes": 3.5247934,
         "longitudes": -76.2992352,
         "_deepnote_index_column": 1166
        },
        {
         "fecha": "2012-12-05T13:15:00.000000",
         "direccion": "CL29#25-51, Palmira - Valle del Cauca, Colombia",
         "categoria": "HURTOENTIDADESCOMERCIALES",
         "latitudes": 3.5257443,
         "longitudes": -76.29698309999999,
         "_deepnote_index_column": 1167
        }
       ]
      },
      "text/plain": "                   fecha                                          direccion  \\\n0    2009-01-01 13:00:00      CL1 #2-2, Palmira - Valle del Cauca, Colombia   \n1    2009-01-01 00:00:00   CR28 #43-2 , Palmira - Valle del Cauca, Colombia   \n2    2009-01-02 02:00:00    CL21 #24-2, Palmira - Valle del Cauca, Colombia   \n3    2009-01-02 02:35:00   CL47 #25-32, Palmira - Valle del Cauca, Colombia   \n4    2009-01-02 08:00:00  CL54B #45-60, Palmira - Valle del Cauca, Colombia   \n...                  ...                                                ...   \n1163 2012-12-06 07:30:00   CL47C#13-59, Palmira - Valle del Cauca, Colombia   \n1164 2012-12-11 07:30:00    CR44#40-1 , Palmira - Valle del Cauca, Colombia   \n1165 2012-12-30 20:30:00        CL42#8, Palmira - Valle del Cauca, Colombia   \n1166 2012-12-02 02:00:00   CR28#27-48 , Palmira - Valle del Cauca, Colombia   \n1167 2012-12-05 13:15:00    CL29#25-51, Palmira - Valle del Cauca, Colombia   \n\n                      categoria  latitudes  longitudes  \n0                 HURTOPERSONAS   3.537972  -76.297166  \n1                 HURTOPERSONAS   3.538685  -76.297222  \n2                 HURTOPERSONAS   3.537972  -76.297166  \n3                 HURTOPERSONAS   3.542123  -76.294796  \n4                 HURTOPERSONAS   3.537972  -76.297166  \n...                         ...        ...         ...  \n1163          HURTOMOTOCICLETAS   3.543396  -76.290278  \n1164          HURTOMOTOCICLETAS   3.536834  -76.315036  \n1165          HURTOMOTOCICLETAS   3.538710  -76.301890  \n1166  HURTOENTIDADESCOMERCIALES   3.524793  -76.299235  \n1167  HURTOENTIDADESCOMERCIALES   3.525744  -76.296983  \n\n[5811 rows x 5 columns]",
      "text/html": "<div>\n<style scoped>\n    .dataframe tbody tr th:only-of-type {\n        vertical-align: middle;\n    }\n\n    .dataframe tbody tr th {\n        vertical-align: top;\n    }\n\n    .dataframe thead th {\n        text-align: right;\n    }\n</style>\n<table border=\"1\" class=\"dataframe\">\n  <thead>\n    <tr style=\"text-align: right;\">\n      <th></th>\n      <th>fecha</th>\n      <th>direccion</th>\n      <th>categoria</th>\n      <th>latitudes</th>\n      <th>longitudes</th>\n    </tr>\n  </thead>\n  <tbody>\n    <tr>\n      <th>0</th>\n      <td>2009-01-01 13:00:00</td>\n      <td>CL1 #2-2, Palmira - Valle del Cauca, Colombia</td>\n      <td>HURTOPERSONAS</td>\n      <td>3.537972</td>\n      <td>-76.297166</td>\n    </tr>\n    <tr>\n      <th>1</th>\n      <td>2009-01-01 00:00:00</td>\n      <td>CR28 #43-2 , Palmira - Valle del Cauca, Colombia</td>\n      <td>HURTOPERSONAS</td>\n      <td>3.538685</td>\n      <td>-76.297222</td>\n    </tr>\n    <tr>\n      <th>2</th>\n      <td>2009-01-02 02:00:00</td>\n      <td>CL21 #24-2, Palmira - Valle del Cauca, Colombia</td>\n      <td>HURTOPERSONAS</td>\n      <td>3.537972</td>\n      <td>-76.297166</td>\n    </tr>\n    <tr>\n      <th>3</th>\n      <td>2009-01-02 02:35:00</td>\n      <td>CL47 #25-32, Palmira - Valle del Cauca, Colombia</td>\n      <td>HURTOPERSONAS</td>\n      <td>3.542123</td>\n      <td>-76.294796</td>\n    </tr>\n    <tr>\n      <th>4</th>\n      <td>2009-01-02 08:00:00</td>\n      <td>CL54B #45-60, Palmira - Valle del Cauca, Colombia</td>\n      <td>HURTOPERSONAS</td>\n      <td>3.537972</td>\n      <td>-76.297166</td>\n    </tr>\n    <tr>\n      <th>...</th>\n      <td>...</td>\n      <td>...</td>\n      <td>...</td>\n      <td>...</td>\n      <td>...</td>\n    </tr>\n    <tr>\n      <th>1163</th>\n      <td>2012-12-06 07:30:00</td>\n      <td>CL47C#13-59, Palmira - Valle del Cauca, Colombia</td>\n      <td>HURTOMOTOCICLETAS</td>\n      <td>3.543396</td>\n      <td>-76.290278</td>\n    </tr>\n    <tr>\n      <th>1164</th>\n      <td>2012-12-11 07:30:00</td>\n      <td>CR44#40-1 , Palmira - Valle del Cauca, Colombia</td>\n      <td>HURTOMOTOCICLETAS</td>\n      <td>3.536834</td>\n      <td>-76.315036</td>\n    </tr>\n    <tr>\n      <th>1165</th>\n      <td>2012-12-30 20:30:00</td>\n      <td>CL42#8, Palmira - Valle del Cauca, Colombia</td>\n      <td>HURTOMOTOCICLETAS</td>\n      <td>3.538710</td>\n      <td>-76.301890</td>\n    </tr>\n    <tr>\n      <th>1166</th>\n      <td>2012-12-02 02:00:00</td>\n      <td>CR28#27-48 , Palmira - Valle del Cauca, Colombia</td>\n      <td>HURTOENTIDADESCOMERCIALES</td>\n      <td>3.524793</td>\n      <td>-76.299235</td>\n    </tr>\n    <tr>\n      <th>1167</th>\n      <td>2012-12-05 13:15:00</td>\n      <td>CL29#25-51, Palmira - Valle del Cauca, Colombia</td>\n      <td>HURTOENTIDADESCOMERCIALES</td>\n      <td>3.525744</td>\n      <td>-76.296983</td>\n    </tr>\n  </tbody>\n</table>\n<p>5811 rows × 5 columns</p>\n</div>"
     },
     "metadata": {}
    }
   ],
   "execution_count": null
  },
  {
   "cell_type": "markdown",
   "source": "🤔Revisando los datos completos se encuentra que hay direcciones que tienen coordenadas muy alejadas de la realidad, esto se debe a dos razones principalmente:\n>*La dirección ingresada no tiene una ubicación exacta dentro de la ciudad entonces devuelve coordenadas alejadas.\n>*La dirección ingresada coincide con otro lugar completamente diferente al que necesitamos\n\nTodo esto sucede a pesar de que se precise la ciudad, departamento y país, al no encontrar coincidencias exactas, se va por una coincidencia similar en otros lugares.",
   "metadata": {
    "tags": [],
    "cell_id": "00037-bb199f72-1e89-41c5-8ceb-dfc93459f1b3",
    "deepnote_cell_type": "markdown"
   }
  },
  {
   "cell_type": "code",
   "metadata": {
    "tags": [],
    "cell_id": "00036-a3f9345a-3265-4581-b5bc-12227ad3e8f5",
    "deepnote_to_be_reexecuted": false,
    "source_hash": "f7ea419b",
    "execution_start": 1626913023581,
    "execution_millis": 4,
    "deepnote_cell_type": "code"
   },
   "source": "#filtrando datos erroneos\nhurtos_filtrados = hurtos_full[(hurtos_full['latitudes'] <= hurtos_full['latitudes'].mean() + hurtos_full['latitudes'].std()) & (hurtos_full['latitudes'] >= hurtos_full['latitudes'].mean() - hurtos_full['latitudes'].std())]\nhurtos_filtrados = hurtos_filtrados.reset_index().drop(columns='index')",
   "outputs": [],
   "execution_count": null
  },
  {
   "cell_type": "code",
   "metadata": {
    "tags": [],
    "cell_id": "00038-2d00e180-68bf-4b40-940c-0975ad8dc031",
    "deepnote_to_be_reexecuted": false,
    "source_hash": "dab5c1b4",
    "execution_start": 1626913026317,
    "execution_millis": 2,
    "deepnote_cell_type": "code"
   },
   "source": "#Comprobamos los datos filtrados\n#hurtos_filtrados.sort_values(by='latitudes')\n#Solamente fue necesario filtrar la latitud para retirar las coincidencias impresisas de latitudes también",
   "outputs": [],
   "execution_count": null
  },
  {
   "cell_type": "code",
   "metadata": {
    "tags": [],
    "cell_id": "00039-3aaa3c45-e6d1-4490-9cd9-7f53195f8aa1",
    "deepnote_to_be_reexecuted": false,
    "source_hash": "34372624",
    "execution_start": 1626913026782,
    "execution_millis": 90,
    "deepnote_cell_type": "code"
   },
   "source": "hurtos_filtrados",
   "outputs": [
    {
     "output_type": "execute_result",
     "execution_count": 24,
     "data": {
      "application/vnd.deepnote.dataframe.v2+json": {
       "row_count": 5781,
       "column_count": 5,
       "columns": [
        {
         "name": "fecha",
         "dtype": "datetime64[ns]",
         "stats": {
          "unique_count": 5249,
          "nan_count": 7,
          "min": "2002-01-15 06:00:00",
          "max": "2012-12-31 13:00:00",
          "histogram": [
           {
            "bin_start": 1011074400000000000,
            "bin_end": 1045662840000000000,
            "count": 3
           },
           {
            "bin_start": 1045662840000000000,
            "bin_end": 1080251280000000000,
            "count": 0
           },
           {
            "bin_start": 1080251280000000000,
            "bin_end": 1114839720000000000,
            "count": 0
           },
           {
            "bin_start": 1114839720000000000,
            "bin_end": 1149428160000000000,
            "count": 0
           },
           {
            "bin_start": 1149428160000000000,
            "bin_end": 1184016600000000000,
            "count": 0
           },
           {
            "bin_start": 1184016600000000000,
            "bin_end": 1218605040000000000,
            "count": 0
           },
           {
            "bin_start": 1218605040000000000,
            "bin_end": 1253193480000000000,
            "count": 1147
           },
           {
            "bin_start": 1253193480000000000,
            "bin_end": 1287781920000000000,
            "count": 1500
           },
           {
            "bin_start": 1287781920000000000,
            "bin_end": 1322370360000000000,
            "count": 1544
           },
           {
            "bin_start": 1322370360000000000,
            "bin_end": 1356958800000000000,
            "count": 1580
           }
          ]
         }
        },
        {
         "name": "direccion",
         "dtype": "object",
         "stats": {
          "unique_count": 3585,
          "nan_count": 0,
          "categories": [
           {
            "name": "CL42 #28-2, Palmira - Valle del Cauca, Colombia",
            "count": 35
           },
           {
            "name": "CL31 #41-2, Palmira - Valle del Cauca, Colombia",
            "count": 24
           },
           {
            "name": "3583 others",
            "count": 5722
           }
          ]
         }
        },
        {
         "name": "categoria",
         "dtype": "category",
         "stats": {
          "unique_count": 11,
          "nan_count": 0,
          "categories": [
           {
            "name": "HURTOPERSONAS",
            "count": 4265
           },
           {
            "name": "HURTOMOTOCICLETAS",
            "count": 829
           },
           {
            "name": "9 others",
            "count": 687
           }
          ]
         }
        },
        {
         "name": "latitudes",
         "dtype": "float64",
         "stats": {
          "unique_count": 2289,
          "nan_count": 0,
          "min": "3.4067891",
          "max": "3.5602069",
          "histogram": [
           {
            "bin_start": 3.4067891,
            "bin_end": 3.42213088,
            "count": 3
           },
           {
            "bin_start": 3.42213088,
            "bin_end": 3.43747266,
            "count": 11
           },
           {
            "bin_start": 3.43747266,
            "bin_end": 3.45281444,
            "count": 10
           },
           {
            "bin_start": 3.45281444,
            "bin_end": 3.46815622,
            "count": 6
           },
           {
            "bin_start": 3.46815622,
            "bin_end": 3.483498,
            "count": 17
           },
           {
            "bin_start": 3.483498,
            "bin_end": 3.49883978,
            "count": 0
           },
           {
            "bin_start": 3.49883978,
            "bin_end": 3.51418156,
            "count": 215
           },
           {
            "bin_start": 3.51418156,
            "bin_end": 3.52952334,
            "count": 2111
           },
           {
            "bin_start": 3.52952334,
            "bin_end": 3.54486512,
            "count": 2883
           },
           {
            "bin_start": 3.54486512,
            "bin_end": 3.5602069,
            "count": 525
           }
          ]
         }
        },
        {
         "name": "longitudes",
         "dtype": "float64",
         "stats": {
          "unique_count": 2292,
          "nan_count": 0,
          "min": "-76.5503359",
          "max": "-76.2719687",
          "histogram": [
           {
            "bin_start": -76.5503359,
            "bin_end": -76.52249918,
            "count": 19
           },
           {
            "bin_start": -76.52249918,
            "bin_end": -76.49466246,
            "count": 6
           },
           {
            "bin_start": -76.49466246,
            "bin_end": -76.46682573999999,
            "count": 8
           },
           {
            "bin_start": -76.46682573999999,
            "bin_end": -76.43898902,
            "count": 1
           },
           {
            "bin_start": -76.43898902,
            "bin_end": -76.4111523,
            "count": 12
           },
           {
            "bin_start": -76.4111523,
            "bin_end": -76.38331558,
            "count": 2
           },
           {
            "bin_start": -76.38331558,
            "bin_end": -76.35547886,
            "count": 0
           },
           {
            "bin_start": -76.35547886,
            "bin_end": -76.32764214,
            "count": 6
           },
           {
            "bin_start": -76.32764214,
            "bin_end": -76.29980542,
            "count": 1791
           },
           {
            "bin_start": -76.29980542,
            "bin_end": -76.2719687,
            "count": 3936
           }
          ]
         }
        },
        {
         "name": "_deepnote_index_column",
         "dtype": "int64"
        }
       ],
       "rows_top": [
        {
         "fecha": "2009-01-01T13:00:00.000000",
         "direccion": "CL1 #2-2, Palmira - Valle del Cauca, Colombia",
         "categoria": "HURTOPERSONAS",
         "latitudes": 3.5379718,
         "longitudes": -76.2971657,
         "_deepnote_index_column": 0
        },
        {
         "fecha": "2009-01-01T00:00:00.000000",
         "direccion": "CR28 #43-2 , Palmira - Valle del Cauca, Colombia",
         "categoria": "HURTOPERSONAS",
         "latitudes": 3.538685,
         "longitudes": -76.2972217,
         "_deepnote_index_column": 1
        },
        {
         "fecha": "2009-01-02T02:00:00.000000",
         "direccion": "CL21 #24-2, Palmira - Valle del Cauca, Colombia",
         "categoria": "HURTOPERSONAS",
         "latitudes": 3.5379718,
         "longitudes": -76.2971657,
         "_deepnote_index_column": 2
        },
        {
         "fecha": "2009-01-02T02:35:00.000000",
         "direccion": "CL47 #25-32, Palmira - Valle del Cauca, Colombia",
         "categoria": "HURTOPERSONAS",
         "latitudes": 3.5421228,
         "longitudes": -76.2947956,
         "_deepnote_index_column": 3
        },
        {
         "fecha": "2009-01-02T08:00:00.000000",
         "direccion": "CL54B #45-60, Palmira - Valle del Cauca, Colombia",
         "categoria": "HURTOPERSONAS",
         "latitudes": 3.5379718,
         "longitudes": -76.2971657,
         "_deepnote_index_column": 4
        },
        {
         "fecha": "2009-01-02T12:00:00.000000",
         "direccion": "CR26A #62-15, Palmira - Valle del Cauca, Colombia",
         "categoria": "HURTOPERSONAS",
         "latitudes": 3.5510405,
         "longitudes": -76.2910646,
         "_deepnote_index_column": 5
        },
        {
         "fecha": "2009-01-02T14:30:00.000000",
         "direccion": "CR32 #18-2, Palmira - Valle del Cauca, Colombia",
         "categoria": "HURTOPERSONAS",
         "latitudes": 3.5172364,
         "longitudes": -76.3042791,
         "_deepnote_index_column": 6
        },
        {
         "fecha": "2009-01-03T11:45:00.000000",
         "direccion": "CL1 #2-2, Palmira - Valle del Cauca, Colombia",
         "categoria": "HURTOPERSONAS",
         "latitudes": 3.5379718,
         "longitudes": -76.2971657,
         "_deepnote_index_column": 7
        },
        {
         "fecha": "2009-01-03T22:30:00.000000",
         "direccion": "CL23 #25-54, Palmira - Valle del Cauca, Colombia",
         "categoria": "HURTOPERSONAS",
         "latitudes": 3.5208555,
         "longitudes": -76.2977042,
         "_deepnote_index_column": 8
        },
        {
         "fecha": "2009-01-03T15:00:00.000000",
         "direccion": "CL38 #40-2, Palmira - Valle del Cauca, Colombia",
         "categoria": "HURTOPERSONAS",
         "latitudes": 3.5351069,
         "longitudes": -76.3104015,
         "_deepnote_index_column": 9
        },
        {
         "fecha": "2009-01-04T17:00:00.000000",
         "direccion": "CL30A #41-28, Palmira - Valle del Cauca, Colombia",
         "categoria": "HURTOPERSONAS",
         "latitudes": 3.5293565,
         "longitudes": -76.3117048,
         "_deepnote_index_column": 10
        },
        {
         "fecha": "2009-01-04T13:10:00.000000",
         "direccion": "CL35 #26-2, Palmira - Valle del Cauca, Colombia",
         "categoria": "HURTOPERSONAS",
         "latitudes": 3.5317518,
         "longitudes": -76.2964337,
         "_deepnote_index_column": 11
        },
        {
         "fecha": "2009-01-04T02:00:00.000000",
         "direccion": "CL50 #40-2, Palmira - Valle del Cauca, Colombia",
         "categoria": "HURTOPERSONAS",
         "latitudes": 3.5442261,
         "longitudes": -76.3126309,
         "_deepnote_index_column": 12
        },
        {
         "fecha": "2009-01-04T07:30:00.000000",
         "direccion": "CR27 #59-11, Palmira - Valle del Cauca, Colombia",
         "categoria": "HURTOPERSONAS",
         "latitudes": 3.5496046,
         "longitudes": -76.2922881,
         "_deepnote_index_column": 13
        },
        {
         "fecha": "2009-01-05T07:30:00.000000",
         "direccion": "CL21 #2-2, Palmira - Valle del Cauca, Colombia",
         "categoria": "HURTOPERSONAS",
         "latitudes": 3.5379718,
         "longitudes": -76.2971657,
         "_deepnote_index_column": 14
        },
        {
         "fecha": "2009-01-05T14:45:00.000000",
         "direccion": "CL33 #21-2, Palmira - Valle del Cauca, Colombia",
         "categoria": "HURTOPERSONAS",
         "latitudes": 3.5291875,
         "longitudes": -76.2729781,
         "_deepnote_index_column": 15
        },
        {
         "fecha": "2009-01-06T12:45:00.000000",
         "direccion": "CL25 #29-2, Palmira - Valle del Cauca, Colombia",
         "categoria": "HURTOPERSONAS",
         "latitudes": 3.522995,
         "longitudes": -76.30055999999999,
         "_deepnote_index_column": 16
        },
        {
         "fecha": "2009-01-06T10:00:00.000000",
         "direccion": "CL26 #23-30, Palmira - Valle del Cauca, Colombia",
         "categoria": "HURTOPERSONAS",
         "latitudes": 3.5227463,
         "longitudes": -76.2953854,
         "_deepnote_index_column": 17
        },
        {
         "fecha": "2009-01-06T01:00:00.000000",
         "direccion": "CL28 #21-24, Palmira - Valle del Cauca, Colombia",
         "categoria": "HURTOPERSONAS",
         "latitudes": 3.5246329,
         "longitudes": -76.2934334,
         "_deepnote_index_column": 18
        },
        {
         "fecha": "2009-01-07T12:30:00.000000",
         "direccion": "CL28 #29-2, Palmira - Valle del Cauca, Colombia",
         "categoria": "HURTOPERSONAS",
         "latitudes": 3.5254088,
         "longitudes": -76.3000149,
         "_deepnote_index_column": 19
        },
        {
         "fecha": "2009-01-07T08:00:00.000000",
         "direccion": "CL30 #26-27, Palmira - Valle del Cauca, Colombia",
         "categoria": "HURTOPERSONAS",
         "latitudes": 3.5267622,
         "longitudes": -76.29756239999999,
         "_deepnote_index_column": 20
        },
        {
         "fecha": "2009-01-07T13:45:00.000000",
         "direccion": "CR31 #24-16, Palmira - Valle del Cauca, Colombia",
         "categoria": "HURTOPERSONAS",
         "latitudes": 3.5224047,
         "longitudes": -76.3024995,
         "_deepnote_index_column": 21
        },
        {
         "fecha": "2009-01-07T09:30:00.000000",
         "direccion": "CL21 #30A-23, Palmira - Valle del Cauca, Colombia",
         "categoria": "HURTOPERSONAS",
         "latitudes": 3.5108436,
         "longitudes": -76.30262859999999,
         "_deepnote_index_column": 22
        },
        {
         "fecha": "2009-01-08T11:00:00.000000",
         "direccion": "CL31 #28-2, Palmira - Valle del Cauca, Colombia",
         "categoria": "HURTOPERSONAS",
         "latitudes": 3.528994,
         "longitudes": -76.30627799999999,
         "_deepnote_index_column": 23
        },
        {
         "fecha": "2009-01-08T14:15:00.000000",
         "direccion": "CL32A #24-27, Palmira - Valle del Cauca, Colombia",
         "categoria": "HURTOPERSONAS",
         "latitudes": 3.5072669,
         "longitudes": -76.2995263,
         "_deepnote_index_column": 24
        },
        {
         "fecha": "2009-01-09T22:05:00.000000",
         "direccion": "CL65 #28-2, Palmira - Valle del Cauca, Colombia",
         "categoria": "HURTOPERSONAS",
         "latitudes": 3.5523107,
         "longitudes": -76.2937372,
         "_deepnote_index_column": 25
        },
        {
         "fecha": "2009-01-09T20:00:00.000000",
         "direccion": "CL31 #21-2, Palmira - Valle del Cauca, Colombia",
         "categoria": "HURTOPERSONAS",
         "latitudes": 3.5268144,
         "longitudes": -76.30006279999999,
         "_deepnote_index_column": 26
        },
        {
         "fecha": "2009-01-09T18:55:00.000000",
         "direccion": "CL45 #13-2, Palmira - Valle del Cauca, Colombia",
         "categoria": "HURTOPERSONAS",
         "latitudes": 3.5410734,
         "longitudes": -76.3164728,
         "_deepnote_index_column": 27
        },
        {
         "fecha": "2009-01-10T20:45:00.000000",
         "direccion": "CR20 #33-2, Palmira - Valle del Cauca, Colombia",
         "categoria": "HURTOPERSONAS",
         "latitudes": 3.5379718,
         "longitudes": -76.2971657,
         "_deepnote_index_column": 28
        },
        {
         "fecha": "2009-01-10T00:20:00.000000",
         "direccion": "CL30 #2-2, Palmira - Valle del Cauca, Colombia",
         "categoria": "HURTOPERSONAS",
         "latitudes": 3.521567,
         "longitudes": -76.2786825,
         "_deepnote_index_column": 29
        },
        {
         "fecha": "2009-01-10T02:40:00.000000",
         "direccion": "CL41 #28-2, Palmira - Valle del Cauca, Colombia",
         "categoria": "HURTOPERSONAS",
         "latitudes": 3.5372043,
         "longitudes": -76.29740300000002,
         "_deepnote_index_column": 30
        },
        {
         "fecha": "2009-01-11T10:30:00.000000",
         "direccion": "CL11 #36-2, Palmira - Valle del Cauca, Colombia",
         "categoria": "HURTOPERSONAS",
         "latitudes": 3.5103733,
         "longitudes": -76.300699,
         "_deepnote_index_column": 31
        },
        {
         "fecha": "2009-01-11T17:30:00.000000",
         "direccion": "CL30 #31-32, Palmira - Valle del Cauca, Colombia",
         "categoria": "HURTOPERSONAS",
         "latitudes": 3.5274991,
         "longitudes": -76.3018311,
         "_deepnote_index_column": 32
        },
        {
         "fecha": "2009-01-11T18:30:00.000000",
         "direccion": "CL32 #31-27, Palmira - Valle del Cauca, Colombia",
         "categoria": "HURTOPERSONAS",
         "latitudes": 3.5379718,
         "longitudes": -76.2971657,
         "_deepnote_index_column": 33
        },
        {
         "fecha": "2009-01-13T14:40:00.000000",
         "direccion": "CL34 #9-10, Palmira - Valle del Cauca, Colombia",
         "categoria": "HURTOPERSONAS",
         "latitudes": 3.5379718,
         "longitudes": -76.2971657,
         "_deepnote_index_column": 34
        },
        {
         "fecha": "2009-01-13T21:15:00.000000",
         "direccion": "CR15 #35-36, Palmira - Valle del Cauca, Colombia",
         "categoria": "HURTOPERSONAS",
         "latitudes": 3.5379718,
         "longitudes": -76.2971657,
         "_deepnote_index_column": 35
        },
        {
         "fecha": "2009-01-13T13:55:00.000000",
         "direccion": "CR25 #26-2, Palmira - Valle del Cauca, Colombia",
         "categoria": "HURTOPERSONAS",
         "latitudes": 3.5229344,
         "longitudes": -76.2969444,
         "_deepnote_index_column": 36
        },
        {
         "fecha": "2009-01-13T21:00:00.000000",
         "direccion": "CL31 #36-2, Palmira - Valle del Cauca, Colombia",
         "categoria": "HURTOPERSONAS",
         "latitudes": 3.528994,
         "longitudes": -76.30627799999999,
         "_deepnote_index_column": 37
        },
        {
         "fecha": "2009-01-14T19:10:00.000000",
         "direccion": "CL42 #28-2, Palmira - Valle del Cauca, Colombia",
         "categoria": "HURTOPERSONAS",
         "latitudes": 3.5378617,
         "longitudes": -76.29734739999999,
         "_deepnote_index_column": 38
        },
        {
         "fecha": "2009-01-14T15:30:00.000000",
         "direccion": "CL54B #45-60, Palmira - Valle del Cauca, Colombia",
         "categoria": "HURTOPERSONAS",
         "latitudes": 3.5379718,
         "longitudes": -76.2971657,
         "_deepnote_index_column": 39
        },
        {
         "fecha": "2009-01-15T00:00:00.000000",
         "direccion": "DG28B #58-8, Palmira - Valle del Cauca, Colombia",
         "categoria": "HURTOPERSONAS",
         "latitudes": 3.5379718,
         "longitudes": -76.2971657,
         "_deepnote_index_column": 40
        },
        {
         "fecha": "2009-01-15T14:47:00.000000",
         "direccion": "CL25 #29-2, Palmira - Valle del Cauca, Colombia",
         "categoria": "HURTOPERSONAS",
         "latitudes": 3.522995,
         "longitudes": -76.30055999999999,
         "_deepnote_index_column": 41
        },
        {
         "fecha": "2009-01-15T16:15:00.000000",
         "direccion": "CL35 #13-2, Palmira - Valle del Cauca, Colombia",
         "categoria": "HURTOPERSONAS",
         "latitudes": 3.5315988,
         "longitudes": -76.2855443,
         "_deepnote_index_column": 42
        },
        {
         "fecha": "2009-01-15T08:00:00.000000",
         "direccion": "CL49 #47-2, Palmira - Valle del Cauca, Colombia",
         "categoria": "HURTOPERSONAS",
         "latitudes": 3.5438414,
         "longitudes": -76.3083087,
         "_deepnote_index_column": 43
        },
        {
         "fecha": "2009-01-15T16:15:00.000000",
         "direccion": "CR1 #31-2, Palmira - Valle del Cauca, Colombia",
         "categoria": "HURTOPERSONAS",
         "latitudes": 3.5310637,
         "longitudes": -76.2772128,
         "_deepnote_index_column": 44
        },
        {
         "fecha": "2009-01-15T16:32:00.000000",
         "direccion": "CL14 #27-2, Palmira - Valle del Cauca, Colombia",
         "categoria": "HURTOPERSONAS",
         "latitudes": 3.5060719,
         "longitudes": -76.298855,
         "_deepnote_index_column": 45
        },
        {
         "fecha": "2009-01-16T13:20:00.000000",
         "direccion": "CL31 #40-2, Palmira - Valle del Cauca, Colombia",
         "categoria": "HURTOPERSONAS",
         "latitudes": 3.5147383,
         "longitudes": -76.272998,
         "_deepnote_index_column": 46
        },
        {
         "fecha": "2009-01-16T12:20:00.000000",
         "direccion": "CR26 #29-81, Palmira - Valle del Cauca, Colombia",
         "categoria": "HURTOPERSONAS",
         "latitudes": 3.5265041,
         "longitudes": -76.2974562,
         "_deepnote_index_column": 47
        },
        {
         "fecha": "2009-01-16T11:00:00.000000",
         "direccion": "CR42 #41-2, Palmira - Valle del Cauca, Colombia",
         "categoria": "HURTOPERSONAS",
         "latitudes": 3.5378302,
         "longitudes": -76.3122506,
         "_deepnote_index_column": 48
        },
        {
         "fecha": "2009-01-16T06:10:00.000000",
         "direccion": "CL19 #25A-2, Palmira - Valle del Cauca, Colombia",
         "categoria": "HURTOPERSONAS",
         "latitudes": 3.5176787,
         "longitudes": -76.2982301,
         "_deepnote_index_column": 49
        },
        {
         "fecha": "2009-01-16T12:00:00.000000",
         "direccion": "CL55 #42-2, Palmira - Valle del Cauca, Colombia",
         "categoria": "HURTOPERSONAS",
         "latitudes": 3.5472662,
         "longitudes": -76.2957005,
         "_deepnote_index_column": 50
        },
        {
         "fecha": "2009-01-16T21:00:00.000000",
         "direccion": "CL35A #41-120, Palmira - Valle del Cauca, Colombia",
         "categoria": "HURTOPERSONAS",
         "latitudes": 3.5328183,
         "longitudes": -76.31233569999999,
         "_deepnote_index_column": 51
        },
        {
         "fecha": "2009-01-17T16:40:00.000000",
         "direccion": "CL36 #18-2, Palmira - Valle del Cauca, Colombia",
         "categoria": "HURTOPERSONAS",
         "latitudes": 3.5318694,
         "longitudes": -76.28972519999999,
         "_deepnote_index_column": 52
        },
        {
         "fecha": "2009-01-17T10:20:00.000000",
         "direccion": "CR22 #39-22, Palmira - Valle del Cauca, Colombia",
         "categoria": "HURTOPERSONAS",
         "latitudes": 3.5351181,
         "longitudes": -76.2926039,
         "_deepnote_index_column": 53
        },
        {
         "fecha": "2009-01-17T11:40:00.000000",
         "direccion": "CR28 #39-2, Palmira - Valle del Cauca, Colombia",
         "categoria": "HURTOPERSONAS",
         "latitudes": 3.534988,
         "longitudes": -76.2976901,
         "_deepnote_index_column": 54
        },
        {
         "fecha": "2009-01-18T14:30:00.000000",
         "direccion": "CR33 #45-75, Palmira - Valle del Cauca, Colombia",
         "categoria": "HURTOPERSONAS",
         "latitudes": 3.5412149,
         "longitudes": -76.3016991,
         "_deepnote_index_column": 55
        },
        {
         "fecha": "2009-01-18T16:30:00.000000",
         "direccion": "CR27 #22-2, Palmira - Valle del Cauca, Colombia",
         "categoria": "HURTOPERSONAS",
         "latitudes": 3.5201497,
         "longitudes": -76.2990749,
         "_deepnote_index_column": 56
        },
        {
         "fecha": "2009-01-19T04:33:00.000000",
         "direccion": "CL25 #30-3, Palmira - Valle del Cauca, Colombia",
         "categoria": "HURTOPERSONAS",
         "latitudes": 3.5229928,
         "longitudes": -76.3014925,
         "_deepnote_index_column": 57
        },
        {
         "fecha": "2009-01-19T17:00:00.000000",
         "direccion": "CL47 #25-2, Palmira - Valle del Cauca, Colombia",
         "categoria": "HURTOPERSONAS",
         "latitudes": 3.5421228,
         "longitudes": -76.2947956,
         "_deepnote_index_column": 58
        },
        {
         "fecha": "2009-01-20T21:50:00.000000",
         "direccion": "CR28 #29-2, Palmira - Valle del Cauca, Colombia",
         "categoria": "HURTOPERSONAS",
         "latitudes": 3.5260484,
         "longitudes": -76.2990585,
         "_deepnote_index_column": 59
        },
        {
         "fecha": "2009-01-20T07:35:00.000000",
         "direccion": "CL26 #33-2, Palmira - Valle del Cauca, Colombia",
         "categoria": "HURTOPERSONAS",
         "latitudes": 3.5241112,
         "longitudes": -76.30358319999999,
         "_deepnote_index_column": 60
        },
        {
         "fecha": "2009-01-20T18:00:00.000000",
         "direccion": "CL38 #11A-5, Palmira - Valle del Cauca, Colombia",
         "categoria": "HURTOPERSONAS",
         "latitudes": 3.5342263,
         "longitudes": -76.2844302,
         "_deepnote_index_column": 61
        },
        {
         "fecha": "2009-01-20T16:30:00.000000",
         "direccion": "CR22 #28-46, Palmira - Valle del Cauca, Colombia",
         "categoria": "HURTOPERSONAS",
         "latitudes": 3.5250616,
         "longitudes": -76.2939612,
         "_deepnote_index_column": 62
        },
        {
         "fecha": "2009-01-20T11:30:00.000000",
         "direccion": "CR28 #23-2, Palmira - Valle del Cauca, Colombia",
         "categoria": "HURTOPERSONAS",
         "latitudes": 3.5209729,
         "longitudes": -76.2998095,
         "_deepnote_index_column": 63
        },
        {
         "fecha": "2009-01-21T12:30:00.000000",
         "direccion": "CR32 #34-2, Palmira - Valle del Cauca, Colombia",
         "categoria": "HURTOPERSONAS",
         "latitudes": 3.5379718,
         "longitudes": -76.2971657,
         "_deepnote_index_column": 64
        },
        {
         "fecha": "2009-01-21T11:00:00.000000",
         "direccion": "CL27 #17-2, Palmira - Valle del Cauca, Colombia",
         "categoria": "HURTOPERSONAS",
         "latitudes": 3.523327,
         "longitudes": -76.2899226,
         "_deepnote_index_column": 65
        },
        {
         "fecha": "2009-01-22T13:00:00.000000",
         "direccion": "CR19 #39-2, Palmira - Valle del Cauca, Colombia",
         "categoria": "HURTOPERSONAS",
         "latitudes": 3.5346515,
         "longitudes": -76.2905919,
         "_deepnote_index_column": 66
        },
        {
         "fecha": "2009-01-22T17:15:00.000000",
         "direccion": "CR32 #19-58, Palmira - Valle del Cauca, Colombia",
         "categoria": "HURTOPERSONAS",
         "latitudes": 3.5379718,
         "longitudes": -76.2971657,
         "_deepnote_index_column": 67
        },
        {
         "fecha": "2009-01-22T18:20:00.000000",
         "direccion": "CL22 #23-2, Palmira - Valle del Cauca, Colombia",
         "categoria": "HURTOPERSONAS",
         "latitudes": 3.5197236,
         "longitudes": -76.2949525,
         "_deepnote_index_column": 68
        },
        {
         "fecha": "2009-01-22T16:30:00.000000",
         "direccion": "CL26A #19-13, Palmira - Valle del Cauca, Colombia",
         "categoria": "HURTOPERSONAS",
         "latitudes": 3.5228472,
         "longitudes": -76.291722,
         "_deepnote_index_column": 69
        },
        {
         "fecha": "2009-01-22T15:30:00.000000",
         "direccion": "CL32 #38-2, Palmira - Valle del Cauca, Colombia",
         "categoria": "HURTOPERSONAS",
         "latitudes": 3.5302342,
         "longitudes": -76.3077404,
         "_deepnote_index_column": 70
        },
        {
         "fecha": "2009-01-23T22:00:00.000000",
         "direccion": "CL33 #26-2, Palmira - Valle del Cauca, Colombia",
         "categoria": "HURTOPERSONAS",
         "latitudes": 3.5241191,
         "longitudes": -76.3035725,
         "_deepnote_index_column": 71
        },
        {
         "fecha": "2009-01-23T12:00:00.000000",
         "direccion": "DG30C #11-48, Palmira - Valle del Cauca, Colombia",
         "categoria": "HURTOPERSONAS",
         "latitudes": 3.5379718,
         "longitudes": -76.2971657,
         "_deepnote_index_column": 72
        },
        {
         "fecha": "2009-01-23T12:00:00.000000",
         "direccion": "CR39A #40A-2, Palmira - Valle del Cauca, Colombia",
         "categoria": "HURTOPERSONAS",
         "latitudes": 3.5379718,
         "longitudes": -76.2971657,
         "_deepnote_index_column": 73
        },
        {
         "fecha": "2009-01-23T21:00:00.000000",
         "direccion": "CL18 #26-2, Palmira - Valle del Cauca, Colombia",
         "categoria": "HURTOPERSONAS",
         "latitudes": 3.5168726,
         "longitudes": -76.2989496,
         "_deepnote_index_column": 74
        },
        {
         "fecha": "2009-01-24T21:00:00.000000",
         "direccion": "CL29 #26-36, Palmira - Valle del Cauca, Colombia",
         "categoria": "HURTOPERSONAS",
         "latitudes": 3.5259658,
         "longitudes": -76.29781,
         "_deepnote_index_column": 75
        },
        {
         "fecha": "2009-01-24T05:30:00.000000",
         "direccion": "CL29 #33-97, Palmira - Valle del Cauca, Colombia",
         "categoria": "HURTOPERSONAS",
         "latitudes": 3.526823,
         "longitudes": -76.3043737,
         "_deepnote_index_column": 76
        },
        {
         "fecha": "2009-01-25T11:30:00.000000",
         "direccion": "CL37A #21-56, Palmira - Valle del Cauca, Colombia",
         "categoria": "HURTOPERSONAS",
         "latitudes": 3.5335515,
         "longitudes": -76.29251169999999,
         "_deepnote_index_column": 77
        },
        {
         "fecha": "2009-01-25T12:30:00.000000",
         "direccion": "CL42 #28-2, Palmira - Valle del Cauca, Colombia",
         "categoria": "HURTOPERSONAS",
         "latitudes": 3.5378617,
         "longitudes": -76.29734739999999,
         "_deepnote_index_column": 78
        },
        {
         "fecha": "2009-01-25T07:00:00.000000",
         "direccion": "CL48 #37-99, Palmira - Valle del Cauca, Colombia",
         "categoria": "HURTOPERSONAS",
         "latitudes": 3.5431557,
         "longitudes": -76.3101192,
         "_deepnote_index_column": 79
        },
        {
         "fecha": "2009-01-25T12:00:00.000000",
         "direccion": "CR19 #32-2, Palmira - Valle del Cauca, Colombia",
         "categoria": "HURTOPERSONAS",
         "latitudes": 3.528874,
         "longitudes": -76.290352,
         "_deepnote_index_column": 80
        },
        {
         "fecha": "2009-01-26T07:30:00.000000",
         "direccion": "CR26 #18-2, Palmira - Valle del Cauca, Colombia",
         "categoria": "HURTOPERSONAS",
         "latitudes": 3.5170918,
         "longitudes": -76.29887099999999,
         "_deepnote_index_column": 81
        },
        {
         "fecha": "2009-01-26T15:30:00.000000",
         "direccion": "CR27 #31-2, Palmira - Valle del Cauca, Colombia",
         "categoria": "HURTOPERSONAS",
         "latitudes": 3.5278011,
         "longitudes": -76.2978492,
         "_deepnote_index_column": 82
        },
        {
         "fecha": "2009-01-26T17:30:00.000000",
         "direccion": "CL31 #29-2, Palmira - Valle del Cauca, Colombia",
         "categoria": "HURTOPERSONAS",
         "latitudes": 3.528994,
         "longitudes": -76.30627799999999,
         "_deepnote_index_column": 83
        },
        {
         "fecha": "2009-01-26T17:00:00.000000",
         "direccion": "CL34 #17-34, Palmira - Valle del Cauca, Colombia",
         "categoria": "HURTOPERSONAS",
         "latitudes": 3.5379718,
         "longitudes": -76.2971657,
         "_deepnote_index_column": 84
        },
        {
         "fecha": "2009-01-26T15:00:00.000000",
         "direccion": "CL53 #39-32, Palmira - Valle del Cauca, Colombia",
         "categoria": "HURTOPERSONAS",
         "latitudes": 3.5456431,
         "longitudes": -76.31177679999999,
         "_deepnote_index_column": 85
        },
        {
         "fecha": "2009-01-26T18:50:00.000000",
         "direccion": "CL56 #28-2, Palmira - Valle del Cauca, Colombia",
         "categoria": "HURTOPERSONAS",
         "latitudes": 3.5473307,
         "longitudes": -76.2931297,
         "_deepnote_index_column": 86
        },
        {
         "fecha": "2009-01-26T10:30:00.000000",
         "direccion": "CR25 #14A-8, Palmira - Valle del Cauca, Colombia",
         "categoria": "HURTOPERSONAS",
         "latitudes": 3.5134787,
         "longitudes": -76.29794009999999,
         "_deepnote_index_column": 87
        },
        {
         "fecha": "2009-01-27T15:00:00.000000",
         "direccion": "CR28 #24-2, Palmira - Valle del Cauca, Colombia",
         "categoria": "HURTOPERSONAS",
         "latitudes": 3.5219031,
         "longitudes": -76.2996531,
         "_deepnote_index_column": 88
        },
        {
         "fecha": "2009-01-27T19:10:00.000000",
         "direccion": "CR30 #41-2, Palmira - Valle del Cauca, Colombia",
         "categoria": "HURTOPERSONAS",
         "latitudes": 3.5374341,
         "longitudes": -76.2989133,
         "_deepnote_index_column": 89
        },
        {
         "fecha": "2009-01-27T08:00:00.000000",
         "direccion": "CR32 #19-58, Palmira - Valle del Cauca, Colombia",
         "categoria": "HURTOPERSONAS",
         "latitudes": 3.5379718,
         "longitudes": -76.2971657,
         "_deepnote_index_column": 90
        },
        {
         "fecha": "2009-01-27T21:00:00.000000",
         "direccion": "CR37 #35-2, Palmira - Valle del Cauca, Colombia",
         "categoria": "HURTOPERSONAS",
         "latitudes": 3.5379718,
         "longitudes": -76.2971657,
         "_deepnote_index_column": 91
        },
        {
         "fecha": "2009-01-27T08:30:00.000000",
         "direccion": "CR5A #43C-12, Palmira - Valle del Cauca, Colombia",
         "categoria": "HURTOPERSONAS",
         "latitudes": 3.5401674,
         "longitudes": -76.2774668,
         "_deepnote_index_column": 92
        },
        {
         "fecha": "2009-01-27T10:30:00.000000",
         "direccion": "CL37 #42-43, Palmira - Valle del Cauca, Colombia",
         "categoria": "HURTOPERSONAS",
         "latitudes": 3.5340275,
         "longitudes": -76.3131468,
         "_deepnote_index_column": 93
        },
        {
         "fecha": "2009-01-27T07:40:00.000000",
         "direccion": "CL41 #19-2, Palmira - Valle del Cauca, Colombia",
         "categoria": "HURTOPERSONAS",
         "latitudes": 3.5364169,
         "longitudes": -76.2910472,
         "_deepnote_index_column": 94
        },
        {
         "fecha": "2009-01-27T14:00:00.000000",
         "direccion": "CL42 #2-2, Palmira - Valle del Cauca, Colombia",
         "categoria": "HURTOPERSONAS",
         "latitudes": 3.538312,
         "longitudes": -76.3012971,
         "_deepnote_index_column": 95
        },
        {
         "fecha": "2009-01-27T13:30:00.000000",
         "direccion": "CR31 #17-16, Palmira - Valle del Cauca, Colombia",
         "categoria": "HURTOPERSONAS",
         "latitudes": 3.5163365,
         "longitudes": -76.3035802,
         "_deepnote_index_column": 96
        },
        {
         "fecha": "2009-01-27T12:30:00.000000",
         "direccion": "CL9 #8-44, Palmira - Valle del Cauca, Colombia",
         "categoria": "HURTOPERSONAS",
         "latitudes": 3.5379718,
         "longitudes": -76.2971657,
         "_deepnote_index_column": 97
        },
        {
         "fecha": "2009-01-27T07:40:00.000000",
         "direccion": "CL28 #19-2, Palmira - Valle del Cauca, Colombia",
         "categoria": "HURTOPERSONAS",
         "latitudes": 3.5243781,
         "longitudes": -76.29151089999999,
         "_deepnote_index_column": 98
        },
        {
         "fecha": "2009-01-27T09:00:00.000000",
         "direccion": "CL28 #19-2, Palmira - Valle del Cauca, Colombia",
         "categoria": "HURTOPERSONAS",
         "latitudes": 3.5243781,
         "longitudes": -76.29151089999999,
         "_deepnote_index_column": 99
        }
       ],
       "rows_bottom": [
        {
         "fecha": "2012-12-20T16:00:00.000000",
         "direccion": "CL28#19, Palmira - Valle del Cauca, Colombia",
         "categoria": "HURTOPERSONAS",
         "latitudes": 3.5243712,
         "longitudes": -76.2918047,
         "_deepnote_index_column": 5681
        },
        {
         "fecha": "2012-12-21T15:30:00.000000",
         "direccion": "CR30#29-88, Palmira - Valle del Cauca, Colombia",
         "categoria": "HURTOENTIDADESCOMERCIALES",
         "latitudes": 3.5269596,
         "longitudes": -76.3005333,
         "_deepnote_index_column": 5682
        },
        {
         "fecha": "2012-12-23T16:00:00.000000",
         "direccion": "CL26#20-37, Palmira - Valle del Cauca, Colombia",
         "categoria": "HURTOPERSONAS",
         "latitudes": 3.5222234,
         "longitudes": -76.2929085,
         "_deepnote_index_column": 5683
        },
        {
         "fecha": "2012-12-25T10:00:00.000000",
         "direccion": "CL26#18-37, Palmira - Valle del Cauca, Colombia",
         "categoria": "HURTOPERSONAS",
         "latitudes": 3.522517,
         "longitudes": -76.2912647,
         "_deepnote_index_column": 5684
        },
        {
         "fecha": "2012-12-18T13:20:00.000000",
         "direccion": "CL13#24C-26, Palmira - Valle del Cauca, Colombia",
         "categoria": "HURTOPERSONAS",
         "latitudes": 3.5122496,
         "longitudes": -76.2981698,
         "_deepnote_index_column": 5685
        },
        {
         "fecha": "2012-12-21T00:00:00.000000",
         "direccion": "CR27#29, Palmira - Valle del Cauca, Colombia",
         "categoria": "HURTOPERSONAS",
         "latitudes": 3.5264706,
         "longitudes": -76.29800589999999,
         "_deepnote_index_column": 5686
        },
        {
         "fecha": "2012-12-21T06:15:00.000000",
         "direccion": "CR31#26, Palmira - Valle del Cauca, Colombia",
         "categoria": "HURTOENTIDADESCOMERCIALES",
         "latitudes": 3.5241916,
         "longitudes": -76.30216539999999,
         "_deepnote_index_column": 5687
        },
        {
         "fecha": "2012-12-07T12:20:00.000000",
         "direccion": "CL28#30, Palmira - Valle del Cauca, Colombia",
         "categoria": "HURTOPERSONAS",
         "latitudes": 3.5257418,
         "longitudes": -76.3016698,
         "_deepnote_index_column": 5688
        },
        {
         "fecha": "2012-12-15T06:30:00.000000",
         "direccion": "CL73#28, Palmira - Valle del Cauca, Colombia",
         "categoria": "HURTOPERSONAS",
         "latitudes": 3.5398382,
         "longitudes": -76.29708529999999,
         "_deepnote_index_column": 5689
        },
        {
         "fecha": "2012-12-20T10:00:00.000000",
         "direccion": "CR30#26-64, Palmira - Valle del Cauca, Colombia",
         "categoria": "HURTOINTERIORDEVEHICULO",
         "latitudes": 3.524282,
         "longitudes": -76.3010538,
         "_deepnote_index_column": 5690
        },
        {
         "fecha": "2012-12-20T11:30:00.000000",
         "direccion": "CR29#31, Palmira - Valle del Cauca, Colombia",
         "categoria": "HURTOPERSONAS",
         "latitudes": 3.5284926,
         "longitudes": -76.2995325,
         "_deepnote_index_column": 5691
        },
        {
         "fecha": "2012-12-20T10:00:00.000000",
         "direccion": "CL56A#40-26, Palmira - Valle del Cauca, Colombia",
         "categoria": "HURTOPERSONAS",
         "latitudes": 3.5379718,
         "longitudes": -76.2971657,
         "_deepnote_index_column": 5692
        },
        {
         "fecha": "2012-12-19T12:00:00.000000",
         "direccion": "CR29#26, Palmira - Valle del Cauca, Colombia",
         "categoria": "HURTOPERSONAS",
         "latitudes": 3.5150182,
         "longitudes": -76.2742066,
         "_deepnote_index_column": 5693
        },
        {
         "fecha": "2012-12-19T09:40:00.000000",
         "direccion": "CR29#26, Palmira - Valle del Cauca, Colombia",
         "categoria": "HURTOPERSONAS",
         "latitudes": 3.5150182,
         "longitudes": -76.2742066,
         "_deepnote_index_column": 5694
        },
        {
         "fecha": "2012-12-03T00:00:00.000000",
         "direccion": "CL30#29, Palmira - Valle del Cauca, Colombia",
         "categoria": "HURTOPERSONAS",
         "latitudes": 3.5270462,
         "longitudes": -76.2997783,
         "_deepnote_index_column": 5695
        },
        {
         "fecha": "2012-12-06T07:30:00.000000",
         "direccion": "CL47C#13-59, Palmira - Valle del Cauca, Colombia",
         "categoria": "OTRO",
         "latitudes": 3.5433963,
         "longitudes": -76.2902778,
         "_deepnote_index_column": 5696
        },
        {
         "fecha": "2012-12-01T12:00:00.000000",
         "direccion": "CL29#27, Palmira - Valle del Cauca, Colombia",
         "categoria": "HURTOINTERIORDEVEHICULO",
         "latitudes": 3.5261696,
         "longitudes": -76.2984584,
         "_deepnote_index_column": 5697
        },
        {
         "fecha": "2012-12-06T12:15:00.000000",
         "direccion": "CL31#40, Palmira - Valle del Cauca, Colombia",
         "categoria": "HURTOPERSONAS",
         "latitudes": 3.5295332,
         "longitudes": -76.3106002,
         "_deepnote_index_column": 5698
        },
        {
         "fecha": "2012-12-02T15:30:00.000000",
         "direccion": "CL62#32, Palmira - Valle del Cauca, Colombia",
         "categoria": "HURTOPERSONAS",
         "latitudes": 3.5564758,
         "longitudes": -76.30115959999999,
         "_deepnote_index_column": 5699
        },
        {
         "fecha": "2012-12-05T16:08:00.000000",
         "direccion": "CL30#23, Palmira - Valle del Cauca, Colombia",
         "categoria": "HURTOPERSONAS",
         "latitudes": 3.5265659,
         "longitudes": -76.29530570000001,
         "_deepnote_index_column": 5700
        },
        {
         "fecha": "2012-12-05T16:00:00.000000",
         "direccion": "CL31#24, Palmira - Valle del Cauca, Colombia",
         "categoria": "HURTOPERSONAS",
         "latitudes": 3.5275079,
         "longitudes": -76.29485160000002,
         "_deepnote_index_column": 5701
        },
        {
         "fecha": "2012-12-04T23:20:00.000000",
         "direccion": "CR28#58, Palmira - Valle del Cauca, Colombia",
         "categoria": "HURTOPERSONAS",
         "latitudes": 3.5440995,
         "longitudes": -76.2962481,
         "_deepnote_index_column": 5702
        },
        {
         "fecha": "2012-12-04T14:30:00.000000",
         "direccion": "CR28#58, Palmira - Valle del Cauca, Colombia",
         "categoria": "HURTOPERSONAS",
         "latitudes": 3.5440995,
         "longitudes": -76.2962481,
         "_deepnote_index_column": 5703
        },
        {
         "fecha": "2012-12-01T06:30:00.000000",
         "direccion": "CR32#16, Palmira - Valle del Cauca, Colombia",
         "categoria": "HURTOPERSONAS",
         "latitudes": 3.476714,
         "longitudes": -76.3944246,
         "_deepnote_index_column": 5704
        },
        {
         "fecha": "2012-12-04T11:00:00.000000",
         "direccion": "CL28#32, Palmira - Valle del Cauca, Colombia",
         "categoria": "HURTOPERSONAS",
         "latitudes": 3.5259095,
         "longitudes": -76.30335819999999,
         "_deepnote_index_column": 5705
        },
        {
         "fecha": "2012-12-01T23:00:00.000000",
         "direccion": "CR34#53-07, Palmira - Valle del Cauca, Colombia",
         "categoria": "HURTOPERSONAS",
         "latitudes": 3.5379718,
         "longitudes": -76.2971657,
         "_deepnote_index_column": 5706
        },
        {
         "fecha": "2012-12-01T02:00:00.000000",
         "direccion": "CL26#16-68, Palmira - Valle del Cauca, Colombia",
         "categoria": "HURTOPERSONAS",
         "latitudes": 3.522746,
         "longitudes": -76.2893545,
         "_deepnote_index_column": 5707
        },
        {
         "fecha": "2012-12-03T11:00:00.000000",
         "direccion": "DG27#7-68, Palmira - Valle del Cauca, Colombia",
         "categoria": "HURTOPERSONAS",
         "latitudes": 3.5379718,
         "longitudes": -76.2971657,
         "_deepnote_index_column": 5708
        },
        {
         "fecha": "2012-12-01T11:00:00.000000",
         "direccion": "CR28#32, Palmira - Valle del Cauca, Colombia",
         "categoria": "HURTOPERSONAS",
         "latitudes": 3.5297686,
         "longitudes": -76.2986167,
         "_deepnote_index_column": 5709
        },
        {
         "fecha": "2012-12-03T08:00:00.000000",
         "direccion": "CL30#29, Palmira - Valle del Cauca, Colombia",
         "categoria": "HURTOPERSONAS",
         "latitudes": 3.5270462,
         "longitudes": -76.2997783,
         "_deepnote_index_column": 5710
        },
        {
         "fecha": "2012-12-01T11:00:00.000000",
         "direccion": "CR19#35-49, Palmira - Valle del Cauca, Colombia",
         "categoria": "HURTOENTIDADESCOMERCIALES",
         "latitudes": 3.4804135,
         "longitudes": -76.41365379999999,
         "_deepnote_index_column": 5711
        },
        {
         "fecha": "2012-12-19T09:30:00.000000",
         "direccion": "CR29#18-14, Palmira - Valle del Cauca, Colombia",
         "categoria": "HURTOPERSONAS",
         "latitudes": 3.5379718,
         "longitudes": -76.2971657,
         "_deepnote_index_column": 5712
        },
        {
         "fecha": "2012-12-18T13:35:00.000000",
         "direccion": "CR19#36-19, Palmira - Valle del Cauca, Colombia",
         "categoria": "HURTOENTIDADESCOMERCIALES",
         "latitudes": 3.5319349,
         "longitudes": -76.2904416,
         "_deepnote_index_column": 5713
        },
        {
         "fecha": "2012-12-17T17:00:00.000000",
         "direccion": "CR26#31, Palmira - Valle del Cauca, Colombia",
         "categoria": "HURTOMOTOCICLETAS",
         "latitudes": 3.5376817,
         "longitudes": -76.2954151,
         "_deepnote_index_column": 5714
        },
        {
         "fecha": "2012-12-17T11:00:00.000000",
         "direccion": "CR27#30, Palmira - Valle del Cauca, Colombia",
         "categoria": "HURTOPERSONAS",
         "latitudes": 3.5272625,
         "longitudes": -76.2981221,
         "_deepnote_index_column": 5715
        },
        {
         "fecha": "2012-12-17T12:10:00.000000",
         "direccion": "CR28#22, Palmira - Valle del Cauca, Colombia",
         "categoria": "HURTOPERSONAS",
         "latitudes": 3.5204684,
         "longitudes": -76.3000194,
         "_deepnote_index_column": 5716
        },
        {
         "fecha": "2012-12-14T22:30:00.000000",
         "direccion": "CL34#33-71, Palmira - Valle del Cauca, Colombia",
         "categoria": "HURTOPERSONAS",
         "latitudes": 3.5317139,
         "longitudes": -76.303,
         "_deepnote_index_column": 5717
        },
        {
         "fecha": "2012-12-15T21:30:00.000000",
         "direccion": "CL20#24A-09, Palmira - Valle del Cauca, Colombia",
         "categoria": "HURTOMOTOCICLETAS",
         "latitudes": 3.5183103,
         "longitudes": -76.2968614,
         "_deepnote_index_column": 5718
        },
        {
         "fecha": "2012-12-13T18:00:00.000000",
         "direccion": "CR35#47, Palmira - Valle del Cauca, Colombia",
         "categoria": "HURTOPERSONAS",
         "latitudes": 3.5340816,
         "longitudes": -76.3057615,
         "_deepnote_index_column": 5719
        },
        {
         "fecha": "2012-12-14T10:25:00.000000",
         "direccion": "CR30A#18-64, Palmira - Valle del Cauca, Colombia",
         "categoria": "HURTOPERSONAS",
         "latitudes": 3.5175127,
         "longitudes": -76.302911,
         "_deepnote_index_column": 5720
        },
        {
         "fecha": "2012-12-13T19:00:00.000000",
         "direccion": "CR21#48-72, Palmira - Valle del Cauca, Colombia",
         "categoria": "HURTOPERSONAS",
         "latitudes": 3.5379718,
         "longitudes": -76.2971657,
         "_deepnote_index_column": 5721
        },
        {
         "fecha": "2012-12-12T15:30:00.000000",
         "direccion": "CRA32#47, Palmira - Valle del Cauca, Colombia",
         "categoria": "HURTOPERSONAS",
         "latitudes": 3.5299031,
         "longitudes": -76.30232,
         "_deepnote_index_column": 5722
        },
        {
         "fecha": "2012-12-11T11:30:00.000000",
         "direccion": "CR32#26, Palmira - Valle del Cauca, Colombia",
         "categoria": "HURTOPERSONAS",
         "latitudes": 3.5150182,
         "longitudes": -76.2742066,
         "_deepnote_index_column": 5723
        },
        {
         "fecha": "2012-12-11T12:00:00.000000",
         "direccion": "CR26#25, Palmira - Valle del Cauca, Colombia",
         "categoria": "HURTOPERSONAS",
         "latitudes": 3.5227715,
         "longitudes": -76.2980183,
         "_deepnote_index_column": 5724
        },
        {
         "fecha": "2012-12-10T14:00:00.000000",
         "direccion": "CL14#25-44, Palmira - Valle del Cauca, Colombia",
         "categoria": "HURTOENTIDADESCOMERCIALES",
         "latitudes": 3.5154851,
         "longitudes": -76.2731914,
         "_deepnote_index_column": 5725
        },
        {
         "fecha": "2012-12-10T10:00:00.000000",
         "direccion": "CL30#24, Palmira - Valle del Cauca, Colombia",
         "categoria": "HURTOINTERIORDEVEHICULO",
         "latitudes": 3.5265908,
         "longitudes": -76.2961091,
         "_deepnote_index_column": 5726
        },
        {
         "fecha": "2012-12-10T09:00:00.000000",
         "direccion": "CL30#24, Palmira - Valle del Cauca, Colombia",
         "categoria": "HURTOPERSONAS",
         "latitudes": 3.5265908,
         "longitudes": -76.2961091,
         "_deepnote_index_column": 5727
        },
        {
         "fecha": "2012-12-10T09:00:00.000000",
         "direccion": "CL30#24, Palmira - Valle del Cauca, Colombia",
         "categoria": "HURTOPERSONAS",
         "latitudes": 3.5265908,
         "longitudes": -76.2961091,
         "_deepnote_index_column": 5728
        },
        {
         "fecha": "2012-12-01T00:00:00.000000",
         "direccion": "CR26#56-30 , Palmira - Valle del Cauca, Colombia",
         "categoria": "HURTOPERSONAS",
         "latitudes": 3.5477792,
         "longitudes": -76.29099889999999,
         "_deepnote_index_column": 5729
        },
        {
         "fecha": "2012-12-02T00:00:00.000000",
         "direccion": "CR24#6-, Palmira - Valle del Cauca, Colombia",
         "categoria": "HURTOPERSONAS",
         "latitudes": 3.4802368,
         "longitudes": -76.4131893,
         "_deepnote_index_column": 5730
        },
        {
         "fecha": "2012-12-02T08:00:00.000000",
         "direccion": "CL30#29, Palmira - Valle del Cauca, Colombia",
         "categoria": "HURTOPERSONAS",
         "latitudes": 3.5270462,
         "longitudes": -76.2997783,
         "_deepnote_index_column": 5731
        },
        {
         "fecha": "2012-12-02T20:00:00.000000",
         "direccion": "CL42#41, Palmira - Valle del Cauca, Colombia",
         "categoria": "HURTOPERSONAS",
         "latitudes": 3.5385882,
         "longitudes": -76.3119004,
         "_deepnote_index_column": 5732
        },
        {
         "fecha": "2012-12-02T06:10:00.000000",
         "direccion": "CL53C#37, Palmira - Valle del Cauca, Colombia",
         "categoria": "HURTOPERSONAS",
         "latitudes": 3.5379718,
         "longitudes": -76.2971657,
         "_deepnote_index_column": 5733
        },
        {
         "fecha": "2012-12-02T18:00:00.000000",
         "direccion": "CL34#16-68, Palmira - Valle del Cauca, Colombia",
         "categoria": "HURTOPERSONAS",
         "latitudes": 3.5379718,
         "longitudes": -76.2971657,
         "_deepnote_index_column": 5734
        },
        {
         "fecha": "2012-12-03T14:30:00.000000",
         "direccion": "CL53C#37, Palmira - Valle del Cauca, Colombia",
         "categoria": "HURTOPERSONAS",
         "latitudes": 3.5379718,
         "longitudes": -76.2971657,
         "_deepnote_index_column": 5735
        },
        {
         "fecha": "2012-12-04T11:10:00.000000",
         "direccion": "CR29#39-51 , Palmira - Valle del Cauca, Colombia",
         "categoria": "HURTOPERSONAS",
         "latitudes": 3.5361585,
         "longitudes": -76.2986677,
         "_deepnote_index_column": 5736
        },
        {
         "fecha": "2012-12-06T22:50:00.000000",
         "direccion": "CL36#3B, Palmira - Valle del Cauca, Colombia",
         "categoria": "HURTOPERSONAS",
         "latitudes": 3.533368,
         "longitudes": -76.28006649999999,
         "_deepnote_index_column": 5737
        },
        {
         "fecha": "2012-12-06T07:30:00.000000",
         "direccion": "CL47C#13-59, Palmira - Valle del Cauca, Colombia",
         "categoria": "HURTOPERSONAS",
         "latitudes": 3.5433963,
         "longitudes": -76.2902778,
         "_deepnote_index_column": 5738
        },
        {
         "fecha": "2012-12-07T09:45:00.000000",
         "direccion": "CL33#25, Palmira - Valle del Cauca, Colombia",
         "categoria": "HURTOPERSONAS",
         "latitudes": 3.5291875,
         "longitudes": -76.2729781,
         "_deepnote_index_column": 5739
        },
        {
         "fecha": "2012-12-07T14:40:00.000000",
         "direccion": "CR30#20-, Palmira - Valle del Cauca, Colombia",
         "categoria": "HURTOPERSONAS",
         "latitudes": 3.5191058,
         "longitudes": -76.302341,
         "_deepnote_index_column": 5740
        },
        {
         "fecha": "2012-12-07T15:00:00.000000",
         "direccion": "CL29#28, Palmira - Valle del Cauca, Colombia",
         "categoria": "HURTOPERSONAS",
         "latitudes": 3.5261791,
         "longitudes": -76.2993619,
         "_deepnote_index_column": 5741
        },
        {
         "fecha": "2012-12-07T08:30:00.000000",
         "direccion": "CL27#2-A 59, Palmira - Valle del Cauca, Colombia",
         "categoria": "HURTOPERSONAS",
         "latitudes": 3.5379718,
         "longitudes": -76.2971657,
         "_deepnote_index_column": 5742
        },
        {
         "fecha": "2012-12-07T15:30:00.000000",
         "direccion": "CL33B#-9, Palmira - Valle del Cauca, Colombia",
         "categoria": "HURTOPERSONAS",
         "latitudes": 3.5379718,
         "longitudes": -76.2971657,
         "_deepnote_index_column": 5743
        },
        {
         "fecha": "2012-12-07T15:00:00.000000",
         "direccion": "CR28#43-, Palmira - Valle del Cauca, Colombia",
         "categoria": "HURTOPERSONAS",
         "latitudes": 3.5392088,
         "longitudes": -76.2967725,
         "_deepnote_index_column": 5744
        },
        {
         "fecha": "2012-12-07T11:00:00.000000",
         "direccion": "CL69A#26A-13, Palmira - Valle del Cauca, Colombia",
         "categoria": "HURTOPERSONAS",
         "latitudes": 3.5379718,
         "longitudes": -76.2971657,
         "_deepnote_index_column": 5745
        },
        {
         "fecha": "2012-12-11T13:40:00.000000",
         "direccion": "CL42#31, Palmira - Valle del Cauca, Colombia",
         "categoria": "HURTOPERSONAS",
         "latitudes": 3.5362019,
         "longitudes": -76.2774456,
         "_deepnote_index_column": 5746
        },
        {
         "fecha": "2012-12-12T16:15:00.000000",
         "direccion": "CL31#44, Palmira - Valle del Cauca, Colombia",
         "categoria": "HURTOPERSONAS",
         "latitudes": 3.5275768,
         "longitudes": -76.2950572,
         "_deepnote_index_column": 5747
        },
        {
         "fecha": "2012-12-14T10:30:00.000000",
         "direccion": "CR28#29-, Palmira - Valle del Cauca, Colombia",
         "categoria": "HURTOPERSONAS",
         "latitudes": 3.5264058,
         "longitudes": -76.2988203,
         "_deepnote_index_column": 5748
        },
        {
         "fecha": "2012-12-15T15:30:00.000000",
         "direccion": "CL15#30, Palmira - Valle del Cauca, Colombia",
         "categoria": "HURTOPERSONAS",
         "latitudes": 3.5379718,
         "longitudes": -76.2971657,
         "_deepnote_index_column": 5749
        },
        {
         "fecha": "2012-12-16T20:40:00.000000",
         "direccion": "CL42#29, Palmira - Valle del Cauca, Colombia",
         "categoria": "HURTOPERSONAS",
         "latitudes": 3.5381954,
         "longitudes": -76.2982669,
         "_deepnote_index_column": 5750
        },
        {
         "fecha": "2012-12-17T00:00:00.000000",
         "direccion": "CR31#32A-, Palmira - Valle del Cauca, Colombia",
         "categoria": "HURTOPERSONAS",
         "latitudes": 3.5285898,
         "longitudes": -76.30130820000001,
         "_deepnote_index_column": 5751
        },
        {
         "fecha": "2012-12-17T15:30:00.000000",
         "direccion": "CL32A#-37, Palmira - Valle del Cauca, Colombia",
         "categoria": "HURTOPERSONAS",
         "latitudes": 3.5379718,
         "longitudes": -76.2971657,
         "_deepnote_index_column": 5752
        },
        {
         "fecha": "2012-12-17T11:10:00.000000",
         "direccion": "CL42#13, Palmira - Valle del Cauca, Colombia",
         "categoria": "HURTOPERSONAS",
         "latitudes": 3.5370326,
         "longitudes": -76.2862825,
         "_deepnote_index_column": 5753
        },
        {
         "fecha": "2012-12-18T08:45:00.000000",
         "direccion": "CR31#29-, Palmira - Valle del Cauca, Colombia",
         "categoria": "HURTOPERSONAS",
         "latitudes": 3.5267374,
         "longitudes": -76.30182479999999,
         "_deepnote_index_column": 5754
        },
        {
         "fecha": "2012-12-18T19:00:00.000000",
         "direccion": "CL34#16-68, Palmira - Valle del Cauca, Colombia",
         "categoria": "HURTOPERSONAS",
         "latitudes": 3.5379718,
         "longitudes": -76.2971657,
         "_deepnote_index_column": 5755
        },
        {
         "fecha": "2012-12-19T09:30:00.000000",
         "direccion": "CR29#18-14 , Palmira - Valle del Cauca, Colombia",
         "categoria": "HURTOPERSONAS",
         "latitudes": 3.5379718,
         "longitudes": -76.2971657,
         "_deepnote_index_column": 5756
        },
        {
         "fecha": "2012-12-20T10:00:00.000000",
         "direccion": "CR30#26-64 , Palmira - Valle del Cauca, Colombia",
         "categoria": "HURTOPERSONAS",
         "latitudes": 3.524282,
         "longitudes": -76.3010538,
         "_deepnote_index_column": 5757
        },
        {
         "fecha": "2012-12-20T08:00:00.000000",
         "direccion": "CR37#36-, Palmira - Valle del Cauca, Colombia",
         "categoria": "HURTOPERSONAS",
         "latitudes": 3.4276807,
         "longitudes": -76.5503359,
         "_deepnote_index_column": 5758
        },
        {
         "fecha": "2012-12-20T21:45:00.000000",
         "direccion": "CR39#35-, Palmira - Valle del Cauca, Colombia",
         "categoria": "HURTOPERSONAS",
         "latitudes": 3.5379718,
         "longitudes": -76.2971657,
         "_deepnote_index_column": 5759
        },
        {
         "fecha": "2012-12-20T10:00:00.000000",
         "direccion": "CL56A#40-26, Palmira - Valle del Cauca, Colombia",
         "categoria": "HURTOPERSONAS",
         "latitudes": 3.5379718,
         "longitudes": -76.2971657,
         "_deepnote_index_column": 5760
        },
        {
         "fecha": "2012-12-20T14:00:00.000000",
         "direccion": "CL11#7-2, Palmira - Valle del Cauca, Colombia",
         "categoria": "HURTOPERSONAS",
         "latitudes": 3.5103733,
         "longitudes": -76.300699,
         "_deepnote_index_column": 5761
        },
        {
         "fecha": "2012-12-21T04:30:00.000000",
         "direccion": "CL10#6, Palmira - Valle del Cauca, Colombia",
         "categoria": "HURTOPERSONAS",
         "latitudes": 3.5379718,
         "longitudes": -76.2971657,
         "_deepnote_index_column": 5762
        },
        {
         "fecha": "2012-12-22T15:10:00.000000",
         "direccion": "CR38#59-, Palmira - Valle del Cauca, Colombia",
         "categoria": "HURTOPERSONAS",
         "latitudes": 3.5339751,
         "longitudes": -76.3082321,
         "_deepnote_index_column": 5763
        },
        {
         "fecha": "2012-12-22T21:00:00.000000",
         "direccion": "CL57#41A, Palmira - Valle del Cauca, Colombia",
         "categoria": "HURTOPERSONAS",
         "latitudes": 3.5478897,
         "longitudes": -76.3126376,
         "_deepnote_index_column": 5764
        },
        {
         "fecha": "2012-12-23T18:35:00.000000",
         "direccion": "CL10#3, Palmira - Valle del Cauca, Colombia",
         "categoria": "HURTOPERSONAS",
         "latitudes": 3.5379718,
         "longitudes": -76.2971657,
         "_deepnote_index_column": 5765
        },
        {
         "fecha": "2012-12-25T20:00:00.000000",
         "direccion": "CL30#19, Palmira - Valle del Cauca, Colombia",
         "categoria": "HURTOPERSONAS",
         "latitudes": 3.5261276,
         "longitudes": -76.2919174,
         "_deepnote_index_column": 5766
        },
        {
         "fecha": "2012-12-25T18:30:00.000000",
         "direccion": "CR28#47-, Palmira - Valle del Cauca, Colombia",
         "categoria": "HURTOPERSONAS",
         "latitudes": 3.542309,
         "longitudes": -76.2965332,
         "_deepnote_index_column": 5767
        },
        {
         "fecha": "2012-12-26T15:30:00.000000",
         "direccion": "CR30#29-88 , Palmira - Valle del Cauca, Colombia",
         "categoria": "HURTOPERSONAS",
         "latitudes": 3.5269596,
         "longitudes": -76.3005333,
         "_deepnote_index_column": 5768
        },
        {
         "fecha": "2012-12-27T11:30:00.000000",
         "direccion": "CL31#30-71, Palmira - Valle del Cauca, Colombia",
         "categoria": "HURTOPERSONAS",
         "latitudes": 3.528994,
         "longitudes": -76.30627799999999,
         "_deepnote_index_column": 5769
        },
        {
         "fecha": "2012-12-27T16:00:00.000000",
         "direccion": "CL48#30B-5, Palmira - Valle del Cauca, Colombia",
         "categoria": "HURTOPERSONAS",
         "latitudes": 3.5434884,
         "longitudes": -76.2985447,
         "_deepnote_index_column": 5770
        },
        {
         "fecha": "2012-12-28T00:34:00.000000",
         "direccion": "CR28#38-54 , Palmira - Valle del Cauca, Colombia",
         "categoria": "HURTOPERSONAS",
         "latitudes": 3.5353608,
         "longitudes": -76.2975763,
         "_deepnote_index_column": 5771
        },
        {
         "fecha": "2012-12-30T09:40:00.000000",
         "direccion": "CL42#34-53, Palmira - Valle del Cauca, Colombia",
         "categoria": "HURTOPERSONAS",
         "latitudes": 3.5386531,
         "longitudes": -76.3030232,
         "_deepnote_index_column": 5772
        },
        {
         "fecha": "2012-12-30T15:30:00.000000",
         "direccion": "CR24#28-, Palmira - Valle del Cauca, Colombia",
         "categoria": "HURTOPERSONAS",
         "latitudes": 3.5251592,
         "longitudes": -76.2956908,
         "_deepnote_index_column": 5773
        },
        {
         "fecha": "2012-12-31T13:00:00.000000",
         "direccion": "CR24#17-, Palmira - Valle del Cauca, Colombia",
         "categoria": "HURTOPERSONAS",
         "latitudes": 3.5158471,
         "longitudes": -76.29569819999999,
         "_deepnote_index_column": 5774
        },
        {
         "fecha": "2012-12-23T15:30:00.000000",
         "direccion": "CL40#1B-60, Palmira - Valle del Cauca, Colombia",
         "categoria": "HURTORESIDENCIAS",
         "latitudes": 3.5363085,
         "longitudes": -76.296984,
         "_deepnote_index_column": 5775
        },
        {
         "fecha": "2012-12-06T07:30:00.000000",
         "direccion": "CL47C#13-59, Palmira - Valle del Cauca, Colombia",
         "categoria": "HURTOMOTOCICLETAS",
         "latitudes": 3.5433963,
         "longitudes": -76.2902778,
         "_deepnote_index_column": 5776
        },
        {
         "fecha": "2012-12-11T07:30:00.000000",
         "direccion": "CR44#40-1 , Palmira - Valle del Cauca, Colombia",
         "categoria": "HURTOMOTOCICLETAS",
         "latitudes": 3.5368339,
         "longitudes": -76.3150361,
         "_deepnote_index_column": 5777
        },
        {
         "fecha": "2012-12-30T20:30:00.000000",
         "direccion": "CL42#8, Palmira - Valle del Cauca, Colombia",
         "categoria": "HURTOMOTOCICLETAS",
         "latitudes": 3.5387097,
         "longitudes": -76.3018896,
         "_deepnote_index_column": 5778
        },
        {
         "fecha": "2012-12-02T02:00:00.000000",
         "direccion": "CR28#27-48 , Palmira - Valle del Cauca, Colombia",
         "categoria": "HURTOENTIDADESCOMERCIALES",
         "latitudes": 3.5247934,
         "longitudes": -76.2992352,
         "_deepnote_index_column": 5779
        },
        {
         "fecha": "2012-12-05T13:15:00.000000",
         "direccion": "CL29#25-51, Palmira - Valle del Cauca, Colombia",
         "categoria": "HURTOENTIDADESCOMERCIALES",
         "latitudes": 3.5257443,
         "longitudes": -76.29698309999999,
         "_deepnote_index_column": 5780
        }
       ]
      },
      "text/plain": "                   fecha                                          direccion  \\\n0    2009-01-01 13:00:00      CL1 #2-2, Palmira - Valle del Cauca, Colombia   \n1    2009-01-01 00:00:00   CR28 #43-2 , Palmira - Valle del Cauca, Colombia   \n2    2009-01-02 02:00:00    CL21 #24-2, Palmira - Valle del Cauca, Colombia   \n3    2009-01-02 02:35:00   CL47 #25-32, Palmira - Valle del Cauca, Colombia   \n4    2009-01-02 08:00:00  CL54B #45-60, Palmira - Valle del Cauca, Colombia   \n...                  ...                                                ...   \n5776 2012-12-06 07:30:00   CL47C#13-59, Palmira - Valle del Cauca, Colombia   \n5777 2012-12-11 07:30:00    CR44#40-1 , Palmira - Valle del Cauca, Colombia   \n5778 2012-12-30 20:30:00        CL42#8, Palmira - Valle del Cauca, Colombia   \n5779 2012-12-02 02:00:00   CR28#27-48 , Palmira - Valle del Cauca, Colombia   \n5780 2012-12-05 13:15:00    CL29#25-51, Palmira - Valle del Cauca, Colombia   \n\n                      categoria  latitudes  longitudes  \n0                 HURTOPERSONAS   3.537972  -76.297166  \n1                 HURTOPERSONAS   3.538685  -76.297222  \n2                 HURTOPERSONAS   3.537972  -76.297166  \n3                 HURTOPERSONAS   3.542123  -76.294796  \n4                 HURTOPERSONAS   3.537972  -76.297166  \n...                         ...        ...         ...  \n5776          HURTOMOTOCICLETAS   3.543396  -76.290278  \n5777          HURTOMOTOCICLETAS   3.536834  -76.315036  \n5778          HURTOMOTOCICLETAS   3.538710  -76.301890  \n5779  HURTOENTIDADESCOMERCIALES   3.524793  -76.299235  \n5780  HURTOENTIDADESCOMERCIALES   3.525744  -76.296983  \n\n[5781 rows x 5 columns]",
      "text/html": "<div>\n<style scoped>\n    .dataframe tbody tr th:only-of-type {\n        vertical-align: middle;\n    }\n\n    .dataframe tbody tr th {\n        vertical-align: top;\n    }\n\n    .dataframe thead th {\n        text-align: right;\n    }\n</style>\n<table border=\"1\" class=\"dataframe\">\n  <thead>\n    <tr style=\"text-align: right;\">\n      <th></th>\n      <th>fecha</th>\n      <th>direccion</th>\n      <th>categoria</th>\n      <th>latitudes</th>\n      <th>longitudes</th>\n    </tr>\n  </thead>\n  <tbody>\n    <tr>\n      <th>0</th>\n      <td>2009-01-01 13:00:00</td>\n      <td>CL1 #2-2, Palmira - Valle del Cauca, Colombia</td>\n      <td>HURTOPERSONAS</td>\n      <td>3.537972</td>\n      <td>-76.297166</td>\n    </tr>\n    <tr>\n      <th>1</th>\n      <td>2009-01-01 00:00:00</td>\n      <td>CR28 #43-2 , Palmira - Valle del Cauca, Colombia</td>\n      <td>HURTOPERSONAS</td>\n      <td>3.538685</td>\n      <td>-76.297222</td>\n    </tr>\n    <tr>\n      <th>2</th>\n      <td>2009-01-02 02:00:00</td>\n      <td>CL21 #24-2, Palmira - Valle del Cauca, Colombia</td>\n      <td>HURTOPERSONAS</td>\n      <td>3.537972</td>\n      <td>-76.297166</td>\n    </tr>\n    <tr>\n      <th>3</th>\n      <td>2009-01-02 02:35:00</td>\n      <td>CL47 #25-32, Palmira - Valle del Cauca, Colombia</td>\n      <td>HURTOPERSONAS</td>\n      <td>3.542123</td>\n      <td>-76.294796</td>\n    </tr>\n    <tr>\n      <th>4</th>\n      <td>2009-01-02 08:00:00</td>\n      <td>CL54B #45-60, Palmira - Valle del Cauca, Colombia</td>\n      <td>HURTOPERSONAS</td>\n      <td>3.537972</td>\n      <td>-76.297166</td>\n    </tr>\n    <tr>\n      <th>...</th>\n      <td>...</td>\n      <td>...</td>\n      <td>...</td>\n      <td>...</td>\n      <td>...</td>\n    </tr>\n    <tr>\n      <th>5776</th>\n      <td>2012-12-06 07:30:00</td>\n      <td>CL47C#13-59, Palmira - Valle del Cauca, Colombia</td>\n      <td>HURTOMOTOCICLETAS</td>\n      <td>3.543396</td>\n      <td>-76.290278</td>\n    </tr>\n    <tr>\n      <th>5777</th>\n      <td>2012-12-11 07:30:00</td>\n      <td>CR44#40-1 , Palmira - Valle del Cauca, Colombia</td>\n      <td>HURTOMOTOCICLETAS</td>\n      <td>3.536834</td>\n      <td>-76.315036</td>\n    </tr>\n    <tr>\n      <th>5778</th>\n      <td>2012-12-30 20:30:00</td>\n      <td>CL42#8, Palmira - Valle del Cauca, Colombia</td>\n      <td>HURTOMOTOCICLETAS</td>\n      <td>3.538710</td>\n      <td>-76.301890</td>\n    </tr>\n    <tr>\n      <th>5779</th>\n      <td>2012-12-02 02:00:00</td>\n      <td>CR28#27-48 , Palmira - Valle del Cauca, Colombia</td>\n      <td>HURTOENTIDADESCOMERCIALES</td>\n      <td>3.524793</td>\n      <td>-76.299235</td>\n    </tr>\n    <tr>\n      <th>5780</th>\n      <td>2012-12-05 13:15:00</td>\n      <td>CL29#25-51, Palmira - Valle del Cauca, Colombia</td>\n      <td>HURTOENTIDADESCOMERCIALES</td>\n      <td>3.525744</td>\n      <td>-76.296983</td>\n    </tr>\n  </tbody>\n</table>\n<p>5781 rows × 5 columns</p>\n</div>"
     },
     "metadata": {}
    }
   ],
   "execution_count": null
  },
  {
   "cell_type": "code",
   "metadata": {
    "tags": [],
    "cell_id": "00041-215b8e5c-79eb-4d90-9f77-ffd7571cff84",
    "deepnote_to_be_reexecuted": false,
    "source_hash": "60bbd0ca",
    "execution_start": 1626913030243,
    "execution_millis": 14,
    "deepnote_output_heights": [
     117.125
    ],
    "deepnote_cell_type": "code"
   },
   "source": "hurtos_filtrados.iloc[4338]",
   "outputs": [
    {
     "output_type": "execute_result",
     "execution_count": 25,
     "data": {
      "text/plain": "fecha                                      2002-01-15 06:00:00\ndireccion     CL43 #30-64, Palmira - Valle del Cauca, Colombia\ncategoria                            HURTOENTIDADESCOMERCIALES\nlatitudes                                             3.538958\nlongitudes                                          -76.299169\nName: 4338, dtype: object"
     },
     "metadata": {}
    }
   ],
   "execution_count": null
  },
  {
   "cell_type": "markdown",
   "source": "## Corrección de datos con errores de redacción",
   "metadata": {
    "tags": [],
    "is_collapsed": false,
    "cell_id": "00041-16febafb-44bb-4c5e-b959-b043361d07fb",
    "deepnote_cell_type": "text-cell-h2"
   }
  },
  {
   "cell_type": "code",
   "metadata": {
    "tags": [],
    "cell_id": "00042-d7342af5-dee0-4b83-aa4e-a01e71c46942",
    "deepnote_to_be_reexecuted": false,
    "source_hash": "cd446ad5",
    "execution_start": 1626913032394,
    "execution_millis": 10,
    "deepnote_output_heights": [
     117.125
    ],
    "deepnote_cell_type": "code"
   },
   "source": "#hurtos_filtrados['fecha'].iloc[4338] = pd.Timestamp('2012-01-15T06')\n#4239 4243 4251 4259 4267\nhurtos_filtrados.iloc[4239]",
   "outputs": [
    {
     "output_type": "execute_result",
     "execution_count": 26,
     "data": {
      "text/plain": "fecha                                                  NaT\ndireccion     CR28#46, Palmira - Valle del Cauca, Colombia\ncategoria                                 HURTOAUTOMOTORES\nlatitudes                                         3.541816\nlongitudes                                      -76.296483\nName: 4239, dtype: object"
     },
     "metadata": {}
    }
   ],
   "execution_count": null
  },
  {
   "cell_type": "code",
   "metadata": {
    "tags": [],
    "cell_id": "00043-19c75420-daa8-4c4e-ac91-60017a839311",
    "deepnote_to_be_reexecuted": false,
    "source_hash": "b32bb5ca",
    "execution_start": 1626913034303,
    "execution_millis": 11,
    "deepnote_output_heights": [
     21.1875
    ],
    "deepnote_cell_type": "code"
   },
   "source": "len(hurtos)-len(hurtos_filtrados)",
   "outputs": [
    {
     "output_type": "execute_result",
     "execution_count": 27,
     "data": {
      "text/plain": "63"
     },
     "metadata": {}
    }
   ],
   "execution_count": null
  },
  {
   "cell_type": "code",
   "metadata": {
    "tags": [],
    "cell_id": "00044-4ec799ce-2d09-42ab-830d-e60429710bb6",
    "deepnote_to_be_reexecuted": false,
    "source_hash": "5a6e2e23",
    "execution_start": 1626913034759,
    "execution_millis": 16,
    "deepnote_output_heights": [
     117.125
    ],
    "deepnote_cell_type": "code"
   },
   "source": "hurtos_filtrados.iloc[4239]",
   "outputs": [
    {
     "output_type": "execute_result",
     "execution_count": 28,
     "data": {
      "text/plain": "fecha                                                  NaT\ndireccion     CR28#46, Palmira - Valle del Cauca, Colombia\ncategoria                                 HURTOAUTOMOTORES\nlatitudes                                         3.541816\nlongitudes                                      -76.296483\nName: 4239, dtype: object"
     },
     "metadata": {}
    }
   ],
   "execution_count": null
  },
  {
   "cell_type": "code",
   "metadata": {
    "tags": [],
    "cell_id": "00044-9844cac0-905e-4457-8ce1-19872490864d",
    "deepnote_to_be_reexecuted": false,
    "source_hash": "abddd770",
    "execution_start": 1626913039869,
    "execution_millis": 55,
    "deepnote_cell_type": "code"
   },
   "source": "hurtos[hurtos['direccion'] == \"CR28#46, Palmira - Valle del Cauca, Colombia\"] #20:30\nhurtos[hurtos['direccion'] == \"CL24#27, Palmira - Valle del Cauca, Colombia\"] #hora 22:00\nhurtos[hurtos['direccion'] == \"CL35#13, Palmira - Valle del Cauca, Colombia\"] #06:30",
   "outputs": [
    {
     "output_type": "execute_result",
     "execution_count": 29,
     "data": {
      "application/vnd.deepnote.dataframe.v2+json": {
       "row_count": 2,
       "column_count": 3,
       "columns": [
        {
         "name": "fecha",
         "dtype": "object",
         "stats": {
          "unique_count": 2,
          "nan_count": 0,
          "categories": [
           {
            "name": "2011-05-27 21:20:00",
            "count": 1
           },
           {
            "name": "Missing",
            "count": 1
           }
          ]
         }
        },
        {
         "name": "direccion",
         "dtype": "object",
         "stats": {
          "unique_count": 1,
          "nan_count": 0,
          "categories": [
           {
            "name": "CL35#13, Palmira - Valle del Cauca, Colombia",
            "count": 2
           }
          ]
         }
        },
        {
         "name": "categoria",
         "dtype": "category",
         "stats": {
          "unique_count": 2,
          "nan_count": 0,
          "categories": [
           {
            "name": "HURTOMOTOCICLETAS",
            "count": 1
           },
           {
            "name": "HURTOAUTOMOTORES",
            "count": 1
           }
          ]
         }
        },
        {
         "name": "_deepnote_index_column",
         "dtype": "int64"
        }
       ],
       "rows_top": [
        {
         "fecha": "2011-05-27 21:20:00",
         "direccion": "CL35#13, Palmira - Valle del Cauca, Colombia",
         "categoria": "HURTOMOTOCICLETAS",
         "_deepnote_index_column": 3544
        },
        {
         "fecha": "NaT",
         "direccion": "CL35#13, Palmira - Valle del Cauca, Colombia",
         "categoria": "HURTOAUTOMOTORES",
         "_deepnote_index_column": 4294
        }
       ],
       "rows_bottom": null
      },
      "text/plain": "                   fecha                                     direccion  \\\n3544 2011-05-27 21:20:00  CL35#13, Palmira - Valle del Cauca, Colombia   \n4294                 NaT  CL35#13, Palmira - Valle del Cauca, Colombia   \n\n              categoria  \n3544  HURTOMOTOCICLETAS  \n4294   HURTOAUTOMOTORES  ",
      "text/html": "<div>\n<style scoped>\n    .dataframe tbody tr th:only-of-type {\n        vertical-align: middle;\n    }\n\n    .dataframe tbody tr th {\n        vertical-align: top;\n    }\n\n    .dataframe thead th {\n        text-align: right;\n    }\n</style>\n<table border=\"1\" class=\"dataframe\">\n  <thead>\n    <tr style=\"text-align: right;\">\n      <th></th>\n      <th>fecha</th>\n      <th>direccion</th>\n      <th>categoria</th>\n    </tr>\n  </thead>\n  <tbody>\n    <tr>\n      <th>3544</th>\n      <td>2011-05-27 21:20:00</td>\n      <td>CL35#13, Palmira - Valle del Cauca, Colombia</td>\n      <td>HURTOMOTOCICLETAS</td>\n    </tr>\n    <tr>\n      <th>4294</th>\n      <td>NaT</td>\n      <td>CL35#13, Palmira - Valle del Cauca, Colombia</td>\n      <td>HURTOAUTOMOTORES</td>\n    </tr>\n  </tbody>\n</table>\n</div>"
     },
     "metadata": {}
    }
   ],
   "execution_count": null
  },
  {
   "cell_type": "code",
   "metadata": {
    "tags": [],
    "cell_id": "00047-8864d8e1-14a3-4ee1-97d4-45e8fe595515",
    "deepnote_to_be_reexecuted": false,
    "source_hash": "e28b5efa",
    "execution_start": 1626913041229,
    "execution_millis": 49,
    "deepnote_cell_type": "code"
   },
   "source": "hurtos[hurtos['direccion'] == \"CL35#13-74, Palmira - Valle del Cauca, Colombia\"] #06:30",
   "outputs": [
    {
     "output_type": "execute_result",
     "execution_count": 30,
     "data": {
      "application/vnd.deepnote.dataframe.v2+json": {
       "row_count": 3,
       "column_count": 3,
       "columns": [
        {
         "name": "fecha",
         "dtype": "object",
         "stats": {
          "unique_count": 1,
          "nan_count": 0,
          "categories": [
           {
            "name": "NaT",
            "count": 3
           }
          ]
         }
        },
        {
         "name": "direccion",
         "dtype": "object",
         "stats": {
          "unique_count": 1,
          "nan_count": 0,
          "categories": [
           {
            "name": "CL35#13-74, Palmira - Valle del Cauca, Colombia",
            "count": 3
           }
          ]
         }
        },
        {
         "name": "categoria",
         "dtype": "category",
         "stats": {
          "unique_count": 1,
          "nan_count": 0,
          "categories": [
           {
            "name": "HURTOAUTOMOTORES",
            "count": 3
           }
          ]
         }
        },
        {
         "name": "_deepnote_index_column",
         "dtype": "int64"
        }
       ],
       "rows_top": [
        {
         "fecha": "NaT",
         "direccion": "CL35#13-74, Palmira - Valle del Cauca, Colombia",
         "categoria": "HURTOAUTOMOTORES",
         "_deepnote_index_column": 4302
        },
        {
         "fecha": "NaT",
         "direccion": "CL35#13-74, Palmira - Valle del Cauca, Colombia",
         "categoria": "HURTOAUTOMOTORES",
         "_deepnote_index_column": 4310
        },
        {
         "fecha": "NaT",
         "direccion": "CL35#13-74, Palmira - Valle del Cauca, Colombia",
         "categoria": "HURTOAUTOMOTORES",
         "_deepnote_index_column": 4318
        }
       ],
       "rows_bottom": null
      },
      "text/plain": "     fecha                                        direccion         categoria\n4302   NaT  CL35#13-74, Palmira - Valle del Cauca, Colombia  HURTOAUTOMOTORES\n4310   NaT  CL35#13-74, Palmira - Valle del Cauca, Colombia  HURTOAUTOMOTORES\n4318   NaT  CL35#13-74, Palmira - Valle del Cauca, Colombia  HURTOAUTOMOTORES",
      "text/html": "<div>\n<style scoped>\n    .dataframe tbody tr th:only-of-type {\n        vertical-align: middle;\n    }\n\n    .dataframe tbody tr th {\n        vertical-align: top;\n    }\n\n    .dataframe thead th {\n        text-align: right;\n    }\n</style>\n<table border=\"1\" class=\"dataframe\">\n  <thead>\n    <tr style=\"text-align: right;\">\n      <th></th>\n      <th>fecha</th>\n      <th>direccion</th>\n      <th>categoria</th>\n    </tr>\n  </thead>\n  <tbody>\n    <tr>\n      <th>4302</th>\n      <td>NaT</td>\n      <td>CL35#13-74, Palmira - Valle del Cauca, Colombia</td>\n      <td>HURTOAUTOMOTORES</td>\n    </tr>\n    <tr>\n      <th>4310</th>\n      <td>NaT</td>\n      <td>CL35#13-74, Palmira - Valle del Cauca, Colombia</td>\n      <td>HURTOAUTOMOTORES</td>\n    </tr>\n    <tr>\n      <th>4318</th>\n      <td>NaT</td>\n      <td>CL35#13-74, Palmira - Valle del Cauca, Colombia</td>\n      <td>HURTOAUTOMOTORES</td>\n    </tr>\n  </tbody>\n</table>\n</div>"
     },
     "metadata": {}
    }
   ],
   "execution_count": null
  },
  {
   "cell_type": "markdown",
   "source": "Afortunadamente todos estos seis registros corresponden a una misma fecha 06-may-2011",
   "metadata": {
    "tags": [],
    "cell_id": "00049-2f170506-db56-4b4b-9500-2be3f97a6532",
    "deepnote_cell_type": "markdown"
   }
  },
  {
   "cell_type": "code",
   "metadata": {
    "tags": [],
    "cell_id": "00048-9bde483c-2cb3-42a7-9c01-5f6f3afc3bb2",
    "deepnote_to_be_reexecuted": false,
    "source_hash": "a163f2cc",
    "execution_start": 1626913044971,
    "execution_millis": 29,
    "deepnote_output_heights": [
     null,
     21.1875
    ],
    "deepnote_cell_type": "code"
   },
   "source": "hurtos_filtrados[hurtos_filtrados['direccion'] == \"CR28#46, Palmira - Valle del Cauca, Colombia\"] #20:30\nhurtos_filtrados['fecha'].iloc[4239] = pd.Timestamp('2011-05-06T2030')\nhurtos_filtrados['fecha'].iloc[4239]",
   "outputs": [
    {
     "name": "stderr",
     "text": "/shared-libs/python3.7/py/lib/python3.7/site-packages/pandas/core/indexing.py:1637: SettingWithCopyWarning: \nA value is trying to be set on a copy of a slice from a DataFrame\n\nSee the caveats in the documentation: https://pandas.pydata.org/pandas-docs/stable/user_guide/indexing.html#returning-a-view-versus-a-copy\n  self._setitem_single_block(indexer, value, name)\n",
     "output_type": "stream"
    },
    {
     "output_type": "execute_result",
     "execution_count": 31,
     "data": {
      "text/plain": "Timestamp('2011-05-06 20:30:00')"
     },
     "metadata": {}
    }
   ],
   "execution_count": null
  },
  {
   "cell_type": "code",
   "metadata": {
    "tags": [],
    "cell_id": "00051-f6539e58-7505-44af-a0c1-ca564962fa5f",
    "deepnote_to_be_reexecuted": false,
    "source_hash": "7988aa7f",
    "execution_start": 1626913049146,
    "execution_millis": 14,
    "deepnote_output_heights": [
     21.1875
    ],
    "deepnote_cell_type": "code"
   },
   "source": "hurtos_filtrados[hurtos_filtrados['direccion'] == \"CL24#27, Palmira - Valle del Cauca, Colombia\"] #hora 22:00\nhurtos_filtrados['fecha'].iloc[4232] = pd.Timestamp('2011-05-06T22')\nhurtos_filtrados['fecha'].iloc[4232]",
   "outputs": [
    {
     "output_type": "execute_result",
     "execution_count": 32,
     "data": {
      "text/plain": "Timestamp('2011-05-06 22:00:00')"
     },
     "metadata": {}
    }
   ],
   "execution_count": null
  },
  {
   "cell_type": "code",
   "metadata": {
    "tags": [],
    "cell_id": "00052-ead4d357-3f2e-43e0-9700-a4121d55521b",
    "deepnote_to_be_reexecuted": false,
    "source_hash": "61f2ea88",
    "execution_start": 1626913051806,
    "execution_millis": 11,
    "deepnote_output_heights": [
     117.125
    ],
    "deepnote_cell_type": "code"
   },
   "source": "hurtos_filtrados[hurtos_filtrados['direccion'] == \"CL35#13, Palmira - Valle del Cauca, Colombia\"] #06:30\nhurtos_filtrados['fecha'].iloc[4243] = pd.Timestamp('2011-05-06T0630')\nhurtos_filtrados.iloc[4243]",
   "outputs": [
    {
     "output_type": "execute_result",
     "execution_count": 33,
     "data": {
      "text/plain": "fecha                                  2011-05-06 06:30:00\ndireccion     CL35#13, Palmira - Valle del Cauca, Colombia\ncategoria                                 HURTOAUTOMOTORES\nlatitudes                                          3.53158\nlongitudes                                      -76.286017\nName: 4243, dtype: object"
     },
     "metadata": {}
    }
   ],
   "execution_count": null
  },
  {
   "cell_type": "code",
   "metadata": {
    "tags": [],
    "cell_id": "00052-fb7c288f-a249-436d-902d-c630670da02e",
    "deepnote_to_be_reexecuted": false,
    "source_hash": "28dac1a",
    "execution_start": 1626913054220,
    "execution_millis": 8,
    "deepnote_cell_type": "code"
   },
   "source": "hurtos_filtrados[hurtos_filtrados['direccion'] == \"CL35#13-74, Palmira - Valle del Cauca, Colombia\"] #06:30\nhurtos_filtrados['fecha'].iloc[4251] = pd.Timestamp('2011-05-06T0630')\nhurtos_filtrados['fecha'].iloc[4259] = pd.Timestamp('2011-05-06T0630')\nhurtos_filtrados['fecha'].iloc[4267] = pd.Timestamp('2011-05-06T0630')",
   "outputs": [],
   "execution_count": null
  },
  {
   "cell_type": "code",
   "metadata": {
    "tags": [],
    "cell_id": "00052-a92a2ac0-50fd-4acc-94b5-d2f470bb9f13",
    "deepnote_to_be_reexecuted": false,
    "source_hash": "186df6b8",
    "execution_start": 1626913056284,
    "execution_millis": 3,
    "deepnote_cell_type": "code"
   },
   "source": "hurtos_filtrados['fecha'].iloc[3789] = pd.Timestamp('2011-02-24T21') #otro adicional por corregir",
   "outputs": [],
   "execution_count": null
  },
  {
   "cell_type": "markdown",
   "source": "## Exportación de datos limpios definitivos",
   "metadata": {
    "tags": [],
    "is_collapsed": false,
    "cell_id": "00053-27d3d5c5-76c9-488e-9c7b-357b6b858afc",
    "deepnote_cell_type": "text-cell-h2"
   }
  },
  {
   "cell_type": "code",
   "metadata": {
    "tags": [],
    "cell_id": "00052-560a7c84-614c-40db-80fb-4e1b4df094b9",
    "deepnote_to_be_reexecuted": false,
    "source_hash": "439f82cd",
    "execution_start": 1626913061620,
    "execution_millis": 84,
    "deepnote_cell_type": "code"
   },
   "source": "#Datos finalmente filtrados y listos\nhurtos_filtrados",
   "outputs": [
    {
     "output_type": "execute_result",
     "execution_count": 36,
     "data": {
      "application/vnd.deepnote.dataframe.v2+json": {
       "row_count": 5781,
       "column_count": 5,
       "columns": [
        {
         "name": "fecha",
         "dtype": "datetime64[ns]",
         "stats": {
          "unique_count": 5251,
          "nan_count": 0,
          "min": "2002-01-15 06:00:00",
          "max": "2012-12-31 13:00:00",
          "histogram": [
           {
            "bin_start": 1011074400000000000,
            "bin_end": 1045662840000000000,
            "count": 3
           },
           {
            "bin_start": 1045662840000000000,
            "bin_end": 1080251280000000000,
            "count": 0
           },
           {
            "bin_start": 1080251280000000000,
            "bin_end": 1114839720000000000,
            "count": 0
           },
           {
            "bin_start": 1114839720000000000,
            "bin_end": 1149428160000000000,
            "count": 0
           },
           {
            "bin_start": 1149428160000000000,
            "bin_end": 1184016600000000000,
            "count": 0
           },
           {
            "bin_start": 1184016600000000000,
            "bin_end": 1218605040000000000,
            "count": 0
           },
           {
            "bin_start": 1218605040000000000,
            "bin_end": 1253193480000000000,
            "count": 1147
           },
           {
            "bin_start": 1253193480000000000,
            "bin_end": 1287781920000000000,
            "count": 1500
           },
           {
            "bin_start": 1287781920000000000,
            "bin_end": 1322370360000000000,
            "count": 1551
           },
           {
            "bin_start": 1322370360000000000,
            "bin_end": 1356958800000000000,
            "count": 1580
           }
          ]
         }
        },
        {
         "name": "direccion",
         "dtype": "object",
         "stats": {
          "unique_count": 3585,
          "nan_count": 0,
          "categories": [
           {
            "name": "CL42 #28-2, Palmira - Valle del Cauca, Colombia",
            "count": 35
           },
           {
            "name": "CL31 #41-2, Palmira - Valle del Cauca, Colombia",
            "count": 24
           },
           {
            "name": "3583 others",
            "count": 5722
           }
          ]
         }
        },
        {
         "name": "categoria",
         "dtype": "category",
         "stats": {
          "unique_count": 11,
          "nan_count": 0,
          "categories": [
           {
            "name": "HURTOPERSONAS",
            "count": 4265
           },
           {
            "name": "HURTOMOTOCICLETAS",
            "count": 829
           },
           {
            "name": "9 others",
            "count": 687
           }
          ]
         }
        },
        {
         "name": "latitudes",
         "dtype": "float64",
         "stats": {
          "unique_count": 2289,
          "nan_count": 0,
          "min": "3.4067891",
          "max": "3.5602069",
          "histogram": [
           {
            "bin_start": 3.4067891,
            "bin_end": 3.42213088,
            "count": 3
           },
           {
            "bin_start": 3.42213088,
            "bin_end": 3.43747266,
            "count": 11
           },
           {
            "bin_start": 3.43747266,
            "bin_end": 3.45281444,
            "count": 10
           },
           {
            "bin_start": 3.45281444,
            "bin_end": 3.46815622,
            "count": 6
           },
           {
            "bin_start": 3.46815622,
            "bin_end": 3.483498,
            "count": 17
           },
           {
            "bin_start": 3.483498,
            "bin_end": 3.49883978,
            "count": 0
           },
           {
            "bin_start": 3.49883978,
            "bin_end": 3.51418156,
            "count": 215
           },
           {
            "bin_start": 3.51418156,
            "bin_end": 3.52952334,
            "count": 2111
           },
           {
            "bin_start": 3.52952334,
            "bin_end": 3.54486512,
            "count": 2883
           },
           {
            "bin_start": 3.54486512,
            "bin_end": 3.5602069,
            "count": 525
           }
          ]
         }
        },
        {
         "name": "longitudes",
         "dtype": "float64",
         "stats": {
          "unique_count": 2292,
          "nan_count": 0,
          "min": "-76.5503359",
          "max": "-76.2719687",
          "histogram": [
           {
            "bin_start": -76.5503359,
            "bin_end": -76.52249918,
            "count": 19
           },
           {
            "bin_start": -76.52249918,
            "bin_end": -76.49466246,
            "count": 6
           },
           {
            "bin_start": -76.49466246,
            "bin_end": -76.46682573999999,
            "count": 8
           },
           {
            "bin_start": -76.46682573999999,
            "bin_end": -76.43898902,
            "count": 1
           },
           {
            "bin_start": -76.43898902,
            "bin_end": -76.4111523,
            "count": 12
           },
           {
            "bin_start": -76.4111523,
            "bin_end": -76.38331558,
            "count": 2
           },
           {
            "bin_start": -76.38331558,
            "bin_end": -76.35547886,
            "count": 0
           },
           {
            "bin_start": -76.35547886,
            "bin_end": -76.32764214,
            "count": 6
           },
           {
            "bin_start": -76.32764214,
            "bin_end": -76.29980542,
            "count": 1791
           },
           {
            "bin_start": -76.29980542,
            "bin_end": -76.2719687,
            "count": 3936
           }
          ]
         }
        },
        {
         "name": "_deepnote_index_column",
         "dtype": "int64"
        }
       ],
       "rows_top": [
        {
         "fecha": "2009-01-01T13:00:00.000000",
         "direccion": "CL1 #2-2, Palmira - Valle del Cauca, Colombia",
         "categoria": "HURTOPERSONAS",
         "latitudes": 3.5379718,
         "longitudes": -76.2971657,
         "_deepnote_index_column": 0
        },
        {
         "fecha": "2009-01-01T00:00:00.000000",
         "direccion": "CR28 #43-2 , Palmira - Valle del Cauca, Colombia",
         "categoria": "HURTOPERSONAS",
         "latitudes": 3.538685,
         "longitudes": -76.2972217,
         "_deepnote_index_column": 1
        },
        {
         "fecha": "2009-01-02T02:00:00.000000",
         "direccion": "CL21 #24-2, Palmira - Valle del Cauca, Colombia",
         "categoria": "HURTOPERSONAS",
         "latitudes": 3.5379718,
         "longitudes": -76.2971657,
         "_deepnote_index_column": 2
        },
        {
         "fecha": "2009-01-02T02:35:00.000000",
         "direccion": "CL47 #25-32, Palmira - Valle del Cauca, Colombia",
         "categoria": "HURTOPERSONAS",
         "latitudes": 3.5421228,
         "longitudes": -76.2947956,
         "_deepnote_index_column": 3
        },
        {
         "fecha": "2009-01-02T08:00:00.000000",
         "direccion": "CL54B #45-60, Palmira - Valle del Cauca, Colombia",
         "categoria": "HURTOPERSONAS",
         "latitudes": 3.5379718,
         "longitudes": -76.2971657,
         "_deepnote_index_column": 4
        },
        {
         "fecha": "2009-01-02T12:00:00.000000",
         "direccion": "CR26A #62-15, Palmira - Valle del Cauca, Colombia",
         "categoria": "HURTOPERSONAS",
         "latitudes": 3.5510405,
         "longitudes": -76.2910646,
         "_deepnote_index_column": 5
        },
        {
         "fecha": "2009-01-02T14:30:00.000000",
         "direccion": "CR32 #18-2, Palmira - Valle del Cauca, Colombia",
         "categoria": "HURTOPERSONAS",
         "latitudes": 3.5172364,
         "longitudes": -76.3042791,
         "_deepnote_index_column": 6
        },
        {
         "fecha": "2009-01-03T11:45:00.000000",
         "direccion": "CL1 #2-2, Palmira - Valle del Cauca, Colombia",
         "categoria": "HURTOPERSONAS",
         "latitudes": 3.5379718,
         "longitudes": -76.2971657,
         "_deepnote_index_column": 7
        },
        {
         "fecha": "2009-01-03T22:30:00.000000",
         "direccion": "CL23 #25-54, Palmira - Valle del Cauca, Colombia",
         "categoria": "HURTOPERSONAS",
         "latitudes": 3.5208555,
         "longitudes": -76.2977042,
         "_deepnote_index_column": 8
        },
        {
         "fecha": "2009-01-03T15:00:00.000000",
         "direccion": "CL38 #40-2, Palmira - Valle del Cauca, Colombia",
         "categoria": "HURTOPERSONAS",
         "latitudes": 3.5351069,
         "longitudes": -76.3104015,
         "_deepnote_index_column": 9
        },
        {
         "fecha": "2009-01-04T17:00:00.000000",
         "direccion": "CL30A #41-28, Palmira - Valle del Cauca, Colombia",
         "categoria": "HURTOPERSONAS",
         "latitudes": 3.5293565,
         "longitudes": -76.3117048,
         "_deepnote_index_column": 10
        },
        {
         "fecha": "2009-01-04T13:10:00.000000",
         "direccion": "CL35 #26-2, Palmira - Valle del Cauca, Colombia",
         "categoria": "HURTOPERSONAS",
         "latitudes": 3.5317518,
         "longitudes": -76.2964337,
         "_deepnote_index_column": 11
        },
        {
         "fecha": "2009-01-04T02:00:00.000000",
         "direccion": "CL50 #40-2, Palmira - Valle del Cauca, Colombia",
         "categoria": "HURTOPERSONAS",
         "latitudes": 3.5442261,
         "longitudes": -76.3126309,
         "_deepnote_index_column": 12
        },
        {
         "fecha": "2009-01-04T07:30:00.000000",
         "direccion": "CR27 #59-11, Palmira - Valle del Cauca, Colombia",
         "categoria": "HURTOPERSONAS",
         "latitudes": 3.5496046,
         "longitudes": -76.2922881,
         "_deepnote_index_column": 13
        },
        {
         "fecha": "2009-01-05T07:30:00.000000",
         "direccion": "CL21 #2-2, Palmira - Valle del Cauca, Colombia",
         "categoria": "HURTOPERSONAS",
         "latitudes": 3.5379718,
         "longitudes": -76.2971657,
         "_deepnote_index_column": 14
        },
        {
         "fecha": "2009-01-05T14:45:00.000000",
         "direccion": "CL33 #21-2, Palmira - Valle del Cauca, Colombia",
         "categoria": "HURTOPERSONAS",
         "latitudes": 3.5291875,
         "longitudes": -76.2729781,
         "_deepnote_index_column": 15
        },
        {
         "fecha": "2009-01-06T12:45:00.000000",
         "direccion": "CL25 #29-2, Palmira - Valle del Cauca, Colombia",
         "categoria": "HURTOPERSONAS",
         "latitudes": 3.522995,
         "longitudes": -76.30055999999999,
         "_deepnote_index_column": 16
        },
        {
         "fecha": "2009-01-06T10:00:00.000000",
         "direccion": "CL26 #23-30, Palmira - Valle del Cauca, Colombia",
         "categoria": "HURTOPERSONAS",
         "latitudes": 3.5227463,
         "longitudes": -76.2953854,
         "_deepnote_index_column": 17
        },
        {
         "fecha": "2009-01-06T01:00:00.000000",
         "direccion": "CL28 #21-24, Palmira - Valle del Cauca, Colombia",
         "categoria": "HURTOPERSONAS",
         "latitudes": 3.5246329,
         "longitudes": -76.2934334,
         "_deepnote_index_column": 18
        },
        {
         "fecha": "2009-01-07T12:30:00.000000",
         "direccion": "CL28 #29-2, Palmira - Valle del Cauca, Colombia",
         "categoria": "HURTOPERSONAS",
         "latitudes": 3.5254088,
         "longitudes": -76.3000149,
         "_deepnote_index_column": 19
        },
        {
         "fecha": "2009-01-07T08:00:00.000000",
         "direccion": "CL30 #26-27, Palmira - Valle del Cauca, Colombia",
         "categoria": "HURTOPERSONAS",
         "latitudes": 3.5267622,
         "longitudes": -76.29756239999999,
         "_deepnote_index_column": 20
        },
        {
         "fecha": "2009-01-07T13:45:00.000000",
         "direccion": "CR31 #24-16, Palmira - Valle del Cauca, Colombia",
         "categoria": "HURTOPERSONAS",
         "latitudes": 3.5224047,
         "longitudes": -76.3024995,
         "_deepnote_index_column": 21
        },
        {
         "fecha": "2009-01-07T09:30:00.000000",
         "direccion": "CL21 #30A-23, Palmira - Valle del Cauca, Colombia",
         "categoria": "HURTOPERSONAS",
         "latitudes": 3.5108436,
         "longitudes": -76.30262859999999,
         "_deepnote_index_column": 22
        },
        {
         "fecha": "2009-01-08T11:00:00.000000",
         "direccion": "CL31 #28-2, Palmira - Valle del Cauca, Colombia",
         "categoria": "HURTOPERSONAS",
         "latitudes": 3.528994,
         "longitudes": -76.30627799999999,
         "_deepnote_index_column": 23
        },
        {
         "fecha": "2009-01-08T14:15:00.000000",
         "direccion": "CL32A #24-27, Palmira - Valle del Cauca, Colombia",
         "categoria": "HURTOPERSONAS",
         "latitudes": 3.5072669,
         "longitudes": -76.2995263,
         "_deepnote_index_column": 24
        },
        {
         "fecha": "2009-01-09T22:05:00.000000",
         "direccion": "CL65 #28-2, Palmira - Valle del Cauca, Colombia",
         "categoria": "HURTOPERSONAS",
         "latitudes": 3.5523107,
         "longitudes": -76.2937372,
         "_deepnote_index_column": 25
        },
        {
         "fecha": "2009-01-09T20:00:00.000000",
         "direccion": "CL31 #21-2, Palmira - Valle del Cauca, Colombia",
         "categoria": "HURTOPERSONAS",
         "latitudes": 3.5268144,
         "longitudes": -76.30006279999999,
         "_deepnote_index_column": 26
        },
        {
         "fecha": "2009-01-09T18:55:00.000000",
         "direccion": "CL45 #13-2, Palmira - Valle del Cauca, Colombia",
         "categoria": "HURTOPERSONAS",
         "latitudes": 3.5410734,
         "longitudes": -76.3164728,
         "_deepnote_index_column": 27
        },
        {
         "fecha": "2009-01-10T20:45:00.000000",
         "direccion": "CR20 #33-2, Palmira - Valle del Cauca, Colombia",
         "categoria": "HURTOPERSONAS",
         "latitudes": 3.5379718,
         "longitudes": -76.2971657,
         "_deepnote_index_column": 28
        },
        {
         "fecha": "2009-01-10T00:20:00.000000",
         "direccion": "CL30 #2-2, Palmira - Valle del Cauca, Colombia",
         "categoria": "HURTOPERSONAS",
         "latitudes": 3.521567,
         "longitudes": -76.2786825,
         "_deepnote_index_column": 29
        },
        {
         "fecha": "2009-01-10T02:40:00.000000",
         "direccion": "CL41 #28-2, Palmira - Valle del Cauca, Colombia",
         "categoria": "HURTOPERSONAS",
         "latitudes": 3.5372043,
         "longitudes": -76.29740300000002,
         "_deepnote_index_column": 30
        },
        {
         "fecha": "2009-01-11T10:30:00.000000",
         "direccion": "CL11 #36-2, Palmira - Valle del Cauca, Colombia",
         "categoria": "HURTOPERSONAS",
         "latitudes": 3.5103733,
         "longitudes": -76.300699,
         "_deepnote_index_column": 31
        },
        {
         "fecha": "2009-01-11T17:30:00.000000",
         "direccion": "CL30 #31-32, Palmira - Valle del Cauca, Colombia",
         "categoria": "HURTOPERSONAS",
         "latitudes": 3.5274991,
         "longitudes": -76.3018311,
         "_deepnote_index_column": 32
        },
        {
         "fecha": "2009-01-11T18:30:00.000000",
         "direccion": "CL32 #31-27, Palmira - Valle del Cauca, Colombia",
         "categoria": "HURTOPERSONAS",
         "latitudes": 3.5379718,
         "longitudes": -76.2971657,
         "_deepnote_index_column": 33
        },
        {
         "fecha": "2009-01-13T14:40:00.000000",
         "direccion": "CL34 #9-10, Palmira - Valle del Cauca, Colombia",
         "categoria": "HURTOPERSONAS",
         "latitudes": 3.5379718,
         "longitudes": -76.2971657,
         "_deepnote_index_column": 34
        },
        {
         "fecha": "2009-01-13T21:15:00.000000",
         "direccion": "CR15 #35-36, Palmira - Valle del Cauca, Colombia",
         "categoria": "HURTOPERSONAS",
         "latitudes": 3.5379718,
         "longitudes": -76.2971657,
         "_deepnote_index_column": 35
        },
        {
         "fecha": "2009-01-13T13:55:00.000000",
         "direccion": "CR25 #26-2, Palmira - Valle del Cauca, Colombia",
         "categoria": "HURTOPERSONAS",
         "latitudes": 3.5229344,
         "longitudes": -76.2969444,
         "_deepnote_index_column": 36
        },
        {
         "fecha": "2009-01-13T21:00:00.000000",
         "direccion": "CL31 #36-2, Palmira - Valle del Cauca, Colombia",
         "categoria": "HURTOPERSONAS",
         "latitudes": 3.528994,
         "longitudes": -76.30627799999999,
         "_deepnote_index_column": 37
        },
        {
         "fecha": "2009-01-14T19:10:00.000000",
         "direccion": "CL42 #28-2, Palmira - Valle del Cauca, Colombia",
         "categoria": "HURTOPERSONAS",
         "latitudes": 3.5378617,
         "longitudes": -76.29734739999999,
         "_deepnote_index_column": 38
        },
        {
         "fecha": "2009-01-14T15:30:00.000000",
         "direccion": "CL54B #45-60, Palmira - Valle del Cauca, Colombia",
         "categoria": "HURTOPERSONAS",
         "latitudes": 3.5379718,
         "longitudes": -76.2971657,
         "_deepnote_index_column": 39
        },
        {
         "fecha": "2009-01-15T00:00:00.000000",
         "direccion": "DG28B #58-8, Palmira - Valle del Cauca, Colombia",
         "categoria": "HURTOPERSONAS",
         "latitudes": 3.5379718,
         "longitudes": -76.2971657,
         "_deepnote_index_column": 40
        },
        {
         "fecha": "2009-01-15T14:47:00.000000",
         "direccion": "CL25 #29-2, Palmira - Valle del Cauca, Colombia",
         "categoria": "HURTOPERSONAS",
         "latitudes": 3.522995,
         "longitudes": -76.30055999999999,
         "_deepnote_index_column": 41
        },
        {
         "fecha": "2009-01-15T16:15:00.000000",
         "direccion": "CL35 #13-2, Palmira - Valle del Cauca, Colombia",
         "categoria": "HURTOPERSONAS",
         "latitudes": 3.5315988,
         "longitudes": -76.2855443,
         "_deepnote_index_column": 42
        },
        {
         "fecha": "2009-01-15T08:00:00.000000",
         "direccion": "CL49 #47-2, Palmira - Valle del Cauca, Colombia",
         "categoria": "HURTOPERSONAS",
         "latitudes": 3.5438414,
         "longitudes": -76.3083087,
         "_deepnote_index_column": 43
        },
        {
         "fecha": "2009-01-15T16:15:00.000000",
         "direccion": "CR1 #31-2, Palmira - Valle del Cauca, Colombia",
         "categoria": "HURTOPERSONAS",
         "latitudes": 3.5310637,
         "longitudes": -76.2772128,
         "_deepnote_index_column": 44
        },
        {
         "fecha": "2009-01-15T16:32:00.000000",
         "direccion": "CL14 #27-2, Palmira - Valle del Cauca, Colombia",
         "categoria": "HURTOPERSONAS",
         "latitudes": 3.5060719,
         "longitudes": -76.298855,
         "_deepnote_index_column": 45
        },
        {
         "fecha": "2009-01-16T13:20:00.000000",
         "direccion": "CL31 #40-2, Palmira - Valle del Cauca, Colombia",
         "categoria": "HURTOPERSONAS",
         "latitudes": 3.5147383,
         "longitudes": -76.272998,
         "_deepnote_index_column": 46
        },
        {
         "fecha": "2009-01-16T12:20:00.000000",
         "direccion": "CR26 #29-81, Palmira - Valle del Cauca, Colombia",
         "categoria": "HURTOPERSONAS",
         "latitudes": 3.5265041,
         "longitudes": -76.2974562,
         "_deepnote_index_column": 47
        },
        {
         "fecha": "2009-01-16T11:00:00.000000",
         "direccion": "CR42 #41-2, Palmira - Valle del Cauca, Colombia",
         "categoria": "HURTOPERSONAS",
         "latitudes": 3.5378302,
         "longitudes": -76.3122506,
         "_deepnote_index_column": 48
        },
        {
         "fecha": "2009-01-16T06:10:00.000000",
         "direccion": "CL19 #25A-2, Palmira - Valle del Cauca, Colombia",
         "categoria": "HURTOPERSONAS",
         "latitudes": 3.5176787,
         "longitudes": -76.2982301,
         "_deepnote_index_column": 49
        },
        {
         "fecha": "2009-01-16T12:00:00.000000",
         "direccion": "CL55 #42-2, Palmira - Valle del Cauca, Colombia",
         "categoria": "HURTOPERSONAS",
         "latitudes": 3.5472662,
         "longitudes": -76.2957005,
         "_deepnote_index_column": 50
        },
        {
         "fecha": "2009-01-16T21:00:00.000000",
         "direccion": "CL35A #41-120, Palmira - Valle del Cauca, Colombia",
         "categoria": "HURTOPERSONAS",
         "latitudes": 3.5328183,
         "longitudes": -76.31233569999999,
         "_deepnote_index_column": 51
        },
        {
         "fecha": "2009-01-17T16:40:00.000000",
         "direccion": "CL36 #18-2, Palmira - Valle del Cauca, Colombia",
         "categoria": "HURTOPERSONAS",
         "latitudes": 3.5318694,
         "longitudes": -76.28972519999999,
         "_deepnote_index_column": 52
        },
        {
         "fecha": "2009-01-17T10:20:00.000000",
         "direccion": "CR22 #39-22, Palmira - Valle del Cauca, Colombia",
         "categoria": "HURTOPERSONAS",
         "latitudes": 3.5351181,
         "longitudes": -76.2926039,
         "_deepnote_index_column": 53
        },
        {
         "fecha": "2009-01-17T11:40:00.000000",
         "direccion": "CR28 #39-2, Palmira - Valle del Cauca, Colombia",
         "categoria": "HURTOPERSONAS",
         "latitudes": 3.534988,
         "longitudes": -76.2976901,
         "_deepnote_index_column": 54
        },
        {
         "fecha": "2009-01-18T14:30:00.000000",
         "direccion": "CR33 #45-75, Palmira - Valle del Cauca, Colombia",
         "categoria": "HURTOPERSONAS",
         "latitudes": 3.5412149,
         "longitudes": -76.3016991,
         "_deepnote_index_column": 55
        },
        {
         "fecha": "2009-01-18T16:30:00.000000",
         "direccion": "CR27 #22-2, Palmira - Valle del Cauca, Colombia",
         "categoria": "HURTOPERSONAS",
         "latitudes": 3.5201497,
         "longitudes": -76.2990749,
         "_deepnote_index_column": 56
        },
        {
         "fecha": "2009-01-19T04:33:00.000000",
         "direccion": "CL25 #30-3, Palmira - Valle del Cauca, Colombia",
         "categoria": "HURTOPERSONAS",
         "latitudes": 3.5229928,
         "longitudes": -76.3014925,
         "_deepnote_index_column": 57
        },
        {
         "fecha": "2009-01-19T17:00:00.000000",
         "direccion": "CL47 #25-2, Palmira - Valle del Cauca, Colombia",
         "categoria": "HURTOPERSONAS",
         "latitudes": 3.5421228,
         "longitudes": -76.2947956,
         "_deepnote_index_column": 58
        },
        {
         "fecha": "2009-01-20T21:50:00.000000",
         "direccion": "CR28 #29-2, Palmira - Valle del Cauca, Colombia",
         "categoria": "HURTOPERSONAS",
         "latitudes": 3.5260484,
         "longitudes": -76.2990585,
         "_deepnote_index_column": 59
        },
        {
         "fecha": "2009-01-20T07:35:00.000000",
         "direccion": "CL26 #33-2, Palmira - Valle del Cauca, Colombia",
         "categoria": "HURTOPERSONAS",
         "latitudes": 3.5241112,
         "longitudes": -76.30358319999999,
         "_deepnote_index_column": 60
        },
        {
         "fecha": "2009-01-20T18:00:00.000000",
         "direccion": "CL38 #11A-5, Palmira - Valle del Cauca, Colombia",
         "categoria": "HURTOPERSONAS",
         "latitudes": 3.5342263,
         "longitudes": -76.2844302,
         "_deepnote_index_column": 61
        },
        {
         "fecha": "2009-01-20T16:30:00.000000",
         "direccion": "CR22 #28-46, Palmira - Valle del Cauca, Colombia",
         "categoria": "HURTOPERSONAS",
         "latitudes": 3.5250616,
         "longitudes": -76.2939612,
         "_deepnote_index_column": 62
        },
        {
         "fecha": "2009-01-20T11:30:00.000000",
         "direccion": "CR28 #23-2, Palmira - Valle del Cauca, Colombia",
         "categoria": "HURTOPERSONAS",
         "latitudes": 3.5209729,
         "longitudes": -76.2998095,
         "_deepnote_index_column": 63
        },
        {
         "fecha": "2009-01-21T12:30:00.000000",
         "direccion": "CR32 #34-2, Palmira - Valle del Cauca, Colombia",
         "categoria": "HURTOPERSONAS",
         "latitudes": 3.5379718,
         "longitudes": -76.2971657,
         "_deepnote_index_column": 64
        },
        {
         "fecha": "2009-01-21T11:00:00.000000",
         "direccion": "CL27 #17-2, Palmira - Valle del Cauca, Colombia",
         "categoria": "HURTOPERSONAS",
         "latitudes": 3.523327,
         "longitudes": -76.2899226,
         "_deepnote_index_column": 65
        },
        {
         "fecha": "2009-01-22T13:00:00.000000",
         "direccion": "CR19 #39-2, Palmira - Valle del Cauca, Colombia",
         "categoria": "HURTOPERSONAS",
         "latitudes": 3.5346515,
         "longitudes": -76.2905919,
         "_deepnote_index_column": 66
        },
        {
         "fecha": "2009-01-22T17:15:00.000000",
         "direccion": "CR32 #19-58, Palmira - Valle del Cauca, Colombia",
         "categoria": "HURTOPERSONAS",
         "latitudes": 3.5379718,
         "longitudes": -76.2971657,
         "_deepnote_index_column": 67
        },
        {
         "fecha": "2009-01-22T18:20:00.000000",
         "direccion": "CL22 #23-2, Palmira - Valle del Cauca, Colombia",
         "categoria": "HURTOPERSONAS",
         "latitudes": 3.5197236,
         "longitudes": -76.2949525,
         "_deepnote_index_column": 68
        },
        {
         "fecha": "2009-01-22T16:30:00.000000",
         "direccion": "CL26A #19-13, Palmira - Valle del Cauca, Colombia",
         "categoria": "HURTOPERSONAS",
         "latitudes": 3.5228472,
         "longitudes": -76.291722,
         "_deepnote_index_column": 69
        },
        {
         "fecha": "2009-01-22T15:30:00.000000",
         "direccion": "CL32 #38-2, Palmira - Valle del Cauca, Colombia",
         "categoria": "HURTOPERSONAS",
         "latitudes": 3.5302342,
         "longitudes": -76.3077404,
         "_deepnote_index_column": 70
        },
        {
         "fecha": "2009-01-23T22:00:00.000000",
         "direccion": "CL33 #26-2, Palmira - Valle del Cauca, Colombia",
         "categoria": "HURTOPERSONAS",
         "latitudes": 3.5241191,
         "longitudes": -76.3035725,
         "_deepnote_index_column": 71
        },
        {
         "fecha": "2009-01-23T12:00:00.000000",
         "direccion": "DG30C #11-48, Palmira - Valle del Cauca, Colombia",
         "categoria": "HURTOPERSONAS",
         "latitudes": 3.5379718,
         "longitudes": -76.2971657,
         "_deepnote_index_column": 72
        },
        {
         "fecha": "2009-01-23T12:00:00.000000",
         "direccion": "CR39A #40A-2, Palmira - Valle del Cauca, Colombia",
         "categoria": "HURTOPERSONAS",
         "latitudes": 3.5379718,
         "longitudes": -76.2971657,
         "_deepnote_index_column": 73
        },
        {
         "fecha": "2009-01-23T21:00:00.000000",
         "direccion": "CL18 #26-2, Palmira - Valle del Cauca, Colombia",
         "categoria": "HURTOPERSONAS",
         "latitudes": 3.5168726,
         "longitudes": -76.2989496,
         "_deepnote_index_column": 74
        },
        {
         "fecha": "2009-01-24T21:00:00.000000",
         "direccion": "CL29 #26-36, Palmira - Valle del Cauca, Colombia",
         "categoria": "HURTOPERSONAS",
         "latitudes": 3.5259658,
         "longitudes": -76.29781,
         "_deepnote_index_column": 75
        },
        {
         "fecha": "2009-01-24T05:30:00.000000",
         "direccion": "CL29 #33-97, Palmira - Valle del Cauca, Colombia",
         "categoria": "HURTOPERSONAS",
         "latitudes": 3.526823,
         "longitudes": -76.3043737,
         "_deepnote_index_column": 76
        },
        {
         "fecha": "2009-01-25T11:30:00.000000",
         "direccion": "CL37A #21-56, Palmira - Valle del Cauca, Colombia",
         "categoria": "HURTOPERSONAS",
         "latitudes": 3.5335515,
         "longitudes": -76.29251169999999,
         "_deepnote_index_column": 77
        },
        {
         "fecha": "2009-01-25T12:30:00.000000",
         "direccion": "CL42 #28-2, Palmira - Valle del Cauca, Colombia",
         "categoria": "HURTOPERSONAS",
         "latitudes": 3.5378617,
         "longitudes": -76.29734739999999,
         "_deepnote_index_column": 78
        },
        {
         "fecha": "2009-01-25T07:00:00.000000",
         "direccion": "CL48 #37-99, Palmira - Valle del Cauca, Colombia",
         "categoria": "HURTOPERSONAS",
         "latitudes": 3.5431557,
         "longitudes": -76.3101192,
         "_deepnote_index_column": 79
        },
        {
         "fecha": "2009-01-25T12:00:00.000000",
         "direccion": "CR19 #32-2, Palmira - Valle del Cauca, Colombia",
         "categoria": "HURTOPERSONAS",
         "latitudes": 3.528874,
         "longitudes": -76.290352,
         "_deepnote_index_column": 80
        },
        {
         "fecha": "2009-01-26T07:30:00.000000",
         "direccion": "CR26 #18-2, Palmira - Valle del Cauca, Colombia",
         "categoria": "HURTOPERSONAS",
         "latitudes": 3.5170918,
         "longitudes": -76.29887099999999,
         "_deepnote_index_column": 81
        },
        {
         "fecha": "2009-01-26T15:30:00.000000",
         "direccion": "CR27 #31-2, Palmira - Valle del Cauca, Colombia",
         "categoria": "HURTOPERSONAS",
         "latitudes": 3.5278011,
         "longitudes": -76.2978492,
         "_deepnote_index_column": 82
        },
        {
         "fecha": "2009-01-26T17:30:00.000000",
         "direccion": "CL31 #29-2, Palmira - Valle del Cauca, Colombia",
         "categoria": "HURTOPERSONAS",
         "latitudes": 3.528994,
         "longitudes": -76.30627799999999,
         "_deepnote_index_column": 83
        },
        {
         "fecha": "2009-01-26T17:00:00.000000",
         "direccion": "CL34 #17-34, Palmira - Valle del Cauca, Colombia",
         "categoria": "HURTOPERSONAS",
         "latitudes": 3.5379718,
         "longitudes": -76.2971657,
         "_deepnote_index_column": 84
        },
        {
         "fecha": "2009-01-26T15:00:00.000000",
         "direccion": "CL53 #39-32, Palmira - Valle del Cauca, Colombia",
         "categoria": "HURTOPERSONAS",
         "latitudes": 3.5456431,
         "longitudes": -76.31177679999999,
         "_deepnote_index_column": 85
        },
        {
         "fecha": "2009-01-26T18:50:00.000000",
         "direccion": "CL56 #28-2, Palmira - Valle del Cauca, Colombia",
         "categoria": "HURTOPERSONAS",
         "latitudes": 3.5473307,
         "longitudes": -76.2931297,
         "_deepnote_index_column": 86
        },
        {
         "fecha": "2009-01-26T10:30:00.000000",
         "direccion": "CR25 #14A-8, Palmira - Valle del Cauca, Colombia",
         "categoria": "HURTOPERSONAS",
         "latitudes": 3.5134787,
         "longitudes": -76.29794009999999,
         "_deepnote_index_column": 87
        },
        {
         "fecha": "2009-01-27T15:00:00.000000",
         "direccion": "CR28 #24-2, Palmira - Valle del Cauca, Colombia",
         "categoria": "HURTOPERSONAS",
         "latitudes": 3.5219031,
         "longitudes": -76.2996531,
         "_deepnote_index_column": 88
        },
        {
         "fecha": "2009-01-27T19:10:00.000000",
         "direccion": "CR30 #41-2, Palmira - Valle del Cauca, Colombia",
         "categoria": "HURTOPERSONAS",
         "latitudes": 3.5374341,
         "longitudes": -76.2989133,
         "_deepnote_index_column": 89
        },
        {
         "fecha": "2009-01-27T08:00:00.000000",
         "direccion": "CR32 #19-58, Palmira - Valle del Cauca, Colombia",
         "categoria": "HURTOPERSONAS",
         "latitudes": 3.5379718,
         "longitudes": -76.2971657,
         "_deepnote_index_column": 90
        },
        {
         "fecha": "2009-01-27T21:00:00.000000",
         "direccion": "CR37 #35-2, Palmira - Valle del Cauca, Colombia",
         "categoria": "HURTOPERSONAS",
         "latitudes": 3.5379718,
         "longitudes": -76.2971657,
         "_deepnote_index_column": 91
        },
        {
         "fecha": "2009-01-27T08:30:00.000000",
         "direccion": "CR5A #43C-12, Palmira - Valle del Cauca, Colombia",
         "categoria": "HURTOPERSONAS",
         "latitudes": 3.5401674,
         "longitudes": -76.2774668,
         "_deepnote_index_column": 92
        },
        {
         "fecha": "2009-01-27T10:30:00.000000",
         "direccion": "CL37 #42-43, Palmira - Valle del Cauca, Colombia",
         "categoria": "HURTOPERSONAS",
         "latitudes": 3.5340275,
         "longitudes": -76.3131468,
         "_deepnote_index_column": 93
        },
        {
         "fecha": "2009-01-27T07:40:00.000000",
         "direccion": "CL41 #19-2, Palmira - Valle del Cauca, Colombia",
         "categoria": "HURTOPERSONAS",
         "latitudes": 3.5364169,
         "longitudes": -76.2910472,
         "_deepnote_index_column": 94
        },
        {
         "fecha": "2009-01-27T14:00:00.000000",
         "direccion": "CL42 #2-2, Palmira - Valle del Cauca, Colombia",
         "categoria": "HURTOPERSONAS",
         "latitudes": 3.538312,
         "longitudes": -76.3012971,
         "_deepnote_index_column": 95
        },
        {
         "fecha": "2009-01-27T13:30:00.000000",
         "direccion": "CR31 #17-16, Palmira - Valle del Cauca, Colombia",
         "categoria": "HURTOPERSONAS",
         "latitudes": 3.5163365,
         "longitudes": -76.3035802,
         "_deepnote_index_column": 96
        },
        {
         "fecha": "2009-01-27T12:30:00.000000",
         "direccion": "CL9 #8-44, Palmira - Valle del Cauca, Colombia",
         "categoria": "HURTOPERSONAS",
         "latitudes": 3.5379718,
         "longitudes": -76.2971657,
         "_deepnote_index_column": 97
        },
        {
         "fecha": "2009-01-27T07:40:00.000000",
         "direccion": "CL28 #19-2, Palmira - Valle del Cauca, Colombia",
         "categoria": "HURTOPERSONAS",
         "latitudes": 3.5243781,
         "longitudes": -76.29151089999999,
         "_deepnote_index_column": 98
        },
        {
         "fecha": "2009-01-27T09:00:00.000000",
         "direccion": "CL28 #19-2, Palmira - Valle del Cauca, Colombia",
         "categoria": "HURTOPERSONAS",
         "latitudes": 3.5243781,
         "longitudes": -76.29151089999999,
         "_deepnote_index_column": 99
        }
       ],
       "rows_bottom": [
        {
         "fecha": "2012-12-20T16:00:00.000000",
         "direccion": "CL28#19, Palmira - Valle del Cauca, Colombia",
         "categoria": "HURTOPERSONAS",
         "latitudes": 3.5243712,
         "longitudes": -76.2918047,
         "_deepnote_index_column": 5681
        },
        {
         "fecha": "2012-12-21T15:30:00.000000",
         "direccion": "CR30#29-88, Palmira - Valle del Cauca, Colombia",
         "categoria": "HURTOENTIDADESCOMERCIALES",
         "latitudes": 3.5269596,
         "longitudes": -76.3005333,
         "_deepnote_index_column": 5682
        },
        {
         "fecha": "2012-12-23T16:00:00.000000",
         "direccion": "CL26#20-37, Palmira - Valle del Cauca, Colombia",
         "categoria": "HURTOPERSONAS",
         "latitudes": 3.5222234,
         "longitudes": -76.2929085,
         "_deepnote_index_column": 5683
        },
        {
         "fecha": "2012-12-25T10:00:00.000000",
         "direccion": "CL26#18-37, Palmira - Valle del Cauca, Colombia",
         "categoria": "HURTOPERSONAS",
         "latitudes": 3.522517,
         "longitudes": -76.2912647,
         "_deepnote_index_column": 5684
        },
        {
         "fecha": "2012-12-18T13:20:00.000000",
         "direccion": "CL13#24C-26, Palmira - Valle del Cauca, Colombia",
         "categoria": "HURTOPERSONAS",
         "latitudes": 3.5122496,
         "longitudes": -76.2981698,
         "_deepnote_index_column": 5685
        },
        {
         "fecha": "2012-12-21T00:00:00.000000",
         "direccion": "CR27#29, Palmira - Valle del Cauca, Colombia",
         "categoria": "HURTOPERSONAS",
         "latitudes": 3.5264706,
         "longitudes": -76.29800589999999,
         "_deepnote_index_column": 5686
        },
        {
         "fecha": "2012-12-21T06:15:00.000000",
         "direccion": "CR31#26, Palmira - Valle del Cauca, Colombia",
         "categoria": "HURTOENTIDADESCOMERCIALES",
         "latitudes": 3.5241916,
         "longitudes": -76.30216539999999,
         "_deepnote_index_column": 5687
        },
        {
         "fecha": "2012-12-07T12:20:00.000000",
         "direccion": "CL28#30, Palmira - Valle del Cauca, Colombia",
         "categoria": "HURTOPERSONAS",
         "latitudes": 3.5257418,
         "longitudes": -76.3016698,
         "_deepnote_index_column": 5688
        },
        {
         "fecha": "2012-12-15T06:30:00.000000",
         "direccion": "CL73#28, Palmira - Valle del Cauca, Colombia",
         "categoria": "HURTOPERSONAS",
         "latitudes": 3.5398382,
         "longitudes": -76.29708529999999,
         "_deepnote_index_column": 5689
        },
        {
         "fecha": "2012-12-20T10:00:00.000000",
         "direccion": "CR30#26-64, Palmira - Valle del Cauca, Colombia",
         "categoria": "HURTOINTERIORDEVEHICULO",
         "latitudes": 3.524282,
         "longitudes": -76.3010538,
         "_deepnote_index_column": 5690
        },
        {
         "fecha": "2012-12-20T11:30:00.000000",
         "direccion": "CR29#31, Palmira - Valle del Cauca, Colombia",
         "categoria": "HURTOPERSONAS",
         "latitudes": 3.5284926,
         "longitudes": -76.2995325,
         "_deepnote_index_column": 5691
        },
        {
         "fecha": "2012-12-20T10:00:00.000000",
         "direccion": "CL56A#40-26, Palmira - Valle del Cauca, Colombia",
         "categoria": "HURTOPERSONAS",
         "latitudes": 3.5379718,
         "longitudes": -76.2971657,
         "_deepnote_index_column": 5692
        },
        {
         "fecha": "2012-12-19T12:00:00.000000",
         "direccion": "CR29#26, Palmira - Valle del Cauca, Colombia",
         "categoria": "HURTOPERSONAS",
         "latitudes": 3.5150182,
         "longitudes": -76.2742066,
         "_deepnote_index_column": 5693
        },
        {
         "fecha": "2012-12-19T09:40:00.000000",
         "direccion": "CR29#26, Palmira - Valle del Cauca, Colombia",
         "categoria": "HURTOPERSONAS",
         "latitudes": 3.5150182,
         "longitudes": -76.2742066,
         "_deepnote_index_column": 5694
        },
        {
         "fecha": "2012-12-03T00:00:00.000000",
         "direccion": "CL30#29, Palmira - Valle del Cauca, Colombia",
         "categoria": "HURTOPERSONAS",
         "latitudes": 3.5270462,
         "longitudes": -76.2997783,
         "_deepnote_index_column": 5695
        },
        {
         "fecha": "2012-12-06T07:30:00.000000",
         "direccion": "CL47C#13-59, Palmira - Valle del Cauca, Colombia",
         "categoria": "OTRO",
         "latitudes": 3.5433963,
         "longitudes": -76.2902778,
         "_deepnote_index_column": 5696
        },
        {
         "fecha": "2012-12-01T12:00:00.000000",
         "direccion": "CL29#27, Palmira - Valle del Cauca, Colombia",
         "categoria": "HURTOINTERIORDEVEHICULO",
         "latitudes": 3.5261696,
         "longitudes": -76.2984584,
         "_deepnote_index_column": 5697
        },
        {
         "fecha": "2012-12-06T12:15:00.000000",
         "direccion": "CL31#40, Palmira - Valle del Cauca, Colombia",
         "categoria": "HURTOPERSONAS",
         "latitudes": 3.5295332,
         "longitudes": -76.3106002,
         "_deepnote_index_column": 5698
        },
        {
         "fecha": "2012-12-02T15:30:00.000000",
         "direccion": "CL62#32, Palmira - Valle del Cauca, Colombia",
         "categoria": "HURTOPERSONAS",
         "latitudes": 3.5564758,
         "longitudes": -76.30115959999999,
         "_deepnote_index_column": 5699
        },
        {
         "fecha": "2012-12-05T16:08:00.000000",
         "direccion": "CL30#23, Palmira - Valle del Cauca, Colombia",
         "categoria": "HURTOPERSONAS",
         "latitudes": 3.5265659,
         "longitudes": -76.29530570000001,
         "_deepnote_index_column": 5700
        },
        {
         "fecha": "2012-12-05T16:00:00.000000",
         "direccion": "CL31#24, Palmira - Valle del Cauca, Colombia",
         "categoria": "HURTOPERSONAS",
         "latitudes": 3.5275079,
         "longitudes": -76.29485160000002,
         "_deepnote_index_column": 5701
        },
        {
         "fecha": "2012-12-04T23:20:00.000000",
         "direccion": "CR28#58, Palmira - Valle del Cauca, Colombia",
         "categoria": "HURTOPERSONAS",
         "latitudes": 3.5440995,
         "longitudes": -76.2962481,
         "_deepnote_index_column": 5702
        },
        {
         "fecha": "2012-12-04T14:30:00.000000",
         "direccion": "CR28#58, Palmira - Valle del Cauca, Colombia",
         "categoria": "HURTOPERSONAS",
         "latitudes": 3.5440995,
         "longitudes": -76.2962481,
         "_deepnote_index_column": 5703
        },
        {
         "fecha": "2012-12-01T06:30:00.000000",
         "direccion": "CR32#16, Palmira - Valle del Cauca, Colombia",
         "categoria": "HURTOPERSONAS",
         "latitudes": 3.476714,
         "longitudes": -76.3944246,
         "_deepnote_index_column": 5704
        },
        {
         "fecha": "2012-12-04T11:00:00.000000",
         "direccion": "CL28#32, Palmira - Valle del Cauca, Colombia",
         "categoria": "HURTOPERSONAS",
         "latitudes": 3.5259095,
         "longitudes": -76.30335819999999,
         "_deepnote_index_column": 5705
        },
        {
         "fecha": "2012-12-01T23:00:00.000000",
         "direccion": "CR34#53-07, Palmira - Valle del Cauca, Colombia",
         "categoria": "HURTOPERSONAS",
         "latitudes": 3.5379718,
         "longitudes": -76.2971657,
         "_deepnote_index_column": 5706
        },
        {
         "fecha": "2012-12-01T02:00:00.000000",
         "direccion": "CL26#16-68, Palmira - Valle del Cauca, Colombia",
         "categoria": "HURTOPERSONAS",
         "latitudes": 3.522746,
         "longitudes": -76.2893545,
         "_deepnote_index_column": 5707
        },
        {
         "fecha": "2012-12-03T11:00:00.000000",
         "direccion": "DG27#7-68, Palmira - Valle del Cauca, Colombia",
         "categoria": "HURTOPERSONAS",
         "latitudes": 3.5379718,
         "longitudes": -76.2971657,
         "_deepnote_index_column": 5708
        },
        {
         "fecha": "2012-12-01T11:00:00.000000",
         "direccion": "CR28#32, Palmira - Valle del Cauca, Colombia",
         "categoria": "HURTOPERSONAS",
         "latitudes": 3.5297686,
         "longitudes": -76.2986167,
         "_deepnote_index_column": 5709
        },
        {
         "fecha": "2012-12-03T08:00:00.000000",
         "direccion": "CL30#29, Palmira - Valle del Cauca, Colombia",
         "categoria": "HURTOPERSONAS",
         "latitudes": 3.5270462,
         "longitudes": -76.2997783,
         "_deepnote_index_column": 5710
        },
        {
         "fecha": "2012-12-01T11:00:00.000000",
         "direccion": "CR19#35-49, Palmira - Valle del Cauca, Colombia",
         "categoria": "HURTOENTIDADESCOMERCIALES",
         "latitudes": 3.4804135,
         "longitudes": -76.41365379999999,
         "_deepnote_index_column": 5711
        },
        {
         "fecha": "2012-12-19T09:30:00.000000",
         "direccion": "CR29#18-14, Palmira - Valle del Cauca, Colombia",
         "categoria": "HURTOPERSONAS",
         "latitudes": 3.5379718,
         "longitudes": -76.2971657,
         "_deepnote_index_column": 5712
        },
        {
         "fecha": "2012-12-18T13:35:00.000000",
         "direccion": "CR19#36-19, Palmira - Valle del Cauca, Colombia",
         "categoria": "HURTOENTIDADESCOMERCIALES",
         "latitudes": 3.5319349,
         "longitudes": -76.2904416,
         "_deepnote_index_column": 5713
        },
        {
         "fecha": "2012-12-17T17:00:00.000000",
         "direccion": "CR26#31, Palmira - Valle del Cauca, Colombia",
         "categoria": "HURTOMOTOCICLETAS",
         "latitudes": 3.5376817,
         "longitudes": -76.2954151,
         "_deepnote_index_column": 5714
        },
        {
         "fecha": "2012-12-17T11:00:00.000000",
         "direccion": "CR27#30, Palmira - Valle del Cauca, Colombia",
         "categoria": "HURTOPERSONAS",
         "latitudes": 3.5272625,
         "longitudes": -76.2981221,
         "_deepnote_index_column": 5715
        },
        {
         "fecha": "2012-12-17T12:10:00.000000",
         "direccion": "CR28#22, Palmira - Valle del Cauca, Colombia",
         "categoria": "HURTOPERSONAS",
         "latitudes": 3.5204684,
         "longitudes": -76.3000194,
         "_deepnote_index_column": 5716
        },
        {
         "fecha": "2012-12-14T22:30:00.000000",
         "direccion": "CL34#33-71, Palmira - Valle del Cauca, Colombia",
         "categoria": "HURTOPERSONAS",
         "latitudes": 3.5317139,
         "longitudes": -76.303,
         "_deepnote_index_column": 5717
        },
        {
         "fecha": "2012-12-15T21:30:00.000000",
         "direccion": "CL20#24A-09, Palmira - Valle del Cauca, Colombia",
         "categoria": "HURTOMOTOCICLETAS",
         "latitudes": 3.5183103,
         "longitudes": -76.2968614,
         "_deepnote_index_column": 5718
        },
        {
         "fecha": "2012-12-13T18:00:00.000000",
         "direccion": "CR35#47, Palmira - Valle del Cauca, Colombia",
         "categoria": "HURTOPERSONAS",
         "latitudes": 3.5340816,
         "longitudes": -76.3057615,
         "_deepnote_index_column": 5719
        },
        {
         "fecha": "2012-12-14T10:25:00.000000",
         "direccion": "CR30A#18-64, Palmira - Valle del Cauca, Colombia",
         "categoria": "HURTOPERSONAS",
         "latitudes": 3.5175127,
         "longitudes": -76.302911,
         "_deepnote_index_column": 5720
        },
        {
         "fecha": "2012-12-13T19:00:00.000000",
         "direccion": "CR21#48-72, Palmira - Valle del Cauca, Colombia",
         "categoria": "HURTOPERSONAS",
         "latitudes": 3.5379718,
         "longitudes": -76.2971657,
         "_deepnote_index_column": 5721
        },
        {
         "fecha": "2012-12-12T15:30:00.000000",
         "direccion": "CRA32#47, Palmira - Valle del Cauca, Colombia",
         "categoria": "HURTOPERSONAS",
         "latitudes": 3.5299031,
         "longitudes": -76.30232,
         "_deepnote_index_column": 5722
        },
        {
         "fecha": "2012-12-11T11:30:00.000000",
         "direccion": "CR32#26, Palmira - Valle del Cauca, Colombia",
         "categoria": "HURTOPERSONAS",
         "latitudes": 3.5150182,
         "longitudes": -76.2742066,
         "_deepnote_index_column": 5723
        },
        {
         "fecha": "2012-12-11T12:00:00.000000",
         "direccion": "CR26#25, Palmira - Valle del Cauca, Colombia",
         "categoria": "HURTOPERSONAS",
         "latitudes": 3.5227715,
         "longitudes": -76.2980183,
         "_deepnote_index_column": 5724
        },
        {
         "fecha": "2012-12-10T14:00:00.000000",
         "direccion": "CL14#25-44, Palmira - Valle del Cauca, Colombia",
         "categoria": "HURTOENTIDADESCOMERCIALES",
         "latitudes": 3.5154851,
         "longitudes": -76.2731914,
         "_deepnote_index_column": 5725
        },
        {
         "fecha": "2012-12-10T10:00:00.000000",
         "direccion": "CL30#24, Palmira - Valle del Cauca, Colombia",
         "categoria": "HURTOINTERIORDEVEHICULO",
         "latitudes": 3.5265908,
         "longitudes": -76.2961091,
         "_deepnote_index_column": 5726
        },
        {
         "fecha": "2012-12-10T09:00:00.000000",
         "direccion": "CL30#24, Palmira - Valle del Cauca, Colombia",
         "categoria": "HURTOPERSONAS",
         "latitudes": 3.5265908,
         "longitudes": -76.2961091,
         "_deepnote_index_column": 5727
        },
        {
         "fecha": "2012-12-10T09:00:00.000000",
         "direccion": "CL30#24, Palmira - Valle del Cauca, Colombia",
         "categoria": "HURTOPERSONAS",
         "latitudes": 3.5265908,
         "longitudes": -76.2961091,
         "_deepnote_index_column": 5728
        },
        {
         "fecha": "2012-12-01T00:00:00.000000",
         "direccion": "CR26#56-30 , Palmira - Valle del Cauca, Colombia",
         "categoria": "HURTOPERSONAS",
         "latitudes": 3.5477792,
         "longitudes": -76.29099889999999,
         "_deepnote_index_column": 5729
        },
        {
         "fecha": "2012-12-02T00:00:00.000000",
         "direccion": "CR24#6-, Palmira - Valle del Cauca, Colombia",
         "categoria": "HURTOPERSONAS",
         "latitudes": 3.4802368,
         "longitudes": -76.4131893,
         "_deepnote_index_column": 5730
        },
        {
         "fecha": "2012-12-02T08:00:00.000000",
         "direccion": "CL30#29, Palmira - Valle del Cauca, Colombia",
         "categoria": "HURTOPERSONAS",
         "latitudes": 3.5270462,
         "longitudes": -76.2997783,
         "_deepnote_index_column": 5731
        },
        {
         "fecha": "2012-12-02T20:00:00.000000",
         "direccion": "CL42#41, Palmira - Valle del Cauca, Colombia",
         "categoria": "HURTOPERSONAS",
         "latitudes": 3.5385882,
         "longitudes": -76.3119004,
         "_deepnote_index_column": 5732
        },
        {
         "fecha": "2012-12-02T06:10:00.000000",
         "direccion": "CL53C#37, Palmira - Valle del Cauca, Colombia",
         "categoria": "HURTOPERSONAS",
         "latitudes": 3.5379718,
         "longitudes": -76.2971657,
         "_deepnote_index_column": 5733
        },
        {
         "fecha": "2012-12-02T18:00:00.000000",
         "direccion": "CL34#16-68, Palmira - Valle del Cauca, Colombia",
         "categoria": "HURTOPERSONAS",
         "latitudes": 3.5379718,
         "longitudes": -76.2971657,
         "_deepnote_index_column": 5734
        },
        {
         "fecha": "2012-12-03T14:30:00.000000",
         "direccion": "CL53C#37, Palmira - Valle del Cauca, Colombia",
         "categoria": "HURTOPERSONAS",
         "latitudes": 3.5379718,
         "longitudes": -76.2971657,
         "_deepnote_index_column": 5735
        },
        {
         "fecha": "2012-12-04T11:10:00.000000",
         "direccion": "CR29#39-51 , Palmira - Valle del Cauca, Colombia",
         "categoria": "HURTOPERSONAS",
         "latitudes": 3.5361585,
         "longitudes": -76.2986677,
         "_deepnote_index_column": 5736
        },
        {
         "fecha": "2012-12-06T22:50:00.000000",
         "direccion": "CL36#3B, Palmira - Valle del Cauca, Colombia",
         "categoria": "HURTOPERSONAS",
         "latitudes": 3.533368,
         "longitudes": -76.28006649999999,
         "_deepnote_index_column": 5737
        },
        {
         "fecha": "2012-12-06T07:30:00.000000",
         "direccion": "CL47C#13-59, Palmira - Valle del Cauca, Colombia",
         "categoria": "HURTOPERSONAS",
         "latitudes": 3.5433963,
         "longitudes": -76.2902778,
         "_deepnote_index_column": 5738
        },
        {
         "fecha": "2012-12-07T09:45:00.000000",
         "direccion": "CL33#25, Palmira - Valle del Cauca, Colombia",
         "categoria": "HURTOPERSONAS",
         "latitudes": 3.5291875,
         "longitudes": -76.2729781,
         "_deepnote_index_column": 5739
        },
        {
         "fecha": "2012-12-07T14:40:00.000000",
         "direccion": "CR30#20-, Palmira - Valle del Cauca, Colombia",
         "categoria": "HURTOPERSONAS",
         "latitudes": 3.5191058,
         "longitudes": -76.302341,
         "_deepnote_index_column": 5740
        },
        {
         "fecha": "2012-12-07T15:00:00.000000",
         "direccion": "CL29#28, Palmira - Valle del Cauca, Colombia",
         "categoria": "HURTOPERSONAS",
         "latitudes": 3.5261791,
         "longitudes": -76.2993619,
         "_deepnote_index_column": 5741
        },
        {
         "fecha": "2012-12-07T08:30:00.000000",
         "direccion": "CL27#2-A 59, Palmira - Valle del Cauca, Colombia",
         "categoria": "HURTOPERSONAS",
         "latitudes": 3.5379718,
         "longitudes": -76.2971657,
         "_deepnote_index_column": 5742
        },
        {
         "fecha": "2012-12-07T15:30:00.000000",
         "direccion": "CL33B#-9, Palmira - Valle del Cauca, Colombia",
         "categoria": "HURTOPERSONAS",
         "latitudes": 3.5379718,
         "longitudes": -76.2971657,
         "_deepnote_index_column": 5743
        },
        {
         "fecha": "2012-12-07T15:00:00.000000",
         "direccion": "CR28#43-, Palmira - Valle del Cauca, Colombia",
         "categoria": "HURTOPERSONAS",
         "latitudes": 3.5392088,
         "longitudes": -76.2967725,
         "_deepnote_index_column": 5744
        },
        {
         "fecha": "2012-12-07T11:00:00.000000",
         "direccion": "CL69A#26A-13, Palmira - Valle del Cauca, Colombia",
         "categoria": "HURTOPERSONAS",
         "latitudes": 3.5379718,
         "longitudes": -76.2971657,
         "_deepnote_index_column": 5745
        },
        {
         "fecha": "2012-12-11T13:40:00.000000",
         "direccion": "CL42#31, Palmira - Valle del Cauca, Colombia",
         "categoria": "HURTOPERSONAS",
         "latitudes": 3.5362019,
         "longitudes": -76.2774456,
         "_deepnote_index_column": 5746
        },
        {
         "fecha": "2012-12-12T16:15:00.000000",
         "direccion": "CL31#44, Palmira - Valle del Cauca, Colombia",
         "categoria": "HURTOPERSONAS",
         "latitudes": 3.5275768,
         "longitudes": -76.2950572,
         "_deepnote_index_column": 5747
        },
        {
         "fecha": "2012-12-14T10:30:00.000000",
         "direccion": "CR28#29-, Palmira - Valle del Cauca, Colombia",
         "categoria": "HURTOPERSONAS",
         "latitudes": 3.5264058,
         "longitudes": -76.2988203,
         "_deepnote_index_column": 5748
        },
        {
         "fecha": "2012-12-15T15:30:00.000000",
         "direccion": "CL15#30, Palmira - Valle del Cauca, Colombia",
         "categoria": "HURTOPERSONAS",
         "latitudes": 3.5379718,
         "longitudes": -76.2971657,
         "_deepnote_index_column": 5749
        },
        {
         "fecha": "2012-12-16T20:40:00.000000",
         "direccion": "CL42#29, Palmira - Valle del Cauca, Colombia",
         "categoria": "HURTOPERSONAS",
         "latitudes": 3.5381954,
         "longitudes": -76.2982669,
         "_deepnote_index_column": 5750
        },
        {
         "fecha": "2012-12-17T00:00:00.000000",
         "direccion": "CR31#32A-, Palmira - Valle del Cauca, Colombia",
         "categoria": "HURTOPERSONAS",
         "latitudes": 3.5285898,
         "longitudes": -76.30130820000001,
         "_deepnote_index_column": 5751
        },
        {
         "fecha": "2012-12-17T15:30:00.000000",
         "direccion": "CL32A#-37, Palmira - Valle del Cauca, Colombia",
         "categoria": "HURTOPERSONAS",
         "latitudes": 3.5379718,
         "longitudes": -76.2971657,
         "_deepnote_index_column": 5752
        },
        {
         "fecha": "2012-12-17T11:10:00.000000",
         "direccion": "CL42#13, Palmira - Valle del Cauca, Colombia",
         "categoria": "HURTOPERSONAS",
         "latitudes": 3.5370326,
         "longitudes": -76.2862825,
         "_deepnote_index_column": 5753
        },
        {
         "fecha": "2012-12-18T08:45:00.000000",
         "direccion": "CR31#29-, Palmira - Valle del Cauca, Colombia",
         "categoria": "HURTOPERSONAS",
         "latitudes": 3.5267374,
         "longitudes": -76.30182479999999,
         "_deepnote_index_column": 5754
        },
        {
         "fecha": "2012-12-18T19:00:00.000000",
         "direccion": "CL34#16-68, Palmira - Valle del Cauca, Colombia",
         "categoria": "HURTOPERSONAS",
         "latitudes": 3.5379718,
         "longitudes": -76.2971657,
         "_deepnote_index_column": 5755
        },
        {
         "fecha": "2012-12-19T09:30:00.000000",
         "direccion": "CR29#18-14 , Palmira - Valle del Cauca, Colombia",
         "categoria": "HURTOPERSONAS",
         "latitudes": 3.5379718,
         "longitudes": -76.2971657,
         "_deepnote_index_column": 5756
        },
        {
         "fecha": "2012-12-20T10:00:00.000000",
         "direccion": "CR30#26-64 , Palmira - Valle del Cauca, Colombia",
         "categoria": "HURTOPERSONAS",
         "latitudes": 3.524282,
         "longitudes": -76.3010538,
         "_deepnote_index_column": 5757
        },
        {
         "fecha": "2012-12-20T08:00:00.000000",
         "direccion": "CR37#36-, Palmira - Valle del Cauca, Colombia",
         "categoria": "HURTOPERSONAS",
         "latitudes": 3.4276807,
         "longitudes": -76.5503359,
         "_deepnote_index_column": 5758
        },
        {
         "fecha": "2012-12-20T21:45:00.000000",
         "direccion": "CR39#35-, Palmira - Valle del Cauca, Colombia",
         "categoria": "HURTOPERSONAS",
         "latitudes": 3.5379718,
         "longitudes": -76.2971657,
         "_deepnote_index_column": 5759
        },
        {
         "fecha": "2012-12-20T10:00:00.000000",
         "direccion": "CL56A#40-26, Palmira - Valle del Cauca, Colombia",
         "categoria": "HURTOPERSONAS",
         "latitudes": 3.5379718,
         "longitudes": -76.2971657,
         "_deepnote_index_column": 5760
        },
        {
         "fecha": "2012-12-20T14:00:00.000000",
         "direccion": "CL11#7-2, Palmira - Valle del Cauca, Colombia",
         "categoria": "HURTOPERSONAS",
         "latitudes": 3.5103733,
         "longitudes": -76.300699,
         "_deepnote_index_column": 5761
        },
        {
         "fecha": "2012-12-21T04:30:00.000000",
         "direccion": "CL10#6, Palmira - Valle del Cauca, Colombia",
         "categoria": "HURTOPERSONAS",
         "latitudes": 3.5379718,
         "longitudes": -76.2971657,
         "_deepnote_index_column": 5762
        },
        {
         "fecha": "2012-12-22T15:10:00.000000",
         "direccion": "CR38#59-, Palmira - Valle del Cauca, Colombia",
         "categoria": "HURTOPERSONAS",
         "latitudes": 3.5339751,
         "longitudes": -76.3082321,
         "_deepnote_index_column": 5763
        },
        {
         "fecha": "2012-12-22T21:00:00.000000",
         "direccion": "CL57#41A, Palmira - Valle del Cauca, Colombia",
         "categoria": "HURTOPERSONAS",
         "latitudes": 3.5478897,
         "longitudes": -76.3126376,
         "_deepnote_index_column": 5764
        },
        {
         "fecha": "2012-12-23T18:35:00.000000",
         "direccion": "CL10#3, Palmira - Valle del Cauca, Colombia",
         "categoria": "HURTOPERSONAS",
         "latitudes": 3.5379718,
         "longitudes": -76.2971657,
         "_deepnote_index_column": 5765
        },
        {
         "fecha": "2012-12-25T20:00:00.000000",
         "direccion": "CL30#19, Palmira - Valle del Cauca, Colombia",
         "categoria": "HURTOPERSONAS",
         "latitudes": 3.5261276,
         "longitudes": -76.2919174,
         "_deepnote_index_column": 5766
        },
        {
         "fecha": "2012-12-25T18:30:00.000000",
         "direccion": "CR28#47-, Palmira - Valle del Cauca, Colombia",
         "categoria": "HURTOPERSONAS",
         "latitudes": 3.542309,
         "longitudes": -76.2965332,
         "_deepnote_index_column": 5767
        },
        {
         "fecha": "2012-12-26T15:30:00.000000",
         "direccion": "CR30#29-88 , Palmira - Valle del Cauca, Colombia",
         "categoria": "HURTOPERSONAS",
         "latitudes": 3.5269596,
         "longitudes": -76.3005333,
         "_deepnote_index_column": 5768
        },
        {
         "fecha": "2012-12-27T11:30:00.000000",
         "direccion": "CL31#30-71, Palmira - Valle del Cauca, Colombia",
         "categoria": "HURTOPERSONAS",
         "latitudes": 3.528994,
         "longitudes": -76.30627799999999,
         "_deepnote_index_column": 5769
        },
        {
         "fecha": "2012-12-27T16:00:00.000000",
         "direccion": "CL48#30B-5, Palmira - Valle del Cauca, Colombia",
         "categoria": "HURTOPERSONAS",
         "latitudes": 3.5434884,
         "longitudes": -76.2985447,
         "_deepnote_index_column": 5770
        },
        {
         "fecha": "2012-12-28T00:34:00.000000",
         "direccion": "CR28#38-54 , Palmira - Valle del Cauca, Colombia",
         "categoria": "HURTOPERSONAS",
         "latitudes": 3.5353608,
         "longitudes": -76.2975763,
         "_deepnote_index_column": 5771
        },
        {
         "fecha": "2012-12-30T09:40:00.000000",
         "direccion": "CL42#34-53, Palmira - Valle del Cauca, Colombia",
         "categoria": "HURTOPERSONAS",
         "latitudes": 3.5386531,
         "longitudes": -76.3030232,
         "_deepnote_index_column": 5772
        },
        {
         "fecha": "2012-12-30T15:30:00.000000",
         "direccion": "CR24#28-, Palmira - Valle del Cauca, Colombia",
         "categoria": "HURTOPERSONAS",
         "latitudes": 3.5251592,
         "longitudes": -76.2956908,
         "_deepnote_index_column": 5773
        },
        {
         "fecha": "2012-12-31T13:00:00.000000",
         "direccion": "CR24#17-, Palmira - Valle del Cauca, Colombia",
         "categoria": "HURTOPERSONAS",
         "latitudes": 3.5158471,
         "longitudes": -76.29569819999999,
         "_deepnote_index_column": 5774
        },
        {
         "fecha": "2012-12-23T15:30:00.000000",
         "direccion": "CL40#1B-60, Palmira - Valle del Cauca, Colombia",
         "categoria": "HURTORESIDENCIAS",
         "latitudes": 3.5363085,
         "longitudes": -76.296984,
         "_deepnote_index_column": 5775
        },
        {
         "fecha": "2012-12-06T07:30:00.000000",
         "direccion": "CL47C#13-59, Palmira - Valle del Cauca, Colombia",
         "categoria": "HURTOMOTOCICLETAS",
         "latitudes": 3.5433963,
         "longitudes": -76.2902778,
         "_deepnote_index_column": 5776
        },
        {
         "fecha": "2012-12-11T07:30:00.000000",
         "direccion": "CR44#40-1 , Palmira - Valle del Cauca, Colombia",
         "categoria": "HURTOMOTOCICLETAS",
         "latitudes": 3.5368339,
         "longitudes": -76.3150361,
         "_deepnote_index_column": 5777
        },
        {
         "fecha": "2012-12-30T20:30:00.000000",
         "direccion": "CL42#8, Palmira - Valle del Cauca, Colombia",
         "categoria": "HURTOMOTOCICLETAS",
         "latitudes": 3.5387097,
         "longitudes": -76.3018896,
         "_deepnote_index_column": 5778
        },
        {
         "fecha": "2012-12-02T02:00:00.000000",
         "direccion": "CR28#27-48 , Palmira - Valle del Cauca, Colombia",
         "categoria": "HURTOENTIDADESCOMERCIALES",
         "latitudes": 3.5247934,
         "longitudes": -76.2992352,
         "_deepnote_index_column": 5779
        },
        {
         "fecha": "2012-12-05T13:15:00.000000",
         "direccion": "CL29#25-51, Palmira - Valle del Cauca, Colombia",
         "categoria": "HURTOENTIDADESCOMERCIALES",
         "latitudes": 3.5257443,
         "longitudes": -76.29698309999999,
         "_deepnote_index_column": 5780
        }
       ]
      },
      "text/plain": "                   fecha                                          direccion  \\\n0    2009-01-01 13:00:00      CL1 #2-2, Palmira - Valle del Cauca, Colombia   \n1    2009-01-01 00:00:00   CR28 #43-2 , Palmira - Valle del Cauca, Colombia   \n2    2009-01-02 02:00:00    CL21 #24-2, Palmira - Valle del Cauca, Colombia   \n3    2009-01-02 02:35:00   CL47 #25-32, Palmira - Valle del Cauca, Colombia   \n4    2009-01-02 08:00:00  CL54B #45-60, Palmira - Valle del Cauca, Colombia   \n...                  ...                                                ...   \n5776 2012-12-06 07:30:00   CL47C#13-59, Palmira - Valle del Cauca, Colombia   \n5777 2012-12-11 07:30:00    CR44#40-1 , Palmira - Valle del Cauca, Colombia   \n5778 2012-12-30 20:30:00        CL42#8, Palmira - Valle del Cauca, Colombia   \n5779 2012-12-02 02:00:00   CR28#27-48 , Palmira - Valle del Cauca, Colombia   \n5780 2012-12-05 13:15:00    CL29#25-51, Palmira - Valle del Cauca, Colombia   \n\n                      categoria  latitudes  longitudes  \n0                 HURTOPERSONAS   3.537972  -76.297166  \n1                 HURTOPERSONAS   3.538685  -76.297222  \n2                 HURTOPERSONAS   3.537972  -76.297166  \n3                 HURTOPERSONAS   3.542123  -76.294796  \n4                 HURTOPERSONAS   3.537972  -76.297166  \n...                         ...        ...         ...  \n5776          HURTOMOTOCICLETAS   3.543396  -76.290278  \n5777          HURTOMOTOCICLETAS   3.536834  -76.315036  \n5778          HURTOMOTOCICLETAS   3.538710  -76.301890  \n5779  HURTOENTIDADESCOMERCIALES   3.524793  -76.299235  \n5780  HURTOENTIDADESCOMERCIALES   3.525744  -76.296983  \n\n[5781 rows x 5 columns]",
      "text/html": "<div>\n<style scoped>\n    .dataframe tbody tr th:only-of-type {\n        vertical-align: middle;\n    }\n\n    .dataframe tbody tr th {\n        vertical-align: top;\n    }\n\n    .dataframe thead th {\n        text-align: right;\n    }\n</style>\n<table border=\"1\" class=\"dataframe\">\n  <thead>\n    <tr style=\"text-align: right;\">\n      <th></th>\n      <th>fecha</th>\n      <th>direccion</th>\n      <th>categoria</th>\n      <th>latitudes</th>\n      <th>longitudes</th>\n    </tr>\n  </thead>\n  <tbody>\n    <tr>\n      <th>0</th>\n      <td>2009-01-01 13:00:00</td>\n      <td>CL1 #2-2, Palmira - Valle del Cauca, Colombia</td>\n      <td>HURTOPERSONAS</td>\n      <td>3.537972</td>\n      <td>-76.297166</td>\n    </tr>\n    <tr>\n      <th>1</th>\n      <td>2009-01-01 00:00:00</td>\n      <td>CR28 #43-2 , Palmira - Valle del Cauca, Colombia</td>\n      <td>HURTOPERSONAS</td>\n      <td>3.538685</td>\n      <td>-76.297222</td>\n    </tr>\n    <tr>\n      <th>2</th>\n      <td>2009-01-02 02:00:00</td>\n      <td>CL21 #24-2, Palmira - Valle del Cauca, Colombia</td>\n      <td>HURTOPERSONAS</td>\n      <td>3.537972</td>\n      <td>-76.297166</td>\n    </tr>\n    <tr>\n      <th>3</th>\n      <td>2009-01-02 02:35:00</td>\n      <td>CL47 #25-32, Palmira - Valle del Cauca, Colombia</td>\n      <td>HURTOPERSONAS</td>\n      <td>3.542123</td>\n      <td>-76.294796</td>\n    </tr>\n    <tr>\n      <th>4</th>\n      <td>2009-01-02 08:00:00</td>\n      <td>CL54B #45-60, Palmira - Valle del Cauca, Colombia</td>\n      <td>HURTOPERSONAS</td>\n      <td>3.537972</td>\n      <td>-76.297166</td>\n    </tr>\n    <tr>\n      <th>...</th>\n      <td>...</td>\n      <td>...</td>\n      <td>...</td>\n      <td>...</td>\n      <td>...</td>\n    </tr>\n    <tr>\n      <th>5776</th>\n      <td>2012-12-06 07:30:00</td>\n      <td>CL47C#13-59, Palmira - Valle del Cauca, Colombia</td>\n      <td>HURTOMOTOCICLETAS</td>\n      <td>3.543396</td>\n      <td>-76.290278</td>\n    </tr>\n    <tr>\n      <th>5777</th>\n      <td>2012-12-11 07:30:00</td>\n      <td>CR44#40-1 , Palmira - Valle del Cauca, Colombia</td>\n      <td>HURTOMOTOCICLETAS</td>\n      <td>3.536834</td>\n      <td>-76.315036</td>\n    </tr>\n    <tr>\n      <th>5778</th>\n      <td>2012-12-30 20:30:00</td>\n      <td>CL42#8, Palmira - Valle del Cauca, Colombia</td>\n      <td>HURTOMOTOCICLETAS</td>\n      <td>3.538710</td>\n      <td>-76.301890</td>\n    </tr>\n    <tr>\n      <th>5779</th>\n      <td>2012-12-02 02:00:00</td>\n      <td>CR28#27-48 , Palmira - Valle del Cauca, Colombia</td>\n      <td>HURTOENTIDADESCOMERCIALES</td>\n      <td>3.524793</td>\n      <td>-76.299235</td>\n    </tr>\n    <tr>\n      <th>5780</th>\n      <td>2012-12-05 13:15:00</td>\n      <td>CL29#25-51, Palmira - Valle del Cauca, Colombia</td>\n      <td>HURTOENTIDADESCOMERCIALES</td>\n      <td>3.525744</td>\n      <td>-76.296983</td>\n    </tr>\n  </tbody>\n</table>\n<p>5781 rows × 5 columns</p>\n</div>"
     },
     "metadata": {}
    }
   ],
   "execution_count": null
  },
  {
   "cell_type": "code",
   "metadata": {
    "tags": [],
    "cell_id": "00053-2d44cbef-49fa-4f1e-b8f6-d43685ec9e88",
    "deepnote_to_be_reexecuted": false,
    "source_hash": "b84cec7b",
    "execution_start": 1626467562526,
    "execution_millis": 22,
    "deepnote_cell_type": "code"
   },
   "source": "hurtos_filtrados.to_csv('Cleaned_data/hurtos0912Clean.csv', index = False)",
   "outputs": [],
   "execution_count": null
  },
  {
   "cell_type": "code",
   "metadata": {
    "tags": [],
    "cell_id": "00056-e71b58e0-33a2-4436-951e-db32f804f4c2",
    "deepnote_cell_type": "code"
   },
   "source": "",
   "outputs": [],
   "execution_count": null
  },
  {
   "cell_type": "markdown",
   "source": "<a style='text-decoration:none;line-height:16px;display:flex;color:#5B5B62;padding:10px;justify-content:end;' href='https://deepnote.com?utm_source=created-in-deepnote-cell&projectId=d4d7d92b-17a2-43d4-90a9-6387ff9a9276' target=\"_blank\">\n<img alt='Created in deepnote.com' style='display:inline;max-height:16px;margin:0px;margin-right:7.5px;' src='data:image/svg+xml;base64,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' > </img>\nCreated in <span style='font-weight:600;margin-left:4px;'>Deepnote</span></a>",
   "metadata": {
    "tags": [],
    "created_in_deepnote_cell": true,
    "deepnote_cell_type": "markdown"
   }
  }
 ],
 "nbformat": 4,
 "nbformat_minor": 2,
 "metadata": {
  "orig_nbformat": 2,
  "deepnote": {
   "is_reactive": false
  },
  "deepnote_notebook_id": "527848bf-6455-4fa2-bf27-e15768b8da9d",
  "deepnote_execution_queue": []
 }
}